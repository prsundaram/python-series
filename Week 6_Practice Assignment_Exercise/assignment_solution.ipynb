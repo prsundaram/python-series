{
 "cells": [
  {
   "cell_type": "markdown",
   "id": "ba43d756",
   "metadata": {},
   "source": [
    "# Week 6_Practice Assignment_Exercise\n",
    "\n",
    "Python Exercise: Lists, Tuples, Dictionaries, Sets, Functions & Loops"
   ]
  },
  {
   "cell_type": "markdown",
   "id": "57d6a805",
   "metadata": {},
   "source": [
    "## Section 1: Lists\n",
    "\n",
    "1. Create a list of 5 integers. Write a program to find the sum and average of the list.\n",
    "2. Write a program to reverse a list without using built-in reverse functions.\n",
    "3. Given a list of numbers, write a program to print only even numbers from the list"
   ]
  },
  {
   "cell_type": "code",
   "execution_count": 1,
   "id": "e8cfd4ac",
   "metadata": {},
   "outputs": [],
   "source": [
    "# Creation of list\n",
    "numbers = [1, 2, 3, 4, 5]"
   ]
  },
  {
   "cell_type": "code",
   "execution_count": 2,
   "id": "119b727b",
   "metadata": {},
   "outputs": [
    {
     "data": {
      "text/plain": [
       "list"
      ]
     },
     "execution_count": 2,
     "metadata": {},
     "output_type": "execute_result"
    }
   ],
   "source": [
    "type(numbers)"
   ]
  },
  {
   "cell_type": "code",
   "execution_count": 3,
   "id": "c0922efd",
   "metadata": {},
   "outputs": [
    {
     "name": "stdout",
     "output_type": "stream",
     "text": [
      "Sum of numbers in the list: 15\n",
      "Average of numbers in the list: 3.0\n"
     ]
    }
   ],
   "source": [
    "# Write a program to find the sum and average of the list.\n",
    "# Sum of the numbers in the list\n",
    "sum_numbers = sum(numbers)\n",
    "# Average of numbers in the list\n",
    "avg_numbers = sum(numbers) / len(numbers)\n",
    "\n",
    "print(f\"Sum of numbers in the list: {sum_numbers}\")\n",
    "print(f\"Average of numbers in the list: {avg_numbers}\")"
   ]
  },
  {
   "cell_type": "code",
   "execution_count": 4,
   "id": "f047ae5f",
   "metadata": {},
   "outputs": [
    {
     "name": "stdout",
     "output_type": "stream",
     "text": [
      "List of numbers post reverasal of list [5, 4, 3, 2, 1]\n"
     ]
    }
   ],
   "source": [
    "# Write a program to reverse a list without using built-in reverse functions.\n",
    "\n",
    "start, end = 0, len(numbers) - 1\n",
    "while start < end:\n",
    "# Swap the elements \n",
    "    numbers[start], numbers[end] = numbers[end], numbers[start]\n",
    "    start +=1\n",
    "    end -=1\n",
    "\n",
    "print(f\"List of numbers post reverasal of list {numbers}\")"
   ]
  },
  {
   "cell_type": "code",
   "execution_count": 5,
   "id": "ddc42d35",
   "metadata": {},
   "outputs": [
    {
     "name": "stdout",
     "output_type": "stream",
     "text": [
      "Method 1:\n",
      "4 is an even number\n",
      "2 is an even number\n",
      "\n",
      "\n",
      "Method 1: Using Lambda and filter function\n",
      "Even numbers are [4, 2]\n"
     ]
    }
   ],
   "source": [
    "# Given a list of numbers, write a program to print only even numbers from the list\n",
    "\n",
    "#Method 1:\n",
    "\n",
    "print(\"Method 1:\")\n",
    "for n in numbers:\n",
    "    if n % 2 == 0:\n",
    "        print(f\"{n} is an even number\")\n",
    "print(\"\\n\")\n",
    "\n",
    "print(\"Method 1: Using Lambda and filter function\")\n",
    "# Method 2: Using lambda\n",
    "even_numbers = list(filter(lambda num: num % 2 ==0, numbers))\n",
    "print(f\"Even numbers are {even_numbers}\")\n"
   ]
  },
  {
   "cell_type": "markdown",
   "id": "35ede23e",
   "metadata": {},
   "source": [
    "## Section 2: Tuples\n",
    "4. Create a tuple of 5 strings. Write a program to print each string on a new line.\n",
    "5. Given a tuple of numbers, find and print the maximum and minimum values.\n",
    "6. Given two tuples:\n",
    "tup1 = (1, 2, 3)\n",
    "tup2 = (4, 5, 6)\n",
    "\n",
    "Write a program to concatenate them and print the result."
   ]
  },
  {
   "cell_type": "code",
   "execution_count": 6,
   "id": "b2bc6315",
   "metadata": {},
   "outputs": [
    {
     "name": "stdout",
     "output_type": "stream",
     "text": [
      "Method 1: Using for loop\n",
      "element 1\n",
      "element 2\n",
      "element 3\n",
      "element 4\n",
      "element 5\n",
      "\n",
      "\n",
      "Method 2: Using Join\n",
      "element 1\n",
      "element 2\n",
      "element 3\n",
      "element 4\n",
      "element 5\n"
     ]
    }
   ],
   "source": [
    "# Create a tuple of 5 strings. Write a program to print each string on a new line.\n",
    "string_tuple = (\"element 1\", \"element 2\", \"element 3\", \"element 4\", \"element 5\")\n",
    "\n",
    "# Method 1: Using for loop\n",
    "print(\"Method 1: Using for loop\")\n",
    "for data in string_tuple:\n",
    "    print(data)\n",
    "print(\"\\n\")\n",
    "# Method 2: Using Join\n",
    "print(\"Method 2: Using Join\")\n",
    "print(\"\\n\".join(string_tuple))"
   ]
  },
  {
   "cell_type": "code",
   "execution_count": 7,
   "id": "a04f46c3",
   "metadata": {},
   "outputs": [
    {
     "name": "stdout",
     "output_type": "stream",
     "text": [
      "Minimum number in the tuple is 9\n",
      "Maximum number in the tuple is 98\n"
     ]
    }
   ],
   "source": [
    "#Given a tuple of numbers, find and print the maximum and minimum values.\n",
    "number_tuples = (40, 55, 66, 12, 33, 98, 11, 9)\n",
    "\n",
    "print(f\"Minimum number in the tuple is {min(number_tuples)}\")\n",
    "print(f\"Maximum number in the tuple is {max(number_tuples)}\")"
   ]
  },
  {
   "cell_type": "code",
   "execution_count": 8,
   "id": "46f9cb98",
   "metadata": {},
   "outputs": [
    {
     "name": "stdout",
     "output_type": "stream",
     "text": [
      "Concatenated tuples (1, 2, 3, 4, 5, 6)\n"
     ]
    }
   ],
   "source": [
    "# Given two tuples:\n",
    "# tup1 = (1, 2, 3)\n",
    "# tup2 = (4, 5, 6)\n",
    "\n",
    "# Write a program to concatenate them and print the result.\n",
    "\n",
    "tup1 = (1, 2, 3)\n",
    "tup2 = (4, 5, 6)\n",
    "contact_tuple = tup1 + tup2\n",
    "print(f\"Concatenated tuples {contact_tuple}\")"
   ]
  },
  {
   "cell_type": "markdown",
   "id": "e9b61dfd",
   "metadata": {},
   "source": [
    "## Section 3: Dictionaries\n",
    "7. Create a dictionary where the keys are the names of students and the values are their\n",
    "scores. Write a program to print the names of students who scored more than 75.\n",
    "8. Write a program to add a new key-value pair to an existing dictionary.\n",
    "9. Write a program to count the number of occurrences of each word in a given sentence\n",
    "(word frequency counter using a dictionary)."
   ]
  },
  {
   "cell_type": "code",
   "execution_count": 16,
   "id": "4309311a",
   "metadata": {},
   "outputs": [
    {
     "name": "stdout",
     "output_type": "stream",
     "text": [
      "Students having the score more than 75 ['Prasanna Sundaram', 'Sundaram']\n"
     ]
    }
   ],
   "source": [
    "# Create a dictionary where the keys are the names of students and the values are their\n",
    "# scores. Write a program to print the names of students who scored more than 75.\n",
    "\n",
    "students = [\n",
    "    {'name': 'Prasanna Sundaram', 'score': 90},\n",
    "    {'name': 'Raj Kumar', 'score': 70 },\n",
    "    {'name': 'Sundaram', 'score': 80},\n",
    "    {'name': 'Indra', 'score': 65}\n",
    "]\n",
    "\n",
    "filtered_students = list(\n",
    "    map(lambda student: student['name'], filter(lambda student: student['score'] > 75, students))\n",
    ")\n",
    "\n",
    "print(f\"Students having the score more than 75 {filtered_students}\")\n",
    "\n"
   ]
  },
  {
   "cell_type": "code",
   "execution_count": 17,
   "id": "aef1fb4c",
   "metadata": {},
   "outputs": [
    {
     "name": "stdout",
     "output_type": "stream",
     "text": [
      "Updated disct [{'name': 'Prasanna Sundaram', 'score': 90}, {'name': 'Raj Kumar', 'score': 70}, {'name': 'Sundaram', 'score': 80}, {'name': 'Indra', 'score': 65}, {'name': 'Vatsan', 'score': 80}]\n"
     ]
    }
   ],
   "source": [
    "# Write a program to add a new key-value pair to an existing dictionary.\n",
    "students.append({'name': 'Vatsan', 'score': 80})\n",
    "print(f\"Updated disct {students}\")"
   ]
  },
  {
   "cell_type": "code",
   "execution_count": null,
   "id": "0e5a627f",
   "metadata": {},
   "outputs": [
    {
     "name": "stdout",
     "output_type": "stream",
     "text": [
      "{'this': 2, 'is': 1, 'a': 1, 'sample': 1, 'sentence,': 1, 'sentence': 1, 'will': 1, 'be': 1, 'used': 1, 'for': 1, 'testing': 1, 'purpose': 1, 'only': 1}\n",
      "{'this': 2, 'is': 1, 'a': 1, 'sample': 1, 'sentence,': 1, 'sentence': 1, 'will': 1, 'be': 1, 'used': 1, 'for': 1, 'testing': 1, 'purpose': 1, 'only': 1}\n",
      "{'this': 2, 'is': 1, 'a': 1, 'sample': 1, 'sentence,': 1, 'sentence': 1, 'will': 1, 'be': 1, 'used': 1, 'for': 1, 'testing': 1, 'purpose': 1, 'only': 1}\n"
     ]
    }
   ],
   "source": [
    "# Write a program to count the number of occurrences of each word in a given sentence\n",
    "# (word frequency counter using a dictionary).\n",
    "\n",
    "sentence = \"this is a sample sentence, this sentence will be used for testing purpose only\"\n",
    "\n",
    "# Method 1\n",
    "words = sentence.split()\n",
    "\n",
    "word_count_1 = {}\n",
    "\n",
    "for word in words:\n",
    "    if word in word_count_1:\n",
    "        word_count_1[word] +=1\n",
    "    else:\n",
    "        word_count_1[word] = 1\n",
    "\n",
    "print(word_count_1)\n",
    "\n",
    "# Method 2:\n",
    "\n",
    "word_count_2 = {}\n",
    "for word in words:\n",
    "    word_count_2[word] = word_count_2.get(word, 0) + 1\n",
    "\n",
    "print(word_count_2)\n",
    "\n",
    "#Method 3\n",
    "\n",
    "from collections import Counter\n",
    "word_count_3 = dict(Counter(words))\n",
    "print(word_count_3)"
   ]
  },
  {
   "cell_type": "markdown",
   "id": "4c54a6d4",
   "metadata": {},
   "source": [
    "## Section 4: Sets\n",
    "10. Given two sets:\n",
    "    A = {1, 2, 3, 4, 5}\n",
    "    B = {4, 5, 6, 7, 8}\n",
    "Write a program to print:\n",
    "- The union of A and B\n",
    "- The intersection of A and B\n",
    "- The difference of A - B\n",
    "11. Write a program to remove duplicate elements from a list using a set."
   ]
  },
  {
   "cell_type": "code",
   "execution_count": null,
   "id": "f96db403",
   "metadata": {},
   "outputs": [
    {
     "name": "stdout",
     "output_type": "stream",
     "text": [
      "Union using Operator '|': {1, 2, 3, 4, 5, 6, 7, 8}\n",
      "Union using method 'union': {1, 2, 3, 4, 5, 6, 7, 8}\n",
      "Intersection using operator '&': {4, 5} \n",
      "Intersection using method 'intersection': {4, 5}\n",
      "Difference using operator '-': {1, 2, 3}\n",
      "Difference using method 'difference': {1, 2, 3}\n",
      "Symmetric difference using operator '^': {1, 2, 3, 6, 7, 8}\n",
      "Symmetric difference using method 'symmetric_difference':{1, 2, 3, 6, 7, 8}\n"
     ]
    }
   ],
   "source": [
    "# 10. Given two sets:\n",
    "#    A = {1, 2, 3, 4, 5}\n",
    "#    B = {4, 5, 6, 7, 8}\n",
    "# Write a program to print:\n",
    "# - The union of A and B\n",
    "# - The intersection of A and B\n",
    "# - The difference of A - B\n",
    "\n",
    "A = {1, 2, 3, 4, 5}\n",
    "B = {4, 5, 6, 7, 8}\n",
    "\n",
    "# UNION OPERATION\n",
    "print (f\"Union using Operator '|': {A | B}\")\n",
    "print (f\"Union using method 'union': {A.union(B)}\")\n",
    "\n",
    "# INTERSECTION OPERATION\n",
    "print (f\"Intersection using operator '&': {A & B} \")\n",
    "print (f\"Intersection using method 'intersection': {A.intersection(B)}\")\n",
    "\n",
    "# DIFFERENCE OPERATION\n",
    "print (f\"Difference using operator '-': {A - B}\")\n",
    "print (f\"Difference using method 'difference': {A.difference(B)}\")\n",
    "\n",
    "#SYMMETRIC DIFFERENCE OPERATION (Element in A and B, but not both)\n",
    "print (f\"Symmetric difference using operator '^': {A ^ B}\")\n",
    "print (f\"Symmetric difference using method 'symmetric_difference':{A.symmetric_difference(B)}\")"
   ]
  },
  {
   "cell_type": "code",
   "execution_count": 15,
   "id": "d0efd452",
   "metadata": {},
   "outputs": [
    {
     "name": "stdout",
     "output_type": "stream",
     "text": [
      "Current elements in the list [1, 2, 3, 4, 2, 3, 5, 1, 2, 3]\n",
      "Unique data {1, 2, 3, 4, 5}\n",
      "Unique data captured in conventional way [1, 2, 3, 4, 5]\n"
     ]
    }
   ],
   "source": [
    "# 11. Write a program to remove duplicate elements from a list using a set.\n",
    "\n",
    "list_data = [1, 2, 3, 4, 2, 3, 5, 1, 2, 3]\n",
    "print(f\"Current elements in the list {list_data}\")\n",
    "\n",
    "unique_elements = set(list_data)\n",
    "print(f\"Unique data {unique_elements}\")\n",
    "\n",
    "# The manual process is follows \n",
    "\n",
    "unique = []\n",
    "for n in list_data:\n",
    "    if n not in unique:\n",
    "        unique.append(n)\n",
    "\n",
    "print(f\"Unique data captured in conventional way {unique}\")"
   ]
  },
  {
   "cell_type": "markdown",
   "id": "ab1547cf",
   "metadata": {},
   "source": [
    "## Section 5: Functions\n",
    "12. Write a function is_even(n) that returns True if the number n is even, otherwise returns False.\n",
    "13. Write a function factorial(n) that returns the factorial of a number n. Use a loop, not recursion."
   ]
  },
  {
   "cell_type": "code",
   "execution_count": 19,
   "id": "2bc3e085",
   "metadata": {},
   "outputs": [
    {
     "name": "stdout",
     "output_type": "stream",
     "text": [
      "Is the given number 6 is even number ? True\n",
      "Is the given number 6 is even number using lambda function ? True\n"
     ]
    }
   ],
   "source": [
    "# 12. Write a function is_even(n) that returns True if the number n is even, otherwise returns False.\n",
    "\n",
    "def is_even(n):\n",
    "    return True if n % 2 == 0 else False\n",
    "\n",
    "number = int(input(\"Enter a number:\"))\n",
    "print(f\"Is the given number {number} is even number ? {is_even(number)}\")\n",
    "\n",
    "# Using lambda function \n",
    "even_odd = lambda num : True if num % 2 == 0 else False\n",
    "\n",
    "print(f\"Is the given number {number} is even number using lambda function ? {even_odd(number)}\")\n",
    "\n"
   ]
  },
  {
   "cell_type": "code",
   "execution_count": 21,
   "id": "91dbb484",
   "metadata": {},
   "outputs": [
    {
     "name": "stdout",
     "output_type": "stream",
     "text": [
      "Factorial of the given number 5 is 120\n"
     ]
    }
   ],
   "source": [
    "# Write a function factorial(n) that returns the factorial of a number n. Use a loop, not recursion.\n",
    "\n",
    "number = int(input(\"Enter a number:\"))\n",
    "\n",
    "def factorial(n): \n",
    "    result = 1\n",
    "    for i in range(1, n + 1):\n",
    "        result *= i\n",
    "\n",
    "    return result\n",
    "\n",
    "print(f\"Factorial of the given number {number} is {factorial(number)}\")"
   ]
  },
  {
   "cell_type": "markdown",
   "id": "4e170b56",
   "metadata": {},
   "source": [
    "## Section 6: Loops\n",
    "14. Write a program that prints all numbers from 1 to 50. But for multiples of 3, print \"Fizz\" instead of the number, and for multiples of 5, print \"Buzz\". For numbers which are multiples of both 3 and 5, print \"FizzBuzz\".\n",
    "15. Write a program to print the following pattern using a loop:\n",
    "    ```text\n",
    "    *\n",
    "    * *\n",
    "    * * *\n",
    "    * * * *\n",
    "    * * * * *\n",
    "    ```"
   ]
  },
  {
   "cell_type": "code",
   "execution_count": 27,
   "id": "96e6dd7c",
   "metadata": {},
   "outputs": [
    {
     "name": "stdout",
     "output_type": "stream",
     "text": [
      "Fizz\n",
      "Buzz\n",
      "Fizz\n",
      "Fizz\n",
      "Buzz\n",
      "Fizz\n",
      "FizzBuzz\n",
      "Fizz\n",
      "Buzz\n",
      "Fizz\n",
      "Fizz\n",
      "Buzz\n",
      "Fizz\n",
      "FizzBuzz\n",
      "Fizz\n",
      "Buzz\n",
      "Fizz\n",
      "Fizz\n",
      "Buzz\n",
      "Fizz\n",
      "FizzBuzz\n",
      "Fizz\n",
      "Buzz\n"
     ]
    }
   ],
   "source": [
    "# 14. Write a program that prints all numbers from 1 to 50. But for multiples of 3, print \"Fizz\" instead of the number, and for multiples of 5, print \"Buzz\". For numbers which are multiples of both 3 and 5, print \"FizzBuzz\".\n",
    "\n",
    "for i in range(1, 51):\n",
    "    if i % 3 == 0 and i % 5 == 0:\n",
    "       print(\"FizzBuzz\")\n",
    "    elif i % 3 == 0:\n",
    "        print(\"Fizz\")\n",
    "    elif i % 5 == 0:\n",
    "        print(\"Buzz\")"
   ]
  },
  {
   "cell_type": "code",
   "execution_count": 28,
   "id": "846b7968",
   "metadata": {},
   "outputs": [
    {
     "name": "stdout",
     "output_type": "stream",
     "text": [
      "*\n",
      "**\n",
      "***\n",
      "****\n",
      "*****\n",
      "******\n",
      "*******\n",
      "********\n",
      "*********\n",
      "**********\n"
     ]
    }
   ],
   "source": [
    "# 15. Write a program to print the following pattern using a loop:\n",
    "\n",
    "for i in range(1, 11):\n",
    "    print(\"*\" * i)"
   ]
  }
 ],
 "metadata": {
  "kernelspec": {
   "display_name": "Python 3",
   "language": "python",
   "name": "python3"
  },
  "language_info": {
   "codemirror_mode": {
    "name": "ipython",
    "version": 3
   },
   "file_extension": ".py",
   "mimetype": "text/x-python",
   "name": "python",
   "nbconvert_exporter": "python",
   "pygments_lexer": "ipython3",
   "version": "3.12.11"
  }
 },
 "nbformat": 4,
 "nbformat_minor": 5
}
