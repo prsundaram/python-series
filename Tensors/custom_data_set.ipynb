{
 "cells": [
  {
   "cell_type": "markdown",
   "id": "76b63497",
   "metadata": {},
   "source": [
    "# 📘 Simple Dataset (PyTorch)\n",
    "\n",
    "## 🎯 Objective\n",
    "- Create a **custom dataset** in PyTorch.  \n",
    "- Perform and **compose transforms** on dataset samples.\n",
    "\n",
    "---\n",
    "\n",
    "## 📋 Table of Contents\n",
    "- [Simple dataset](#simple-dataset)\n",
    "- [Transforms](#transforms)\n",
    "- [Compose](#compose)\n",
    "\n",
    "**Estimated Time:** **30 min**\n",
    "\n",
    "---\n",
    "\n",
    "## 🧰 Preparation\n",
    "\n",
    "We’ll use:\n",
    "\n",
    "- `torch` (PyTorch tensors)\n",
    "- `torch.utils.data.Dataset` (abstract base for custom datasets)\n",
    "\n",
    "We also set a manual seed so any randomness is repeatable.\n",
    "\n",
    "```python\n",
    "import torch\n",
    "from torch.utils.data import Dataset\n",
    "\n",
    "# Forcing deterministic behavior for demo purposes\n",
    "torch.manual_seed(1)\n",
    "```"
   ]
  },
  {
   "cell_type": "markdown",
   "id": "a698b0a1",
   "metadata": {},
   "source": [
    "## <a id=\"simple-dataset\"></a> 🔹 Simple dataset\n",
    "\n",
    "We’ll implement a tiny dataset class `toy_set` that:\n",
    "\n",
    "- stores **features** `x` and **targets** `y`,\n",
    "- accepts an optional **transform** callable,\n",
    "- supports Python’s dataset protocol:\n",
    "  - `__len__(self)` → number of samples,\n",
    "  - `__getitem__(self, index)` → returns the sample `(x_i, y_i)`.\n",
    "\n",
    "### 📐 What’s inside the dataset?\n",
    "\n",
    "For clarity, we’ll make:\n",
    "- $ \\color{#1f77b4}{x \\in \\mathbb{R}^{N \\times 2}} $ with **all entries = 2**  \n",
    "- $ \\color{#d62728}{y \\in \\mathbb{R}^{N \\times 1}} $ with **all entries = 1**\n",
    "\n",
    "So the $i$-th sample is:\n",
    "$$\n",
    "\\text{sample}[i] = \\big(\\;\\color{#1f77b4}{x_i} \\in \\mathbb{R}^2,\\; \\color{#d62728}{y_i} \\in \\mathbb{R}^1\\;\\big)\n",
    "$$\n",
    "\n",
    "---\n"
   ]
  },
  {
   "cell_type": "code",
   "execution_count": 15,
   "id": "a2f321b6",
   "metadata": {},
   "outputs": [
    {
     "data": {
      "text/plain": [
       "<torch._C.Generator at 0x12e27c290>"
      ]
     },
     "execution_count": 15,
     "metadata": {},
     "output_type": "execute_result"
    }
   ],
   "source": [
    "# ===============================\n",
    "# 1) Imports & setup\n",
    "# ===============================\n",
    "import torch\n",
    "from torch.utils.data import Dataset\n",
    "\n",
    "# For reproducibility when randomness is used (e.g., noise)\n",
    "torch.manual_seed(0)"
   ]
  },
  {
   "cell_type": "code",
   "execution_count": 16,
   "id": "962057de",
   "metadata": {},
   "outputs": [],
   "source": [
    "# ===============================\n",
    "# Define class for dataset\n",
    "# ===============================\n",
    "\n",
    "class toy_set(Dataset):\n",
    "    \"\"\"\n",
    "    A minimal dataset:\n",
    "      - N samples (default: 100)\n",
    "      - x[i] is a 2D vector of twos: [2., 2.]\n",
    "      - y[i] is a scalar one: [1.]\n",
    "    Optionally applies a 'transform' to each (x, y) upon access.\n",
    "    \"\"\"\n",
    "    \n",
    "    def __init__(self, length=100, transform=None):\n",
    "        \"\"\"\n",
    "        Args:\n",
    "            length (int): number of samples N.\n",
    "            transform (callable or None): if provided, will be applied to each (x, y).\n",
    "        \"\"\"\n",
    "        # Save the declared length\n",
    "        self.len = int(length)\n",
    "        \n",
    "        # Create feature matrix X: shape (N, 2), filled with 2's\n",
    "        # Example row: tensor([2., 2.])\n",
    "        self.x = 2 * torch.ones(self.len, 2)\n",
    "        \n",
    "        # Create target vector y: shape (N, 1), filled with 1's\n",
    "        # Example row: tensor([1.])\n",
    "        self.y = torch.ones(self.len, 1)\n",
    "        \n",
    "        # Store an optional transform; must be callable(sample)->sample\n",
    "        self.transform = transform\n",
    "     \n",
    "    def __getitem__(self, index):\n",
    "        \"\"\"\n",
    "        Return the (x[index], y[index]) pair.\n",
    "        If a transform is provided, apply it before returning.\n",
    "        \"\"\"\n",
    "        # 1) Grab tensors for this index\n",
    "        sample = (self.x[index], self.y[index])\n",
    "        \n",
    "        # 2) If a transform pipeline exists, run it\n",
    "        if self.transform:\n",
    "            sample = self.transform(sample)\n",
    "        \n",
    "        # 3) Return the (possibly transformed) sample\n",
    "        return sample\n",
    "    \n",
    "    def __len__(self):\n",
    "        \"\"\"\n",
    "        Return dataset size. Enables Python's len(ds) and is used by DataLoader.\n",
    "        \"\"\"\n",
    "        return self.len\n"
   ]
  },
  {
   "cell_type": "markdown",
   "id": "7f34190e",
   "metadata": {},
   "source": [
    "### 🔎 Create & Inspect the Dataset\n",
    "\n",
    "Below we instantiate the dataset, check one element, and print its length.\n",
    "\n",
    "- `__repr__` is inherited, so you’ll see the object type.\n",
    "- `__getitem__` powers `ds[index]` access.\n",
    "- `__len__` powers `len(ds)`.\n"
   ]
  },
  {
   "cell_type": "code",
   "execution_count": 17,
   "id": "da79fe34",
   "metadata": {},
   "outputs": [
    {
     "name": "stdout",
     "output_type": "stream",
     "text": [
      "Our toy_set object:  <__main__.toy_set object at 0x132329e80>\n",
      "Value on index 0 of our toy_set object:  (tensor([2., 2.]), tensor([1.]))\n",
      "Our toy_set length:  100\n"
     ]
    }
   ],
   "source": [
    "# Create Dataset Object. Inspect element at index 0 and dataset length.\n",
    "our_dataset = toy_set()\n",
    "\n",
    "print(\"Our toy_set object: \", our_dataset)\n",
    "print(\"Value on index 0 of our toy_set object: \", our_dataset[0])  # calls __getitem__(0)\n",
    "print(\"Our toy_set length: \", len(our_dataset))                    # calls __len__()"
   ]
  },
  {
   "cell_type": "markdown",
   "id": "28b23d9e",
   "metadata": {},
   "source": [
    "### ➿ Indexing & Iteration\n",
    "\n",
    "Because `toy_set` implements `__getitem__` and `__len__`, it behaves like a Python iterable.  \n",
    "Let’s print the first 3 samples using indexing:\n"
   ]
  },
  {
   "cell_type": "code",
   "execution_count": 18,
   "id": "c94ff65c",
   "metadata": {},
   "outputs": [
    {
     "name": "stdout",
     "output_type": "stream",
     "text": [
      "\n",
      " first three samples\n",
      "[0] --> x:[2.0, 2.0], y:1.0\n",
      "[1] --> x:[2.0, 2.0], y:1.0\n",
      "[2] --> x:[2.0, 2.0], y:1.0\n"
     ]
    }
   ],
   "source": [
    "# Use loop to print out first 3 elements in dataset (via indexing)\n",
    "print(\"\\n first three samples\")\n",
    "for i in range(3):\n",
    "    x, y = our_dataset[i]\n",
    "    print(f\"[{i}] --> x:{x.tolist()}, y:{y.item():.1f}\")"
   ]
  },
  {
   "cell_type": "markdown",
   "id": "32d86edd",
   "metadata": {},
   "source": [
    "You can also iterate directly over the dataset:"
   ]
  },
  {
   "cell_type": "code",
   "execution_count": 19,
   "id": "68a696d0",
   "metadata": {},
   "outputs": [
    {
     "name": "stdout",
     "output_type": "stream",
     "text": [
      "x:[2.0, 2.0], y:1.0\n",
      "x:[2.0, 2.0], y:1.0\n",
      "x:[2.0, 2.0], y:1.0\n",
      "x:[2.0, 2.0], y:1.0\n",
      "x:[2.0, 2.0], y:1.0\n",
      "x:[2.0, 2.0], y:1.0\n",
      "x:[2.0, 2.0], y:1.0\n",
      "x:[2.0, 2.0], y:1.0\n",
      "x:[2.0, 2.0], y:1.0\n",
      "x:[2.0, 2.0], y:1.0\n"
     ]
    }
   ],
   "source": [
    "count = 0\n",
    "for x, y in our_dataset:\n",
    "    print(f\"x:{x.tolist()}, y:{y.item()}\")\n",
    "    count += 1\n",
    "\n",
    "    if count == 10:\n",
    "        break # (break early so we don't print all 100 lines)\n"
   ]
  },
  {
   "cell_type": "markdown",
   "id": "943dbb5e",
   "metadata": {},
   "source": [
    "### 🧪 Practice\n",
    "\n",
    "Create a `toy_set` with length **50** and print its length $N$.\n",
    "\n",
    "> ✅ **Hint:** `ds = toy_set(length=50)`"
   ]
  },
  {
   "cell_type": "code",
   "execution_count": 20,
   "id": "cb03961c",
   "metadata": {},
   "outputs": [
    {
     "name": "stdout",
     "output_type": "stream",
     "text": [
      "Length of the dataset 50\n"
     ]
    }
   ],
   "source": [
    "toy_dataset = toy_set(length=50)\n",
    "\n",
    "print(f\"Length of the dataset {len(toy_dataset)}\")"
   ]
  },
  {
   "cell_type": "markdown",
   "id": "cc6b8e4d",
   "metadata": {},
   "source": [
    "## <a id=\"transforms\"></a> 🔹 Transforms\n",
    "\n",
    "Transforms let you **preprocess** samples consistently.  \n",
    "We’ll define a callable class `add_mult` that:\n",
    "\n",
    "- adds a constant to $ \\color{#1f77b4}{x} $:  $ \\color{#1f77b4}{x'} = x + \\text{addx} $\n",
    "- multiplies $ \\color{#d62728}{y} $: $ \\color{#d62728}{y'} = (\\text{muly}) \\, y $\n"
   ]
  },
  {
   "cell_type": "code",
   "execution_count": 21,
   "id": "d5847001",
   "metadata": {},
   "outputs": [],
   "source": [
    "# ===============================\n",
    "# Transform class: add_mult\n",
    "# ===============================\n",
    "\n",
    "class add_mult(object):\n",
    "    \"\"\"\n",
    "    Simple transform:\n",
    "      - x' = x + addx\n",
    "      - y' = y * muly\n",
    "    \"\"\"\n",
    "\n",
    "    def __init__(self, addx = 1, muly =  2): # 1 and 2 is the default value\n",
    "        self.addx = addx\n",
    "        self.muly = muly\n",
    "    \n",
    "    def __call__(self, sample):\n",
    "        \"\"\"\n",
    "        Args:\n",
    "            sample: tuple (x, y)\n",
    "        Returns:\n",
    "            tuple (x', y') with transform applied\n",
    "        \"\"\"\n",
    "\n",
    "        x, y = sample\n",
    "\n",
    "        x = x + self.addx\n",
    "        y = y * self.muly\n",
    "        return (x, y)\n",
    "    "
   ]
  },
  {
   "cell_type": "markdown",
   "id": "b3199987",
   "metadata": {},
   "source": [
    "### 🧪 Apply Transform (Manually vs. via Dataset)\n",
    "\n",
    "1) **Manual**: call the transform object on a sample.  \n",
    "2) **Automatic**: pass the transform into the dataset’s constructor to apply on every access.\n"
   ]
  },
  {
   "cell_type": "code",
   "execution_count": 22,
   "id": "12945a39",
   "metadata": {},
   "outputs": [
    {
     "name": "stdout",
     "output_type": "stream",
     "text": [
      "Index Postion: [0]\n",
      " Oringal x :[2. 2.], y: [1.]\n",
      " Transformed x: [5. 5.], y: [7.]\n",
      "Index Postion: [1]\n",
      " Oringal x :[2. 2.], y: [1.]\n",
      " Transformed x: [5. 5.], y: [7.]\n",
      "Index Postion: [2]\n",
      " Oringal x :[2. 2.], y: [1.]\n",
      " Transformed x: [5. 5.], y: [7.]\n"
     ]
    }
   ],
   "source": [
    "a_m = add_mult(3, 7)\n",
    "data_set = toy_set()\n",
    "\n",
    "# Compare original vs transformed (first 10 indices)\n",
    "\n",
    "for i in range(3):\n",
    "    x, y = data_set[i]\n",
    "    x_, y_ = a_m((x, y))\n",
    "\n",
    "    # Original vs Transformed\n",
    "    print(f\"Index Postion: [{i}]\\n Oringal x :{x.numpy()}, y: {y.numpy()}\\n Transformed x: {x_.numpy()}, y: {y_.numpy()}\")"
   ]
  },
  {
   "cell_type": "markdown",
   "id": "ee45d345",
   "metadata": {},
   "source": [
    "You can also **register the transform with the dataset** so it’s applied automatically in `__getitem__`:\n"
   ]
  },
  {
   "cell_type": "code",
   "execution_count": 27,
   "id": "8b94a79a",
   "metadata": {},
   "outputs": [
    {
     "name": "stdout",
     "output_type": "stream",
     "text": [
      "[0] -> Trasformed x: [10. 10.], y: [3.]\n",
      "[1] -> Trasformed x: [10. 10.], y: [3.]\n",
      "[2] -> Trasformed x: [10. 10.], y: [3.]\n"
     ]
    }
   ],
   "source": [
    "custom_data_set = toy_set(transform=add_mult(8, 3))\n",
    "\n",
    "for i in range(3):\n",
    "    x, y = custom_data_set[i]\n",
    "\n",
    "    print(f\"[{i}] -> Trasformed x: {x.numpy()}, y: {y.numpy()}\")"
   ]
  },
  {
   "cell_type": "markdown",
   "id": "de5d277b",
   "metadata": {},
   "source": [
    "### 🧪 Practice\n",
    "\n",
    "Write your own transform `my_add_mult` and apply it via the dataset.\n",
    "\n",
    "> Example idea:\n",
    "> - add `2` to both `x` and `y`, then multiply both by `10`.\n",
    "\n",
    "```python\n",
    "# Practice: Construct your own my_add_mult transform. Apply it on a new toy_set and print first 3 elements."
   ]
  },
  {
   "cell_type": "code",
   "execution_count": null,
   "id": "c1d891d5",
   "metadata": {},
   "outputs": [
    {
     "name": "stdout",
     "output_type": "stream",
     "text": [
      "Count 0\n",
      "Index [1], Transformed X: [40. 40.], Transformed Y: [30.]\n",
      "Count 1\n",
      "Index [2], Transformed X: [40. 40.], Transformed Y: [30.]\n",
      "Count 2\n",
      "Index [3], Transformed X: [40. 40.], Transformed Y: [30.]\n",
      "Count 3\n",
      "Index [4], Transformed X: [40. 40.], Transformed Y: [30.]\n",
      "Count 4\n",
      "Index [5], Transformed X: [40. 40.], Transformed Y: [30.]\n",
      "Count 5\n"
     ]
    }
   ],
   "source": [
    "class my_add_mult(object):\n",
    "    def __init__(self, add_x = 2, mul_y = 10 ):\n",
    "        self.add_x = add_x\n",
    "        self.mul_y = mul_y\n",
    "    \n",
    "    def __call__(self, samples):\n",
    "        x, y = samples\n",
    "        x = (x + self.add_x) * self.mul_y\n",
    "        y = (y + self.add_x) * self.mul_y\n",
    "        return (x, y)\n",
    "\n",
    "sample_data_set = toy_set(transform=my_add_mult())\n",
    "\n",
    "count = 0\n",
    "for x, y in sample_data_set:\n",
    "\n",
    "    if count == 5:\n",
    "        break\n",
    "    count += 1\n",
    "    print(f\"Index [{count}], Transformed X: {x.numpy()}, Transformed Y: {y.numpy()}\")\n",
    "    "
   ]
  },
  {
   "cell_type": "markdown",
   "id": "d65f83ab",
   "metadata": {},
   "source": [
    "## <a id=\"compose\"></a> 🔹 Compose\n",
    "\n",
    "You can **chain multiple transforms** with `torchvision.transforms.Compose`.\n",
    "\n",
    "We’ll also define another transform `mult`:\n",
    "- $ x' = (\\text{mult}) \\, x $\n",
    "- $ y' = (\\text{mult}) \\, y $\n",
    "\n",
    "Then we’ll build:\n",
    "$$\n",
    "\\text{Compose}\\big([\\; \\texttt{add\\_mult}(),\\; \\texttt{mult}() \\;]\\big)\n",
    "$$\n",
    "which applies `add_mult` **then** `mult` in sequence.\n",
    "\n",
    "> 🔁 **Order matters**: the output of one transform is input to the next.\n"
   ]
  },
  {
   "cell_type": "code",
   "execution_count": 36,
   "id": "7fa9d20a",
   "metadata": {},
   "outputs": [
    {
     "name": "stdout",
     "output_type": "stream",
     "text": [
      "Collecting torchvision\n",
      "  Downloading torchvision-0.24.0-cp312-cp312-macosx_11_0_arm64.whl.metadata (5.9 kB)\n",
      "Requirement already satisfied: numpy in /Users/psundara/learn/python/python-series/.conda/lib/python3.12/site-packages (from torchvision) (2.3.3)\n",
      "Requirement already satisfied: torch==2.9.0 in /Users/psundara/learn/python/python-series/.conda/lib/python3.12/site-packages (from torchvision) (2.9.0)\n",
      "Requirement already satisfied: pillow!=8.3.*,>=5.3.0 in /Users/psundara/learn/python/python-series/.conda/lib/python3.12/site-packages (from torchvision) (11.3.0)\n",
      "Requirement already satisfied: filelock in /Users/psundara/learn/python/python-series/.conda/lib/python3.12/site-packages (from torch==2.9.0->torchvision) (3.20.0)\n",
      "Requirement already satisfied: typing-extensions>=4.10.0 in /Users/psundara/learn/python/python-series/.conda/lib/python3.12/site-packages (from torch==2.9.0->torchvision) (4.15.0)\n",
      "Requirement already satisfied: setuptools in /Users/psundara/learn/python/python-series/.conda/lib/python3.12/site-packages (from torch==2.9.0->torchvision) (78.1.1)\n",
      "Requirement already satisfied: sympy>=1.13.3 in /Users/psundara/learn/python/python-series/.conda/lib/python3.12/site-packages (from torch==2.9.0->torchvision) (1.14.0)\n",
      "Requirement already satisfied: networkx>=2.5.1 in /Users/psundara/learn/python/python-series/.conda/lib/python3.12/site-packages (from torch==2.9.0->torchvision) (3.5)\n",
      "Requirement already satisfied: jinja2 in /Users/psundara/learn/python/python-series/.conda/lib/python3.12/site-packages (from torch==2.9.0->torchvision) (3.1.6)\n",
      "Requirement already satisfied: fsspec>=0.8.5 in /Users/psundara/learn/python/python-series/.conda/lib/python3.12/site-packages (from torch==2.9.0->torchvision) (2025.9.0)\n",
      "Requirement already satisfied: mpmath<1.4,>=1.1.0 in /Users/psundara/learn/python/python-series/.conda/lib/python3.12/site-packages (from sympy>=1.13.3->torch==2.9.0->torchvision) (1.3.0)\n",
      "Requirement already satisfied: MarkupSafe>=2.0 in /Users/psundara/learn/python/python-series/.conda/lib/python3.12/site-packages (from jinja2->torch==2.9.0->torchvision) (3.0.3)\n",
      "Downloading torchvision-0.24.0-cp312-cp312-macosx_11_0_arm64.whl (1.9 MB)\n",
      "\u001b[2K   \u001b[90m━━━━━━━━━━━━━━━━━━━━━━━━━━━━━━━━━━━━━━━━\u001b[0m \u001b[32m1.9/1.9 MB\u001b[0m \u001b[31m16.8 MB/s\u001b[0m eta \u001b[36m0:00:00\u001b[0m\n",
      "\u001b[?25hInstalling collected packages: torchvision\n",
      "Successfully installed torchvision-0.24.0\n"
     ]
    }
   ],
   "source": [
    "!pip install torchvision"
   ]
  },
  {
   "cell_type": "code",
   "execution_count": 42,
   "id": "39473d9c",
   "metadata": {},
   "outputs": [
    {
     "name": "stdout",
     "output_type": "stream",
     "text": [
      "The combination of transforms (Compose): Compose(\n",
      "    <__main__.add_mult object at 0x1369ea7e0>\n",
      "    <__main__.mult object at 0x1369eaf60>\n",
      ")\n",
      "Index [0]\n",
      " Orignal x: [2. 2.], y:[1.]\n",
      " Transformed x: [900. 900.], y:[200.]\n",
      "Index [1]\n",
      " Orignal x: [2. 2.], y:[1.]\n",
      " Transformed x: [900. 900.], y:[200.]\n",
      "Index [2]\n",
      " Orignal x: [2. 2.], y:[1.]\n",
      " Transformed x: [900. 900.], y:[200.]\n",
      "Index [3]\n",
      " Orignal x: [2. 2.], y:[1.]\n",
      " Transformed x: [900. 900.], y:[200.]\n",
      "Index [4]\n",
      " Orignal x: [2. 2.], y:[1.]\n",
      " Transformed x: [900. 900.], y:[200.]\n"
     ]
    }
   ],
   "source": [
    "from torchvision import transforms\n",
    "\n",
    "\n",
    "# ===============================\n",
    "# Transform class: mult\n",
    "# ===============================\n",
    "\n",
    "class mult(object):\n",
    "    \"\"\"\n",
    "        Multiply BOTH x and y by the same scalar value\n",
    "    \"\"\"\n",
    "    def __init__(self, mult = 100):\n",
    "        self.mult = mult\n",
    "    \n",
    "    def __call__(self, sample):\n",
    "        x, y = sample\n",
    "        x = x * self.mult\n",
    "        y = y * self.mult\n",
    "        return (x, y)\n",
    "\n",
    "# Build a composed transform: add_mult -> mult\n",
    "data_transformer = transforms.Compose([add_mult(7, 2), mult()])\n",
    "\n",
    "print(f\"The combination of transforms (Compose): {data_transformer}\")\n",
    "\n",
    "my_data_set = toy_set()\n",
    "\n",
    "## Manual Transformation\n",
    "for i in range(5):\n",
    "    x, y = my_data_set[i]\n",
    "    x_, y_ = data_transformer(my_data_set[i])\n",
    "    print(f\"Index [{i}]\\n Orignal x: {x.numpy()}, y:{y.numpy()}\\n Transformed x: {x_.numpy()}, y:{y_.numpy()}\")\n",
    "\n",
    "    "
   ]
  },
  {
   "cell_type": "markdown",
   "id": "abc627b5",
   "metadata": {},
   "source": [
    "### 📌 What happened at index 0?\n",
    "\n",
    "- Original: $ x = [2, 2],\\; y = [1] $\n",
    "- After `add_mult(addx=1, muly=2)`:  \n",
    "  $ x = [3, 3],\\; y = [2] $\n",
    "- After `mult(mult=100)` is applied **after** the above:  \n",
    "  $ x = [300, 300],\\; y = [200] $\n",
    "\n",
    "Mathematically:\n",
    "$$\n",
    "\\color{#1f77b4}{x_\\text{final}} = \\big(\\,[2,2] + 1\\,\\big)\\times 100 = [300, 300],\\quad\n",
    "\\color{#d62728}{y_\\text{final}} = \\big(\\,[1]\\times2\\,\\big)\\times100 = [200].\n",
    "$$\n",
    "\n",
    "---\n",
    "\n",
    "### 🧪 Practice\n",
    "\n",
    "Build a compose **in the opposite order**: `mult()` first, then `add_mult()`.\n",
    "\n",
    "```python\n",
    "# Practice: Compose with mult() THEN add_mult()\n",
    "# my_compose = transforms.Compose([mult(), add_mult()])\n",
    "# my_transformed_dataset = toy_set(transform=my_compose)\n",
    "# for i in range(3):\n",
    "#     x_, y_ = my_transformed_dataset[i]\n",
    "#     print('Index:', i, 'Transformed x_:', x_, 'Transformed y_:', y_)\n"
   ]
  },
  {
   "cell_type": "markdown",
   "id": "bf3b84a6",
   "metadata": {},
   "source": [
    "## ✅ Summary\n",
    "\n",
    "- You created a **custom dataset** that implements:\n",
    "  - `__len__` → returns $N$\n",
    "  - `__getitem__` → returns a tuple $(\\color{#1f77b4}{x_i}, \\color{#d62728}{y_i})$\n",
    "- You wrote **callable transforms** that operate on each sample.\n",
    "- You learned to **compose** transforms with `torchvision.transforms.Compose` and how **order** changes outcomes.\n",
    "\n",
    "📦 This pattern plugs directly into `torch.utils.data.DataLoader` for batching/shuffling during training.\n"
   ]
  }
 ],
 "metadata": {
  "kernelspec": {
   "display_name": "Python 3",
   "language": "python",
   "name": "python3"
  },
  "language_info": {
   "codemirror_mode": {
    "name": "ipython",
    "version": 3
   },
   "file_extension": ".py",
   "mimetype": "text/x-python",
   "name": "python",
   "nbconvert_exporter": "python",
   "pygments_lexer": "ipython3",
   "version": "3.12.11"
  }
 },
 "nbformat": 4,
 "nbformat_minor": 5
}
