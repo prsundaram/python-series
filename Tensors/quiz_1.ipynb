{
 "cells": [
  {
   "cell_type": "code",
   "execution_count": 6,
   "id": "de001caf",
   "metadata": {},
   "outputs": [
    {
     "data": {
      "text/plain": [
       "tensor([9, 8])"
      ]
     },
     "execution_count": 6,
     "metadata": {},
     "output_type": "execute_result"
    }
   ],
   "source": [
    "import torch\n",
    "\n",
    "a = torch.tensor([10, 9, 8, 7])\n",
    "a[1:3]"
   ]
  },
  {
   "cell_type": "code",
   "execution_count": 7,
   "id": "a66b21f5",
   "metadata": {},
   "outputs": [
    {
     "data": {
      "text/plain": [
       "tensor(2)"
      ]
     },
     "execution_count": 7,
     "metadata": {},
     "output_type": "execute_result"
    }
   ],
   "source": [
    "u = torch.tensor([1, 2])\n",
    "v = torch.tensor([0, 1])\n",
    "\n",
    "torch.dot(u, v)\n",
    "\n"
   ]
  },
  {
   "cell_type": "code",
   "execution_count": 10,
   "id": "ece8a9a1",
   "metadata": {},
   "outputs": [
    {
     "name": "stdout",
     "output_type": "stream",
     "text": [
      "torch.Size([2, 3]) 2\n"
     ]
    }
   ],
   "source": [
    "a = torch.tensor([[1, 3, 4], [3, 4, 6]])\n",
    "\n",
    "print (a.size() , a.ndimension())"
   ]
  },
  {
   "cell_type": "code",
   "execution_count": 16,
   "id": "b9f3189b",
   "metadata": {},
   "outputs": [
    {
     "data": {
      "text/plain": [
       "tensor([[11,  3],\n",
       "        [33,  3],\n",
       "        [22,  2]])"
      ]
     },
     "execution_count": 16,
     "metadata": {},
     "output_type": "execute_result"
    }
   ],
   "source": [
    "import pandas as pd\n",
    "df = pd.DataFrame({'A':[11, 33, 22],'B':[3, 3, 2]})\n",
    "\n",
    "a = torch.tensor(df.values)\n",
    "a"
   ]
  },
  {
   "cell_type": "code",
   "execution_count": 18,
   "id": "535fcc15",
   "metadata": {},
   "outputs": [
    {
     "data": {
      "text/plain": [
       "tensor([[2, 0],\n",
       "        [0, 2]])"
      ]
     },
     "execution_count": 18,
     "metadata": {},
     "output_type": "execute_result"
    }
   ],
   "source": [
    "  X = torch.tensor([[1, 0], [0, 1]])\n",
    "  Y = torch.tensor([[2, 1], [1, 2]]) \n",
    "  X_times_Y = X * Y\n",
    "\n",
    "  X_times_Y"
   ]
  },
  {
   "cell_type": "markdown",
   "id": "36b41739",
   "metadata": {},
   "source": [
    "## 🔹 2️⃣ Matrix Multiplication (Linear Algebra Product)\n",
    "\n",
    "For the **matrix product**,  \n",
    "each element $(i, j)$ of the result is the **dot product** of the *i-th row* of $A$ and the *j-th column* of $B$.\n",
    "\n",
    "---\n",
    "\n",
    "### 🔸 Formula\n",
    "\n",
    "$$\n",
    "C = A \\times B, \\quad\n",
    "c_{ij} = \\sum_{k=1}^{n} a_{ik} b_{kj}\n",
    "$$\n",
    "\n",
    "where $n$ = number of columns in $A$ (or rows in $B$).\n",
    "\n",
    "---\n",
    "\n",
    "### 🔸 Step-by-Step with Positions\n",
    "\n",
    "Let:\n",
    "\n",
    "$$\n",
    "A =\n",
    "\\begin{bmatrix}\n",
    "2 & 3 \\\\\n",
    "4 & 5\n",
    "\\end{bmatrix},\n",
    "\\quad\n",
    "B =\n",
    "\\begin{bmatrix}\n",
    "6 & 7 \\\\\n",
    "8 & 9\n",
    "\\end{bmatrix}\n",
    "$$\n",
    "\n",
    "---\n",
    "\n",
    "### ➤ For position **(0, 0)**\n",
    "\n",
    "We take the **1st row** of $A$ and the **1st column** of $B$:\n",
    "\n",
    "$$\n",
    "A =\n",
    "\\begin{bmatrix}\n",
    "\\color{red}{2} & \\color{red}{3} \\\\\n",
    "4 & 5\n",
    "\\end{bmatrix},\n",
    "\\quad\n",
    "B =\n",
    "\\begin{bmatrix}\n",
    "\\color{red}{6} & 7 \\\\\n",
    "\\color{red}{8} & 9\n",
    "\\end{bmatrix}\n",
    "$$\n",
    "\n",
    "Compute:\n",
    "$$\n",
    "(0,0): \\; (2 \\times 6) + (3 \\times 8) = 46\n",
    "$$\n",
    "\n",
    "---\n",
    "\n",
    "### ➤ For position **(0, 1)**\n",
    "\n",
    "Take the **1st row** of $A$ and the **2nd column** of $B$:\n",
    "\n",
    "$$\n",
    "A =\n",
    "\\begin{bmatrix}\n",
    "\\color{red}{2} & \\color{red}{3} \\\\\n",
    "4 & 5\n",
    "\\end{bmatrix},\n",
    "\\quad\n",
    "B =\n",
    "\\begin{bmatrix}\n",
    "6 & \\color{red}{7} \\\\\n",
    "8 & \\color{red}{9}\n",
    "\\end{bmatrix}\n",
    "$$\n",
    "\n",
    "Compute:\n",
    "$$\n",
    "(0,1): \\; (2 \\times 7) + (3 \\times 9) = 51\n",
    "$$\n",
    "\n",
    "---\n",
    "\n",
    "### ➤ For position **(1, 0)**\n",
    "\n",
    "Take the **2nd row** of $A$ and the **1st column** of $B$:\n",
    "\n",
    "$$\n",
    "A =\n",
    "\\begin{bmatrix}\n",
    "2 & 3 \\\\\n",
    "\\color{red}{4} & \\color{red}{5}\n",
    "\\end{bmatrix},\n",
    "\\quad\n",
    "B =\n",
    "\\begin{bmatrix}\n",
    "\\color{red}{6} & 7 \\\\\n",
    "\\color{red}{8} & 9\n",
    "\\end{bmatrix}\n",
    "$$\n",
    "\n",
    "Compute:\n",
    "$$\n",
    "(1,0): \\; (4 \\times 6) + (5 \\times 8) = 68\n",
    "$$\n",
    "\n",
    "---\n",
    "\n",
    "### ➤ For position **(1, 1)**\n",
    "\n",
    "Take the **2nd row** of $A$ and the **2nd column** of $B$:\n",
    "\n",
    "$$\n",
    "A =\n",
    "\\begin{bmatrix}\n",
    "2 & 3 \\\\\n",
    "\\color{red}{4} & \\color{red}{5}\n",
    "\\end{bmatrix},\n",
    "\\quad\n",
    "B =\n",
    "\\begin{bmatrix}\n",
    "6 & \\color{red}{7} \\\\\n",
    "8 & \\color{red}{9}\n",
    "\\end{bmatrix}\n",
    "$$\n",
    "\n",
    "Compute:\n",
    "$$\n",
    "(1,1): \\; (4 \\times 7) + (5 \\times 9) = 75\n",
    "$$\n",
    "\n",
    "---\n",
    "\n",
    "### ✅ Final Matrix Multiplication Result\n",
    "\n",
    "$$\n",
    "A \\times B =\n",
    "\\begin{bmatrix}\n",
    "46 & 51 \\\\\n",
    "68 & 75\n",
    "\\end{bmatrix}\n",
    "$$\n",
    "\n",
    "---\n",
    "\n",
    "📌 **Summary:**  \n",
    "Each cell $(i, j)$ of the resulting matrix is obtained by **multiplying the i-th row of A**  \n",
    "with the **j-th column of B** and summing the products.\n"
   ]
  }
 ],
 "metadata": {
  "kernelspec": {
   "display_name": "Python 3",
   "language": "python",
   "name": "python3"
  },
  "language_info": {
   "codemirror_mode": {
    "name": "ipython",
    "version": 3
   },
   "file_extension": ".py",
   "mimetype": "text/x-python",
   "name": "python",
   "nbconvert_exporter": "python",
   "pygments_lexer": "ipython3",
   "version": "3.12.11"
  }
 },
 "nbformat": 4,
 "nbformat_minor": 5
}
