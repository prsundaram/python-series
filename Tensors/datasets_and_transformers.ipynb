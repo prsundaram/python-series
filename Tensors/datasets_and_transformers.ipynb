{
 "cells": [
  {
   "cell_type": "markdown",
   "id": "a3a894b8",
   "metadata": {},
   "source": [
    "# 🖼️ Image Datasets and Transforms (PyTorch + TorchVision)\n",
    "\n",
    "## 🎯 Objectives\n",
    "- Build an **image dataset object** using the PyTorch `Dataset` protocol.\n",
    "- Apply **pre-built transforms** from **TorchVision** using `transforms.Compose`.\n",
    "- Compare a **CSV-backed custom dataset** with **TorchVision's FashionMNIST** using a **DataLoader**.\n"
   ]
  },
  {
   "cell_type": "markdown",
   "id": "40d92f6e",
   "metadata": {},
   "source": [
    "## Table of Contents\n",
    "- [Preparation](#preparation)\n",
    "- [Auxiliary Functions](#auxiliary)\n",
    "- [Create a Dataset Class](#data_class)\n",
    "- [TorchVision Transforms](#torchvision)\n",
    "- [FashionMNIST + DataLoader](#fashionmnist)\n",
    "- [Practice](#practice)\n",
    "- [Summary](#summary)"
   ]
  },
  {
   "cell_type": "markdown",
   "id": "a6def96d",
   "metadata": {},
   "source": [
    "## <a id=\"preparation\"></a> 🔧 Preparation (Data Download Notes)\n",
    "\n",
    "> The original lab downloads a tiny (100 samples) image set. In many environments, shell downloads are disabled; if yours allows it, use:\n",
    "\n",
    "```bash\n",
    "# (Optional) Download in an environment that supports shell commands\n",
    "# wget https://cf-courses-data.s3.us.cloud-object-storage.appdomain.cloud/IBMDeveloperSkillsNetwork-DL0110EN-SkillsNetwork/labs/Week1/data/img.tar.gz -P /resources/data\n",
    "# tar -xf /resources/data/img.tar.gz \n",
    "# wget https://cf-courses-data.s3.us.cloud-object-storage.appdomain.cloud/IBMDeveloperSkillsNetwork-DL0110EN-SkillsNetwork/labs/Week1/data/index.csv\n",
    "```\n",
    "\n",
    "This notebook assumes `index.csv` and images are present locally.\n"
   ]
  },
  {
   "cell_type": "code",
   "execution_count": 2,
   "id": "73edbcc4",
   "metadata": {},
   "outputs": [],
   "source": [
    "!mkdir -p ./resources/data\n"
   ]
  },
  {
   "cell_type": "code",
   "execution_count": 3,
   "id": "a62c5951",
   "metadata": {},
   "outputs": [
    {
     "name": "stdout",
     "output_type": "stream",
     "text": [
      "  % Total    % Received % Xferd  Average Speed   Time    Time     Time  Current\n",
      "                                 Dload  Upload   Total   Spent    Left  Speed\n",
      "100 50460  100 50460    0     0  16369      0  0:00:03  0:00:03 --:--:-- 16372\n"
     ]
    }
   ],
   "source": [
    "!curl -o ./resources/data/img.tar.gz https://cf-courses-data.s3.us.cloud-object-storage.appdomain.cloud/IBMDeveloperSkillsNetwork-DL0110EN-SkillsNetwork/labs/Week1/data/img.tar.gz\n"
   ]
  },
  {
   "cell_type": "code",
   "execution_count": 4,
   "id": "6db774da",
   "metadata": {},
   "outputs": [],
   "source": [
    "!tar -xf ./resources/data/img.tar.gz -C ./resources/data/\n"
   ]
  },
  {
   "cell_type": "code",
   "execution_count": 5,
   "id": "478435e0",
   "metadata": {},
   "outputs": [
    {
     "name": "stdout",
     "output_type": "stream",
     "text": [
      "  % Total    % Received % Xferd  Average Speed   Time    Time     Time  Current\n",
      "                                 Dload  Upload   Total   Spent    Left  Speed\n",
      "100 1641k  100 1641k    0     0   427k      0  0:00:03  0:00:03 --:--:--  427k\n"
     ]
    }
   ],
   "source": [
    "!curl -o ./resources/data/index.csv https://cf-courses-data.s3.us.cloud-object-storage.appdomain.cloud/IBMDeveloperSkillsNetwork-DL0110EN-SkillsNetwork/labs/Week1/data/index.csv\n"
   ]
  },
  {
   "cell_type": "markdown",
   "id": "f409c60a",
   "metadata": {},
   "source": [
    "## 📦 Imports"
   ]
  },
  {
   "cell_type": "code",
   "execution_count": 6,
   "id": "5b067662",
   "metadata": {},
   "outputs": [
    {
     "name": "stdout",
     "output_type": "stream",
     "text": [
      "Libraries imported successfully.\n"
     ]
    }
   ],
   "source": [
    "# ==========================================\n",
    "# 📦 Importing Required Libraries\n",
    "# ==========================================\n",
    "\n",
    "# OS utilities → used to manage file paths, directories, and combine CSV + image paths safely\n",
    "import os\n",
    "\n",
    "# NumPy → used for numerical operations, though not heavily in this lab\n",
    "# (useful for tensor ↔ numpy conversions and low-level math if needed)\n",
    "import numpy as np\n",
    "\n",
    "# Pandas → used to read and manage the CSV file (index.csv) containing image names and labels\n",
    "# We'll access labels and filenames via .iloc[] from this DataFrame\n",
    "import pandas as pd\n",
    "\n",
    "# PyTorch core library → used for tensors, autograd, and the Dataset API\n",
    "import torch\n",
    "\n",
    "# ==========================================\n",
    "# 🎨 Plotting and Visualization\n",
    "# ==========================================\n",
    "# Matplotlib is used to visualize images and labels in this lab\n",
    "# Example: plt.imshow(image), plt.title(label)\n",
    "import matplotlib.pyplot as plt\n",
    "\n",
    "# imshow → convenience import for quick image display\n",
    "from matplotlib.pyplot import imshow\n",
    "\n",
    "# ==========================================\n",
    "# 🧱 PyTorch Dataset API\n",
    "# ==========================================\n",
    "# Dataset → allows us to create custom datasets by subclassing it\n",
    "# DataLoader → helps us iterate through datasets efficiently (batching, shuffling, etc.)\n",
    "from torch.utils.data import Dataset, DataLoader\n",
    "\n",
    "# ==========================================\n",
    "# 🖼️ Image Handling\n",
    "# ==========================================\n",
    "# PIL (Python Imaging Library) → used to open, manipulate, and convert images\n",
    "# Example: Image.open(img_path)\n",
    "from PIL import Image\n",
    "\n",
    "# ==========================================\n",
    "# 🧩 TorchVision Utilities\n",
    "# ==========================================\n",
    "# transforms → provides prebuilt image transformations (cropping, flipping, normalization, etc.)\n",
    "# Example: transforms.Compose([transforms.CenterCrop(20), transforms.ToTensor()])\n",
    "import torchvision.transforms as transforms\n",
    "\n",
    "# datasets → gives access to popular datasets like MNIST, CIFAR-10, and FashionMNIST\n",
    "# We’ll use this to demonstrate pre-built datasets instead of custom CSV-based datasets\n",
    "import torchvision.datasets as tv_datasets\n",
    "\n",
    "# utils (vutils) → helper functions like make_grid() for visualizing multiple images together\n",
    "# Example: vutils.make_grid(batch_images)\n",
    "import torchvision.utils as vutils\n",
    "\n",
    "# ==========================================\n",
    "# 🧮 Reproducibility\n",
    "# ==========================================\n",
    "# Sets a fixed seed so random operations (like shuffling, transformations) give the same results each run\n",
    "torch.manual_seed(0)\n",
    "\n",
    "print(\"Libraries imported successfully.\")\n"
   ]
  },
  {
   "cell_type": "markdown",
   "id": "1d560750",
   "metadata": {},
   "source": [
    "\n",
    "---\n",
    "\n",
    "## <a id=\"auxiliary\"></a> 🧩 Auxiliary Functions & CSV Exploration\n",
    "\n",
    "We’ll read `index.csv`, which should have **two columns**:\n",
    "\n",
    "- column 0 → **label** (`int`)\n",
    "- column 1 → **filename** (`str`) of the image\n",
    "\n",
    "The number of rows equals the number of samples, $N$.\n"
   ]
  },
  {
   "cell_type": "code",
   "execution_count": null,
   "id": "e45b1598",
   "metadata": {},
   "outputs": [],
   "source": [
    "directory = './resources/data'\n",
    "# --- CSV path setup ---\n",
    "file_name = 'index.csv' # CSV with columns [label, filename]\n",
    "\n",
    "csv_path = os.path.join(directory, file_name)"
   ]
  },
  {
   "cell_type": "code",
   "execution_count": null,
   "id": "1a34cb23",
   "metadata": {},
   "outputs": [
    {
     "data": {
      "text/html": [
       "<div>\n",
       "<style scoped>\n",
       "    .dataframe tbody tr th:only-of-type {\n",
       "        vertical-align: middle;\n",
       "    }\n",
       "\n",
       "    .dataframe tbody tr th {\n",
       "        vertical-align: top;\n",
       "    }\n",
       "\n",
       "    .dataframe thead th {\n",
       "        text-align: right;\n",
       "    }\n",
       "</style>\n",
       "<table border=\"1\" class=\"dataframe\">\n",
       "  <thead>\n",
       "    <tr style=\"text-align: right;\">\n",
       "      <th></th>\n",
       "      <th>category</th>\n",
       "      <th>image</th>\n",
       "    </tr>\n",
       "  </thead>\n",
       "  <tbody>\n",
       "    <tr>\n",
       "      <th>0</th>\n",
       "      <td>Ankle boot</td>\n",
       "      <td>img/fashion0.png</td>\n",
       "    </tr>\n",
       "    <tr>\n",
       "      <th>1</th>\n",
       "      <td>T-shirt</td>\n",
       "      <td>img/fashion1.png</td>\n",
       "    </tr>\n",
       "    <tr>\n",
       "      <th>2</th>\n",
       "      <td>T-shirt</td>\n",
       "      <td>img/fashion2.png</td>\n",
       "    </tr>\n",
       "    <tr>\n",
       "      <th>3</th>\n",
       "      <td>Dress</td>\n",
       "      <td>img/fashion3.png</td>\n",
       "    </tr>\n",
       "    <tr>\n",
       "      <th>4</th>\n",
       "      <td>T-shirt</td>\n",
       "      <td>img/fashion4.png</td>\n",
       "    </tr>\n",
       "  </tbody>\n",
       "</table>\n",
       "</div>"
      ],
      "text/plain": [
       "     category             image\n",
       "0  Ankle boot  img/fashion0.png\n",
       "1     T-shirt  img/fashion1.png\n",
       "2     T-shirt  img/fashion2.png\n",
       "3       Dress  img/fashion3.png\n",
       "4     T-shirt  img/fashion4.png"
      ]
     },
     "metadata": {},
     "output_type": "display_data"
    }
   ],
   "source": [
    "## Check if file exists \n",
    "if os.path.exists(csv_path):\n",
    "    # --- Read CSV into a DataFrame ---\n",
    "    data_name = pd.read_csv(csv_path)\n",
    "    display(data_name.head())\n",
    "else:\n",
    "    print(f\"⚠️ CSV not found at: {csv_path}. Some cells below will be skipped.\")"
   ]
  },
  {
   "cell_type": "markdown",
   "id": "966f25ee",
   "metadata": {},
   "source": [
    "### Accessing values with `.iloc`\n",
    "\n",
    "- `data_name.iloc[i, 0]` → label of sample `i`  \n",
    "- `data_name.iloc[i, 1]` → filename of sample `i`  \n"
   ]
  },
  {
   "cell_type": "code",
   "execution_count": 9,
   "id": "764c23c7",
   "metadata": {},
   "outputs": [
    {
     "name": "stdout",
     "output_type": "stream",
     "text": [
      "File Name (row: 0, column: 1) img/fashion0.png\n",
      "class or y (row: 0, columns: 0) Ankle boot\n",
      "File name (row: 1, column: 1) img/fashion1.png\n",
      "class or y (row: 1, column 0) T-shirt\n",
      "The number of rows (60000, 2)\n"
     ]
    }
   ],
   "source": [
    "if 'data_name' in globals() and len(data_name) >= 2:\n",
    "    print(f\"File Name (row: 0, column: 1) {data_name.iloc[0, 1]}\")\n",
    "    print(f\"class or y (row: 0, columns: 0) {data_name.iloc[0, 0]}\")\n",
    "    print(f\"File name (row: 1, column: 1) {data_name.iloc[1, 1]}\")\n",
    "    print(f\"class or y (row: 1, column 0) {data_name.iloc[1, 0]}\")\n",
    "    print(f\"The number of rows {data_name.shape}\")\n",
    "else:\n",
    "    print('⚠️ Not enough rows to demo .iloc (or CSV missing).')"
   ]
  },
  {
   "cell_type": "markdown",
   "id": "1dce741e",
   "metadata": {},
   "source": [
    "## <a id=\"load_image\"></a> 🖼️ Loading & Displaying Images\n",
    "\n",
    "To load an image, concatenate `directory` and the filename from the DataFrame.\n"
   ]
  },
  {
   "cell_type": "code",
   "execution_count": 14,
   "id": "70573a91",
   "metadata": {},
   "outputs": [
    {
     "data": {
      "image/png": "[encoded data removed]",
      "text/plain": [
       "<Figure size 640x480 with 1 Axes>"
      ]
     },
     "metadata": {},
     "output_type": "display_data"
    },
    {
     "data": {
      "image/png": "[encoded data removed]",
      "text/plain": [
       "<Figure size 640x480 with 1 Axes>"
      ]
     },
     "metadata": {},
     "output_type": "display_data"
    },
    {
     "data": {
      "image/png": "[encoded data removed]",
      "text/plain": [
       "<Figure size 640x480 with 1 Axes>"
      ]
     },
     "metadata": {},
     "output_type": "display_data"
    }
   ],
   "source": [
    "def show_image_row(row_index):\n",
    "    \"\"\"Display image at specific row_index from data_name, if available.\"\"\"\n",
    "    \n",
    "    if 'data_name' in globals() and len(data_name) <= row_index:\n",
    "        print(f'⚠️ Cannot show row {row_index}: CSV missing or too few rows.')\n",
    "        return\n",
    "    \n",
    "    image_name = data_name.iloc[row_index, 1]\n",
    "    image_path = os.path.join(directory, image_name)\n",
    "\n",
    "    if not os.path.exists(image_path):\n",
    "        print(f'⚠️ Image file not found: {image_path}')\n",
    "        return\n",
    "    \n",
    "    image = Image.open(image_path)\n",
    "    plt.imshow(image, cmap='gray', vmin=0, vmax=255)\n",
    "    plt.title(str(data_name.iloc[row_index, 0]))\n",
    "    plt.axis('off')\n",
    "    plt.show()\n",
    "\n",
    "\n",
    "show_image_row(1)\n",
    "\n",
    "show_image_row(19)\n",
    "\n",
    "show_image_row(100)"
   ]
  },
  {
   "cell_type": "markdown",
   "id": "3f1d6bc8",
   "metadata": {},
   "source": [
    "### Helper to visualize dataset samples returned as `(tensor_image, label)`"
   ]
  },
  {
   "cell_type": "code",
   "execution_count": 42,
   "id": "03ddd0f3",
   "metadata": {},
   "outputs": [],
   "source": [
    "def show_data(data_sample, shape=(28, 28)):\n",
    "    \"\"\"\n",
    "    🖼️ Visualize a dataset sample (image + label)\n",
    "\n",
    "    Args:\n",
    "        data_sample (tuple): (image_tensor_or_array, label)\n",
    "            - image_tensor_or_array → can be a NumPy array or PyTorch tensor\n",
    "            - label → numeric or string class name\n",
    "\n",
    "        shape (tuple): reshape target for 2D visualization\n",
    "            - Only used if image is a 1D flattened array (e.g. 784 → 28x28)\n",
    "    \"\"\"\n",
    "\n",
    "    # unpack sample tuple\n",
    "    image, label = data_sample\n",
    "\n",
    "    # --------------------------------------------------------\n",
    "    # 🧠 CASE 1: Image is a PyTorch tensor with shape (C, H, W)\n",
    "    # --------------------------------------------------------\n",
    "    # Many torchvision datasets (e.g. MNIST, CIFAR) return images as:\n",
    "    #   - 3D tensors → (Channels, Height, Width)\n",
    "    #   - For grayscale: Channels = 1 → shape (1, 28, 28)\n",
    "    # So we need to remove the single channel dimension before plotting.\n",
    "    # --------------------------------------------------------\n",
    "\n",
    "    if (isinstance(image, torch.Tensor) and image.ndim == 3 and image.shape[0] == 1):\n",
    "         # .squeeze(0) removes dimension 0 if its size = 1\n",
    "        # Example: (1, 28, 28) → (28, 28)\n",
    "\n",
    "        # ----------------------------------------------------------\n",
    "        # PyTorch tensors for grayscale images often have shape (C, H, W)\n",
    "        #   - C: single color channel (grayscale)\n",
    "        #   - H: height (e.g., 28)\n",
    "        #   - W: width  (e.g., 28)\n",
    "        #\n",
    "        # Matplotlib expects a 2D array (H, W) to display grayscale images.\n",
    "        # Therefore, we use .squeeze(0) to remove the first dimension (the '1' channel):\n",
    "        #   Example:\n",
    "        #     Original: (1, 28, 28)\n",
    "        #     After squeeze(0): (28, 28)\n",
    "        # ----------------------------------------------------------\n",
    "        plt.imshow(image.squeeze(0).numpy(), cmap='gray')\n",
    "\n",
    "    # --------------------------------------------------------\n",
    "    # 🧠 CASE 2: Image is a NumPy array or already 2D\n",
    "    # --------------------------------------------------------\n",
    "    # Convert whatever it is into a NumPy array (safe for plotting)\n",
    "    else:\n",
    "        arr = np.array(image)\n",
    "        # Some datasets store flattened images → shape (784,)\n",
    "        # So we reshape it back into (28, 28)\n",
    "\n",
    "        if arr.ndim == 1:\n",
    "            arr = arr.reshape(shape)\n",
    "\n",
    "        plt.imshow(arr, cmap='gray')\n",
    "\n",
    "    # --------------------------------------------------------\n",
    "    # Add title and formatting\n",
    "    # --------------------------------------------------------\n",
    "\n",
    "    plt.title(f\"y: {str(label)}\") # Show label as title\n",
    "    plt.axis('off')\n",
    "    plt.show()\n"
   ]
  },
  {
   "cell_type": "markdown",
   "id": "c764c164",
   "metadata": {},
   "source": [
    "\n",
    "---\n",
    "## <a id=\"data_class\"></a> 🧱 Create a Dataset Class (CSV-Backed)\n",
    "\n",
    "We implement a **CSV-backed image dataset** using the PyTorch `Dataset` protocol:\n",
    "\n",
    "- `__init__`: store paths, read CSV (do **not** load all images)\n",
    "- `__len__`: return $N$\n",
    "- `__getitem__`: open one image by index, apply optional transforms, return `(image, label)`"
   ]
  },
  {
   "cell_type": "code",
   "execution_count": null,
   "id": "8e223c61",
   "metadata": {},
   "outputs": [
    {
     "name": "stdout",
     "output_type": "stream",
     "text": [
      "ImageCSVDataset ready.\n"
     ]
    }
   ],
   "source": [
    "class ImageCSVDataSet(Dataset):\n",
    "    \"\"\"CSV-backed image dataset.\n",
    "\n",
    "    Expects a CSV with two columns:\n",
    "        col 0 -> label (int)\n",
    "        col 1 -> filename (str) relative to `data_dir`\n",
    "    \"\"\"\n",
    "\n",
    "    def __init__(self, csv_file, directory = '', transform = None):\n",
    "        # --- Save config ---\n",
    "        self.directory = directory # Directory containing images\n",
    "        self.transform = transform # Optional image transformer pipeline\n",
    "\n",
    "        # --- Build absolute CSV path and read ---\n",
    "        csv_abs = os.path.join(directory, csv_file) if self.directory else csv_file\n",
    "\n",
    "        if not os.path.exists(csv_abs):\n",
    "            raise FileNotFoundError(f'CSV file not found at the path: {csv_abs}')\n",
    "        \n",
    "        self.data_name = pd.read_csv(csv_abs)\n",
    "\n",
    "        # --- Number of samples (rows of the CSV) ---\n",
    "        self.len = self.data_name.shape[0]\n",
    "\n",
    "    def __len__(self):\n",
    "        \"\"\"Return dataset size N (enables len(ds)).\"\"\"\n",
    "        return self.len\n",
    "    \n",
    "    def __getitem__(self, index):\n",
    "        \"\"\"Return one sample (image, label) at index `index`.\n",
    "\n",
    "        Steps:\n",
    "          1) Build path: data_dir / filename\n",
    "          2) Open with PIL\n",
    "          3) Apply transform if provided\n",
    "          4) Return (image, label)\n",
    "        \"\"\"\n",
    "\n",
    "        filename = self.data_name.iloc[index, 1]\n",
    "        # 1) Build path to image file\n",
    "        img_path = os.path.join(self.directory, filename) if self.directory else filename\n",
    "\n",
    "        if not os.path.exists(img_path):\n",
    "            raise FileNotFoundError(f'Image not found at the path: {img_path}')\n",
    "        \n",
    "        # 2) Open image (kept generic; if you know dataset is grayscale, you can .convert(\"L\"))\n",
    "        image = Image.open(img_path)\n",
    "\n",
    "        # 3) Label\n",
    "        y = str(self.data_name.iloc[index, 0])\n",
    "\n",
    "         # 4) Apply transform pipeline (e.g., crop, ToTensor, normalize, etc.)\n",
    "        if self.transform is not None:\n",
    "            image = self.transform(image)\n",
    "        \n",
    "        return image, y\n",
    "    \n",
    "print('ImageCSVDataset ready.')"
   ]
  },
  {
   "cell_type": "markdown",
   "id": "bf69ffe2",
   "metadata": {},
   "source": [
    "### Instantiate & Visualize a Few Samples"
   ]
  },
  {
   "cell_type": "code",
   "execution_count": 24,
   "id": "4971ea12",
   "metadata": {},
   "outputs": [
    {
     "data": {
      "image/png": "[encoded data removed]",
      "text/plain": [
       "<Figure size 640x480 with 1 Axes>"
      ]
     },
     "metadata": {},
     "output_type": "display_data"
    }
   ],
   "source": [
    "if os.path.exists(csv_path):\n",
    "    image_data_Set = ImageCSVDataSet(csv_file=file_name, directory=directory, transform=None)\n",
    "\n",
    "    # First sample (PIL image)\n",
    "    img0, y0 = image_data_Set[0]\n",
    "\n",
    "    plt.imshow(img0, cmap='gray', vmin=0, vmax=255)\n",
    "    plt.title(f'Y: {y0}')\n",
    "    plt.axis('off')\n",
    "    plt.show()"
   ]
  },
  {
   "cell_type": "code",
   "execution_count": 27,
   "id": "95a584d9",
   "metadata": {},
   "outputs": [
    {
     "data": {
      "image/png": "[encoded data removed]",
      "text/plain": [
       "<Figure size 1200x500 with 10 Axes>"
      ]
     },
     "metadata": {},
     "output_type": "display_data"
    }
   ],
   "source": [
    "# Choose start and end indices\n",
    "start_idx, end_idx = 10, 20\n",
    "\n",
    "# Number of images\n",
    "n_images = end_idx - start_idx\n",
    "\n",
    "# Create a subplot grid (e.g., 2 rows × 5 columns)\n",
    "fig, axes = plt.subplots(2, 5, figsize=(12, 5))\n",
    "\n",
    "# Flatten the axes array for easy iteration\n",
    "axes = axes.flatten()\n",
    "\n",
    "# Loop over the images\n",
    "for i, idx in enumerate(range(start_idx, end_idx)):\n",
    "    img, label = image_data_Set[idx]  # get image and label\n",
    "\n",
    "    # Show image\n",
    "    axes[i].imshow(img, cmap='gray', vmin=0, vmax=255)\n",
    "    axes[i].set_title(f\"y = {label}\")\n",
    "    axes[i].axis('off')\n",
    "\n",
    "# Adjust layout for cleaner look\n",
    "plt.tight_layout()\n",
    "plt.show()\n"
   ]
  },
  {
   "cell_type": "markdown",
   "id": "b28b9962",
   "metadata": {},
   "source": [
    "\n",
    "---\n",
    "## <a id=\"torchvision\"></a> 🧰 TorchVision Transforms\n",
    "\n",
    "We commonly **compose** transforms with `transforms.Compose`:\n",
    "\n",
    "- `transforms.CenterCrop(size)`  \n",
    "- `transforms.ToTensor()` → converts PIL `[0,255]` to Tensor `[0,1]` with shape $(C,H,W)$  \n",
    "- `transforms.RandomVerticalFlip(p)`  \n",
    "- `transforms.RandomHorizontalFlip(p)`  \n",
    "\n",
    "\n",
    "### ✂️ Crop + Tensor\n",
    "\n",
    "We crop to **20×20** and convert to a tensor. For a grayscale image, the tensor shape becomes:\n",
    "\n",
    "$$\n",
    "(C, H, W) = (1, 20, 20)\n",
    "$$\n"
   ]
  },
  {
   "cell_type": "code",
   "execution_count": null,
   "id": "c79508d6",
   "metadata": {},
   "outputs": [
    {
     "name": "stdout",
     "output_type": "stream",
     "text": [
      "Shape of the data set torch.Size([1, 20, 20])\n"
     ]
    },
    {
     "data": {
      "image/png": "[encoded data removed]",
      "text/plain": [
       "<Figure size 640x480 with 1 Axes>"
      ]
     },
     "metadata": {},
     "output_type": "display_data"
    },
    {
     "data": {
      "image/png": "[encoded data removed]",
      "text/plain": [
       "<Figure size 640x480 with 1 Axes>"
      ]
     },
     "metadata": {},
     "output_type": "display_data"
    }
   ],
   "source": [
    "croptensor_data_transform = transforms.Compose([\n",
    "    transforms.CenterCrop(20),\n",
    "    transforms.ToTensor()\n",
    "])\n",
    "\n",
    "csv_path = os.path.join(directory, file_name)\n",
    "if os.path.exists(csv_path):\n",
    "    image_data_set_crop = ImageCSVDataSet(csv_file=file_name, directory=directory, transform=croptensor_data_transform)\n",
    "    print(f\"Shape of the data set {image_data_set_crop[0][0].shape}\")\n",
    "    show_data(image_data_set_crop[0], shape=(20, 20))\n",
    "    if len(image_data_set_crop) > 1:\n",
    "        show_data(image_data_set_crop[1], shape=(20, 20))\n",
    "else:\n",
    "    print('⚠️ Skipping crop demo: CSV not found.')"
   ]
  },
  {
   "cell_type": "markdown",
   "id": "24068435",
   "metadata": {},
   "source": [
    "\n",
    "---\n",
    "## <a id=\"fashionmnist\"></a> 👗 FashionMNIST + DataLoader\n",
    "\n",
    "For standard datasets, prefer **TorchVision built-ins**.  \n",
    "Here we demonstrate `FashionMNIST` (10 classes, 28×28 grayscale).\n",
    "\n",
    "### Transform & Normalization\n",
    "\n",
    "A typical transform chain for grayscale:\n",
    "$$\n",
    "\\text{ToTensor} \\;\\Rightarrow\\; \\text{Normalize(mean=[0.5], std=[0.5])}\n",
    "$$\n",
    "which maps pixel values from $[0,1]$ to roughly $[-1, 1]$:\n",
    "$$\n",
    "x_{\\text{norm}} = \\frac{x - 0.5}{0.5}.\n",
    "$$\n"
   ]
  },
  {
   "cell_type": "code",
   "execution_count": 51,
   "id": "79a2bb48",
   "metadata": {},
   "outputs": [
    {
     "name": "stdout",
     "output_type": "stream",
     "text": [
      "Train size: 60000 | Test size: 10000\n",
      "Batch images: torch.Size([64, 1, 28, 28]) Batch labels: torch.Size([64])\n"
     ]
    },
    {
     "data": {
      "image/png": "[encoded data removed]",
      "text/plain": [
       "<Figure size 800x400 with 1 Axes>"
      ]
     },
     "metadata": {},
     "output_type": "display_data"
    }
   ],
   "source": [
    "# Transform for FashionMNIST (grayscale)\n",
    "fmnist_tf = transforms.Compose([\n",
    "    transforms.ToTensor(),\n",
    "    transforms.Normalize(mean=[0.5], std=[0.5])  # (C=1)\n",
    "])\n",
    "\n",
    "# Create datasets (will download if not found)\n",
    "try:\n",
    "    train_set = tv_datasets.FashionMNIST(root=\"data/\", train=True, download=True, transform=fmnist_tf)\n",
    "    test_set  = tv_datasets.FashionMNIST(root=\"data/\", train=False, download=True, transform=fmnist_tf)\n",
    "\n",
    "    print(\"Train size:\", len(train_set), \"| Test size:\", len(test_set))\n",
    "\n",
    "    # DataLoaders for batching and shuffling\n",
    "    train_loader = DataLoader(train_set, batch_size=64, shuffle=True, num_workers=2)\n",
    "    test_loader  = DataLoader(test_set,  batch_size=64, shuffle=False, num_workers=2)\n",
    "\n",
    "    # Inspect one mini-batch\n",
    "    xb, yb = next(iter(train_loader))\n",
    "    print(\"Batch images:\", xb.shape, \"Batch labels:\", yb.shape)  # e.g., [64, 1, 28, 28], [64]\n",
    "\n",
    "    # Visualize a grid of the first 16 images from the batch (unnormalized for display)\n",
    "    grid = vutils.make_grid(xb[:16].detach().clone(), nrow=8, normalize=True, value_range=(-1,1))\n",
    "    plt.figure(figsize=(8,4))\n",
    "    plt.imshow(np.transpose(grid.numpy(), (1,2,0)))\n",
    "    plt.title(\"FashionMNIST — mini-batch preview\")\n",
    "    plt.axis(\"off\")\n",
    "    plt.show()\n",
    "\n",
    "except Exception as e:\n",
    "    print(\"⚠️ FashionMNIST demo skipped due to:\", e)"
   ]
  }
 ],
 "metadata": {
  "kernelspec": {
   "display_name": "Python 3",
   "language": "python",
   "name": "python3"
  },
  "language_info": {
   "codemirror_mode": {
    "name": "ipython",
    "version": 3
   },
   "file_extension": ".py",
   "mimetype": "text/x-python",
   "name": "python",
   "nbconvert_exporter": "python",
   "pygments_lexer": "ipython3",
   "version": "3.12.11"
  }
 },
 "nbformat": 4,
 "nbformat_minor": 5
}
