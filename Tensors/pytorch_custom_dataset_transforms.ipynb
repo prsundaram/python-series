{
 "cells": [
  {
   "cell_type": "markdown",
   "id": "98593004",
   "metadata": {},
   "source": [
    "# 📘 PyTorch Datasets & Transforms — Building a Custom Dataset and Composing Transforms\n",
    "\n",
    "In this notebook, we will:\n",
    "\n",
    "- 🔹 Build a **custom Dataset** class that behaves like a Python iterable\n",
    "- 🔹 Add a **transform pipeline** using callable classes\n",
    "- 🔹 **Compose multiple transforms** and apply them in sequence\n",
    "- 🔹 Verify behavior with indexing `[]`, `len()`, and iteration\n"
   ]
  },
  {
   "cell_type": "markdown",
   "id": "1146b82f",
   "metadata": {},
   "source": [
    "---\n",
    "\n",
    "## 🔹 1️⃣ What is a Dataset?\n",
    "\n",
    "A PyTorch **Dataset** wraps your data and exposes two key methods:\n",
    "\n",
    "- `__len__(self)` → returns the **number of samples**\n",
    "- `__getitem__(self, idx)` → returns the **sample at index** $\\,i = \\text{idx}$\n",
    "\n",
    "We will implement a dataset with **$N = 100$** samples:\n",
    "\n",
    "- Feature tensor $\\color{#1f77b4}{x} \\in \\mathbb{R}^{N\\times 1}$\n",
    "- Target tensor $\\color{#d62728}{y} \\in \\mathbb{R}^{N\\times 1}$\n",
    "\n",
    "A single sample is a **tuple**:  \n",
    "\n",
    "$$\n",
    "\\text{sample}[i] = (\\, \\color{#1f77b4}{x_i},\\; \\color{#d62728}{y_i}\\,)\n",
    "$$\n",
    "\n",
    "The dataset behaves like a list/iterable: you can use `len(dataset)`, `dataset[i]`, and `for s in dataset: ...`\n",
    "\n",
    "---\n"
   ]
  },
  {
   "cell_type": "code",
   "execution_count": 1,
   "id": "de6987a0",
   "metadata": {},
   "outputs": [
    {
     "data": {
      "text/plain": [
       "<torch._C.Generator at 0x107f783d0>"
      ]
     },
     "execution_count": 1,
     "metadata": {},
     "output_type": "execute_result"
    }
   ],
   "source": [
    "# ===============================\n",
    "# 1) Imports & setup\n",
    "# ===============================\n",
    "import torch\n",
    "from torch.utils.data import Dataset\n",
    "\n",
    "# For reproducibility when randomness is used (e.g., noise)\n",
    "torch.manual_seed(0)\n"
   ]
  },
  {
   "cell_type": "markdown",
   "id": "55d927f1",
   "metadata": {},
   "source": [
    "## 🏗️ 2️⃣ Build a Custom Dataset Class\n",
    "\n",
    "We will create a class `ToySet(Dataset)` that:\n",
    "- constructs feature/target tensors in `__init__`\n",
    "- stores the sample count in `self.length`\n",
    "- implements `__len__` to return the number of samples\n",
    "- implements `__getitem__` to return a tuple `(x_i, y_i)`\n",
    "- optionally applies a **transform** if provided\n",
    "\n",
    "$$\n",
    "\\color{#1f77b4}{x_i} = x[i], \\quad\n",
    "\\color{#d62728}{y_i} = y[i]\n",
    "$$\n"
   ]
  },
  {
   "cell_type": "code",
   "execution_count": 2,
   "id": "877fef00",
   "metadata": {},
   "outputs": [],
   "source": [
    "# ============================================\n",
    "# 2) Custom Dataset: ToySet\n",
    "# ============================================\n",
    "class ToySet(Dataset):\n",
    "    def __init__(self, length=100, transform=None, device='cpu', dtype=torch.float32):\n",
    "        \"\"\"Create a toy regression dataset with a simple relation y = 2x + 1 + noise.\n",
    "\n",
    "        Args:\n",
    "            length (int): number of samples N (will be cast to int).\n",
    "            transform (callable or None): optional callable applied to each (x, y) on access.\n",
    "            device (str or torch.device): where to store tensors ('cpu' or 'cuda').\n",
    "            dtype (torch.dtype): e.g., torch.float32.\n",
    "        \"\"\"\n",
    "        # ---- Configuration ----\n",
    "        self.length = int(length)                  # total number of samples\n",
    "        self.transform = transform                 # optional transform pipeline\n",
    "        self.device = torch.device(device)         # device handle\n",
    "\n",
    "        # ---- Create features x in [0, 1] ----\n",
    "        x_vals = torch.linspace(0, 1, self.length, dtype=dtype)  # evenly spaced grid\n",
    "\n",
    "        # ---- Add small Gaussian noise for realism ----\n",
    "        noise = 0.02 * torch.randn(self.length, dtype=dtype)     # zero-mean noise\n",
    "\n",
    "        # ---- Define targets: y = 2x + 1 + noise ----\n",
    "        y_vals = 2.0 * x_vals + 1.0 + noise\n",
    "\n",
    "        # ---- Store as (N, 1) column vectors on chosen device ----\n",
    "        self.x = x_vals.unsqueeze(1).to(self.device)  # shape (N, 1)\n",
    "        self.y = y_vals.unsqueeze(1).to(self.device)  # shape (N, 1)\n",
    "\n",
    "    def __len__(self):\n",
    "        \"\"\"Return number of samples so len(dataset) works and\n",
    "        DataLoader knows the epoch length.\"\"\"\n",
    "        return self.length\n",
    "\n",
    "    def __getitem__(self, idx):\n",
    "        \"\"\"Return a single sample (x_i, y_i). If a transform is provided,\n",
    "        apply it before returning.\"\"\"\n",
    "        # 1) Select i-th row from x and y\n",
    "        xi = self.x[idx]     # tensor of shape (1,)\n",
    "        yi = self.y[idx]     # tensor of shape (1,)\n",
    "\n",
    "        # 2) Pack into a tuple\n",
    "        sample = (xi, yi)\n",
    "\n",
    "        # 3) If a transform pipeline is configured, apply it here\n",
    "        if self.transform is not None:\n",
    "            sample = self.transform(sample)  # callable(sample) -> sample\n",
    "\n",
    "        # 4) Return the (possibly transformed) sample\n",
    "        return sample\n"
   ]
  },
  {
   "cell_type": "markdown",
   "id": "e26614cb",
   "metadata": {},
   "source": [
    "## 🔍 3️⃣ Create a Dataset Instance & Inspect Behavior\n",
    "\n",
    "- `len(ds)` returns the number of samples $N$  \n",
    "- `ds[i]` returns the tuple $(\\color{#1f77b4}{x_i}, \\color{#d62728}{y_i})$  \n",
    "- The dataset is **iterable**, so `for sample in ds:` works\n",
    "\n",
    "We'll create a dataset without any transform first.\n"
   ]
  },
  {
   "cell_type": "code",
   "execution_count": 3,
   "id": "ade5303d",
   "metadata": {},
   "outputs": [
    {
     "name": "stdout",
     "output_type": "stream",
     "text": [
      "len(ds_plain) -> 100\n",
      "First sample shapes: torch.Size([1]) torch.Size([1])\n",
      "First sample values: 0.0 0.9774832129478455\n",
      "\n",
      "First three samples:\n",
      "[0] x=0.0000, y=0.9775\n",
      "[1] x=0.0101, y=0.9972\n",
      "[2] x=0.0202, y=1.0354\n"
     ]
    }
   ],
   "source": [
    "# ============================================\n",
    "# 3) Create a dataset instance and inspect behavior\n",
    "# ============================================\n",
    "# Create dataset with no transform\n",
    "ds_plain = ToySet(length=100)\n",
    "\n",
    "# len(ds) -> calls __len__\n",
    "print(\"len(ds_plain) ->\", len(ds_plain))  # expect 100\n",
    "\n",
    "# Index one item -> calls __getitem__\n",
    "x0, y0 = ds_plain[0]\n",
    "print(\"First sample shapes:\", x0.shape, y0.shape)  # both (1,)\n",
    "print(\"First sample values:\", x0.item(), y0.item())\n",
    "\n",
    "# Iterate first three items\n",
    "print(\"\\nFirst three samples:\")\n",
    "for i in range(3):\n",
    "    xi, yi = ds_plain[i]\n",
    "    print(f\"[{i}] x={xi.item():.4f}, y={yi.item():.4f}\")\n"
   ]
  },
  {
   "cell_type": "markdown",
   "id": "83881827",
   "metadata": {},
   "source": [
    "---\n",
    "\n",
    "## 🔧 4️⃣ Building a Transform (Callable Class)\n",
    "\n",
    "Transforms are **callable objects** that take a sample `(x, y)` and return a (possibly) **modified** `(x, y)`.\n",
    "\n",
    "We’ll create a transform class `AddMultiply` that:\n",
    "- **adds** a constant to $\\color{#1f77b4}{x}$ → $x' = x + \\text{add\\_x}$\n",
    "- **multiplies** $\\color{#d62728}{y}$ → $y' = (\\text{mul\\_y})\\, y$\n",
    "\n",
    "$$\n",
    "\\color{#1f77b4}{x'} = x + \\text{add\\_x}, \\qquad\n",
    "\\color{#d62728}{y'} = (\\text{mul\\_y})\\,y\n",
    "$$\n",
    "\n",
    "We can apply this transform **directly to a sample**, or pass it into the dataset so it’s applied **automatically** when indexing.\n"
   ]
  },
  {
   "cell_type": "code",
   "execution_count": 4,
   "id": "41b00746",
   "metadata": {},
   "outputs": [
    {
     "name": "stdout",
     "output_type": "stream",
     "text": [
      "Original (x0, y0): 0.0 0.9774832129478455\n",
      "Transformed (x0, y0): 1.0 1.954966425895691\n"
     ]
    }
   ],
   "source": [
    "# ============================================\n",
    "# 3) Transform class: AddMultiply\n",
    "# ============================================\n",
    "class AddMultiply:\n",
    "    def __init__(self, add_x=0.0, mul_y=1.0):\n",
    "        \"\"\"Store hyperparameters for add/multiply operations.\"\"\"\n",
    "        self.add_x = float(add_x)\n",
    "        self.mul_y = float(mul_y)\n",
    "\n",
    "    def __call__(self, sample):\n",
    "        \"\"\"Make the object callable; transform interface: (x, y) -> (x', y').\"\"\"\n",
    "        x, y = sample\n",
    "        x = x + self.add_x   # add bias to feature\n",
    "        y = y * self.mul_y   # scale target\n",
    "        return (x, y)\n",
    "\n",
    "# Demo: apply transform directly to a single sample\n",
    "tform = AddMultiply(add_x=1.0, mul_y=2.0)\n",
    "x0, y0 = ds_plain[0]\n",
    "x0_t, y0_t = tform((x0, y0))\n",
    "\n",
    "print('Original (x0, y0):', x0.item(), y0.item())\n",
    "print('Transformed (x0, y0):', x0_t.item(), y0_t.item())\n"
   ]
  },
  {
   "cell_type": "markdown",
   "id": "3785f218",
   "metadata": {},
   "source": [
    "---\n",
    "\n",
    "## 🧰 5️⃣ Applying Transform Automatically (via Dataset Constructor)\n",
    "\n",
    "We pass the transform instance to the dataset’s constructor:\n",
    "\n",
    "$$\n",
    "\\text{ToySet}(*,\\; \\text{transform}=\\mathcal{T})\n",
    "$$\n",
    "\n",
    "Now, each time we access `ds[i]`, the dataset will **apply** the transform before returning the sample.\n"
   ]
  },
  {
   "cell_type": "code",
   "execution_count": 5,
   "id": "c888b08e",
   "metadata": {},
   "outputs": [
    {
     "name": "stdout",
     "output_type": "stream",
     "text": [
      "Auto-transformed first sample: 1.0 2.0385007858276367\n"
     ]
    }
   ],
   "source": [
    "# ============================================\n",
    "# 4) Pass transform to the Dataset for automatic application\n",
    "# ============================================\n",
    "# Create dataset that applies AddMultiply automatically on access\n",
    "ds_auto = ToySet(length=100, transform=AddMultiply(add_x=1.0, mul_y=2.0))\n",
    "\n",
    "x0_auto, y0_auto = ds_auto[0]  # __getitem__ applies transform\n",
    "print(\"Auto-transformed first sample:\", x0_auto.item(), y0_auto.item())\n"
   ]
  },
  {
   "cell_type": "markdown",
   "id": "8f1b99b4",
   "metadata": {},
   "source": [
    "---\n",
    "\n",
    "## 🧱 6️⃣ Composing Multiple Transforms (Sequentially)\n",
    "\n",
    "Sometimes we want to **chain** several transforms. We can define a simple `Compose` class that\n",
    "applies each transform **in order**:\n",
    "\n",
    "$$\n",
    "\\mathcal{T}_{\\text{compose}} = \\mathcal{T}_2 \\circ \\mathcal{T}_1, \\quad\n",
    "\\text{sample}' = \\mathcal{T}_2(\\mathcal{T}_1(\\text{sample}))\n",
    "$$\n",
    "\n",
    "We’ll also create a `Mult` transform that multiplies **both** $x$ and $y$ by a constant:\n",
    "\n",
    "$$\n",
    "x' = (\\text{mul})\\,x, \\qquad y' = (\\text{mul})\\,y\n",
    "$$\n"
   ]
  },
  {
   "cell_type": "code",
   "execution_count": 6,
   "id": "93b30418",
   "metadata": {},
   "outputs": [
    {
     "name": "stdout",
     "output_type": "stream",
     "text": [
      "Compose on sample[0]: 0.5 0.9774832129478455\n",
      "Compose via dataset[1]: 0.5050504803657532 1.0545985698699951\n"
     ]
    }
   ],
   "source": [
    "# ============================================\n",
    "# 5) Compose + an additional transform (Mult)\n",
    "# ============================================\n",
    "class Compose:\n",
    "    def __init__(self, transforms):\n",
    "        \"\"\"Run a list of transforms sequentially.\"\"\"\n",
    "        self.transforms = list(transforms)\n",
    "\n",
    "    def __call__(self, sample):\n",
    "        for t in self.transforms:\n",
    "            sample = t(sample)\n",
    "        return sample\n",
    "\n",
    "class Mult:\n",
    "    def __init__(self, mul=1.0):\n",
    "        \"\"\"Multiply BOTH x and y by 'mul'.\"\"\"\n",
    "        self.mul = float(mul)\n",
    "\n",
    "    def __call__(self, sample):\n",
    "        x, y = sample\n",
    "        return (x * self.mul, y * self.mul)\n",
    "\n",
    "# Build a transform pipeline:\n",
    "#   1) AddMultiply: (x+1, y*2)\n",
    "#   2) Mult: multiply both by 0.5\n",
    "pipeline = Compose([\n",
    "    AddMultiply(add_x=1.0, mul_y=2.0),\n",
    "    Mult(mul=0.5)\n",
    "])\n",
    "\n",
    "# Apply pipeline directly to a raw sample\n",
    "x0_c, y0_c = pipeline(ds_plain[0])\n",
    "print(\"Compose on sample[0]:\", x0_c.item(), y0_c.item())\n",
    "\n",
    "# Or pass pipeline into the dataset for automatic application\n",
    "ds_comp = ToySet(length=100, transform=pipeline)\n",
    "x1_c, y1_c = ds_comp[1]\n",
    "print(\"Compose via dataset[1]:\", x1_c.item(), y1_c.item())\n"
   ]
  },
  {
   "cell_type": "markdown",
   "id": "a3c4cf4f",
   "metadata": {},
   "source": [
    "---\n",
    "\n",
    "## 🔄 7️⃣ Iterating Over the Dataset (First 3 Samples)\n",
    "\n",
    "The Dataset is an **iterable**, so we can loop over it directly.  \n",
    "Below, we loop over the **transformed** dataset and print the first three samples:\n",
    "\n",
    "$$\n",
    "\\text{for } i \\in \\{0,1,2\\}:\\; (x_i, y_i) = \\text{ds}[i]\n",
    "$$\n"
   ]
  },
  {
   "cell_type": "code",
   "execution_count": 7,
   "id": "4b6b226a",
   "metadata": {},
   "outputs": [
    {
     "name": "stdout",
     "output_type": "stream",
     "text": [
      "First 3 samples from composed-transform dataset:\n",
      "[0] x=0.5000, y=0.9869\n",
      "[1] x=0.5051, y=1.0546\n",
      "[2] x=0.5101, y=1.0212\n"
     ]
    }
   ],
   "source": [
    "# ============================================\n",
    "# 6) Iterate and preview the first three transformed samples\n",
    "# ============================================\n",
    "print('First 3 samples from composed-transform dataset:')\n",
    "for i in range(3):\n",
    "    xi, yi = ds_comp[i]  # triggers __getitem__ -> pipeline(sample)\n",
    "    print(f'[{i}] x={xi.item():.4f}, y={yi.item():.4f}')"
   ]
  },
  {
   "cell_type": "markdown",
   "id": "ea619261",
   "metadata": {},
   "source": [
    "---\n",
    "\n",
    "## ✅ Summary\n",
    "\n",
    "- We built a custom Dataset that returns tuples $(\\color{#1f77b4}{x_i}, \\color{#d62728}{y_i})$ and behaves like a Python iterable.\n",
    "- We created **callable transform classes** to modify samples.\n",
    "- We showed **two ways** to apply transforms:\n",
    "  1) **Directly** to returned samples, and  \n",
    "  2) **Automatically** by passing a transform to the Dataset constructor.\n",
    "- We implemented a simple **Compose** to chain multiple transforms in sequence.\n",
    "\n",
    "📌 **Key idea:** The Dataset’s `__getitem__` is the perfect place to plug in transforms, ensuring every access returns **consistently processed** data.\n"
   ]
  }
 ],
 "metadata": {
  "kernelspec": {
   "display_name": "Python 3",
   "language": "python",
   "name": "python3"
  },
  "language_info": {
   "codemirror_mode": {
    "name": "ipython",
    "version": 3
   },
   "file_extension": ".py",
   "mimetype": "text/x-python",
   "name": "python",
   "nbconvert_exporter": "python",
   "pygments_lexer": "ipython3",
   "version": "3.12.11"
  }
 },
 "nbformat": 4,
 "nbformat_minor": 5
}
