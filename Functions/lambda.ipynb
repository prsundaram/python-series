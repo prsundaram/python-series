{
 "cells": [
  {
   "cell_type": "markdown",
   "id": "731f5c84",
   "metadata": {},
   "source": [
    "## Lambda Function in Python"
   ]
  },
  {
   "cell_type": "markdown",
   "id": "a9f4d9c2",
   "metadata": {},
   "source": [
    "### Definition\n",
    "\n",
    "Lambda functions are small and anonymous functions defined using the key keyword **lambda** keyword. They can have any number of aruguments but only one expression. They are commonly used for short operations or as arguments to higer-order function.\n",
    "\n",
    "#### Syntax\n",
    "```python \n",
    "lambda arguments: expression\n",
    "```"
   ]
  },
  {
   "cell_type": "code",
   "execution_count": 10,
   "id": "4f28a347",
   "metadata": {},
   "outputs": [],
   "source": [
    "def addition_of_two_numbers(a, b):\n",
    "    return a + b"
   ]
  },
  {
   "cell_type": "code",
   "execution_count": 11,
   "id": "f83acda3",
   "metadata": {},
   "outputs": [
    {
     "data": {
      "text/plain": [
       "5"
      ]
     },
     "execution_count": 11,
     "metadata": {},
     "output_type": "execute_result"
    }
   ],
   "source": [
    "addition_of_two_numbers(2, 3)"
   ]
  },
  {
   "cell_type": "markdown",
   "id": "cf97062f",
   "metadata": {},
   "source": [
    "```text\n",
    "If you see the above, the requirement is to add two numebrs, I've created a new seperarte function to do the job, however this can be replaced with lambdas\n",
    "````"
   ]
  },
  {
   "cell_type": "code",
   "execution_count": null,
   "id": "3e3c2463",
   "metadata": {},
   "outputs": [],
   "source": [
    "# Simple example of lambda function\n",
    "addition = lambda a, b: a + b"
   ]
  },
  {
   "cell_type": "code",
   "execution_count": 12,
   "id": "e2e59861",
   "metadata": {},
   "outputs": [
    {
     "data": {
      "text/plain": [
       "function"
      ]
     },
     "execution_count": 12,
     "metadata": {},
     "output_type": "execute_result"
    }
   ],
   "source": [
    "# If you check the type of addition, it is a function\n",
    "type(addition)"
   ]
  },
  {
   "cell_type": "code",
   "execution_count": null,
   "id": "cb7d9631",
   "metadata": {},
   "outputs": [
    {
     "name": "stdout",
     "output_type": "stream",
     "text": [
      "Addition to two numbers using lambda functioin, 5\n"
     ]
    }
   ],
   "source": [
    "# now you can call the lambda function like a normal function\n",
    "print(f\"Addition to two numbers using lambda function is, {addition(2, 3)}\")"
   ]
  },
  {
   "cell_type": "code",
   "execution_count": 17,
   "id": "81ec10ff",
   "metadata": {},
   "outputs": [],
   "source": [
    "def even_or_odd(num):\n",
    "    return \"Even\" if num % 2 == 0 else \"Odd\""
   ]
  },
  {
   "cell_type": "code",
   "execution_count": 18,
   "id": "d6c34732",
   "metadata": {},
   "outputs": [
    {
     "data": {
      "text/plain": [
       "'Even'"
      ]
     },
     "execution_count": 18,
     "metadata": {},
     "output_type": "execute_result"
    }
   ],
   "source": [
    "# Calling the even_or_odd function\n",
    "even_or_odd(4)"
   ]
  },
  {
   "cell_type": "code",
   "execution_count": 19,
   "id": "59b47c67",
   "metadata": {},
   "outputs": [],
   "source": [
    "# Similar to the above function, we can create a lambda function for thie scenario\n",
    "even_odd = lambda num: \"Even\" if num % 2 == 0 else \"Odd\""
   ]
  },
  {
   "cell_type": "code",
   "execution_count": null,
   "id": "1182b83f",
   "metadata": {},
   "outputs": [
    {
     "name": "stdout",
     "output_type": "stream",
     "text": [
      "Even or Odd using lambda function: Odd\n"
     ]
    }
   ],
   "source": [
    "# Calling the even_or_odd lambda function\n",
    "# here num is the variable, and it can hold any name like x, n, number etc\n",
    "print(f\"Even or Odd using lambda function: {even_odd(5)}\")"
   ]
  }
 ],
 "metadata": {
  "kernelspec": {
   "display_name": "Python 3",
   "language": "python",
   "name": "python3"
  },
  "language_info": {
   "codemirror_mode": {
    "name": "ipython",
    "version": 3
   },
   "file_extension": ".py",
   "mimetype": "text/x-python",
   "name": "python",
   "nbconvert_exporter": "python",
   "pygments_lexer": "ipython3",
   "version": "3.12.11"
  }
 },
 "nbformat": 4,
 "nbformat_minor": 5
}
