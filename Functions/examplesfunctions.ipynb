{
 "cells": [
  {
   "cell_type": "markdown",
   "id": "277cbbc7",
   "metadata": {},
   "source": [
    "## Function Examples"
   ]
  },
  {
   "cell_type": "markdown",
   "id": "b111b5cb",
   "metadata": {},
   "source": [
    "### 1. Temprature Conversion"
   ]
  },
  {
   "cell_type": "code",
   "execution_count": 2,
   "id": "14572066",
   "metadata": {},
   "outputs": [],
   "source": [
    "# Funtion the temprature based on the units provided\n",
    "def convert_temperature(temp, to_unit=\"C\"):\n",
    "    \"\"\"Convert temperature between Celsius and Fahrenheit.\"\"\"\n",
    "    if to_unit == \"C\":\n",
    "        return (temp - 32) * 5.0/9.0\n",
    "    elif to_unit == \"F\":\n",
    "        return (temp * 9.0/5.0) + 32\n",
    "    else:\n",
    "        raise ValueError(\"Invalid unit. Use 'C' for Celsius or 'F' for Fahrenheit.\")"
   ]
  },
  {
   "cell_type": "code",
   "execution_count": 3,
   "id": "9ffbbf3a",
   "metadata": {},
   "outputs": [
    {
     "name": "stdout",
     "output_type": "stream",
     "text": [
      "37.77777777777778\n",
      "32.0\n",
      "0.0\n"
     ]
    }
   ],
   "source": [
    "# Calling convert_temperature function\n",
    "print(convert_temperature(100, to_unit=\"C\"))  # Output: 37.77777777777778\n",
    "print(convert_temperature(0, to_unit=\"F\"))    # Output: 32.0\n",
    "print(convert_temperature(32))               # Output: 0.0 (default to Celsius)"
   ]
  },
  {
   "cell_type": "markdown",
   "id": "9be1f89b",
   "metadata": {},
   "source": [
    "### 2. Password Strength Checker"
   ]
  },
  {
   "cell_type": "code",
   "execution_count": 5,
   "id": "050db01a",
   "metadata": {},
   "outputs": [],
   "source": [
    "## Function to check password strength\n",
    "def check_password_strength(password):\n",
    "    \"\"\"Check the strength of a given password.\"\"\"\n",
    "    if len(password) < 6:\n",
    "        return \"Weak\"\n",
    "    elif len(password) < 10:\n",
    "        return \"Moderate\"\n",
    "    else:\n",
    "        return \"Strong\""
   ]
  },
  {
   "cell_type": "code",
   "execution_count": 6,
   "id": "c77d80a8",
   "metadata": {},
   "outputs": [
    {
     "name": "stdout",
     "output_type": "stream",
     "text": [
      "Weak\n",
      "Moderate\n",
      "Strong\n"
     ]
    }
   ],
   "source": [
    "# Calling check_password_strength function\n",
    "print(check_password_strength(\"abc\"))          # Output: Weak\n",
    "print(check_password_strength(\"abcdefg\"))      # Output: Moderate\n",
    "print(check_password_strength(\"abcdefghijk\"))  # Output: Strong"
   ]
  },
  {
   "cell_type": "markdown",
   "id": "e736d88b",
   "metadata": {},
   "source": [
    "### 3. Calculate the Total Cost of the items in a shopping chart"
   ]
  },
  {
   "cell_type": "code",
   "execution_count": 7,
   "id": "713e9bff",
   "metadata": {},
   "outputs": [],
   "source": [
    "## Function to calculate total cost of items in a shopping cart\n",
    "def calculate_total_cost(prices, tax_rate=0.07):\n",
    "    \"\"\"Calculate the total cost including tax.\"\"\"\n",
    "    subtotal = sum(prices)\n",
    "    tax = subtotal * tax_rate\n",
    "    total = subtotal + tax\n",
    "    return total"
   ]
  },
  {
   "cell_type": "code",
   "execution_count": 8,
   "id": "83466b46",
   "metadata": {},
   "outputs": [
    {
     "name": "stdout",
     "output_type": "stream",
     "text": [
      "44.9079\n",
      "49.5246\n"
     ]
    }
   ],
   "source": [
    "## Calling the calculate_total_cost function\n",
    "item_prices = [19.99, 5.49, 3.50, 12.99]\n",
    "print(calculate_total_cost(item_prices))  # Output: Total cost with tax\n",
    "print(calculate_total_cost(item_prices, tax_rate=0.18))  # Output: Total cost with different tax rate"
   ]
  },
  {
   "cell_type": "markdown",
   "id": "78b1fa06",
   "metadata": {},
   "source": [
    "### 4. Check if the given string is Palindrome"
   ]
  },
  {
   "cell_type": "code",
   "execution_count": 14,
   "id": "b5dfe247",
   "metadata": {},
   "outputs": [],
   "source": [
    "## Function to check if the given string is Palindrome\n",
    "def is_palindrome(s):\n",
    "    \"\"\"Check if a string is a palindrome.\"\"\"\n",
    "    s = s.replace(\" \", \"\").lower()  # Remove spaces and convert to lowercase\n",
    "    return s == s[::-1]"
   ]
  },
  {
   "cell_type": "code",
   "execution_count": 15,
   "id": "016f88c5",
   "metadata": {},
   "outputs": [
    {
     "name": "stdout",
     "output_type": "stream",
     "text": [
      "True\n",
      "False\n",
      "True\n"
     ]
    }
   ],
   "source": [
    "## Caling is_palindrome function\n",
    "print(is_palindrome(\"Racecar\"))  # Output: True\n",
    "print(is_palindrome(\"Hello\"))    # Output: False    \n",
    "print(is_palindrome(\"Madam\"))    # Output: True"
   ]
  }
 ],
 "metadata": {
  "kernelspec": {
   "display_name": "Python 3",
   "language": "python",
   "name": "python3"
  },
  "language_info": {
   "codemirror_mode": {
    "name": "ipython",
    "version": 3
   },
   "file_extension": ".py",
   "mimetype": "text/x-python",
   "name": "python",
   "nbconvert_exporter": "python",
   "pygments_lexer": "ipython3",
   "version": "3.12.11"
  }
 },
 "nbformat": 4,
 "nbformat_minor": 5
}
