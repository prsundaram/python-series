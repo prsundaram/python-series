{
 "cells": [
  {
   "cell_type": "markdown",
   "id": "a0678083",
   "metadata": {},
   "source": [
    "## The ***filter()*** Function in Python\n",
    "### The filter function constructs an iterator from elements of an iterable for which a function returns true. It is used to filter out items from a list (or any other iterable) based on a condition."
   ]
  },
  {
   "cell_type": "code",
   "execution_count": 1,
   "id": "60a63d09",
   "metadata": {},
   "outputs": [],
   "source": [
    "def even_or_odd(number):\n",
    "    if number % 2 ==0:\n",
    "        return True\n",
    "    else:\n",
    "        return False"
   ]
  },
  {
   "cell_type": "code",
   "execution_count": 2,
   "id": "0a6be3cb",
   "metadata": {},
   "outputs": [
    {
     "name": "stdout",
     "output_type": "stream",
     "text": [
      "True\n"
     ]
    }
   ],
   "source": [
    "# Calling even_or_odd function\n",
    "print(even_or_odd(4))"
   ]
  },
  {
   "cell_type": "code",
   "execution_count": 5,
   "id": "b0c365ed",
   "metadata": {},
   "outputs": [
    {
     "name": "stdout",
     "output_type": "stream",
     "text": [
      "Even numbers from the list are : [2, 4, 6, 8, 10, 12, 14, 16, 18, 20]\n"
     ]
    }
   ],
   "source": [
    "# Convential way of filter the elements \n",
    "list_of_numbers = [1,2,3,4,5,6,7,8,9,10,11,12,13,14,15,16,17,18,19,20]\n",
    "even_numbers = []\n",
    "for number in list_of_numbers:\n",
    "    if even_or_odd(number):\n",
    "        even_numbers.append(number)\n",
    "\n",
    "print(F\"Even numbers from the list are : {even_numbers}\")\n"
   ]
  },
  {
   "cell_type": "code",
   "execution_count": null,
   "id": "e567078c",
   "metadata": {},
   "outputs": [
    {
     "name": "stdout",
     "output_type": "stream",
     "text": [
      "Even numbers from the list using filter function are : [2, 4, 6, 8, 10, 12, 14, 16, 18, 20]\n",
      "Odd numbers from the list using filter function are : [1, 3, 5, 7, 9, 11, 13, 15, 17, 19]\n"
     ]
    }
   ],
   "source": [
    "# Let's use filter function to filter the even numbers from the list, this wil be more efficient and clean code\n",
    "even_numebers_using_filter = list(filter(even_or_odd, list_of_numbers))\n",
    "print(F\"Even numbers from the list using filter function are : {even_numebers_using_filter}\")\n",
    "# Simillary, we can filter out the odd numbers from the list, that returns False from the even_or_odd function\n",
    "# In this examples, we are using lambda function to negate the result of even_or_odd function, which means \n",
    "# it returns True for odd numbers\n",
    "odd_numbers_using_filter = list(filter(lambda x: not even_or_odd(x), list_of_numbers))\n",
    "print(F\"Odd numbers from the list using filter function are : {odd_numbers_using_filter}\")"
   ]
  },
  {
   "cell_type": "code",
   "execution_count": null,
   "id": "6c6b8283",
   "metadata": {},
   "outputs": [
    {
     "name": "stdout",
     "output_type": "stream",
     "text": [
      "Numbers greater than 5 are : [6, 7, 8, 9, 10, 11, 12, 13, 14, 15, 16, 17, 18, 19, 20]\n"
     ]
    }
   ],
   "source": [
    "# This is another example of filter function using lambda function to filter the numbers greater than 5 from the list\n",
    "numbers = [1,2,3,4,5,6,7,8,9,10,11,12,13,14,15,16,17,18,19,20]\n",
    "# We use lambda function to check if the number is greater than 5, l\n",
    "# ambda is important here because we don't need to define a separate function for this simple condition\n",
    "numbers_greater_than_five = list(filter(lambda x: x > 5, numbers))\n",
    "print(F\"Numbers greater than 5 are : {numbers_greater_than_five}\")"
   ]
  },
  {
   "cell_type": "code",
   "execution_count": 8,
   "id": "e73253b6",
   "metadata": {},
   "outputs": [
    {
     "name": "stdout",
     "output_type": "stream",
     "text": [
      "Even numbers greater than 5 are : [6, 8, 10, 12, 14, 16, 18, 20]\n"
     ]
    }
   ],
   "source": [
    "# Combining multiple conditions in filter function using lambda function\n",
    "# Here we are filtering the even numbers that are greater than 5 from the list\n",
    "# We are taking the advantage of even_or_odd function defined earlier, lambda function is used to combine the conditions\n",
    "numbers = [1,2,3,4,5,6,7,8,9,10,11,12,13,14,15,16,17,18,19,20]\n",
    "even_number_and_greater_than_five = list(filter(lambda x: even_or_odd(x) and x > 5, numbers))\n",
    "print(F\"Even numbers greater than 5 are : {even_number_and_greater_than_five}\")"
   ]
  },
  {
   "cell_type": "code",
   "execution_count": 12,
   "id": "d6dd0c69",
   "metadata": {},
   "outputs": [
    {
     "name": "stdout",
     "output_type": "stream",
     "text": [
      "People older than 30: [{'name': 'Charlie', 'age': 35, 'city': 'New York'}, {'name': 'Frank', 'age': 40, 'city': 'New York'}, {'name': 'Hannah', 'age': 32, 'city': 'Los Angeles'}]\n",
      "People older than 30 and lives in New York: [{'name': 'Charlie', 'age': 35, 'city': 'New York'}, {'name': 'Frank', 'age': 40, 'city': 'New York'}]\n"
     ]
    }
   ],
   "source": [
    "# Another example of filter function with multiple conditions using lambda function\n",
    "# Here we have a list of dictionaries representing people with their name, age and city\n",
    "# We will filter the people who are older than 30 and lives in New York\n",
    "# We will use lambda function to combine the conditions\n",
    "# List of people\n",
    "people = [\n",
    "    {'name': 'Alice', 'age': 30, 'city': 'New York'},\n",
    "    {'name': 'Bob', 'age': 25, 'city': 'Los Angeles'},\n",
    "    {'name': 'Charlie', 'age': 35, 'city': 'New York'},\n",
    "    {'name': 'David', 'age': 28, 'city': 'Chicago'},    \n",
    "    {'name': 'Eve', 'age': 22, 'city': 'Los Angeles'},\n",
    "    {'name': 'Frank', 'age': 40, 'city': 'New York'},\n",
    "    {'name': 'Grace', 'age': 27, 'city': 'Chicago'},\n",
    "    {'name': 'Hannah', 'age': 32, 'city': 'Los Angeles'}\n",
    "]\n",
    "\n",
    "# Filter people who are older than 30\n",
    "list_of_people_older_than_30 = list(filter(lambda person: person['age'] > 30, people))\n",
    "print(f\"People older than 30: {list_of_people_older_than_30}\")\n",
    "\n",
    "# Filter people who are older than 30 and lives in New York\n",
    "list_of_people_older_than_30_lives_in_ny = list(filter(lambda person: person['age'] > 30 and person['city'] == 'New York', people))\n",
    "print(f\"People older than 30 and lives in New York: {list_of_people_older_than_30_lives_in_ny}\")\n"
   ]
  },
  {
   "cell_type": "markdown",
   "id": "3b4ca85c",
   "metadata": {},
   "source": [
    "##### Conclusion\n",
    "Thie `filter()` function is a powerful tool for creating iterators that filter out of an iterable based on a function. It is commonly used for data cleaning, filtering objects, and removing unwanted elements from lists. By mastering `filter()`, you can write more concise and efficient code for processing and manipulating the collections in Python."
   ]
  }
 ],
 "metadata": {
  "kernelspec": {
   "display_name": "Python 3",
   "language": "python",
   "name": "python3"
  },
  "language_info": {
   "codemirror_mode": {
    "name": "ipython",
    "version": 3
   },
   "file_extension": ".py",
   "mimetype": "text/x-python",
   "name": "python",
   "nbconvert_exporter": "python",
   "pygments_lexer": "ipython3",
   "version": "3.12.11"
  }
 },
 "nbformat": 4,
 "nbformat_minor": 5
}
