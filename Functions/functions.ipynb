{
 "cells": [
  {
   "cell_type": "markdown",
   "id": "5ac4380c",
   "metadata": {},
   "source": [
    "# Python Functions: Examples and Usage\n",
    "---\n",
    "\n",
    "Functions in Python are reusable blocks of code that perform a specific task. They help organize code, reduce repetition, and improve readability.\n",
    "\n",
    "## Definition:\n",
    "A function is a block of code that performs a specific task. Functions help in organizing code, reusing code, and improving readability\n",
    "\n",
    "## Defining a Function\n",
    "\n",
    "```python\n",
    "def greet(name):\n",
    "    print(f\"Hello, {name}!\")\n",
    "```\n",
    "\n",
    "## Calling a Function\n",
    "\n",
    "```python\n",
    "greet(\"Alice\")\n",
    "# Output: Hello, Alice!\n",
    "```\n",
    "\n",
    "## Function with Return Value\n",
    "\n",
    "```python\n",
    "def add(a, b):\n",
    "    return a + b\n",
    "\n",
    "result = add(5, 3)\n",
    "print(result)\n",
    "# Output: 8\n",
    "```\n",
    "\n",
    "## Function with Default Arguments\n",
    "\n",
    "```python\n",
    "def power(base, exponent=2):\n",
    "    return base ** exponent\n",
    "\n",
    "print(power(4))\n",
    "# Output: 16\n",
    "\n",
    "print(power(4, 3))\n",
    "# Output: 64\n",
    "```\n",
    "\n",
    "## Function with Variable Number of Arguments\n",
    "\n",
    "```python\n",
    "def sum_all(*numbers):\n",
    "    return sum(numbers)\n",
    "\n",
    "print(sum_all(1, 2, 3, 4))\n",
    "# Output: 10\n",
    "```\n",
    "\n",
    "## Lambda (Anonymous) Functions\n",
    "\n",
    "```python\n",
    "square = lambda x: x * x\n",
    "print(square(5))\n",
    "# Output: 25\n",
    "```\n",
    "\n",
    "Functions are essential for structuring Python programs and making code reusable and maintainable."
   ]
  },
  {
   "cell_type": "code",
   "execution_count": 19,
   "id": "19598661",
   "metadata": {},
   "outputs": [],
   "source": [
    "## Syntax\n",
    "def function_name(parameters):\n",
    "    \"\"\"This is the function's docstring.\"\"\"\n",
    "    # Function body\n",
    "    return \"Some Return\" # It is not mandatory to have a return statement"
   ]
  },
  {
   "cell_type": "code",
   "execution_count": 20,
   "id": "4d5a154e",
   "metadata": {},
   "outputs": [],
   "source": [
    "# Example function to greet a user\n",
    "def greet(name):\n",
    "    \"\"\"Greet a user by their name.\"\"\"\n",
    "    print(f\"Hello, {name}!\")"
   ]
  },
  {
   "cell_type": "code",
   "execution_count": 27,
   "id": "c7f91914",
   "metadata": {},
   "outputs": [
    {
     "name": "stdout",
     "output_type": "stream",
     "text": [
      "Hello, Prasanna!\n"
     ]
    }
   ],
   "source": [
    "greet(\"Prasanna\")  # Output: Hello, Prasanna"
   ]
  },
  {
   "cell_type": "code",
   "execution_count": 22,
   "id": "96d8654c",
   "metadata": {},
   "outputs": [],
   "source": [
    "# Functiion to check check given number is even or odd\n",
    "def is_even_or_odd(num):\n",
    "    \"\"\"Check if a number is even or odd.\"\"\"\n",
    "    if num % 2 == 0:\n",
    "        return f\"{num} is Even\"\n",
    "    else:\n",
    "        return f\"{num} is Odd\""
   ]
  },
  {
   "cell_type": "code",
   "execution_count": 28,
   "id": "8da28834",
   "metadata": {},
   "outputs": [
    {
     "data": {
      "text/plain": [
       "'4 is Even'"
      ]
     },
     "execution_count": 28,
     "metadata": {},
     "output_type": "execute_result"
    }
   ],
   "source": [
    "is_even_or_odd(4)  # Output: 4 is Even"
   ]
  },
  {
   "cell_type": "code",
   "execution_count": 30,
   "id": "1df0572b",
   "metadata": {},
   "outputs": [
    {
     "data": {
      "text/plain": [
       "'7 is Odd'"
      ]
     },
     "execution_count": 30,
     "metadata": {},
     "output_type": "execute_result"
    }
   ],
   "source": [
    "is_even_or_odd(7)  # Output: 7 is Odd"
   ]
  },
  {
   "cell_type": "code",
   "execution_count": 32,
   "id": "b913a807",
   "metadata": {},
   "outputs": [],
   "source": [
    "# Function with multiple parameters\n",
    "def add(a, b):\n",
    "    \"\"\"Return the sum of two numbers.\"\"\"\n",
    "    return a + b"
   ]
  },
  {
   "cell_type": "code",
   "execution_count": 33,
   "id": "c33a2116",
   "metadata": {},
   "outputs": [
    {
     "name": "stdout",
     "output_type": "stream",
     "text": [
      "The sum of 5 and 3 is: 8\n"
     ]
    }
   ],
   "source": [
    "# Calling the add function\n",
    "result = add(5, 3)\n",
    "print(f\"The sum of 5 and 3 is: {result}\")  # Output: The sum of 5 and 3 is: 8"
   ]
  },
  {
   "cell_type": "code",
   "execution_count": 35,
   "id": "0276edd8",
   "metadata": {},
   "outputs": [],
   "source": [
    "# Function with default parameters\n",
    "def power(base, exponent=2):\n",
    "    \"\"\"Return the base raised to the power of exponent.\"\"\"\n",
    "    return base ** exponent"
   ]
  },
  {
   "cell_type": "code",
   "execution_count": 36,
   "id": "1e049996",
   "metadata": {},
   "outputs": [
    {
     "name": "stdout",
     "output_type": "stream",
     "text": [
      "9\n",
      "8\n"
     ]
    }
   ],
   "source": [
    "# Calling the power function\n",
    "print(power(3))        # Output: 9 (3^2)\n",
    "print(power(2, 3))     # Output: 8 (2^3)    "
   ]
  },
  {
   "cell_type": "code",
   "execution_count": 37,
   "id": "a154c691",
   "metadata": {},
   "outputs": [],
   "source": [
    "# Function that accepts inputs from user\n",
    "def user_input_function():\n",
    "    \"\"\"Function to accept user input and display it.\"\"\"\n",
    "    user_input = input(\"Enter something: \")\n",
    "    print(f\"You entered: {user_input}\")"
   ]
  },
  {
   "cell_type": "code",
   "execution_count": 39,
   "id": "e9753e7f",
   "metadata": {},
   "outputs": [
    {
     "name": "stdout",
     "output_type": "stream",
     "text": [
      "You entered: Prasanna\n"
     ]
    }
   ],
   "source": [
    "# calling the user_input_function\n",
    "user_input_function()\n"
   ]
  },
  {
   "cell_type": "code",
   "execution_count": 43,
   "id": "a12ebe04",
   "metadata": {},
   "outputs": [],
   "source": [
    "# Function with Variable Length Arguments\n",
    "def sum_all(*arg):\n",
    "    \"\"\"Returns the sum of all arguments.\"\"\"\n",
    "    return sum(arg)"
   ]
  },
  {
   "cell_type": "code",
   "execution_count": 45,
   "id": "d277fcf3",
   "metadata": {},
   "outputs": [
    {
     "name": "stdout",
     "output_type": "stream",
     "text": [
      "6\n",
      "100\n"
     ]
    }
   ],
   "source": [
    "# Calling the sum_all function\n",
    "print(sum_all(1, 2, 3))          # Output: 6\n",
    "print(sum_all(10, 20, 30, 40))   # Output: 100"
   ]
  },
  {
   "cell_type": "code",
   "execution_count": null,
   "id": "aa6e2e7e",
   "metadata": {},
   "outputs": [],
   "source": [
    "# Function with variable-length argumemnts and default parameters\n",
    "def multiply_and_add(factor, *args):\n",
    "    \"\"\"Multiply each argument by the factor and return their sum.\"\"\"\n",
    "    return sum(x * factor for x in args)"
   ]
  },
  {
   "cell_type": "code",
   "execution_count": 49,
   "id": "c84ab846",
   "metadata": {},
   "outputs": [
    {
     "name": "stdout",
     "output_type": "stream",
     "text": [
      "18\n",
      "60\n"
     ]
    }
   ],
   "source": [
    "# Callinfg the multiply_and_add function\n",
    "print(multiply_and_add(3, 1, 2, 3))        # Output: 18 (3*1 + 3*2 + 3*3)\n",
    "print(multiply_and_add(1, 10, 20, 30))      # Output:"
   ]
  },
  {
   "cell_type": "code",
   "execution_count": 51,
   "id": "dcb6dba6",
   "metadata": {},
   "outputs": [],
   "source": [
    "# Function with variable length arguments and keyword arguments\n",
    "def display_info(*args, **kwargs):\n",
    "    \"\"\"Display positional and keyword arguments.\"\"\"\n",
    "    print(\"Positional arguments:\", args)\n",
    "    print(\"Keyword arguments:\", kwargs)"
   ]
  },
  {
   "cell_type": "code",
   "execution_count": 52,
   "id": "270f8fc8",
   "metadata": {},
   "outputs": [
    {
     "name": "stdout",
     "output_type": "stream",
     "text": [
      "Positional arguments: (1, 2, 3)\n",
      "Keyword arguments: {'name': 'Alice', 'age': 30}\n"
     ]
    }
   ],
   "source": [
    "# Calling display_info function\n",
    "display_info(1, 2, 3, name=\"Alice\", age=30)"
   ]
  }
 ],
 "metadata": {
  "kernelspec": {
   "display_name": "Python 3",
   "language": "python",
   "name": "python3"
  },
  "language_info": {
   "codemirror_mode": {
    "name": "ipython",
    "version": 3
   },
   "file_extension": ".py",
   "mimetype": "text/x-python",
   "name": "python",
   "nbconvert_exporter": "python",
   "pygments_lexer": "ipython3",
   "version": "3.12.11"
  }
 },
 "nbformat": 4,
 "nbformat_minor": 5
}
