{
 "cells": [
  {
   "cell_type": "markdown",
   "id": "568a1f01",
   "metadata": {},
   "source": [
    "## The map() Function in Python\n",
    "\n",
    "### The map() function applies a given function to all items in an input list (or any iterable) and retursn a map object (an iterator). This is particulary useful for transforming data in a list comprehensively."
   ]
  },
  {
   "cell_type": "code",
   "execution_count": 2,
   "id": "04d430af",
   "metadata": {},
   "outputs": [
    {
     "data": {
      "text/plain": [
       "16"
      ]
     },
     "execution_count": 2,
     "metadata": {},
     "output_type": "execute_result"
    }
   ],
   "source": [
    "def square(x):\n",
    "    return x * x\n",
    "\n",
    "square(4)  # Returns 16"
   ]
  },
  {
   "cell_type": "code",
   "execution_count": null,
   "id": "cc26731e",
   "metadata": {},
   "outputs": [
    {
     "name": "stdout",
     "output_type": "stream",
     "text": [
      "Conventional way:, [1, 4, 9, 16, 25]\n"
     ]
    }
   ],
   "source": [
    "numbers = [1, 2, 3, 4, 5]\n",
    "\n",
    "# In conventional way, we would use a loop to apply the square function to each item and store the results in a new list.\n",
    "squared_numbers = []\n",
    "for num in numbers:\n",
    "    squared_numbers.append(square(num))\n",
    "\n",
    "print(f\"Conventional way:, {squared_numbers}\")"
   ]
  },
  {
   "cell_type": "code",
   "execution_count": null,
   "id": "bd270b22",
   "metadata": {},
   "outputs": [
    {
     "name": "stdout",
     "output_type": "stream",
     "text": [
      "Using map(): [1, 4, 9, 16, 25]\n"
     ]
    }
   ],
   "source": [
    "# Let us use map() to achieve the same result more concisely.\n",
    "# Map take two arguments, function and iterable, and returns a map object of the results after applying the function to each item\n",
    "# in the iterable. To convert the map object to a list, we can use the list() function.\n",
    "# So this map is going to take each number from the numbers list, apply the square function to it, and return a map object\n",
    "# of squared values.\n",
    "squared_numbers_map = list(map(square, numbers)) # Convert map object to list\n",
    "print(f\"Using map(): {squared_numbers_map}\")"
   ]
  },
  {
   "cell_type": "markdown",
   "id": "440135ec",
   "metadata": {},
   "source": [
    "```text\n",
    "Lets us perform the same operation with lambda function with map\n",
    "```"
   ]
  },
  {
   "cell_type": "code",
   "execution_count": 5,
   "id": "54c94f19",
   "metadata": {},
   "outputs": [
    {
     "name": "stdout",
     "output_type": "stream",
     "text": [
      "Using map() with lambda: [1, 4, 9, 16, 25]\n"
     ]
    }
   ],
   "source": [
    "# Let's use the map function to achieve the same result more concisely.\n",
    "# We can also use a lambda function directly within the map function to avoid defining a separate function\n",
    "squared_numbers_lambda = list(map(lambda x: x * x, numbers))\n",
    "print(f\"Using map() with lambda: {squared_numbers_lambda}\")"
   ]
  },
  {
   "cell_type": "code",
   "execution_count": 8,
   "id": "b2790e95",
   "metadata": {},
   "outputs": [
    {
     "name": "stdout",
     "output_type": "stream",
     "text": [
      "Summing multiple lists using map(): [12, 15, 18]\n"
     ]
    }
   ],
   "source": [
    "# Can we map with multiple iterables? \n",
    "# Yes, we can. The function must take as many arguments as there are iterables.\n",
    "numbers1 = [1, 2, 3]\n",
    "numbers2 = [4, 5, 6]\n",
    "numbers3 = [7, 8, 9]\n",
    "# Here, we are summing corresponding elements from three lists.\n",
    "# The lambda function takes three arguments (x, y, z) and returns their sum.\n",
    "summed_numbers = list(map(lambda x, y, z: x + y + z, numbers1, numbers2, numbers3))\n",
    "print(f\"Summing multiple lists using map(): {summed_numbers}\")"
   ]
  },
  {
   "cell_type": "code",
   "execution_count": 9,
   "id": "285bd0f8",
   "metadata": {},
   "outputs": [
    {
     "name": "stdout",
     "output_type": "stream",
     "text": [
      "Conventional way to convert strings to integers: [1, 2, 3, 4, 5]\n"
     ]
    }
   ],
   "source": [
    "# map() function to covert list of strings to integers\n",
    "str_numbers = ['1', '2', '3', '4', '5']\n",
    "# In conventional way, we would use a loop to convert each string to integer and store in a new list\n",
    "int_numbers = []\n",
    "for s in str_numbers:\n",
    "    int_numbers.append(int(s))\n",
    "print(f\"Conventional way to convert strings to integers: {int_numbers}\")"
   ]
  },
  {
   "cell_type": "code",
   "execution_count": 12,
   "id": "6912d5a4",
   "metadata": {},
   "outputs": [
    {
     "name": "stdout",
     "output_type": "stream",
     "text": [
      "Using map() to convert strings to integers: [1, 2, 3, 4, 5]\n"
     ]
    }
   ],
   "source": [
    "# Let's use the map function to achieve the same result more concisely.\n",
    "# The map function will apply the int function to each string in the str_numbers list\n",
    "# and return a map object of integers. We then convert that map object to a list.\n",
    "int_numbers_map = list(map(int, str_numbers)) # here we are typecasting str to int\n",
    "print(f\"Using map() to convert strings to integers: {int_numbers_map}\")"
   ]
  },
  {
   "cell_type": "code",
   "execution_count": 14,
   "id": "5806756b",
   "metadata": {},
   "outputs": [
    {
     "name": "stdout",
     "output_type": "stream",
     "text": [
      "Using map() with dictionary keys: ['A', 'B', 'C']\n"
     ]
    }
   ],
   "source": [
    "# How do we use map with dictionaries?\n",
    "# When you use map with a dictionary, it applies the function to the keys of the dictionary\n",
    "sample_dict = {'a': 1, 'b': 2, 'c': 3}\n",
    "# Here, we are converting each key to uppercase using the str.upper method\n",
    "upper_keys = list(map(str.upper, sample_dict)) # By default, it maps over the keys\n",
    "print(f\"Using map() with dictionary keys: {upper_keys}\")"
   ]
  },
  {
   "cell_type": "code",
   "execution_count": 18,
   "id": "41fb8a4e",
   "metadata": {},
   "outputs": [
    {
     "name": "stdout",
     "output_type": "stream",
     "text": [
      "Using map() with if-else: ['Odd', 'Even', 'Odd', 'Even', 'Odd']\n"
     ]
    }
   ],
   "source": [
    "# How do we use if-else with map()?\n",
    "# We can use a lambda function with an if-else statement inside the map function.\n",
    "# Here, we are checking if each number is even or odd and returning \"Even\" or \"Odd\" accordingly.\n",
    "even_odd = list(map(lambda x: \"Even\" if x % 2 == 0 else \"Odd\", numbers))\n",
    "print(f\"Using map() with if-else: {even_odd}\")"
   ]
  },
  {
   "cell_type": "code",
   "execution_count": 20,
   "id": "7c0a4619",
   "metadata": {},
   "outputs": [
    {
     "name": "stdout",
     "output_type": "stream",
     "text": [
      "Using map() with abs function: [1, 2, 3, 4, 5]\n"
     ]
    }
   ],
   "source": [
    "# How do we use imbuilt functions with map()?\n",
    "# We can use any built-in function with map. For example, let's use the abs function to get absolute values.\n",
    "neg_numbers = [-1, -2, -3, -4, -5]\n",
    "# abs function returns the absolute value of a number, which is the non-negative value of that number.\n",
    "abs_values = list(map(abs, neg_numbers))\n",
    "print(f\"Using map() with abs function: {abs_values}\")"
   ]
  },
  {
   "cell_type": "code",
   "execution_count": 22,
   "id": "8d224952",
   "metadata": {},
   "outputs": [
    {
     "name": "stdout",
     "output_type": "stream",
     "text": [
      "Fruits in uppercase: ['APPLE', 'BANANA', 'CHERRY', 'DATE']\n"
     ]
    }
   ],
   "source": [
    "fruits = ['apple', 'banana', 'cherry', 'date']\n",
    "# Using map to convert each fruit name to uppercase\n",
    "upper_fruits = list(map(str.upper, fruits)) # str.upper is a method that converts a string to uppercase\n",
    "print(f\"Fruits in uppercase: {upper_fruits}\")"
   ]
  },
  {
   "cell_type": "code",
   "execution_count": null,
   "id": "c7774b93",
   "metadata": {},
   "outputs": [
    {
     "name": "stdout",
     "output_type": "stream",
     "text": [
      "Names extracted using map(): ['Alice', 'Bob', 'Charlie', 'David', 'Eve']\n",
      "Ages extracted using map(): [30, 25, 35, 20, 28]\n"
     ]
    }
   ],
   "source": [
    "# Illustrating map with list of dictionaries\n",
    "# Let's say we have a list of dictionaries, where each dictionary represents a person with 'name' and 'age' fields.\n",
    "people = [\n",
    "    {'name': 'Alice', 'age': 30},\n",
    "    {'name': 'Bob', 'age': 25},\n",
    "    {'name': 'Charlie', 'age': 35},\n",
    "    {'name': 'David', 'age': 20},\n",
    "    {'name': 'Eve', 'age': 28}\n",
    "]\n",
    "\n",
    "# Using map to dynamically extract the 'name' field from each dictionary in the people list\n",
    "name = list(map(lambda person: person['name'], people))\n",
    "print(f\"Names extracted using map(): {name}\")\n",
    "\n",
    "# Using map to dynamically extract the 'age' field from each dictionary in the people list\n",
    "age = list(map(lambda person: person['age'], people))\n",
    "print(f\"Ages extracted using map(): {age}\")"
   ]
  },
  {
   "cell_type": "code",
   "execution_count": 25,
   "id": "e59237f3",
   "metadata": {},
   "outputs": [
    {
     "name": "stdout",
     "output_type": "stream",
     "text": [
      "Name and age combined using map(): ['Alice is 30 years old', 'Bob is 25 years old', 'Charlie is 35 years old', 'David is 20 years old', 'Eve is 28 years old']\n"
     ]
    }
   ],
   "source": [
    "# Using map to create a new list of strings that combine the name and age of each person\n",
    "name_age = list(map(lambda person: f\"{person['name']} is {person['age']} years old\", people))\n",
    "print(f\"Name and age combined using map(): {name_age}\")"
   ]
  },
  {
   "cell_type": "code",
   "execution_count": 26,
   "id": "58a23a8d",
   "metadata": {},
   "outputs": [
    {
     "name": "stdout",
     "output_type": "stream",
     "text": [
      "People aged 25 or older using map(): [{'name': 'Alice', 'age': 30}, {'name': 'Bob', 'age': 25}, {'name': 'Charlie', 'age': 35}, {'name': 'Eve', 'age': 28}]\n"
     ]
    }
   ],
   "source": [
    "# Using map function to filter the persons who are 25 years old or older\n",
    "# Note: map is not typically used for filtering; filter() is more appropriate. This is just for illustration.\n",
    "age_25_or_older = list(map(lambda person: person if person['age'] >= 25 else None, people))\n",
    "age_25_or_older = [person for person in age_25_or_older if person is not None]  # Remove None values\n",
    "print(f\"People aged 25 or older using map(): {age_25_or_older}\")"
   ]
  },
  {
   "cell_type": "code",
   "execution_count": null,
   "id": "9639da8c",
   "metadata": {
    "vscode": {
     "languageId": "markdown"
    }
   },
   "outputs": [],
   "source": [
    "## Conclusion\n",
    "\n",
    "The `map()` function in Python is a powerful tool for applying a function to every item in an iterable, such as a list or dictionary. It allows for concise and readable code when transforming data, especially compared to traditional loops. With support for lambda functions, built-in functions, and multiple iterables, `map()` is versatile and efficient for many data processing tasks. However, for filtering data, the `filter()` function is more appropriate. Overall, `map()` is an essential function for Python programmers working with collections."
   ]
  }
 ],
 "metadata": {
  "kernelspec": {
   "display_name": "Python 3",
   "language": "python",
   "name": "python3"
  },
  "language_info": {
   "codemirror_mode": {
    "name": "ipython",
    "version": 3
   },
   "file_extension": ".py",
   "mimetype": "text/x-python",
   "name": "python",
   "nbconvert_exporter": "python",
   "pygments_lexer": "ipython3",
   "version": "3.12.11"
  }
 },
 "nbformat": 4,
 "nbformat_minor": 5
}
