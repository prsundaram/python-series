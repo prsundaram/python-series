{
 "cells": [
  {
   "cell_type": "markdown",
   "id": "b5823a42",
   "metadata": {},
   "source": [
    "# ⚖️ Handling Imbalanced Dataset\n",
    "\n",
    "---\n",
    "\n",
    "### 📘 What is an Imbalanced Dataset?\n",
    "\n",
    "An **imbalanced dataset** happens when one class has **many more samples** than the other(s).\n",
    "\n",
    "📊 **Example:**\n",
    "| Class | Count |\n",
    "|--------|--------|\n",
    "| 0 (Normal) | 950 |\n",
    "| 1 (Fraud) | 50 |\n",
    "\n",
    "Here, only 5% of the data belongs to the minority class → this is **highly imbalanced**.\n",
    "\n",
    "---\n",
    "\n",
    "### ⚠️ Why It’s a Problem?\n",
    "\n",
    "If we train a model directly on this data:\n",
    "- The model learns to **always predict the majority class**.\n",
    "- Accuracy looks high (95%), but the model **fails to detect frauds or rare events**.\n",
    "\n",
    "🧠 **Accuracy is misleading** —  \n",
    "instead, we use metrics like **Precision**, **Recall**, **F1-score**, and **AUC-ROC**.\n",
    "\n",
    "---\n",
    "\n",
    "### 📊 Key Metrics (for clarity)\n",
    "\n",
    "| Metric | Formula | Meaning |\n",
    "|----------|----------|-----------|\n",
    "| **Precision** | $$( \\text{Precision} = \\frac{TP}{TP + FP} )$$ | How many predicted positives were correct |\n",
    "| **Recall (Sensitivity)** | $$( \\text{Recall} = \\frac{TP}{TP + FN} )$$ | How many actual positives were found |\n",
    "| **F1-Score** | $$( F1 = 2 \\times \\frac{Precision \\times Recall}{Precision + Recall} )$$ | Balance between Precision & Recall |\n",
    "\n",
    "---\n",
    "\n",
    "## 🧩 Techniques to Handle Imbalanced Data\n",
    "\n",
    "There are **two main data-level techniques** to handle imbalance 👇\n",
    "\n",
    "---\n",
    "\n",
    "## 1️⃣ Downsampling (Undersampling the Majority Class)\n",
    "\n",
    "🪓 **Definition:**  \n",
    "Reduce the number of samples from the **majority class** to match the minority class size.\n",
    "\n",
    "📘 **Example:**\n",
    "| Class | Before | After |\n",
    "|--------|---------|--------|\n",
    "| 0 (Majority) | 950 | 50 |\n",
    "| 1 (Minority) | 50 | 50 |\n",
    "\n",
    "✅ **Pros:**\n",
    "- Simple and fast  \n",
    "- Avoids data duplication  \n",
    "\n",
    "⚠️ **Cons:**\n",
    "- May lose important information  \n",
    "- Not ideal if dataset is small  \n",
    "\n",
    "📐 **Formula:**\n",
    "$$[\n",
    "n_{majority\\_new} = n_{minority}\n",
    "]$$\n",
    "\n",
    "💡 **Best Used When:**  \n",
    "You have a **large dataset** and can afford to drop samples.\n",
    "\n",
    "---\n",
    "\n",
    "## 2️⃣ Upsampling (Oversampling the Minority Class)\n",
    "\n",
    "📈 **Definition:**  \n",
    "Increase the number of samples in the **minority class** by duplicating or generating new ones.\n",
    "\n",
    "📘 **Example:**\n",
    "| Class | Before | After |\n",
    "|--------|---------|--------|\n",
    "| 0 (Majority) | 950 | 950 |\n",
    "| 1 (Minority) | 50 | 950 |\n",
    "\n",
    "✅ **Pros:**\n",
    "- No data loss  \n",
    "- Improves minority representation  \n",
    "\n",
    "⚠️ **Cons:**\n",
    "- Can cause **overfitting** (model memorizes duplicated samples)  \n",
    "- Training time increases  \n",
    "\n",
    "📐 **Formula:**\n",
    "$$[\n",
    "n_{minority\\_new} = n_{majority}\n",
    "]$$\n",
    "\n",
    "💡 **Best Used When:**  \n",
    "You have **fewer minority samples** and want to balance classes without losing data.\n",
    "\n",
    "---\n",
    "\n",
    "### 🔹 Summary: Upsampling vs Downsampling\n",
    "\n",
    "| Technique | What It Does | When to Use | Advantage | Drawback |\n",
    "|------------|---------------|-------------|------------|-----------|\n",
    "| **Downsampling** | Removes samples from majority class | Dataset is large | Fast, simple | Data loss |\n",
    "| **Upsampling** | Duplicates or generates minority samples | Minority is small | No info loss | Overfitting risk |\n",
    "\n",
    "---\n",
    "\n",
    "### 💡 Simple Analogy\n",
    "\n",
    "Imagine a class with:\n",
    "- 90 boys 👦  \n",
    "- 10 girls 👧  \n",
    "\n",
    "If you want balance:\n",
    "- **Downsampling:** randomly remove some boys until 10 remain  \n",
    "- **Upsampling:** duplicate or synthetically generate girls until they become 90  \n",
    "\n",
    "Both give you a 50–50 class ratio 🎯\n",
    "\n",
    "---\n",
    "\n",
    "### ⚙️ In Practice\n",
    "\n",
    "Most modern libraries like `imbalanced-learn` use:\n",
    "- **RandomUnderSampler** → downsampling  \n",
    "- **RandomOverSampler** → upsampling  \n",
    "- **SMOTE / ADASYN** → advanced upsampling (synthetic data)\n",
    "\n",
    "---\n",
    "\n",
    "✅ **In Short:**\n",
    "\n",
    "> “Handling imbalance = Either reduce the big class or boost the small one.”  \n",
    "> — **Downsample** to trim majority 🔻  \n",
    "> — **Upsample** to grow minority 🔺\n"
   ]
  },
  {
   "cell_type": "markdown",
   "id": "7add9ff8",
   "metadata": {},
   "source": [
    "## ⚙️ Creating a Synthetic Imbalanced Dataset  \n",
    "\n",
    "Before we apply upsampling or downsampling,  \n",
    "let’s first **create a simple dataset** with two classes:\n",
    "- **Class 0 (Majority)** → 90% of the data  \n",
    "- **Class 1 (Minority)** → 10% of the data  \n",
    "\n",
    "This small simulation helps us easily visualize and understand  \n",
    "how balancing techniques actually work.\n"
   ]
  },
  {
   "cell_type": "code",
   "execution_count": 1,
   "id": "404ab51c",
   "metadata": {},
   "outputs": [],
   "source": [
    "import numpy as np\n",
    "import pandas as pd\n",
    "import matplotlib.pyplot as plt\n",
    "import seaborn as sns"
   ]
  },
  {
   "cell_type": "code",
   "execution_count": 2,
   "id": "e4847e0b",
   "metadata": {},
   "outputs": [
    {
     "data": {
      "text/plain": [
       "(900, 100)"
      ]
     },
     "execution_count": 2,
     "metadata": {},
     "output_type": "execute_result"
    }
   ],
   "source": [
    "# 🎲 Set random seed for reproducibility (so results are same every run)\n",
    "np.random.seed(123)\n",
    "\n",
    "# 📊 Define total samples and class ratio\n",
    "n_samples = 1000           # total number of samples\n",
    "class_0_ratio = 0.9        # 90% belong to majority class (Class 0)\n",
    "n_class_0 = int(n_samples * class_0_ratio)  # number of Class 0 samples\n",
    "n_class_1 = n_samples - n_class_0           # remaining are Class 1 samples\n",
    "\n",
    "# Display class counts\n",
    "n_class_0, n_class_1"
   ]
  },
  {
   "cell_type": "markdown",
   "id": "97511b33",
   "metadata": {},
   "source": [
    "✅ **Output Explanation:**\n",
    "- Class 0 → 900 samples (Majority class)  \n",
    "- Class 1 → 100 samples (Minority class)  \n",
    "\n",
    "This means our dataset is **highly imbalanced (9:1 ratio)**,  \n",
    "which perfectly mimics a real-world scenario like:\n",
    "- Fraud vs. Non-Fraud  \n",
    "- Disease vs. No Disease  \n",
    "- Spam vs. Non-Spam  \n",
    "\n",
    "Next, we’ll create the actual **feature and label columns**  \n",
    "to complete the dataset."
   ]
  },
  {
   "cell_type": "markdown",
   "id": "0c0d795f",
   "metadata": {},
   "source": [
    "## 🧩 Create My DataFrame with an Imbalanced Dataset\n",
    "\n",
    "We’ll now create a **synthetic imbalanced dataset** with:\n",
    "- Two numerical features → `feature_1`, `feature_2`\n",
    "- One target column → `target`\n",
    "\n",
    "**Goal:**  \n",
    "Simulate a real-world classification dataset where:\n",
    "- Class `0` (majority) makes up 90% of samples  \n",
    "- Class `1` (minority) makes up 10% of samples  \n",
    "\n",
    "Each feature will follow a **normal distribution**,  \n",
    "but with **different means (loc)** to make the two classes more separable.\n"
   ]
  },
  {
   "cell_type": "code",
   "execution_count": 3,
   "id": "fdf3287d",
   "metadata": {},
   "outputs": [
    {
     "data": {
      "text/html": [
       "<div>\n",
       "<style scoped>\n",
       "    .dataframe tbody tr th:only-of-type {\n",
       "        vertical-align: middle;\n",
       "    }\n",
       "\n",
       "    .dataframe tbody tr th {\n",
       "        vertical-align: top;\n",
       "    }\n",
       "\n",
       "    .dataframe thead th {\n",
       "        text-align: right;\n",
       "    }\n",
       "</style>\n",
       "<table border=\"1\" class=\"dataframe\">\n",
       "  <thead>\n",
       "    <tr style=\"text-align: right;\">\n",
       "      <th></th>\n",
       "      <th>feature_1</th>\n",
       "      <th>feature_2</th>\n",
       "      <th>target</th>\n",
       "    </tr>\n",
       "  </thead>\n",
       "  <tbody>\n",
       "    <tr>\n",
       "      <th>0</th>\n",
       "      <td>-1.085631</td>\n",
       "      <td>0.551302</td>\n",
       "      <td>0</td>\n",
       "    </tr>\n",
       "    <tr>\n",
       "      <th>1</th>\n",
       "      <td>0.997345</td>\n",
       "      <td>0.419589</td>\n",
       "      <td>0</td>\n",
       "    </tr>\n",
       "    <tr>\n",
       "      <th>2</th>\n",
       "      <td>0.282978</td>\n",
       "      <td>1.815652</td>\n",
       "      <td>0</td>\n",
       "    </tr>\n",
       "    <tr>\n",
       "      <th>3</th>\n",
       "      <td>-1.506295</td>\n",
       "      <td>-0.252750</td>\n",
       "      <td>0</td>\n",
       "    </tr>\n",
       "    <tr>\n",
       "      <th>4</th>\n",
       "      <td>-0.578600</td>\n",
       "      <td>-0.292004</td>\n",
       "      <td>0</td>\n",
       "    </tr>\n",
       "  </tbody>\n",
       "</table>\n",
       "</div>"
      ],
      "text/plain": [
       "   feature_1  feature_2  target\n",
       "0  -1.085631   0.551302       0\n",
       "1   0.997345   0.419589       0\n",
       "2   0.282978   1.815652       0\n",
       "3  -1.506295  -0.252750       0\n",
       "4  -0.578600  -0.292004       0"
      ]
     },
     "execution_count": 3,
     "metadata": {},
     "output_type": "execute_result"
    }
   ],
   "source": [
    "# 🧮 Create DataFrame for Class 0 (Majority Class)\n",
    "#   - feature_1 and feature_2 are drawn from a normal distribution\n",
    "#   - mean (loc) = 0 → centered around 0\n",
    "#   - std deviation (scale) = 1 → standard normal spread\n",
    "#   - target column is filled with label '0'\n",
    "class_0 = pd.DataFrame({\n",
    "    'feature_1': np.random.normal(loc=0, scale=1, size=n_class_0),\n",
    "    'feature_2': np.random.normal(loc=0, scale=1, size=n_class_0),\n",
    "    'target': [0] * n_class_0\n",
    "})\n",
    "\n",
    "# 🧮 Create DataFrame for Class 1 (Minority Class)\n",
    "#   - mean (loc) = 2 → shifted to the right of Class 0\n",
    "#   - std deviation (scale) = 1 → same spread as Class 0\n",
    "#   - target column is filled with label '1'\n",
    "class_1 = pd.DataFrame({\n",
    "    'feature_1': np.random.normal(loc=2, scale=1, size=n_class_1),\n",
    "    'feature_2': np.random.normal(loc=2, scale=1, size=n_class_1),\n",
    "    'target': [1] * n_class_1\n",
    "})\n",
    "\n",
    "# 🧩 Combine both DataFrames into a single dataset\n",
    "#   - axis=0 means stack them vertically (add more rows)\n",
    "#   - reset_index(drop=True) cleans up the index after merging\n",
    "df = pd.concat([class_0, class_1], axis=0).reset_index(drop=True)\n",
    "\n",
    "# 👀 Display the first few rows to inspect the dataset\n",
    "df.head()"
   ]
  },
  {
   "cell_type": "code",
   "execution_count": 4,
   "id": "a547e8ef",
   "metadata": {},
   "outputs": [
    {
     "data": {
      "text/plain": [
       "target\n",
       "0    900\n",
       "1    100\n",
       "Name: count, dtype: int64"
      ]
     },
     "execution_count": 4,
     "metadata": {},
     "output_type": "execute_result"
    }
   ],
   "source": [
    "df['target'].value_counts()"
   ]
  },
  {
   "cell_type": "code",
   "execution_count": 5,
   "id": "e08faff5",
   "metadata": {},
   "outputs": [
    {
     "name": "stdout",
     "output_type": "stream",
     "text": [
      "Requirement already satisfied: scikit-learn in /Users/psundara/learn/python/python-series/.conda/lib/python3.12/site-packages (1.7.2)\n",
      "Requirement already satisfied: numpy>=1.22.0 in /Users/psundara/learn/python/python-series/.conda/lib/python3.12/site-packages (from scikit-learn) (2.3.3)\n",
      "Requirement already satisfied: scipy>=1.8.0 in /Users/psundara/learn/python/python-series/.conda/lib/python3.12/site-packages (from scikit-learn) (1.16.2)\n",
      "Requirement already satisfied: joblib>=1.2.0 in /Users/psundara/learn/python/python-series/.conda/lib/python3.12/site-packages (from scikit-learn) (1.5.2)\n",
      "Requirement already satisfied: threadpoolctl>=3.1.0 in /Users/psundara/learn/python/python-series/.conda/lib/python3.12/site-packages (from scikit-learn) (3.6.0)\n"
     ]
    }
   ],
   "source": [
    "!pip install scikit-learn"
   ]
  },
  {
   "cell_type": "markdown",
   "id": "7bdf05df",
   "metadata": {},
   "source": [
    "## 🔼 Upsampling (Random Oversampling) & 🔽 Downsampling (Random Undersampling)\n",
    "\n",
    "We demonstrate two simple resampling approaches to balance an imbalanced dataset:\n",
    "- **Upsampling**: duplicate minority-class samples until it matches majority class size.\n",
    "- **Downsampling**: remove (randomly) samples from majority class until it matches minority class size.\n",
    "\n",
    "We use `sklearn.utils.resample` for reproducible, quick sampling.\n"
   ]
  },
  {
   "cell_type": "code",
   "execution_count": 6,
   "id": "4686d97f",
   "metadata": {},
   "outputs": [],
   "source": [
    "from sklearn.utils import resample"
   ]
  },
  {
   "cell_type": "code",
   "execution_count": 7,
   "id": "b08a6cd4",
   "metadata": {},
   "outputs": [
    {
     "name": "stdout",
     "output_type": "stream",
     "text": [
      "Original class distribution:\n",
      "target\n",
      "0    900\n",
      "1    100\n",
      "Name: count, dtype: int64\n",
      "\n"
     ]
    }
   ],
   "source": [
    "# 🎲 reproducibility\n",
    "np.random.seed(123)\n",
    "\n",
    "# ----- (re)create the imbalanced dataset used earlier -----\n",
    "n_samples = 1000\n",
    "class_0_ratio = 0.9\n",
    "n_class_0 = int(n_samples * class_0_ratio)\n",
    "n_class_1 = n_samples - n_class_0\n",
    "\n",
    "# Class 0 (majority): loc=0, scale=1\n",
    "class_0 = pd.DataFrame({\n",
    "    'feature_1': np.random.normal(loc=0, scale=1, size=n_class_0),\n",
    "    'feature_2': np.random.normal(loc=0, scale=1, size=n_class_0),\n",
    "    'target': [0] * n_class_0\n",
    "})\n",
    "\n",
    "# Class 1 (minority): loc=2, scale=1\n",
    "class_1 = pd.DataFrame({\n",
    "    'feature_1': np.random.normal(loc=2, scale=1, size=n_class_1),\n",
    "    'feature_2': np.random.normal(loc=2, scale=1, size=n_class_1),\n",
    "    'target': [1] * n_class_1\n",
    "})\n",
    "\n",
    "# Combined original imbalanced DataFrame\n",
    "df = pd.concat([class_0, class_1], axis=0).reset_index(drop=True)\n",
    "\n",
    "# ---- Quick check: original class counts ----\n",
    "print(\"Original class distribution:\")\n",
    "print(df['target'].value_counts())\n",
    "print()"
   ]
  },
  {
   "cell_type": "code",
   "execution_count": 8,
   "id": "b55f94f7",
   "metadata": {},
   "outputs": [
    {
     "name": "stdout",
     "output_type": "stream",
     "text": [
      "After Upsampling class distribution:\n",
      "target\n",
      "0    900\n",
      "1    900\n",
      "Name: count, dtype: int64\n",
      "\n"
     ]
    }
   ],
   "source": [
    "# -----------------------\n",
    "# 1) UPSAMPLING (Oversample minority to match majority)\n",
    "# -----------------------\n",
    "# - We take the minority subset and randomly resample (with replacement)\n",
    "#   to make its size equal to the majority class size.\n",
    "# - replace=True allows the same row to be picked multiple times (duplication).\n",
    "df_minority = df[df['target'] == 1]   # minority class\n",
    "df_majority = df[df['target'] == 0]   # majority class\n",
    "\n",
    "# create an upsampled minority dataframe\n",
    "df_minority_upsampled = resample(\n",
    "    df_minority,\n",
    "    replace=True,                       # sample with replacement (allow duplicates)\n",
    "    n_samples=len(df_majority),         # match number of majority samples\n",
    "    random_state=42                     # reproducible result\n",
    ")\n",
    "\n",
    "# combine majority with upsampled minority\n",
    "df_upsampled = pd.concat([df_majority, df_minority_upsampled], axis=0).reset_index(drop=True)\n",
    "\n",
    "# verify result\n",
    "print(\"After Upsampling class distribution:\")\n",
    "print(df_upsampled['target'].value_counts())\n",
    "print()\n"
   ]
  },
  {
   "cell_type": "code",
   "execution_count": 9,
   "id": "431528da",
   "metadata": {},
   "outputs": [
    {
     "data": {
      "image/png": "[encoded data removed]",
      "text/plain": [
       "<Figure size 1200x400 with 2 Axes>"
      ]
     },
     "metadata": {},
     "output_type": "display_data"
    }
   ],
   "source": [
    "# Visualize before vs after (upsampling)\n",
    "fig, axes = plt.subplots(1, 2, figsize=(12,4))\n",
    "sns.countplot(x='target', hue='target', data=df, ax=axes[0], palette='Set2')\n",
    "axes[0].set_title(\"Original class distribution\")\n",
    "sns.countplot(x='target', hue='target', data=df_upsampled, ax=axes[1], palette='Set2')\n",
    "axes[1].set_title(\"After Upsampling (minority -> majority size)\")\n",
    "plt.show()\n"
   ]
  },
  {
   "cell_type": "code",
   "execution_count": 10,
   "id": "964357ca",
   "metadata": {},
   "outputs": [
    {
     "name": "stdout",
     "output_type": "stream",
     "text": [
      "After Downsampling class distribution:\n",
      "target\n",
      "0    100\n",
      "1    100\n",
      "Name: count, dtype: int64\n",
      "\n"
     ]
    }
   ],
   "source": [
    "# -----------------------\n",
    "# 2) DOWNSAMPLING (Undersample majority to match minority)\n",
    "# -----------------------\n",
    "# - We randomly sample the majority class WITHOUT replacement to the minority size.\n",
    "# - replace=False ensures we do not pick the same majority sample twice.\n",
    "df_minority = df[df['target'] == 1]   # minority (unchanged)\n",
    "df_majority = df[df['target'] == 0]   # majority\n",
    "\n",
    "df_majority_downsampled = resample(\n",
    "    df_majority,\n",
    "    replace=False,                      # sample without replacement (no duplicates)\n",
    "    n_samples=len(df_minority),         # reduce majority to minority size\n",
    "    random_state=42\n",
    ")\n",
    "\n",
    "# combine downsampled majority with original minority\n",
    "df_downsampled = pd.concat([df_majority_downsampled, df_minority], axis=0).reset_index(drop=True)\n",
    "\n",
    "# verify result\n",
    "print(\"After Downsampling class distribution:\")\n",
    "print(df_downsampled['target'].value_counts())\n",
    "print()\n"
   ]
  },
  {
   "cell_type": "code",
   "execution_count": 11,
   "id": "790c9f64",
   "metadata": {},
   "outputs": [
    {
     "data": {
      "image/png": "[encoded data removed]",
      "text/plain": [
       "<Figure size 1200x400 with 2 Axes>"
      ]
     },
     "metadata": {},
     "output_type": "display_data"
    }
   ],
   "source": [
    "# Visualize before vs after (downsampling)\n",
    "fig, axes = plt.subplots(1, 2, figsize=(12,4))\n",
    "sns.countplot(x='target', hue='target', data=df, ax=axes[0], palette='Set2')\n",
    "axes[0].set_title(\"Original class distribution\")\n",
    "sns.countplot(x='target', hue='target', data=df_downsampled, ax=axes[1], palette='Set2')\n",
    "axes[1].set_title(\"After Downsampling (majority -> minority size)\")\n",
    "plt.show()\n"
   ]
  }
 ],
 "metadata": {
  "kernelspec": {
   "display_name": "Python 3",
   "language": "python",
   "name": "python3"
  },
  "language_info": {
   "codemirror_mode": {
    "name": "ipython",
    "version": 3
   },
   "file_extension": ".py",
   "mimetype": "text/x-python",
   "name": "python",
   "nbconvert_exporter": "python",
   "pygments_lexer": "ipython3",
   "version": "3.12.11"
  }
 },
 "nbformat": 4,
 "nbformat_minor": 5
}
