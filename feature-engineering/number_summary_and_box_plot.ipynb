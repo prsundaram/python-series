{
 "cells": [
  {
   "cell_type": "markdown",
   "id": "0de97f44",
   "metadata": {},
   "source": [
    "## 📊 Number Summary & Box Plot\n",
    "\n",
    "Before applying any transformation or model, it’s important to understand the **statistical summary** of our numerical data.\n",
    "\n",
    "We’ll calculate key values like:\n",
    "- **Minimum (Min)**\n",
    "- **Maximum (Max)**\n",
    "- **Median (Q2)**\n",
    "- **First Quartile (Q1)**\n",
    "- **Third Quartile (Q3)**\n",
    "- **Interquartile Range (IQR)**\n",
    "\n",
    "These help us understand:\n",
    "\n",
    "✅ The **spread** of the data  \n",
    "✅ Whether there are **outliers**  \n",
    "✅ How **skewed** the distribution is"
   ]
  },
  {
   "cell_type": "markdown",
   "id": "4296e207",
   "metadata": {},
   "source": [
    "# 📊 Detecting Outliers using IQR (Interquartile Range)\n",
    "\n",
    "In this section, we’ll calculate the **IQR**, find the **lower and upper fences**,  \n",
    "and identify **outliers** in a list of student marks.\n",
    "\n",
    "The dataset is small, so it’s easy to understand visually and statistically.\n"
   ]
  },
  {
   "cell_type": "code",
   "execution_count": 1,
   "id": "e378f9df",
   "metadata": {},
   "outputs": [],
   "source": [
    "import numpy as np"
   ]
  },
  {
   "cell_type": "code",
   "execution_count": 28,
   "id": "fe877744",
   "metadata": {},
   "outputs": [
    {
     "name": "stdout",
     "output_type": "stream",
     "text": [
      "Minimum: 32.0\n",
      "Q1 (25th percentile): 54.0\n",
      "Median (Q2): 70.5\n",
      "Q3 (75th percentile): 89.0\n",
      "Maximum: 99.0\n",
      "IQR (Interquartile Range): 35.00\n"
     ]
    }
   ],
   "source": [
    "# --------------------------------------------------------------\n",
    "# 🧮 Step 1: Create a sample dataset\n",
    "# --------------------------------------------------------------\n",
    "list_marks = [45, 32, 56, 75, 89, 54, 32, 89, 90, 87, 67, 54, 98, 99, 67, 74]\n",
    "\n",
    "# --------------------------------------------------------------\n",
    "# ⚙️ Step 2: Compute Quartiles and IQR\n",
    "# --------------------------------------------------------------\n",
    "# np.quantile(data, [0, 0.25, 0.50, 0.75, 1.0])\n",
    "# gives Min, Q1, Median (Q2), Q3, and Max\n",
    "minimum, Q1, median, Q3, maximum = np.quantile(list_marks, [0, 0.25, 0.50, 0.75, 1.0])\n",
    "\n",
    "print(f\"Minimum: {minimum}\")\n",
    "print(f\"Q1 (25th percentile): {Q1}\")\n",
    "print(f\"Median (Q2): {median}\")\n",
    "print(f\"Q3 (75th percentile): {Q3}\")\n",
    "print(f\"Maximum: {maximum}\")\n",
    "\n",
    "# Interquartile Range → IQR = Q3 - Q1\n",
    "IQR = Q3 - Q1\n",
    "print(f\"IQR (Interquartile Range): {IQR:.2f}\")\n"
   ]
  },
  {
   "cell_type": "markdown",
   "id": "e326ce3f",
   "metadata": {},
   "source": [
    "### 📘 What is IQR?\n",
    "The **Interquartile Range (IQR)** measures the spread of the middle 50% of data:\n",
    "$$\n",
    "IQR = Q3 - Q1\n",
    "$$\n",
    "\n",
    "Values that fall **far below Q1** or **far above Q3** are considered **outliers**.\n",
    "To find them, we calculate two thresholds called **fences**.\n"
   ]
  },
  {
   "cell_type": "code",
   "execution_count": 29,
   "id": "0c1d2a92",
   "metadata": {},
   "outputs": [
    {
     "name": "stdout",
     "output_type": "stream",
     "text": [
      "Lower Fence: 1.50\n",
      "Upper Fence: 141.50\n"
     ]
    }
   ],
   "source": [
    "# --------------------------------------------------------------\n",
    "# 🧩 Step 3: Calculate Lower and Upper Fences\n",
    "# --------------------------------------------------------------\n",
    "# Formula:\n",
    "# Lower Fence = Q1 - 1.5 * IQR\n",
    "# Upper Fence = Q3 + 1.5 * IQR\n",
    "#\n",
    "# ➤ Any value < Lower Fence → potential outlier (too small)\n",
    "# ➤ Any value > Upper Fence → potential outlier (too large)\n",
    "\n",
    "lower_fence = Q1 - 1.5 * IQR\n",
    "higher_fence = Q3 + 1.5 * IQR\n",
    "\n",
    "print(f\"Lower Fence: {lower_fence:.2f}\")\n",
    "print(f\"Upper Fence: {higher_fence:.2f}\")\n"
   ]
  },
  {
   "cell_type": "markdown",
   "id": "be497930",
   "metadata": {},
   "source": [
    "| Fence           | Formula                 | Meaning                                                  |\n",
    "| --------------- | ----------------------- | -------------------------------------------------------- |\n",
    "| **Lower Fence** | ( Q1 - 1.5 \\times IQR ) | Any data point smaller than this → **outlier (too low)** |\n",
    "| **Upper Fence** | ( Q3 + 1.5 \\times IQR ) | Any data point larger than this → **outlier (too high)** |\n",
    "\n",
    "---\n",
    "\n",
    "### 💡 Example Interpretation\n",
    "\n",
    "If:\n",
    "- Q1 = 54  \n",
    "- Q3 = 89  \n",
    "- IQR = 35  \n",
    "\n",
    "Then:\n",
    "$$\n",
    "\\text{Lower Fence} = 54 - 1.5 \\times 35 = 1.5 \\\\\n",
    "\\text{Upper Fence} = 89 + 1.5 \\times 35 = 141.5\n",
    "$$\n",
    "\n",
    "✅ Any value < 1.5 or > 141.5 is considered an **outlier**.\n"
   ]
  },
  {
   "cell_type": "code",
   "execution_count": 30,
   "id": "b4c4f23a",
   "metadata": {},
   "outputs": [
    {
     "data": {
      "image/png": "[encoded data removed]",
      "text/plain": [
       "<Figure size 700x300 with 1 Axes>"
      ]
     },
     "metadata": {},
     "output_type": "display_data"
    }
   ],
   "source": [
    "# --------------------------------------------------------------\n",
    "# 🎨 Step 4: Visualize using Box Plot\n",
    "# --------------------------------------------------------------\n",
    "import seaborn as sns\n",
    "import matplotlib.pyplot as plt\n",
    "\n",
    "plt.figure(figsize=(7,3))\n",
    "sns.boxplot(list_marks, color='skyblue')\n",
    "plt.title(\"Box Plot — Original Data (No Extreme Outliers)\", fontsize=13)\n",
    "plt.show()\n"
   ]
  },
  {
   "cell_type": "markdown",
   "id": "6a5f471e",
   "metadata": {},
   "source": [
    "### ✅ Interpretation:\n",
    "- The box represents data between Q1 and Q3\n",
    "- The line inside the box is the median\n",
    "- Whiskers show the non-outlier range\n",
    "- Dots (if any) outside whiskers → outliers"
   ]
  },
  {
   "cell_type": "code",
   "execution_count": 31,
   "id": "4cdc7877",
   "metadata": {},
   "outputs": [
    {
     "data": {
      "image/png": "[encoded data removed]",
      "text/plain": [
       "<Figure size 700x300 with 1 Axes>"
      ]
     },
     "metadata": {},
     "output_type": "display_data"
    }
   ],
   "source": [
    "# --------------------------------------------------------------\n",
    "# 🧪 Step 5: Add some extreme outliers and plot again\n",
    "# --------------------------------------------------------------\n",
    "list_marks = [-100, -200, 45, 32, 56, 75, 89, 54, 32, 89, 90, 87, 67, 54, 98, 99, 67, 74, 150, 170, 180]\n",
    "\n",
    "plt.figure(figsize=(7,3))\n",
    "sns.boxplot(list_marks, color='salmon')\n",
    "plt.title(\"Box Plot — Dataset with Outliers\", fontsize=13)\n",
    "plt.show()\n"
   ]
  },
  {
   "cell_type": "markdown",
   "id": "46fb951c",
   "metadata": {},
   "source": [
    "### ✅ Now you’ll see:\n",
    "- The box and whiskers shrink to fit most of the normal values.\n",
    "- The outliers (−100, −200, 150, 170, 180) appear as individual dots outside whiskers."
   ]
  },
  {
   "cell_type": "markdown",
   "id": "f2f4a16a",
   "metadata": {},
   "source": [
    "### 🧠 Summary\n",
    "\n",
    "| Statistic | Meaning | Purpose |\n",
    "|------------|----------|----------|\n",
    "| **Q1, Q3** | Quartiles (25% and 75%) | Define boundaries for middle 50% of data |\n",
    "| **IQR** | Q3 - Q1 | Measures the spread of central data |\n",
    "| **Lower Fence** | Q1 - 1.5 × IQR | Detects extremely low outliers |\n",
    "| **Upper Fence** | Q3 + 1.5 × IQR | Detects extremely high outliers |\n",
    "\n",
    "✅ **In short:**\n",
    "> The IQR method helps you **quantify and visualize outliers**.  \n",
    "> Box plots make them easy to spot — dots outside whiskers are your **potential outliers** 🚨\n"
   ]
  },
  {
   "cell_type": "markdown",
   "id": "401eb165",
   "metadata": {},
   "source": [
    "## 🧮 Step 6 — Identify Outlier Values Using IQR Fences\n",
    "\n",
    "Now that we’ve calculated the **lower** and **upper fences**,  \n",
    "let’s automatically detect which marks fall **outside the acceptable range**.\n"
   ]
  },
  {
   "cell_type": "code",
   "execution_count": 32,
   "id": "7b1340d4",
   "metadata": {},
   "outputs": [
    {
     "name": "stdout",
     "output_type": "stream",
     "text": [
      "Q1: 54.0, Q3: 90.0, IQR: 36.0\n",
      "Lower Fence: 0.0, Upper Fence: 144.0\n",
      "Outliers Detected: [-100, -200, 150, 170, 180]\n"
     ]
    }
   ],
   "source": [
    "# Reuse the data with outliers\n",
    "list_marks = [-100, -200, 45, 32, 56, 75, 89, 54, 32, 89, 90, 87, 67, 54, 98, 99, 67, 74, 150, 170, 180]\n",
    "\n",
    "# Step 1: Compute Q1, Q3, and IQR\n",
    "Q1 = np.quantile(list_marks, 0.25)\n",
    "Q3 = np.quantile(list_marks, 0.75)\n",
    "IQR = Q3 - Q1\n",
    "\n",
    "# Step 2: Compute lower and upper fences\n",
    "lower_fence = Q1 - 1.5 * IQR\n",
    "higher_fence = Q3 + 1.5 * IQR\n",
    "\n",
    "# Step 3: Identify outliers using list comprehension\n",
    "outliers = [x for x in list_marks if x < lower_fence or x > higher_fence]\n",
    "\n",
    "print(f\"Q1: {Q1}, Q3: {Q3}, IQR: {IQR}\")\n",
    "print(f\"Lower Fence: {lower_fence}, Upper Fence: {higher_fence}\")\n",
    "print(f\"Outliers Detected: {outliers}\")\n"
   ]
  },
  {
   "cell_type": "markdown",
   "id": "3c053e9e",
   "metadata": {},
   "source": [
    "### 💡 How It Works\n",
    "\n",
    "1️⃣ We already computed:\n",
    "$$\n",
    "\\text{Lower Fence} = Q1 - 1.5 \\times IQR\n",
    "$$  \n",
    "$$\n",
    "\\text{Upper Fence} = Q3 + 1.5 \\times IQR\n",
    "$$\n",
    "\n",
    "2️⃣ Using a simple list comprehension,  \n",
    "we check each mark `x` in the list:\n",
    "- If `x < lower_fence` → mark is **too small** (low outlier)  \n",
    "- If `x > higher_fence` → mark is **too large** (high outlier)\n",
    "\n",
    "3️⃣ All such values are collected in the `outliers` list.\n"
   ]
  },
  {
   "cell_type": "markdown",
   "id": "0a8f74b7",
   "metadata": {},
   "source": [
    "### 🧠 Interpretation\n",
    "\n",
    "| Type | Condition | Example |\n",
    "|-------|------------|----------|\n",
    "| **Low Outliers** | Values less than Lower Fence | `-100`, `-200` |\n",
    "| **High Outliers** | Values greater than Upper Fence | `170`, `180` |\n",
    "\n",
    "✅ These points are **unusually far** from the rest of the data —  \n",
    "they can distort your **mean**, **range**, or **model accuracy**.\n"
   ]
  }
 ],
 "metadata": {
  "kernelspec": {
   "display_name": "Python 3",
   "language": "python",
   "name": "python3"
  },
  "language_info": {
   "codemirror_mode": {
    "name": "ipython",
    "version": 3
   },
   "file_extension": ".py",
   "mimetype": "text/x-python",
   "name": "python",
   "nbconvert_exporter": "python",
   "pygments_lexer": "ipython3",
   "version": "3.12.11"
  }
 },
 "nbformat": 4,
 "nbformat_minor": 5
}
