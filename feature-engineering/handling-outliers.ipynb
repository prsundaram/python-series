{
 "cells": [
  {
   "cell_type": "markdown",
   "id": "f944149b",
   "metadata": {},
   "source": [
    "# 🧹 Handling Outliers in a Dataset\n",
    "\n",
    "Once we identify outliers, we must decide how to **handle** them.  \n",
    "Outliers can:\n",
    "- Be **errors** (data entry mistakes)\n",
    "- Or be **genuine extremes** (valuable rare events)\n",
    "\n",
    "So, depending on context, we have three main strategies:\n",
    "1️⃣ **Remove** outliers  \n",
    "2️⃣ **Replace** them (with median or mean)  \n",
    "3️⃣ **Cap/Winsorize** them (limit extreme values)\n"
   ]
  },
  {
   "cell_type": "code",
   "execution_count": 11,
   "id": "c08b345e",
   "metadata": {},
   "outputs": [
    {
     "name": "stdout",
     "output_type": "stream",
     "text": [
      "Lower Fence: 0.0\n",
      "Upper Fence: 144.0\n"
     ]
    }
   ],
   "source": [
    "import numpy as np\n",
    "import pandas as pd\n",
    "\n",
    "# 🎯 Dataset with extreme outliers\n",
    "marks = pd.Series([-100, -200, 45, 32, 56, 75, 89, 54, 32, 89, 90, 87, 67, 54, 98, 99, 67, 74, 150, 170, 180])\n",
    "\n",
    "# Compute quartiles and IQR\n",
    "Q1 = marks.quantile(0.25)\n",
    "Q3 = marks.quantile(0.75)\n",
    "IQR = Q3 - Q1\n",
    "\n",
    "# Compute fences\n",
    "lower_fence = Q1 - 1.5 * IQR\n",
    "upper_fence = Q3 + 1.5 * IQR\n",
    "\n",
    "print(f\"Lower Fence: {lower_fence}\")\n",
    "print(f\"Upper Fence: {upper_fence}\")\n"
   ]
  },
  {
   "cell_type": "code",
   "execution_count": 12,
   "id": "24bc0fdb",
   "metadata": {},
   "outputs": [
    {
     "name": "stdout",
     "output_type": "stream",
     "text": [
      "Outliers detected:\n",
      "[-100 -200  150  170  180]\n"
     ]
    }
   ],
   "source": [
    "# Identify outliers based on IQR fences\n",
    "outliers = marks[(marks < lower_fence) | (marks > upper_fence)]\n",
    "print(\"Outliers detected:\")\n",
    "print(outliers.values)\n"
   ]
  },
  {
   "cell_type": "markdown",
   "id": "450219e0",
   "metadata": {},
   "source": [
    "### 💡 Note\n",
    "At this stage, we’ve found four outliers:\n",
    "- Two **low** outliers (−100, −200)\n",
    "- Two **high** outliers (170, 180)\n"
   ]
  },
  {
   "cell_type": "markdown",
   "id": "9b4ea1ef",
   "metadata": {},
   "source": [
    "## Method 1: Remove Outliers"
   ]
  },
  {
   "cell_type": "code",
   "execution_count": 13,
   "id": "7817b8f4",
   "metadata": {},
   "outputs": [
    {
     "name": "stdout",
     "output_type": "stream",
     "text": [
      "Original count: 21\n",
      "After removal: 16\n"
     ]
    }
   ],
   "source": [
    "# Remove outliers using boolean indexing\n",
    "marks_removed = marks[(marks >= lower_fence) & (marks <= upper_fence)]\n",
    "\n",
    "print(f\"Original count: {len(marks)}\")\n",
    "print(f\"After removal: {len(marks_removed)}\")\n"
   ]
  },
  {
   "cell_type": "markdown",
   "id": "ba3bf879",
   "metadata": {},
   "source": [
    "### ✅ When to use:\n",
    "- When outliers are clearly data entry errors (e.g., −200 marks)\n",
    "- Or when you have enough data and removing a few won’t affect results"
   ]
  },
  {
   "cell_type": "markdown",
   "id": "751b9368",
   "metadata": {},
   "source": [
    "## Method 2: Replace Outliers (Imputation)"
   ]
  },
  {
   "cell_type": "code",
   "execution_count": 14,
   "id": "f0701e9b",
   "metadata": {},
   "outputs": [
    {
     "name": "stdout",
     "output_type": "stream",
     "text": [
      "Replaced Outliers with Median Value: 74.0\n",
      "[74, 74, 45, 32, 56, 75, 89, 54, 32, 89, 90, 87, 67, 54, 98, 99, 67, 74, 74, 74, 74]\n"
     ]
    }
   ],
   "source": [
    "# Replace outliers with the median\n",
    "median_value = marks.median()\n",
    "\n",
    "marks_replaced = marks.copy()\n",
    "marks_replaced[marks_replaced < lower_fence] = median_value\n",
    "marks_replaced[marks_replaced > upper_fence] = median_value\n",
    "\n",
    "print(\"Replaced Outliers with Median Value:\", median_value)\n",
    "print(marks_replaced.tolist())\n"
   ]
  },
  {
   "cell_type": "markdown",
   "id": "7c4635a8",
   "metadata": {},
   "source": [
    "### ✅ When to use:\n",
    "- When data is small and dropping outliers may cause information loss\n",
    "- Median is robust because it’s not influenced by extreme values"
   ]
  },
  {
   "cell_type": "markdown",
   "id": "f05fbfc1",
   "metadata": {},
   "source": [
    "## Method 3: Cap Outliers (Winsorization)"
   ]
  },
  {
   "cell_type": "code",
   "execution_count": 15,
   "id": "4234ab25",
   "metadata": {},
   "outputs": [
    {
     "name": "stdout",
     "output_type": "stream",
     "text": [
      "Capped values at fences:\n",
      "[0, 0, 45, 32, 56, 75, 89, 54, 32, 89, 90, 87, 67, 54, 98, 99, 67, 74, 144, 144, 144]\n"
     ]
    }
   ],
   "source": [
    "# Cap extreme values to the nearest fence value\n",
    "marks_capped = marks.copy()\n",
    "marks_capped[marks_capped < lower_fence] = lower_fence\n",
    "marks_capped[marks_capped > upper_fence] = upper_fence\n",
    "\n",
    "print(\"Capped values at fences:\")\n",
    "print(marks_capped.tolist())\n"
   ]
  },
  {
   "cell_type": "markdown",
   "id": "87cfc049",
   "metadata": {},
   "source": [
    "### ✅ When to use:\n",
    "- When outliers are genuine but you want to limit their influence\n",
    "- Common in financial or survey data (e.g., very high incomes, extreme ratings)"
   ]
  },
  {
   "cell_type": "markdown",
   "id": "25bd1e85",
   "metadata": {},
   "source": [
    "## Compare All Three Approaches"
   ]
  },
  {
   "cell_type": "code",
   "execution_count": 16,
   "id": "18c8537f",
   "metadata": {},
   "outputs": [
    {
     "data": {
      "image/png": "[encoded data removed]",
      "text/plain": [
       "<Figure size 1000x500 with 1 Axes>"
      ]
     },
     "metadata": {},
     "output_type": "display_data"
    }
   ],
   "source": [
    "import pandas as pd\n",
    "import matplotlib.pyplot as plt\n",
    "import seaborn as sns\n",
    "\n",
    "# --------------------------------------------------------------\n",
    "# ✅ Step 1: Combine all series into a single DataFrame\n",
    "# --------------------------------------------------------------\n",
    "df_box = pd.DataFrame({\n",
    "    'Original': marks,\n",
    "    'Removed': pd.Series(marks_removed),\n",
    "    'Replaced': pd.Series(marks_replaced),\n",
    "    'Capped': pd.Series(marks_capped)\n",
    "})\n",
    "\n",
    "# Melt the DataFrame into long (tidy) format for Seaborn\n",
    "df_melted = df_box.melt(var_name='Method', value_name='Marks')\n",
    "\n",
    "# --------------------------------------------------------------\n",
    "# 🎨 Step 2: Create Box Plot using Seaborn\n",
    "# --------------------------------------------------------------\n",
    "plt.figure(figsize=(10, 5))\n",
    "sns.boxplot(\n",
    "    x='Method',\n",
    "    y='Marks',\n",
    "    data=df_melted,\n",
    "    palette='pastel',\n",
    "    width=0.5,\n",
    "    fliersize=5,\n",
    "    hue='Method'\n",
    ")\n",
    "plt.title(\"Box Plot Comparison — Outlier Handling Methods\", fontsize=14)\n",
    "plt.ylabel(\"Marks\")\n",
    "plt.grid(alpha=0.3)\n",
    "plt.show()\n"
   ]
  },
  {
   "cell_type": "markdown",
   "id": "94df0298",
   "metadata": {},
   "source": [
    "### 🧠 Interpretation of Box Plot Comparison\n",
    "\n",
    "| Version | Description | Behavior |\n",
    "|----------|--------------|-----------|\n",
    "| **Original** | Contains all values including −200 and 180 | Extreme whiskers and dots (outliers visible) |\n",
    "| **Removed** | Outliers dropped | Box shrinks, no extreme dots |\n",
    "| **Replaced** | Outliers replaced with median | Box looks balanced, no sharp edges |\n",
    "| **Capped** | Outliers limited to fence | Still retains all samples, but within limits |\n",
    "\n",
    "✅ Each method depends on **data context**:\n",
    "- **Remove** → when wrong or dirty data  \n",
    "- **Replace** → when you want stability  \n",
    "- **Cap** → when you need to preserve size but control influence\n",
    "---\n",
    "### 🧾 Summary Table\n",
    "\n",
    "| Method             | Technique             | When to Use                         | Effect on Data             |\n",
    "| ------------------ | --------------------- | ----------------------------------- | -------------------------- |\n",
    "| 🗑️ Remove         | Drop outliers         | Clear errors, large datasets        | Reduces dataset size       |\n",
    "| 🔁 Replace         | Fill with median/mean | Small datasets, stable distribution | Keeps dataset consistent   |\n",
    "| ⚙️ Cap (Winsorize) | Limit to fences       | Keep all data, reduce extremes      | Retains all records safely |\n",
    "\n"
   ]
  }
 ],
 "metadata": {
  "kernelspec": {
   "display_name": "Python 3",
   "language": "python",
   "name": "python3"
  },
  "language_info": {
   "codemirror_mode": {
    "name": "ipython",
    "version": 3
   },
   "file_extension": ".py",
   "mimetype": "text/x-python",
   "name": "python",
   "nbconvert_exporter": "python",
   "pygments_lexer": "ipython3",
   "version": "3.12.11"
  }
 },
 "nbformat": 4,
 "nbformat_minor": 5
}
