{
 "cells": [
  {
   "cell_type": "markdown",
   "id": "b6e84924",
   "metadata": {},
   "source": [
    "# Advanced Decorators in Python (Next Steps)\n",
    "\n",
    "---\n",
    "\n",
    "## 1. `functools.wraps`\n",
    "\n",
    "### Problem Without `wraps`\n",
    "- When we create decorators, the `wrapper` function **hides** the original function’s metadata (`__name__`, `__doc__`).\n",
    "- `functools.wraps` copies the original function’s metadata to the wrapper.\n",
    "\n",
    "```python\n",
    "def my_decorator(func):\n",
    "    def wrapper(*args, **kwargs):\n",
    "        \"\"\"Wrapper function\"\"\"\n",
    "        return func(*args, **kwargs)\n",
    "    return wrapper\n",
    "\n",
    "@my_decorator\n",
    "def greet(name):\n",
    "    \"\"\"Original greet function\"\"\"\n",
    "    return f\"Hello, {name}!\"\n",
    "\n",
    "print(greet.__name__)   # wrapper (not greet)\n",
    "print(greet.__doc__)    # Wrapper function\n",
    "```"
   ]
  },
  {
   "cell_type": "code",
   "execution_count": 1,
   "id": "2b547304",
   "metadata": {},
   "outputs": [
    {
     "name": "stdout",
     "output_type": "stream",
     "text": [
      "greet\n",
      "Original greet function\n"
     ]
    }
   ],
   "source": [
    "from functools import wraps\n",
    "\n",
    "def my_decorator(func):\n",
    "    @wraps(func)   # fixes metadata\n",
    "    def wrapper(*args, **kwargs):\n",
    "        \"\"\"Wrapper function\"\"\"\n",
    "        return func(*args, **kwargs)\n",
    "    return wrapper\n",
    "\n",
    "@my_decorator\n",
    "def greet(name):\n",
    "    \"\"\"Original greet function\"\"\"\n",
    "    return f\"Hello, {name}!\"\n",
    "\n",
    "print(greet.__name__)   # greet ✅\n",
    "print(greet.__doc__)    # Original greet function ✅\n"
   ]
  },
  {
   "cell_type": "markdown",
   "id": "74f093cf",
   "metadata": {},
   "source": [
    "### 2. Built-in Decorators\n",
    "\n",
    "Python provides some commonly used decorators for classes.\n",
    "\n",
    "#### a) @staticmethod\n",
    "- Defines a method that does not need `self` or `cls`.\n",
    "- Behaves like a normal function but lives inside a class for organization."
   ]
  },
  {
   "cell_type": "code",
   "execution_count": 2,
   "id": "c8c0577f",
   "metadata": {},
   "outputs": [
    {
     "name": "stdout",
     "output_type": "stream",
     "text": [
      "10\n"
     ]
    }
   ],
   "source": [
    "class MathUtils:\n",
    "    @staticmethod\n",
    "    def add(a, b):\n",
    "        return a + b\n",
    "\n",
    "print(MathUtils.add(3, 7))   # 10\n"
   ]
  },
  {
   "cell_type": "markdown",
   "id": "8535640a",
   "metadata": {},
   "source": [
    "✅ Use when method doesn’t depend on class or instance."
   ]
  },
  {
   "cell_type": "markdown",
   "id": "e776a978",
   "metadata": {},
   "source": [
    "#### b) @classmethod\n",
    "- Defines a method that receives cls (the class itself) instead of self.\n",
    "- Often used for alternative constructors."
   ]
  },
  {
   "cell_type": "code",
   "execution_count": 3,
   "id": "c124707a",
   "metadata": {},
   "outputs": [
    {
     "name": "stdout",
     "output_type": "stream",
     "text": [
      "Prasanna\n"
     ]
    }
   ],
   "source": [
    "class Person:\n",
    "    def __init__(self, name):\n",
    "        self.name = name\n",
    "\n",
    "    @classmethod\n",
    "    def from_fullname(cls, fullname):\n",
    "        name = fullname.split()[0]\n",
    "        return cls(name)\n",
    "\n",
    "p = Person.from_fullname(\"Prasanna Sundaram\")\n",
    "print(p.name)   # Prasanna\n"
   ]
  },
  {
   "cell_type": "markdown",
   "id": "96224e10",
   "metadata": {},
   "source": [
    "✅ Use for factory/alternative constructors."
   ]
  },
  {
   "cell_type": "markdown",
   "id": "7724defd",
   "metadata": {},
   "source": [
    "#### c) @property\n",
    "- Turns a method into a read-only attribute.\n",
    "- Useful for computed values."
   ]
  },
  {
   "cell_type": "code",
   "execution_count": 4,
   "id": "2d944204",
   "metadata": {},
   "outputs": [
    {
     "name": "stdout",
     "output_type": "stream",
     "text": [
      "78.5\n"
     ]
    }
   ],
   "source": [
    "class Circle:\n",
    "    def __init__(self, radius):\n",
    "        self.radius = radius\n",
    "\n",
    "    @property\n",
    "    def area(self):\n",
    "        return 3.14 * self.radius * self.radius\n",
    "\n",
    "c = Circle(5)\n",
    "print(c.area)    # 78.5\n",
    "# c.area() ❌ Not callable, used like attribute\n"
   ]
  },
  {
   "cell_type": "markdown",
   "id": "b1fb497a",
   "metadata": {},
   "source": [
    "##### `@property`, `@<property>.setter`, and `@<property>.deleter`\n",
    "\n",
    "The `@property` decorator allows you to define methods that behave like attributes.  \n",
    "You can also define **setters** and **deleters** to control assignment and deletion.\n",
    "\n",
    "---\n",
    "\n",
    "###### Example: Getter and Setter\n",
    "```python\n",
    "class Person:\n",
    "    def __init__(self, name):\n",
    "        self._name = name   # convention: private attribute\n",
    "\n",
    "    # Getter\n",
    "    @property\n",
    "    def name(self):\n",
    "        print(\"Getting name...\")\n",
    "        return self._name\n",
    "\n",
    "    # Setter\n",
    "    @name.setter\n",
    "    def name(self, value):\n",
    "        print(\"Setting name...\")\n",
    "        if not value:\n",
    "            raise ValueError(\"Name cannot be empty\")\n",
    "        self._name = value\n",
    "\n",
    "p = Person(\"Prasanna\")\n",
    "print(p.name)        # Getting name... Prasanna\n",
    "p.name = \"Sundaram\"  # Setting name...\n",
    "print(p.name)        # Getting name... Sundaram\n",
    "\n",
    "````\n"
   ]
  },
  {
   "cell_type": "code",
   "execution_count": 7,
   "id": "dea2b7fc",
   "metadata": {},
   "outputs": [
    {
     "name": "stdout",
     "output_type": "stream",
     "text": [
      "5\n",
      "10\n",
      "Deleting radius...\n"
     ]
    }
   ],
   "source": [
    "class Circle:\n",
    "    def __init__(self, radius):\n",
    "        self._radius = radius\n",
    "\n",
    "    # Getter\n",
    "    @property\n",
    "    def radius(self):\n",
    "        return self._radius\n",
    "\n",
    "    # Setter\n",
    "    @radius.setter\n",
    "    def radius(self, value):\n",
    "        if value <= 0:\n",
    "            raise ValueError(\"Radius must be positive\")\n",
    "        self._radius = value\n",
    "\n",
    "    # Deleter\n",
    "    @radius.deleter\n",
    "    def radius(self):\n",
    "        print(\"Deleting radius...\")\n",
    "        del self._radius\n",
    "\n",
    "c = Circle(5)\n",
    "print(c.radius)   # 5\n",
    "c.radius = 10     # sets new value\n",
    "print(c.radius)   # 10\n",
    "del c.radius      # deletes attribute"
   ]
  },
  {
   "cell_type": "markdown",
   "id": "4b7a65ab",
   "metadata": {},
   "source": [
    "## 🔑 Quick Recap\n",
    "- functools.wraps → preserve metadata (`__name__`, `__doc__`) when writing decorators.\n",
    "- `@staticmethod` → method without self or cls.\n",
    "- `@classmethod` → method with cls instead of self (good for alternative constructors).\n",
    "- `@property` → turn methods into attributes (computed properties).\n",
    "\n",
    "### 🔑 Key Takeaways\n",
    "- @property → defines the getter.\n",
    "- @name.setter → defines the setter for controlled assignment.\n",
    "- @name.deleter → defines the deleter for controlled deletion.\n",
    "- This makes attributes feel like variables but with extra validation, logging, or computation."
   ]
  }
 ],
 "metadata": {
  "kernelspec": {
   "display_name": "Python 3",
   "language": "python",
   "name": "python3"
  },
  "language_info": {
   "codemirror_mode": {
    "name": "ipython",
    "version": 3
   },
   "file_extension": ".py",
   "mimetype": "text/x-python",
   "name": "python",
   "nbconvert_exporter": "python",
   "pygments_lexer": "ipython3",
   "version": "3.12.11"
  }
 },
 "nbformat": 4,
 "nbformat_minor": 5
}
