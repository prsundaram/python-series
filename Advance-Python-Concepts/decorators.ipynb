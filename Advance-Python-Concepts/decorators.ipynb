{
 "cells": [
  {
   "cell_type": "markdown",
   "id": "90b382d1",
   "metadata": {},
   "source": [
    "# Decorators in Python\n",
    "\n",
    "Decorators are a **powerful and flexible feature** in Python that allow you to **modify or enhance the behavior** of a function or a class method.  \n",
    "\n",
    "They are commonly used to **add extra functionality** to existing functions or methods **without changing their actual source code**.\n",
    "\n",
    "---\n",
    "\n",
    "## Key Points\n",
    "- A decorator is a function that **takes another function as input** and returns a new function with extended behavior.\n",
    "- Decorators use the `@decorator_name` syntax (syntactic sugar).\n",
    "- They are widely used for:\n",
    "  - Logging\n",
    "  - Authentication\n",
    "  - Caching\n",
    "  - Measuring execution time\n",
    "  - Reusing common functionality\n",
    "\n",
    "---\n",
    "\n",
    "## Example: Simple Decorator\n",
    "```python\n",
    "def my_decorator(func):\n",
    "    def wrapper():\n",
    "        print(\"Before function is called\")\n",
    "        func()\n",
    "        print(\"After function is called\")\n",
    "    return wrapper\n",
    "\n",
    "@my_decorator\n",
    "def say_hello():\n",
    "    print(\"Hello, World!\")\n",
    "\n",
    "say_hello()\n"
   ]
  },
  {
   "cell_type": "code",
   "execution_count": 32,
   "id": "50edc3c4",
   "metadata": {},
   "outputs": [
    {
     "name": "stdout",
     "output_type": "stream",
     "text": [
      "Before function is called\n",
      "Hello, World!\n",
      "After function is called\n"
     ]
    }
   ],
   "source": [
    "## Example 1: Simple Decorator\n",
    "\n",
    "def my_decorator(func):\n",
    "    def wrapper():\n",
    "        print(\"Before function is called\")\n",
    "        func()\n",
    "        print(\"After function is called\")\n",
    "    return wrapper\n",
    "\n",
    "@my_decorator\n",
    "def say_hello():\n",
    "    print(\"Hello, World!\")\n",
    "\n",
    "say_hello()"
   ]
  },
  {
   "cell_type": "markdown",
   "id": "f8546755",
   "metadata": {},
   "source": [
    "# Functions, Closures, and Decorators in Python\n",
    "\n",
    "Before learning decorators in Python, it’s important to understand two key concepts:\n",
    "1. **First-class functions (function copy)**\n",
    "2. **Closures**\n",
    "\n",
    "These form the foundation of how decorators work.\n",
    "\n",
    "---\n",
    "\n",
    "## 1. First-Class Functions (Function Copy)\n",
    "\n",
    "In Python, functions are **first-class citizens**.  \n",
    "This means:\n",
    "- You can assign a function to a variable.\n",
    "- You can pass a function as an argument.\n",
    "- You can return a function from another function.\n",
    "\n",
    "### Example\n",
    "```python\n",
    "def greet(name):\n",
    "    return f\"Hello, {name}!\"\n",
    "\n",
    "# Assign function to another variable (function copy)\n",
    "say_hello = greet  \n",
    "\n",
    "print(say_hello(\"Prasanna\"))  # Hello, Prasanna!\n",
    "```\n",
    "---\n",
    "## 2. Closures\n",
    "A **closure** is a function that remembers variables from the scope in which it was created,  \n",
    "even if that scope is no longer active.\n",
    "\n",
    "### Example: Basic Closure\n",
    "```python\n",
    "def outer(msg):\n",
    "    def inner():\n",
    "        print(\"Message is:\", msg)\n",
    "    return inner\n",
    "\n",
    "my_func = outer(\"Python is awesome!\")\n",
    "my_func()   # Message is: Python is awesome!\n",
    "```\n"
   ]
  },
  {
   "cell_type": "markdown",
   "id": "d8c2e301",
   "metadata": {},
   "source": [
    "## Function Copy"
   ]
  },
  {
   "cell_type": "code",
   "execution_count": 33,
   "id": "e4e2edcb",
   "metadata": {},
   "outputs": [
    {
     "data": {
      "text/plain": [
       "'Hello Buddy'"
      ]
     },
     "execution_count": 33,
     "metadata": {},
     "output_type": "execute_result"
    }
   ],
   "source": [
    "## Function Copy\n",
    "\n",
    "def welcome():\n",
    "    return \"Hello Buddy\"\n",
    "\n",
    "welcome()"
   ]
  },
  {
   "cell_type": "markdown",
   "id": "ee681e09",
   "metadata": {},
   "source": [
    "What does function copy basically mean ?\n",
    "\n",
    "Lets go ahead and create a variable called `say_hello` and assign the `welcome` to it"
   ]
  },
  {
   "cell_type": "code",
   "execution_count": 34,
   "id": "9810befc",
   "metadata": {},
   "outputs": [
    {
     "data": {
      "text/plain": [
       "<function __main__.welcome()>"
      ]
     },
     "execution_count": 34,
     "metadata": {},
     "output_type": "execute_result"
    }
   ],
   "source": [
    "say_hello = welcome\n",
    "say_hello"
   ]
  },
  {
   "cell_type": "markdown",
   "id": "b9ccac2d",
   "metadata": {},
   "source": [
    "Now, if I go ahead and execute `say_hello`, it shows that. Hey its a function. I have basically done the copy of `welcome` function\n",
    "\n",
    "Can I run the same function using `say_hello` - The answer yes Yes"
   ]
  },
  {
   "cell_type": "code",
   "execution_count": 35,
   "id": "af7e9139",
   "metadata": {},
   "outputs": [
    {
     "data": {
      "text/plain": [
       "'Hello Buddy'"
      ]
     },
     "execution_count": 35,
     "metadata": {},
     "output_type": "execute_result"
    }
   ],
   "source": [
    "wel()"
   ]
  },
  {
   "cell_type": "markdown",
   "id": "1919303e",
   "metadata": {},
   "source": [
    "### Delete the original function name\n",
    "```python\n",
    "del welcome\n",
    "```\n",
    "### Function still works because 'say_hello' is holding the reference\n",
    "```python\n",
    "print(say_hello())  # Hello Buddy\n",
    "```"
   ]
  },
  {
   "cell_type": "code",
   "execution_count": 36,
   "id": "c734ed95",
   "metadata": {},
   "outputs": [],
   "source": [
    "del welcome"
   ]
  },
  {
   "cell_type": "code",
   "execution_count": 37,
   "id": "87b97f74",
   "metadata": {},
   "outputs": [
    {
     "data": {
      "text/plain": [
       "'Hello Buddy'"
      ]
     },
     "execution_count": 37,
     "metadata": {},
     "output_type": "execute_result"
    }
   ],
   "source": [
    "say_hello()"
   ]
  },
  {
   "cell_type": "markdown",
   "id": "8cfeafde",
   "metadata": {},
   "source": [
    "## Closures\n",
    "\n",
    "Basically, its a function inside a function."
   ]
  },
  {
   "cell_type": "code",
   "execution_count": 38,
   "id": "19ba3ad8",
   "metadata": {},
   "outputs": [],
   "source": [
    "def main_welcome(message):\n",
    "    def sub_welcome():\n",
    "        print(f\"Hello, {message}\")\n",
    "    return sub_welcome() "
   ]
  },
  {
   "cell_type": "code",
   "execution_count": 39,
   "id": "aed3054e",
   "metadata": {},
   "outputs": [
    {
     "name": "stdout",
     "output_type": "stream",
     "text": [
      "Hello, Prasanna Sundaram\n",
      "None\n"
     ]
    }
   ],
   "source": [
    "print(main_welcome(\"Prasanna Sundaram\"))"
   ]
  },
  {
   "cell_type": "markdown",
   "id": "fbe27229",
   "metadata": {},
   "source": [
    "### Why `None`?\n",
    "- When you write return `sub_welcome()`,\n",
    "- you are calling the inner function `sub_welcome`.\n",
    "- It executes → prints `Hello, Prasanna Sundaram`.\n",
    "- But notice: `sub_welcome` does not return anything, so by default it returns `None`.\n",
    "- That `None` is then returned by `main_welcome`.\n",
    "- Finally, when you `print(main_welcome(...))`, you see:\n",
    "    - First: `\"Hello, Prasanna Sundaram\"` (from `inside sub_welcome`)\n",
    "    - Then: `None` (because the return value of `main_welcome` is `None`).\n",
    "\n",
    "\n",
    "### ✅ Fix\n",
    "If you want the closure (function object) to be returned instead of executing immediately, return the function itself, not its result."
   ]
  },
  {
   "cell_type": "code",
   "execution_count": 40,
   "id": "b785a828",
   "metadata": {},
   "outputs": [
    {
     "name": "stdout",
     "output_type": "stream",
     "text": [
      "Hello, Prasanna Sundaram\n"
     ]
    }
   ],
   "source": [
    "def main_welcome(message):\n",
    "    def sub_welcome():\n",
    "        print(f\"Hello, {message}\")\n",
    "    return sub_welcome   # return function, not function call\n",
    "\n",
    "my_func = main_welcome(\"Prasanna Sundaram\")\n",
    "my_func()\n"
   ]
  },
  {
   "cell_type": "markdown",
   "id": "49e624ac",
   "metadata": {},
   "source": [
    "### 📝 Key takeaway\n",
    "- `sub_welcome()` → calls the function and returns its result (here, `None`).\n",
    "- `sub_welcome` → returns the function object itself (closure).\n",
    "That’s the **heart of closures**: you return the function itself, so you can call it later while it still remembers message."
   ]
  },
  {
   "cell_type": "markdown",
   "id": "f73813fd",
   "metadata": {},
   "source": [
    "### Example: Closure with Function as Parameter\n",
    "\n",
    "Closures can also accept a **function as an argument** and enhance or wrap its behavior.  \n",
    "This is the exact idea decorators use.\n",
    "\n",
    "```python\n",
    "def outer(func):\n",
    "    def inner():\n",
    "        print(\"Before the function call\")\n",
    "        func()   # call the original function\n",
    "        print(\"After the function call\")\n",
    "    return inner\n",
    "\n",
    "def say_hello():\n",
    "    print(\"Hello, Prasanna!\")\n",
    "\n",
    "# Pass function into outer\n",
    "wrapped = outer(say_hello)\n",
    "\n",
    "wrapped()\n",
    "```\n"
   ]
  },
  {
   "cell_type": "code",
   "execution_count": 50,
   "id": "fe56a196",
   "metadata": {},
   "outputs": [
    {
     "name": "stdout",
     "output_type": "stream",
     "text": [
      "Before the function call\n",
      "Hello, Prasanna!\n",
      "After the function call\n"
     ]
    }
   ],
   "source": [
    "def outer(func):\n",
    "    def inner():\n",
    "        print(\"Before the function call\")\n",
    "        func()   # call the original function\n",
    "        print(\"After the function call\")\n",
    "    return inner\n",
    "\n",
    "def say_hello():\n",
    "    print(\"Hello, Prasanna!\")\n",
    "\n",
    "# Pass function into outer\n",
    "wrapped = outer(say_hello)\n",
    "\n",
    "wrapped()"
   ]
  },
  {
   "cell_type": "markdown",
   "id": "72ec1710",
   "metadata": {},
   "source": [
    "Right now your say_hello doesn’t take arguments. But what if it did, like say_hello(\"Prasanna\")?\n",
    "If we keep the closure as it is, you’ll get an error because inner() doesn’t accept arguments.\n",
    "\n",
    "---\n",
    "\n",
    "### Case 1: Current Code (no arguments)\n",
    "```python\n",
    "def outer(func):\n",
    "    def inner():\n",
    "        print(\"Before the function call\")\n",
    "        func()   # call the original function\n",
    "        print(\"After the function call\")\n",
    "    return inner\n",
    "\n",
    "def say_hello():\n",
    "    print(\"Hello, Prasanna!\")\n",
    "\n",
    "wrapped = outer(say_hello)\n",
    "wrapped()\n",
    "```\n",
    "```text\n",
    "✅ Works fine, because say_hello has no arguments.\n",
    "```\n",
    "--- \n",
    "### Case 2: Function Needs Arguments\n",
    "```python\n",
    "def say_hello(name):\n",
    "    print(f\"Hello, {name}!\")\n",
    "\n",
    "wrapped = outer(say_hello)\n",
    "wrapped(\"Prasanna\")\n",
    "❌ This will fail:\n",
    "TypeError: inner() takes 0 positional arguments but 1 was given\n",
    "Because inner() does not accept name.\n",
    "```\n",
    "---\n",
    "### ✅ Fix: Use *args and **kwargs\n",
    "To make the closure flexible, we allow inner to accept any number of arguments and forward them to func.\n",
    "```python\n",
    "def outer(func):\n",
    "    def inner(*args, **kwargs):   # accepts any args\n",
    "        print(\"Before the function call\")\n",
    "        func(*args, **kwargs)     # forwards args\n",
    "        print(\"After the function call\")\n",
    "    return inner\n",
    "\n",
    "def say_hello(name):\n",
    "    print(f\"Hello, {name}!\")\n",
    "\n",
    "wrapped = outer(say_hello)\n",
    "wrapped(\"Prasanna\")\n",
    "Output\n",
    "Before the function call\n",
    "Hello, Prasanna!\n",
    "After the function call\n",
    "```\n",
    "---\n",
    "### 📝 Key takeaway\n",
    "- If the wrapped function doesn’t need arguments → simple closure is fine.\n",
    "- If the wrapped function might have arguments → use *args, **kwargs.\n",
    "- This is why real decorators always use *args, **kwargs → to stay generic and reusable.\n",
    "\n"
   ]
  },
  {
   "cell_type": "code",
   "execution_count": 51,
   "id": "d5dd1af7",
   "metadata": {},
   "outputs": [
    {
     "name": "stdout",
     "output_type": "stream",
     "text": [
      "Before the function call\n",
      "Hello, Prasanna!\n",
      "After the function call\n"
     ]
    }
   ],
   "source": [
    "def outer(func):\n",
    "    def inner(*args, **kwargs):   # accepts any args\n",
    "        print(\"Before the function call\")\n",
    "        func(*args, **kwargs)     # forwards args\n",
    "        print(\"After the function call\")\n",
    "    return inner\n",
    "\n",
    "def say_hello(name):\n",
    "    print(f\"Hello, {name}!\")\n",
    "\n",
    "wrapped = outer(say_hello)\n",
    "wrapped(\"Prasanna\")\n"
   ]
  },
  {
   "cell_type": "code",
   "execution_count": 55,
   "id": "4316f724",
   "metadata": {},
   "outputs": [
    {
     "name": "stdout",
     "output_type": "stream",
     "text": [
      "Before the function call\n",
      "6\n",
      "After the function call\n"
     ]
    }
   ],
   "source": [
    "## Find lengths using clousures \n",
    "\n",
    "def outer(func, list_elem):\n",
    "    def inner():\n",
    "        print(\"Before the function call\")\n",
    "        print(func(list_elem))     \n",
    "        print(\"After the function call\")\n",
    "    return inner()\n",
    "\n",
    "outer(len, [1,2,3,4,5,6])\n"
   ]
  },
  {
   "cell_type": "markdown",
   "id": "f4255821",
   "metadata": {},
   "source": [
    "## Decorators in Python\n",
    "\n",
    "A **decorator** is a special function in Python that allows you to **modify or enhance the behavior** of another function **without changing its code**.  \n",
    "\n",
    "They are built on top of two concepts we already learned:\n",
    "1. **Function copy** → pass a function as an argument.  \n",
    "2. **Closures** → inner function remembers the original function and wraps it with extra code.\n",
    "\n",
    "---\n",
    "\n",
    "### 1. Manual Decorator (Without `@` Syntax)\n",
    "\n",
    "A decorator is just a function that takes another function as input, defines a `wrapper`, and returns it.\n",
    "\n",
    "```python\n",
    "def my_decorator(func):\n",
    "    def wrapper():\n",
    "        print(\"Before the function is called\")\n",
    "        func()\n",
    "        print(\"After the function is called\")\n",
    "    return wrapper\n",
    "\n",
    "def say_hello():\n",
    "    print(\"Hello, Prasanna!\")\n",
    "\n",
    "# Apply decorator manually\n",
    "decorated = my_decorator(say_hello)\n",
    "decorated()\n",
    "```\n",
    "\n",
    "```pgsql\n",
    "Output:\n",
    "Before the function is called\n",
    "Hello, Prasanna!\n",
    "After the function is called\n",
    "```\n",
    "\n",
    "### 2. Using the @decorator Syntax\n",
    "Instead of wrapping manually, Python provides syntactic sugar with `@`.\n",
    "\n",
    "```python\n",
    "def my_decorator(func):\n",
    "    def wrapper():\n",
    "        print(\"Before the function is called\")\n",
    "        func()\n",
    "        print(\"After the function is called\")\n",
    "    return wrapper\n",
    "\n",
    "@my_decorator   # same as: say_hello = my_decorator(say_hello)\n",
    "def say_hello():\n",
    "    print(\"Hello, Prasanna!\")\n",
    "\n",
    "say_hello()\n",
    "\n",
    "```\n",
    "\n",
    "```pgsql\n",
    "Output:\n",
    "Before the function is called\n",
    "Hello, Prasanna!\n",
    "After the function is called\n",
    "```"
   ]
  },
  {
   "cell_type": "code",
   "execution_count": null,
   "id": "25d0d610",
   "metadata": {},
   "outputs": [
    {
     "name": "stdout",
     "output_type": "stream",
     "text": [
      "Before the function is called\n",
      "Hello, Prasanna!\n",
      "After the function is called\n"
     ]
    }
   ],
   "source": [
    "# Manual Decorator\n",
    "\n",
    "def my_decorator(func):\n",
    "    def wrapper():\n",
    "        print(\"Before the function is called\")\n",
    "        func()\n",
    "        print(\"After the function is called\")\n",
    "    return wrapper\n",
    "\n",
    "def say_hello():\n",
    "    print(\"Hello, Prasanna!\")\n",
    "\n",
    "# Apply decorator manually\n",
    "decorated = my_decorator(say_hello)\n",
    "decorated()"
   ]
  },
  {
   "cell_type": "code",
   "execution_count": 57,
   "id": "6f7f7b73",
   "metadata": {},
   "outputs": [
    {
     "name": "stdout",
     "output_type": "stream",
     "text": [
      "Before the function is called\n",
      "Hello, Prasanna!\n",
      "After the function is called\n"
     ]
    }
   ],
   "source": [
    "# Using the @decorator Syntax\n",
    "\n",
    "def my_decorator(func):\n",
    "    def wrapper():\n",
    "        print(\"Before the function is called\")\n",
    "        func()\n",
    "        print(\"After the function is called\")\n",
    "    return wrapper\n",
    "\n",
    "@my_decorator   # same as: say_hello = my_decorator(say_hello)\n",
    "def say_hello():\n",
    "    print(\"Hello, Prasanna!\")\n",
    "\n",
    "say_hello()\n"
   ]
  },
  {
   "cell_type": "markdown",
   "id": "ee29d88c",
   "metadata": {},
   "source": [
    "### Real-World / Real-Time Examples of Decorators\n",
    "\n",
    "Decorators are very powerful in real projects. Let’s look at some **practical uses**.\n",
    "\n",
    "---\n",
    "\n",
    "#### Example: Logging (Common in APIs / Debugging)\n",
    "```python\n",
    "def log_decorator(func):\n",
    "    def wrapper(*args, **kwargs):\n",
    "        print(f\"[LOG] Calling {func.__name__} with args={args}, kwargs={kwargs}\")\n",
    "        result = func(*args, **kwargs)\n",
    "        print(f\"[LOG] {func.__name__} returned {result}\")\n",
    "        return result\n",
    "    return wrapper\n",
    "\n",
    "@log_decorator\n",
    "def calculate(a, b):\n",
    "    return a + b\n",
    "\n",
    "calculate(10, 20)\n",
    "```\n",
    "```pgsql\n",
    "Output:\n",
    "[LOG] Calling calculate with args=(10, 20), kwargs={}\n",
    "[LOG] calculate returned 30\n",
    "```\n",
    "\n",
    "✅ Useful in APIs, microservices, or AI pipelines where you need to track function calls.\n"
   ]
  },
  {
   "cell_type": "code",
   "execution_count": 58,
   "id": "4d35bf1a",
   "metadata": {},
   "outputs": [
    {
     "name": "stdout",
     "output_type": "stream",
     "text": [
      "[LOG] Calling calculate with args=(10, 20), kwargs={}\n",
      "[LOG] calculate returned 30\n"
     ]
    },
    {
     "data": {
      "text/plain": [
       "30"
      ]
     },
     "execution_count": 58,
     "metadata": {},
     "output_type": "execute_result"
    }
   ],
   "source": [
    "def log_decorator(func):\n",
    "    def wrapper(*args, **kwargs):\n",
    "        print(f\"[LOG] Calling {func.__name__} with args={args}, kwargs={kwargs}\")\n",
    "        result = func(*args, **kwargs)\n",
    "        print(f\"[LOG] {func.__name__} returned {result}\")\n",
    "        return result\n",
    "    return wrapper\n",
    "\n",
    "@log_decorator\n",
    "def calculate(a, b):\n",
    "    return a + b\n",
    "\n",
    "calculate(10, 20)"
   ]
  },
  {
   "cell_type": "markdown",
   "id": "b0e08c7d",
   "metadata": {},
   "source": [
    "### Example: Repeat Function Multiple Times\n",
    "\n",
    "A decorator can be used to repeat a function call `n` times.  \n",
    "This is useful for retries (e.g., when an API call fails) or repeating actions.\n",
    "\n",
    "```python\n",
    "def repeat(n):\n",
    "    def decorator(func):\n",
    "        def wrapper(*args, **kwargs):\n",
    "            for i in range(n):\n",
    "                print(f\"Attempt {i+1}/{n}\")\n",
    "                func(*args, **kwargs)\n",
    "        return wrapper\n",
    "    return decorator\n",
    "\n",
    "@repeat(3)   # repeat 3 times\n",
    "def greet(name):\n",
    "    print(f\"Hello, {name}!\")\n",
    "\n",
    "greet(\"Prasanna\")\n",
    "\n",
    "```\n",
    "```nginx\n",
    "Output:\n",
    "Attempt 1/3\n",
    "Hello, Prasanna!\n",
    "Attempt 2/3\n",
    "Hello, Prasanna!\n",
    "Attempt 3/3\n",
    "Hello, Prasanna!\n",
    "```\n"
   ]
  },
  {
   "cell_type": "code",
   "execution_count": 59,
   "id": "dc818005",
   "metadata": {},
   "outputs": [
    {
     "name": "stdout",
     "output_type": "stream",
     "text": [
      "Attempt 1/3\n",
      "Hello, Prasanna!\n",
      "Attempt 2/3\n",
      "Hello, Prasanna!\n",
      "Attempt 3/3\n",
      "Hello, Prasanna!\n"
     ]
    }
   ],
   "source": [
    "def repeat(n):\n",
    "    def decorator(func):\n",
    "        def wrapper(*args, **kwargs):\n",
    "            for i in range(n):\n",
    "                print(f\"Attempt {i+1}/{n}\")\n",
    "                func(*args, **kwargs)\n",
    "        return wrapper\n",
    "    return decorator\n",
    "\n",
    "@repeat(3)   # repeat 3 times\n",
    "def greet(name):\n",
    "    print(f\"Hello, {name}!\")\n",
    "\n",
    "greet(\"Prasanna\")"
   ]
  },
  {
   "cell_type": "markdown",
   "id": "c2103774",
   "metadata": {},
   "source": [
    "### Practical Purpose of @repeat\n",
    "👉 Retry mechanism — In real-world apps, some operations can fail intermittently (e.g., API calls, database queries, network requests).\n",
    "Instead of writing retry logic everywhere, a repeat (or better: retry) decorator can automatically re-run the function."
   ]
  },
  {
   "cell_type": "code",
   "execution_count": 86,
   "id": "e5e93e3c",
   "metadata": {},
   "outputs": [
    {
     "name": "stdout",
     "output_type": "stream",
     "text": [
      "Attempt 1/3 failed: Network error 🌐\n",
      "Data received ✅\n"
     ]
    }
   ],
   "source": [
    "import random\n",
    "\n",
    "# Outer function: takes 'n' (number of times to repeat)\n",
    "def repeat(n):\n",
    "    # This is the actual decorator function (takes a function as input)\n",
    "    def decorator(func):\n",
    "        # Wrapper adds retry logic around the original function\n",
    "        def wrapper(*args, **kwargs):\n",
    "            for i in range(n):   # try 'n' times\n",
    "                try:\n",
    "                    # Try calling the function\n",
    "                    return func(*args, **kwargs)\n",
    "                except Exception as e:\n",
    "                    # If it fails, catch the exception and print the attempt number\n",
    "                    print(f\"Attempt {i+1}/{n} failed: {e}\")\n",
    "            # If all attempts fail, raise an error\n",
    "            raise Exception(f\"All {n} attempts failed ❌\")\n",
    "        return wrapper   # return the new wrapped function\n",
    "    return decorator     # return the decorator itself\n",
    "\n",
    "# Use the decorator: this means fetch_data = repeat(3)(fetch_data)\n",
    "@repeat(3)   # try up to 3 times before giving up\n",
    "def fetch_data():\n",
    "    # Simulate a flaky network: randomly succeed or fail\n",
    "    if random.choice([True, False]):   # 50% chance\n",
    "        raise Exception(\"Network error 🌐\")\n",
    "    return \"Data received ✅\"\n",
    "\n",
    "# Call the decorated function\n",
    "print(fetch_data())"
   ]
  },
  {
   "cell_type": "markdown",
   "id": "0fc32d60",
   "metadata": {},
   "source": [
    "### 🔍 Execution Flow\n",
    "- `@repeat(3)` → calls `repeat(3)` and returns a `decorator`.\n",
    "- `fetch_data` = `decorator(fetch_data)` → replaces original function with wrapper.\n",
    "- When you call `fetch_data()`:\n",
    "    - It runs the wrapper.\n",
    "    - The wrapper tries calling the original function up to `n` times.\n",
    "    - If one attempt succeeds → it returns the result immediately.\n",
    "    - If all fail → raises an error: All `n` attempts failed ❌."
   ]
  },
  {
   "cell_type": "markdown",
   "id": "e1b808c7",
   "metadata": {},
   "source": [
    "### 🔑 Why Useful?\n",
    "- APIs: Retry if network temporarily fails.\n",
    "- Databases: Retry if connection is lost.\n",
    "- AI/ML: Retry fetching data batches or re-run a training step if resource contention happens."
   ]
  },
  {
   "cell_type": "markdown",
   "id": "3a36e8f8",
   "metadata": {},
   "source": [
    "## 🎯 Conclusion: Decorators in Python\n",
    "\n",
    "- Decorators are built on two core Python concepts:\n",
    "  - **First-class functions** → functions can be passed, copied, and returned.\n",
    "  - **Closures** → inner functions can remember and use variables from the outer scope.\n",
    "\n",
    "- A **decorator** is essentially a function that:\n",
    "  1. Takes another function as input.\n",
    "  2. Wraps it with additional behavior (via a closure).\n",
    "  3. Returns the new function.\n",
    "\n",
    "- You can use decorators in two ways:\n",
    "  - **Manually**: `decorated = decorator(func)`\n",
    "  - **Pythonic syntax**: `@decorator`\n",
    "\n",
    "- Best practices:\n",
    "  - Always use `*args` and `**kwargs` in the wrapper to keep it flexible.\n",
    "  - Use `functools.wraps` (optional but recommended) to preserve the original function’s name and docstring.\n",
    "  - Keep decorators small and focused on **one responsibility** (e.g., logging, caching, authentication).\n",
    "\n",
    "- **Real-world use cases** of decorators:\n",
    "  - Logging and debugging (`@log`)\n",
    "  - Timing and performance monitoring (`@timer`)\n",
    "  - Access control (`@login_required`)\n",
    "  - Caching and memoization (`@lru_cache`, custom caching)\n",
    "  - Retry logic (`@repeat`, `@retry`)\n",
    "  - Frameworks like Flask/Django (`@app.route`, `@require_auth`) rely heavily on decorators.\n",
    "\n",
    "---\n",
    "\n",
    "✅ **Bottom line:**  \n",
    "Decorators are one of Python’s most powerful features.  \n",
    "They let you add functionality to existing functions **cleanly, without modifying their code**, making your programs more modular, reusable, and elegant.\n"
   ]
  }
 ],
 "metadata": {
  "kernelspec": {
   "display_name": "Python 3",
   "language": "python",
   "name": "python3"
  },
  "language_info": {
   "codemirror_mode": {
    "name": "ipython",
    "version": 3
   },
   "file_extension": ".py",
   "mimetype": "text/x-python",
   "name": "python",
   "nbconvert_exporter": "python",
   "pygments_lexer": "ipython3",
   "version": "3.12.11"
  }
 },
 "nbformat": 4,
 "nbformat_minor": 5
}
