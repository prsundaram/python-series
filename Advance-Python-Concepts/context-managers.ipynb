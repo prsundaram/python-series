{
 "cells": [
  {
   "cell_type": "markdown",
   "id": "3c267ef4",
   "metadata": {},
   "source": [
    "# What is a Context Manager?\n",
    "A context manager is a Python object that sets up a resource before a block of code runs, and cleans it up automatically when the block finishes.\n",
    "\n",
    "👉 The most common way to use them is with the with statement."
   ]
  },
  {
   "cell_type": "markdown",
   "id": "ac452e51",
   "metadata": {},
   "source": [
    "## 1. The `with` Statement (Built-in File Context Manager)\n",
    "\n",
    "When working with files, `with` ensures the file is automatically closed after the block.\n"
   ]
  },
  {
   "cell_type": "code",
   "execution_count": 1,
   "id": "f3b4608b",
   "metadata": {},
   "outputs": [],
   "source": [
    "with open(\"example.txt\", \"w\") as f:\n",
    "    f.write(\"Hello, Prasanna!\")\n",
    "# File is automatically closed here"
   ]
  },
  {
   "cell_type": "markdown",
   "id": "c3bee419",
   "metadata": {},
   "source": [
    "✅ No need to call `f.close()`.\n",
    "\n",
    "👉 What happens here:\n",
    "- open(\"example.txt\", \"w\") → file is opened in write mode.\n",
    "- `f` is the file object.\n",
    "- Inside the with block, you can use the file (f.write(...)).\n",
    "- Once the block ends → Python automatically calls f.close(), even if an error occurs.\n",
    "\n",
    "✅ This is the simplest context manager, built into Python’s file handling.\n",
    "\n",
    "✅ Even if an error occurs inside the block, Python closes the file safely."
   ]
  },
  {
   "cell_type": "markdown",
   "id": "b48de102",
   "metadata": {},
   "source": [
    "## 2. Class-Based Context Manager (`__enter__` / `__exit__`)\n",
    "\n",
    "We can build our own context manager for file handling."
   ]
  },
  {
   "cell_type": "code",
   "execution_count": 2,
   "id": "ec815bad",
   "metadata": {},
   "outputs": [
    {
     "name": "stdout",
     "output_type": "stream",
     "text": [
      "Opening file...\n",
      "Closing file...\n"
     ]
    }
   ],
   "source": [
    "class FileManager:\n",
    "    def __init__(self, filename, mode):\n",
    "        self.filename = filename\n",
    "        self.mode = mode\n",
    "        self.file = None\n",
    "\n",
    "    def __enter__(self):\n",
    "        print(\"Opening file...\")\n",
    "        self.file = open(self.filename, self.mode)\n",
    "        return self.file\n",
    "\n",
    "    def __exit__(self, exc_type, exc_value, traceback):\n",
    "        print(\"Closing file...\")\n",
    "        if self.file:\n",
    "            self.file.close()\n",
    "\n",
    "# Usage\n",
    "with FileManager(\"example2.txt\", \"w\") as f:\n",
    "    f.write(\"Managed by class-based context manager\")\n"
   ]
  },
  {
   "cell_type": "markdown",
   "id": "cd34a6fa",
   "metadata": {},
   "source": [
    "👉 What happens here:\n",
    "- When with `FileManager(...)` runs → Python calls `__enter__`.\n",
    "- `__enter__` opens the file and returns it.\n",
    "- Inside the block → you write to the file.\n",
    "- When the block ends → Python automatically calls `__exit__`.\n",
    "- `__exit__` ensures the file is closed.\n",
    "\n",
    "✅ This is exactly what happens inside Python’s built-in file handling."
   ]
  },
  {
   "cell_type": "markdown",
   "id": "74ba955c",
   "metadata": {},
   "source": [
    "## 3. Function-Based Context Manager (@contextmanager)\n",
    "- Python provides a shortcut using `contextlib.contextmanager`.\n",
    "- Here, we use a generator with `yield`."
   ]
  },
  {
   "cell_type": "code",
   "execution_count": 3,
   "id": "f6991db5",
   "metadata": {},
   "outputs": [
    {
     "name": "stdout",
     "output_type": "stream",
     "text": [
      "Opening file...\n",
      "Closing file...\n"
     ]
    }
   ],
   "source": [
    "from contextlib import contextmanager\n",
    "\n",
    "@contextmanager\n",
    "def file_manager(filename, mode):\n",
    "    print(\"Opening file...\")\n",
    "    f = open(filename, mode)\n",
    "    try:\n",
    "        yield f   # return control to the with-block\n",
    "    finally:\n",
    "        print(\"Closing file...\")\n",
    "        f.close()\n",
    "\n",
    "with file_manager(\"example3.txt\", \"w\") as f:\n",
    "    f.write(\"Managed by function-based context manager\")\n"
   ]
  },
  {
   "cell_type": "markdown",
   "id": "7680517f",
   "metadata": {},
   "source": [
    "👉 What happens here:\n",
    "- Code before `yield` → setup (open file).\n",
    "- The value from `yield` → given to the with block (f).\n",
    "- Code after `yield` → cleanup (close file).\n",
    "- `finally` ensures cleanup happens even if an error occurs.\n",
    "\n",
    "✅ This approach is shorter and more Pythonic than writing a class."
   ]
  },
  {
   "cell_type": "markdown",
   "id": "083f2fe9",
   "metadata": {},
   "source": [
    "## 4. Managing Multiple Files at Once"
   ]
  },
  {
   "cell_type": "code",
   "execution_count": 5,
   "id": "cb8e14e2",
   "metadata": {},
   "outputs": [],
   "source": [
    "with open(\"example3.txt\", \"r\") as f1, open(\"output.txt\", \"w\") as f2:\n",
    "    data = f1.read()\n",
    "    f2.write(data)\n"
   ]
  },
  {
   "cell_type": "markdown",
   "id": "ad7cea1a",
   "metadata": {},
   "source": [
    "👉 What’s happening:\n",
    "- Two files are opened at the same time (f1, f2).\n",
    "- The with statement ensures that both are closed automatically at the end of the block.\n",
    "- Even if one file raises an exception, Python still makes sure both are cleaned up.\n",
    "\n",
    "✅ Cleaner than writing nested with blocks."
   ]
  },
  {
   "cell_type": "markdown",
   "id": "ee69296c",
   "metadata": {},
   "source": [
    "## 5. Suppressing Exceptions (contextlib.suppress)"
   ]
  },
  {
   "cell_type": "code",
   "execution_count": 6,
   "id": "4e1fc848",
   "metadata": {},
   "outputs": [],
   "source": [
    "from contextlib import suppress\n",
    "\n",
    "with suppress(FileNotFoundError):\n",
    "    with open(\"non_existent.txt\") as f:\n",
    "        print(f.read())   # no error, just ignored\n"
   ]
  },
  {
   "cell_type": "markdown",
   "id": "d858b7e2",
   "metadata": {},
   "source": [
    "👉 What’s happening:\n",
    "- Normally, opening a missing file → raises FileNotFoundError.\n",
    "- With suppress(FileNotFoundError) → Python ignores this specific exception.\n",
    "- The code continues without crashing.\n",
    "\n",
    "✅ Use when certain errors are “ok” and you don’t want extra try/except noise.\n",
    "(Example: deleting a temp file that may or may not exist.)"
   ]
  },
  {
   "cell_type": "markdown",
   "id": "82ac7b57",
   "metadata": {},
   "source": [
    "## 6. ExitStack → Managing Many Resources Dynamically"
   ]
  },
  {
   "cell_type": "code",
   "execution_count": 7,
   "id": "eb95ddcf",
   "metadata": {},
   "outputs": [],
   "source": [
    "from contextlib import ExitStack\n",
    "\n",
    "files = [\"a.txt\", \"b.txt\", \"c.txt\"]\n",
    "\n",
    "with ExitStack() as stack:\n",
    "    handles = [stack.enter_context(open(fname, \"w\")) for fname in files]\n",
    "    for f in handles:\n",
    "        f.write(\"Hello, Prasanna!\\n\")\n"
   ]
  },
  {
   "cell_type": "markdown",
   "id": "3ef4b74e",
   "metadata": {},
   "source": [
    "👉 What’s happening:\n",
    "- Suppose you have a list of files and you want to open all of them.\n",
    "- You don’t know the number in advance (it could be 2 or 200).\n",
    "- ExitStack dynamically manages them:\n",
    "- `stack.enter_context(...)` opens each file.\n",
    "- When the block ends → ExitStack closes all files automatically.\n",
    "\n",
    "✅ Perfect when working with variable resources (files, sockets, DBs, etc.)."
   ]
  },
  {
   "cell_type": "markdown",
   "id": "706d25ab",
   "metadata": {},
   "source": [
    "## 7. Async Context Managers (async with)"
   ]
  },
  {
   "cell_type": "code",
   "execution_count": 9,
   "id": "5203dbea",
   "metadata": {},
   "outputs": [
    {
     "name": "stdout",
     "output_type": "stream",
     "text": [
      "Opening async resource...\n",
      "Async Resource\n",
      "Closing async resource...\n"
     ]
    }
   ],
   "source": [
    "import asyncio\n",
    "from contextlib import asynccontextmanager\n",
    "\n",
    "@asynccontextmanager\n",
    "async def my_async_file():\n",
    "    print(\"Opening async resource...\")\n",
    "    yield \"Async Resource\"\n",
    "    print(\"Closing async resource...\")\n",
    "\n",
    "async def main():\n",
    "    async with my_async_file() as f:\n",
    "        print(f)\n",
    "\n",
    "#asyncio.run(main())\n",
    "\n",
    "\n",
    "# In a Jupyter cell, do this:\n",
    "await main()\n",
    "\n",
    "\n"
   ]
  },
  {
   "cell_type": "markdown",
   "id": "c7cbba73",
   "metadata": {},
   "source": [
    "👉 What’s happening:\n",
    "- `asynccontextmanager` works like `@contextmanager`, but for `async`/`await` code.\n",
    "- `async` `with` ensures that setup/cleanup also work in async functions.\n",
    "- Very useful in FastAPI, aiohttp, and async DB drivers.\n",
    "\n",
    "✅ Example: opening a database connection in an async web server."
   ]
  },
  {
   "cell_type": "markdown",
   "id": "0a246b47",
   "metadata": {},
   "source": [
    "### 🎯 Final Summary: Context Managers in Python\n",
    "\n",
    "---\n",
    "\n",
    "#### 1. The `with` Statement (Built-in)\n",
    "- Simplest form of context manager, often used with files.\n",
    "- Ensures resources (like files) are **automatically cleaned up** after use.\n",
    "- Equivalent to writing `try/finally` blocks manually, but shorter and safer.\n",
    "\n",
    "---\n",
    "\n",
    "#### 2. Class-Based Context Managers\n",
    "- Define `__enter__()` for setup (resource allocation).\n",
    "- Define `__exit__()` for cleanup (resource release).\n",
    "- Gives full control over resource management, including handling exceptions.\n",
    "\n",
    "---\n",
    "\n",
    "#### 3. Function-Based Context Managers (`@contextmanager`)\n",
    "- Use `contextlib.contextmanager` and `yield` for a simpler syntax.\n",
    "- Code before `yield` → setup.\n",
    "- Code after `yield` → cleanup.\n",
    "- More concise than writing classes, especially for simple managers.\n",
    "\n",
    "---\n",
    "\n",
    "#### 4. Why Context Managers?\n",
    "- They eliminate the need for **manual cleanup** (like `close()`).\n",
    "- Guarantee cleanup happens even if an **exception occurs**.\n",
    "- Make code more **readable, concise, and reliable**.\n",
    "\n",
    "---\n",
    "\n",
    "#### 5. Multiple Context Managers\n",
    "- Allows opening/using **multiple resources** in a single `with` statement.\n",
    "- Ensures **all resources** are closed properly when the block exits.\n",
    "- Cleaner than writing nested `with` statements.\n",
    "\n",
    "---\n",
    "\n",
    "#### 6. Suppressing Exceptions (`suppress`)\n",
    "- Lets you **ignore specific exceptions** automatically.\n",
    "- Useful when certain errors are expected (e.g., file may not exist).\n",
    "- Prevents unnecessary `try/except` clutter in code.\n",
    "\n",
    "---\n",
    "\n",
    "#### 7. ExitStack\n",
    "- Advanced tool for managing a **dynamic or unknown number of resources**.\n",
    "- You can add resources as needed (`enter_context`).\n",
    "- Automatically closes all resources at the end of the block.\n",
    "\n",
    "---\n",
    "\n",
    "#### 8. Async Context Managers (`async with`)\n",
    "- Used in asynchronous programming with `async/await`.\n",
    "- Ensures async resources (like DB connections, network sockets) are setup/cleaned properly.\n",
    "- Essential in frameworks like **FastAPI, aiohttp, async DB drivers**.\n",
    "\n",
    "---\n",
    "\n",
    "#### ✅ Key Takeaway\n",
    "Context managers = **automatic setup + cleanup**.  \n",
    "They:\n",
    "- Simplify resource handling,\n",
    "- Prevent memory/resource leaks,\n",
    "- Work in both synchronous and asynchronous worlds,\n",
    "- Scale from simple file handling → to advanced use cases (DBs, threads, APIs).\n",
    "\n",
    "Context managers are everywhere in Python — mastering them makes your code **cleaner, safer, and more professional**.\n"
   ]
  }
 ],
 "metadata": {
  "kernelspec": {
   "display_name": "Python 3",
   "language": "python",
   "name": "python3"
  },
  "language_info": {
   "codemirror_mode": {
    "name": "ipython",
    "version": 3
   },
   "file_extension": ".py",
   "mimetype": "text/x-python",
   "name": "python",
   "nbconvert_exporter": "python",
   "pygments_lexer": "ipython3",
   "version": "3.12.11"
  }
 },
 "nbformat": 4,
 "nbformat_minor": 5
}
