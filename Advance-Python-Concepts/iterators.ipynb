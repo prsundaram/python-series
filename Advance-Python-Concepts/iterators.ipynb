{
 "cells": [
  {
   "cell_type": "markdown",
   "id": "a0f32d5a",
   "metadata": {},
   "source": [
    "# Iterators \n",
    "\n",
    "Iterators are advanced Python concepts that allow for efficient looping and memory management. Iterators provide a way to access elements of a collection sequentially without exposing the underlying structure"
   ]
  },
  {
   "cell_type": "markdown",
   "id": "906cd4b9",
   "metadata": {},
   "source": [
    "## What is an Iterator?\n",
    "- An iterator in Python is an object that lets you iterate (loop) over elements, one at a time.\n",
    "- An iterator implements two special methods:\n",
    "    - `__iter__()` → returns the iterator object itself.\n",
    "    - `__next__()` → returns the next value from the sequence.\n",
    "- When no more elements are left, it raises a StopIteration exception."
   ]
  },
  {
   "cell_type": "code",
   "execution_count": 2,
   "id": "06a99221",
   "metadata": {},
   "outputs": [],
   "source": [
    "my_list = [1,2,3,4,5]"
   ]
  },
  {
   "cell_type": "code",
   "execution_count": 10,
   "id": "f24606d3",
   "metadata": {},
   "outputs": [
    {
     "name": "stdout",
     "output_type": "stream",
     "text": [
      "10\n",
      "20\n",
      "30\n",
      "40\n"
     ]
    }
   ],
   "source": [
    "# A list\n",
    "numbers = [10, 20, 30, 40]\n",
    "\n",
    "# Get an iterator from the list\n",
    "it = iter(numbers)\n",
    "\n",
    "# Fetch elements one by one using next()\n",
    "print(next(it))  # 10\n",
    "print(next(it))  # 20\n",
    "print(next(it))  # 30\n",
    "print(next(it))  # 40\n",
    "\n",
    "# If we call next() again, it raises StopIteration\n",
    "# print(next(it))  # Uncomment → StopIteration error\n"
   ]
  },
  {
   "cell_type": "markdown",
   "id": "983238bc",
   "metadata": {},
   "source": [
    "## Iterator Behind the Scenes\n",
    "\n",
    "When you do a `for` loop in Python:"
   ]
  },
  {
   "cell_type": "code",
   "execution_count": null,
   "id": "9250b5a6",
   "metadata": {},
   "outputs": [
    {
     "name": "stdout",
     "output_type": "stream",
     "text": [
      "1\n",
      "2\n",
      "3\n"
     ]
    }
   ],
   "source": [
    "for x in [1, 2, 3]:\n",
    "    print(x)"
   ]
  },
  {
   "cell_type": "markdown",
   "id": "b7de2b2c",
   "metadata": {},
   "source": [
    "Python internally does:"
   ]
  },
  {
   "cell_type": "code",
   "execution_count": 2,
   "id": "af0b59c8",
   "metadata": {},
   "outputs": [
    {
     "name": "stdout",
     "output_type": "stream",
     "text": [
      "1\n",
      "2\n",
      "3\n"
     ]
    }
   ],
   "source": [
    "it = iter([1, 2, 3])\n",
    "while True:\n",
    "    try:\n",
    "        x = next(it)\n",
    "        print(x)\n",
    "    except StopIteration:\n",
    "        break\n"
   ]
  },
  {
   "cell_type": "markdown",
   "id": "f30bdc60",
   "metadata": {},
   "source": [
    "So, loops in Python are powered by iterators."
   ]
  },
  {
   "cell_type": "markdown",
   "id": "6c1b1001",
   "metadata": {},
   "source": [
    "## Creating Your Own Iterator\n",
    "\n",
    "You can define a class with `__iter__()` and `__next__()`:"
   ]
  },
  {
   "cell_type": "code",
   "execution_count": 3,
   "id": "95e7db22",
   "metadata": {},
   "outputs": [
    {
     "name": "stdout",
     "output_type": "stream",
     "text": [
      "1\n",
      "2\n",
      "3\n",
      "4\n",
      "5\n"
     ]
    }
   ],
   "source": [
    "class CountUpto:\n",
    "    def __init__(self, limit):\n",
    "        self.limit = limit\n",
    "        self.current = 1\n",
    "    \n",
    "    def __iter__(self):\n",
    "        return self   # iterator returns itself\n",
    "    \n",
    "    def __next__(self):\n",
    "        if self.current <= self.limit:\n",
    "            value = self.current\n",
    "            self.current += 1\n",
    "            return value\n",
    "        else:\n",
    "            raise StopIteration\n",
    "\n",
    "# Use it\n",
    "for num in CountUpto(5):\n",
    "    print(num)\n"
   ]
  },
  {
   "cell_type": "markdown",
   "id": "bd6ec493",
   "metadata": {},
   "source": [
    "## Iterators vs Iterables\n",
    "- Iterable → An object you can loop over (like list, tuple, string). It has `__iter__()` that returns an iterator.\n",
    "- Iterator → An object with `__iter__()` and `__next__()` that gives elements one by one.\n",
    "```text\n",
    "👉 Every iterator is an iterable, but not every iterable is an iterator.\n",
    "```"
   ]
  },
  {
   "cell_type": "markdown",
   "id": "6577f63c",
   "metadata": {},
   "source": [
    "Example:"
   ]
  },
  {
   "cell_type": "code",
   "execution_count": 6,
   "id": "e0f994a0",
   "metadata": {},
   "outputs": [
    {
     "name": "stdout",
     "output_type": "stream",
     "text": [
      "True\n",
      "False\n",
      "True\n",
      "True\n"
     ]
    }
   ],
   "source": [
    "# A list (nums) is an iterable but not an iterator\n",
    "nums = [1, 2, 3]\n",
    "\n",
    "# ✅ True because list implements __iter__()\n",
    "#    This means we can get an iterator from nums using iter(nums).\n",
    "print(hasattr(nums, \"__iter__\"))   # True (Iterable)\n",
    "\n",
    "# ❌ False because list itself does not implement __next__()\n",
    "#    Lists don't produce items one at a time by themselves — \n",
    "#    they only provide an iterator when we call iter(nums).\n",
    "print(hasattr(nums, \"__next__\"))   # False (Not an iterator)\n",
    "\n",
    "\n",
    "# Now create an iterator from the list\n",
    "it = iter(nums)\n",
    "\n",
    "# ✅ True because iterator also has __iter__()\n",
    "#    Iterators are required to be iterable (so you can do for x in it).\n",
    "print(hasattr(it, \"__iter__\"))     # True (Iterator is iterable too)\n",
    "\n",
    "# ✅ True because iterator implements __next__()\n",
    "#    This is what allows us to fetch one item at a time (next(it)).\n",
    "print(hasattr(it, \"__next__\"))     # True (Iterator)\n"
   ]
  }
 ],
 "metadata": {
  "kernelspec": {
   "display_name": "Python 3",
   "language": "python",
   "name": "python3"
  },
  "language_info": {
   "codemirror_mode": {
    "name": "ipython",
    "version": 3
   },
   "file_extension": ".py",
   "mimetype": "text/x-python",
   "name": "python",
   "nbconvert_exporter": "python",
   "pygments_lexer": "ipython3",
   "version": "3.12.11"
  }
 },
 "nbformat": 4,
 "nbformat_minor": 5
}
