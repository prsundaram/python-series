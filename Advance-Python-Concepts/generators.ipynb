{
 "cells": [
  {
   "cell_type": "markdown",
   "id": "abcaf7a3",
   "metadata": {},
   "source": [
    "# Generators in Python\n",
    "\n",
    "- It is sub-class of Iterator itself. Generators are a simpler way to create iterators. They use the `yield` keyword to produce a series of values lazily, which means they generate values on the fly and do not store them in memory.\n",
    "- Generators are a special type of **iterator** in Python.  \n",
    "- They provide a more concise and readable way to create iterators compared to writing a full class with `__iter__()` and `__next__()` methods.\n",
    "\n",
    "---\n",
    "\n",
    "### Key Points\n",
    "- Generators are **subclasses of iterators** (they follow the iterator protocol).\n",
    "- They are defined using **functions** but use the `yield` keyword instead of `return`.\n",
    "- Each call to `yield` produces a value **lazily** (on demand), meaning values are generated **one at a time** only when requested.\n",
    "- Since values are not stored in memory, generators are very **memory-efficient**, especially useful for large datasets or infinite sequences.\n",
    "--- \n",
    "\n",
    "### Example\n",
    "```python\n",
    "def count_up_to(limit):\n",
    "    current = 1\n",
    "    while current <= limit:\n",
    "        yield current   # yields values one by one\n",
    "        current += 1\n",
    "\n",
    "# Using the generator\n",
    "for num in count_up_to(5):\n",
    "    print(num)\n",
    "```\n",
    "---\n",
    "\n",
    "```text\n",
    "Visual Flow of `yield`\n",
    "\n",
    "Function call → execution starts\n",
    "     |\n",
    "     v\n",
    " encounters yield → value returned to caller\n",
    "     |\n",
    " paused here ←──────────── next() called again\n",
    "     |\n",
    " resumes right after last yield\n",
    "     |\n",
    " continues until next yield / StopIteration\n",
    " ```\n",
    "\n",
    "\n",
    "- Think of `yield` as a \"pause button\":\n",
    "- Each time `yield` runs → one value is returned.\n",
    "- The function \"remembers\" where it left off.\n",
    "- On the next `next()` call, it resumes from that exact point.\n",
    "\n",
    "Generators are essentially iterators made simple.\n",
    "They act as a subclass of `iterators`, use the `yield` keyword to generate values lazily, and are both easy to write and memory-friendly."
   ]
  },
  {
   "cell_type": "code",
   "execution_count": 3,
   "id": "06234756",
   "metadata": {},
   "outputs": [
    {
     "data": {
      "text/plain": [
       "0"
      ]
     },
     "execution_count": 3,
     "metadata": {},
     "output_type": "execute_result"
    }
   ],
   "source": [
    "def square(n):\n",
    "    for i in range(3):\n",
    "        return i ** 2\n",
    "\n",
    "square(3)"
   ]
  },
  {
   "cell_type": "markdown",
   "id": "796e9d0d",
   "metadata": {},
   "source": [
    "### Step-by-step Execution:\n",
    "- Function `square(3)` is called.\n",
    "- The loop `for i in range(3)` starts.\n",
    "- First iteration: `i = 0`\n",
    "- Inside the loop → return `i ** 2` executes immediately.\n",
    "- That means it returns `0 (since 0 ** 2 = 0)`.\n",
    "- The return statement ends the function instantly, so the loop never continues to i = 1 or i = 2.\n",
    "```text\n",
    "👉 That’s why the result is always 0.\n",
    "```\n",
    "\n",
    "### What I actually want\n",
    "I want all the squares up to `n`, not just the first one.\n",
    "\n",
    "Correct version using `list`"
   ]
  },
  {
   "cell_type": "code",
   "execution_count": null,
   "id": "6eca99a6",
   "metadata": {},
   "outputs": [
    {
     "name": "stdout",
     "output_type": "stream",
     "text": [
      "[0, 1, 4]\n"
     ]
    }
   ],
   "source": [
    "def square(n):\n",
    "    result = []\n",
    "    for i in range(n):\n",
    "        result.append(i ** 2)\n",
    "    return result\n",
    "\n",
    "print(square(3))   # [0, 1, 4]"
   ]
  },
  {
   "cell_type": "markdown",
   "id": "c179dd1e",
   "metadata": {},
   "source": [
    "- Instead of building the full list in memory, we can use a **generator**.\n",
    "- Generators use the `yield` keyword to produce values lazily, one at a time."
   ]
  },
  {
   "cell_type": "code",
   "execution_count": 7,
   "id": "992bfe5a",
   "metadata": {},
   "outputs": [
    {
     "name": "stdout",
     "output_type": "stream",
     "text": [
      "0\n",
      "1\n",
      "4\n"
     ]
    }
   ],
   "source": [
    "def square(n):\n",
    "    for i in range(n):\n",
    "        yield i ** 2 # yields values instead of returning once\n",
    "\n",
    "\n",
    "for val in square(3):\n",
    "    print(val)\n"
   ]
  },
  {
   "cell_type": "markdown",
   "id": "abf14546",
   "metadata": {},
   "source": [
    "- You might be wondering — “Why do we need a loop when we already have yield?”\n",
    "- Great question. Let’s break it down.\n",
    "\n",
    "### Why the loop is needed\n",
    "- yield by itself just produces one value at the point it is written.\n",
    "- To produce multiple values, you need to call yield multiple times.\n",
    "- Instead of writing yield again and again manually, we use a for loop to repeat it.\n",
    "\n",
    "Example without a loop:"
   ]
  },
  {
   "cell_type": "code",
   "execution_count": 8,
   "id": "f83c598e",
   "metadata": {},
   "outputs": [
    {
     "name": "stdout",
     "output_type": "stream",
     "text": [
      "0\n",
      "1\n",
      "4\n"
     ]
    }
   ],
   "source": [
    "def square_no_loop():\n",
    "    yield 0 ** 2\n",
    "    yield 1 ** 2\n",
    "    yield 2 ** 2\n",
    "\n",
    "for val in square_no_loop():\n",
    "    print(val)\n"
   ]
  },
  {
   "cell_type": "markdown",
   "id": "226eeb99",
   "metadata": {},
   "source": [
    "👉 This works — but notice we had to write yield three times. Not scalable."
   ]
  },
  {
   "cell_type": "markdown",
   "id": "389ae26d",
   "metadata": {},
   "source": [
    "Example with a loop (better):"
   ]
  },
  {
   "cell_type": "code",
   "execution_count": 9,
   "id": "d7f424a5",
   "metadata": {},
   "outputs": [],
   "source": [
    "def square(n):\n",
    "    for i in range(n):   # loop handles repetition\n",
    "        yield i ** 2"
   ]
  },
  {
   "cell_type": "markdown",
   "id": "1e3bd9af",
   "metadata": {},
   "source": [
    "👉 The loop ensures that `yield` is executed `n` times, one for each `i`.\n",
    "\n",
    "So the loop isn’t “extra” — it’s just a way to avoid manually writing multiple yields."
   ]
  },
  {
   "cell_type": "markdown",
   "id": "b4fc1ea1",
   "metadata": {},
   "source": [
    "### Visualizing yield with a loop\n",
    "\n",
    "```python\n",
    "call square(3) → execution starts\n",
    "   i = 0 → yield 0\n",
    "(next call)\n",
    "   i = 1 → yield 1\n",
    "(next call)\n",
    "   i = 2 → yield 4\n",
    "(next call) → loop ends → StopIteration\n",
    "```\n",
    "\n",
    "- If you only need one value → `yield` alone is enough.\n",
    "- If you want a sequence of values → you wrap `yield` in a loop, so Python executes it multiple times"
   ]
  },
  {
   "cell_type": "markdown",
   "id": "aefcb5a0",
   "metadata": {},
   "source": [
    "### Generating Fibonacci Numbers\n",
    "\n",
    "Classic infinite sequence example.\n",
    "- A `return` can’t handle this, but a `generator` can."
   ]
  },
  {
   "cell_type": "code",
   "execution_count": 10,
   "id": "8f5ae20b",
   "metadata": {},
   "outputs": [
    {
     "name": "stdout",
     "output_type": "stream",
     "text": [
      "0\n",
      "1\n",
      "1\n",
      "2\n",
      "3\n",
      "5\n",
      "8\n",
      "13\n",
      "21\n",
      "34\n",
      "55\n",
      "89\n",
      "144\n"
     ]
    }
   ],
   "source": [
    "def fibonacci():\n",
    "    a, b = 0, 1\n",
    "    while True:    # infinite sequence\n",
    "        yield a\n",
    "        a, b = b, a + b\n",
    "\n",
    "# Usage\n",
    "for num in fibonacci():\n",
    "    print(num)\n",
    "    if num > 100:  # stop condition\n",
    "        break\n"
   ]
  },
  {
   "cell_type": "markdown",
   "id": "046db1f9",
   "metadata": {},
   "source": [
    "✅ Generates on demand without storing all numbers."
   ]
  },
  {
   "cell_type": "markdown",
   "id": "5f36ff0f",
   "metadata": {},
   "source": [
    "### Practical Example: Reading Large Files\n",
    "\n",
    "Generators are particularly useful when working with **large files**.  \n",
    "Instead of loading the entire file into memory, a generator allows you to **process one line at a time**, making it memory-efficient.\n",
    "\n",
    "### Example\n",
    "```python\n",
    "def read_large_file(filepath):\n",
    "    with open(filepath, \"r\") as f:\n",
    "        for line in f:\n",
    "            yield line.strip()   # yield one line at a time\n",
    "\n",
    "# Usage\n",
    "for line in read_large_file(\"bigdata.txt\"):\n",
    "    print(line)   # process line by line\n",
    "```\n",
    "\n",
    "### Why use a Generator here?\n",
    "```text\n",
    "✅ Memory-efficient → loads only one line at a time\n",
    "✅ Scalable → works even for files that are GBs in size\n",
    "✅ Clean & Pythonic → avoids manual indexing and list handling\n",
    "This is how Python internally handles file iteration (for line in file uses an iterator/generator under the hood).\n",
    "```"
   ]
  }
 ],
 "metadata": {
  "kernelspec": {
   "display_name": "Python 3",
   "language": "python",
   "name": "python3"
  },
  "language_info": {
   "codemirror_mode": {
    "name": "ipython",
    "version": 3
   },
   "file_extension": ".py",
   "mimetype": "text/x-python",
   "name": "python",
   "nbconvert_exporter": "python",
   "pygments_lexer": "ipython3",
   "version": "3.12.11"
  }
 },
 "nbformat": 4,
 "nbformat_minor": 5
}
