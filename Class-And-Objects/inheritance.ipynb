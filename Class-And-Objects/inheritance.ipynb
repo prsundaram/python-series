{
 "cells": [
  {
   "cell_type": "markdown",
   "id": "ef2affec",
   "metadata": {},
   "source": [
    "## Inheritance In Python\n",
    "\n",
    "Inheritance is a fundamental concept in Object-Oriented Programming (OOP), that allows a class to inherit attributes and methods from another class. This note covers single inheritance and multiple inheritance, demonstrating how to create and use them in python"
   ]
  },
  {
   "cell_type": "code",
   "execution_count": 44,
   "id": "9ae027c5",
   "metadata": {},
   "outputs": [],
   "source": [
    "# ------------------------------\n",
    "# Inheritance in Python\n",
    "# ------------------------------\n",
    "# Inheritance allows one class (child/derived class) \n",
    "# to reuse attributes and methods of another class (parent/base class).\n",
    "# This reduces code duplication and makes programs more modular.\n",
    "\n",
    "# ------------------------------\n",
    "# Parent Class\n",
    "# ------------------------------\n",
    "\n",
    "class Car:\n",
    "    # Initialize attributes common to all cars\n",
    "    def __init__(self, windows, doors, engine_type):\n",
    "        self.windows = windows\n",
    "        self.doors = doors\n",
    "        self.engine_type = engine_type\n",
    "    \n",
    "    def drive(self):\n",
    "        # Example method common to all cars\n",
    "        print(f\"The person will drive the {self.engine_type} car \")"
   ]
  },
  {
   "cell_type": "code",
   "execution_count": 45,
   "id": "5435101e",
   "metadata": {},
   "outputs": [
    {
     "name": "stdout",
     "output_type": "stream",
     "text": [
      "The person will drive the Petrol car \n"
     ]
    }
   ],
   "source": [
    "# Creating objects of Car class\n",
    "car_1 = Car(4, 4, \"Petrol\")\n",
    "car_2 = Car(4, 4, \"Diesel\")\n",
    "car_3 = Car(4, 4, \"EV\")\n",
    "\n",
    "car_1.drive()"
   ]
  },
  {
   "cell_type": "code",
   "execution_count": 46,
   "id": "f403b27a",
   "metadata": {},
   "outputs": [],
   "source": [
    "# ------------------------------\n",
    "# Child Class (Honda inherits from Car) - Single Inheritance \n",
    "# ------------------------------\n",
    "class Honda(Car):\n",
    "    def __init__(self, windows, doors, engine_type, name, is_automatic):\n",
    "        # Initialize attributes from parent class using super()\n",
    "        super().__init__(windows, doors, engine_type)\n",
    "        # Additional attributes specific to Honda\n",
    "        self.name = name\n",
    "        self.is_automatic = is_automatic\n",
    "\n",
    "    def get_car_details(self):\n",
    "        \"\"\"\n",
    "        Display the details of the Honda car in a tabular format.\n",
    "        Converts the boolean 'is_automatic' into a human-readable form.\n",
    "        \"\"\"\n",
    "        gear_type = \"Yes\" if self.is_automatic else \"No\"\n",
    "        # Prepare data for printing as a table\n",
    "        data = [\n",
    "            [\"Name\", \"Is Automatic\", \"Number of Doors\", \"Numbers of Windows\", \"Engine Type\"],\n",
    "            [self.name, gear_type, self.doors, self.windows, self.engine_type]\n",
    "        ]\n",
    "\n",
    "        # Print rows in a formatted table style\n",
    "        for row in data:\n",
    "            print(\"{:<8} {:<15} {:<18} {:<20} {:<10}\".format(*row))"
   ]
  },
  {
   "cell_type": "code",
   "execution_count": 47,
   "id": "bed5a6d4",
   "metadata": {},
   "outputs": [
    {
     "name": "stdout",
     "output_type": "stream",
     "text": [
      "Name     Is Automatic    Number of Doors    Numbers of Windows   Engine Type\n",
      "Jazz     Yes             4                  4                    Petrol    \n",
      "The person will drive the Petrol car \n",
      "\n",
      "\n",
      "Name     Is Automatic    Number of Doors    Numbers of Windows   Engine Type\n",
      "Jazz     No              4                  4                    Petrol    \n",
      "The person will drive the Petrol car \n",
      "\n",
      "\n",
      "Name     Is Automatic    Number of Doors    Numbers of Windows   Engine Type\n",
      "Elevate  No              4                  4                    Petrol    \n",
      "The person will drive the Petrol car \n",
      "\n",
      "\n",
      "Name     Is Automatic    Number of Doors    Numbers of Windows   Engine Type\n",
      "Elevate  Yes             4                  4                    Petrol    \n",
      "The person will drive the Petrol car \n",
      "\n",
      "\n"
     ]
    }
   ],
   "source": [
    "\n",
    "# ------------------------------\n",
    "# Create multiple Honda car objects\n",
    "# ------------------------------\n",
    "honda_1 = Honda(4, 4, \"Petrol\", \"Jazz\", True)\n",
    "honda_2 = Honda(4, 4, \"Petrol\", \"Jazz\", False)\n",
    "honda_3 = Honda(4, 4, \"Petrol\", \"Elevate\", False)\n",
    "honda_4 = Honda(4, 4, \"Petrol\", \"Elevate\", True)\n",
    "\n",
    "# Store objects in a list\n",
    "car_list = [honda_1, honda_2, honda_3, honda_4]\n",
    "\n",
    "# Iterate through cars and print their details\n",
    "for car in car_list:\n",
    "    car.get_car_details() # Instance method of the child class\n",
    "    car.drive() # Calling the instance method of the parent class\n",
    "    print(\"\\n\") # Add spacing between tables"
   ]
  },
  {
   "cell_type": "code",
   "execution_count": 48,
   "id": "ea6120a8",
   "metadata": {},
   "outputs": [],
   "source": [
    "# ------------------------------\n",
    "# Multiple Inheritance in Python\n",
    "# ------------------------------\n",
    "# In multiple inheritance, a child class can inherit from\n",
    "# more than one parent class. \n",
    "# This allows the child class to reuse features of multiple parents.\n",
    "\n",
    "# ------------------------------\n",
    "# Parent Class 1\n",
    "# ------------------------------\n",
    "class Car:\n",
    "    def __init__(self, windows, doors, engine_type):\n",
    "        self.windows = windows\n",
    "        self.doors = doors\n",
    "        self.engine_type = engine_type\n",
    "    \n",
    "    def drive(self):\n",
    "        print(f\"Driving a {self.engine_type} car\")"
   ]
  },
  {
   "cell_type": "code",
   "execution_count": 49,
   "id": "78fd4c19",
   "metadata": {},
   "outputs": [],
   "source": [
    "# ------------------------------\n",
    "# Parent Class 2\n",
    "# ------------------------------\n",
    "class SafetyFeatures:\n",
    "    def __init__(self, airbags, abs_enabled):\n",
    "        self.airbags = airbags\n",
    "        self.abs_enabled = abs_enabled\n",
    "\n",
    "    def show_safety(self):\n",
    "        abs_status = \"Enabled\" if self.abs_enabled else \"Disabled\"\n",
    "        print(f\"Safety: {self.airbags} airbags, ABS {abs_status}\")"
   ]
  },
  {
   "cell_type": "code",
   "execution_count": 50,
   "id": "2c1299ac",
   "metadata": {},
   "outputs": [],
   "source": [
    "# ------------------------------\n",
    "# Child Class (Multiple Inheritance)\n",
    "# ------------------------------\n",
    "class Honda(Car, SafetyFeatures):\n",
    "    def __init__(self, windows, doors, engine_type, name, is_automatic, airbags, abs_enabled):\n",
    "        # Initialize Car (parent 1)\n",
    "        Car.__init__(self, windows, doors, engine_type)\n",
    "        # Initialize SafetyFeatures (parent 2)\n",
    "        SafetyFeatures.__init__(self, airbags, abs_enabled)\n",
    "        \n",
    "        # Attributes specific to Honda\n",
    "        self.name = name\n",
    "        self.is_automatic = is_automatic\n",
    "\n",
    "    def get_car_details(self):\n",
    "        gear_type = \"Yes\" if self.is_automatic else \"No\"\n",
    "\n",
    "        # Display as table\n",
    "        data = [\n",
    "            [\"Name\", \"Automatic\", \"Doors\", \"Windows\", \"Engine\", \"Airbags\", \"ABS\"],\n",
    "            [self.name, gear_type, self.doors, self.windows, self.engine_type, self.airbags, \n",
    "             \"Yes\" if self.abs_enabled else \"No\"]\n",
    "        ]\n",
    "        for row in data:\n",
    "            print(\"{:<10} {:<10} {:<8} {:<10} {:<10} {:<10} {:<5}\".format(*row))\n"
   ]
  },
  {
   "cell_type": "code",
   "execution_count": 51,
   "id": "a2de83da",
   "metadata": {},
   "outputs": [
    {
     "name": "stdout",
     "output_type": "stream",
     "text": [
      "Name       Automatic  Doors    Windows    Engine     Airbags    ABS  \n",
      "Jazz       Yes        4        4          Petrol     2          Yes  \n",
      "Safety: 2 airbags, ABS Enabled\n",
      "\n",
      "\n",
      "Name       Automatic  Doors    Windows    Engine     Airbags    ABS  \n",
      "Elevate    No         4        4          Diesel     6          Yes  \n",
      "Safety: 6 airbags, ABS Enabled\n",
      "\n",
      "\n"
     ]
    }
   ],
   "source": [
    "# ------------------------------\n",
    "# Create Honda objects with multiple inheritance\n",
    "# ------------------------------\n",
    "honda_1 = Honda(4, 4, \"Petrol\", \"Jazz\", True, 2, True)\n",
    "honda_2 = Honda(4, 4, \"Diesel\", \"Elevate\", False, 6, True)\n",
    "\n",
    "# Print details and safety features\n",
    "for car in [honda_1, honda_2]:\n",
    "    car.get_car_details()\n",
    "    car.show_safety()\n",
    "    print(\"\\n\")"
   ]
  }
 ],
 "metadata": {
  "kernelspec": {
   "display_name": "Python 3",
   "language": "python",
   "name": "python3"
  },
  "language_info": {
   "codemirror_mode": {
    "name": "ipython",
    "version": 3
   },
   "file_extension": ".py",
   "mimetype": "text/x-python",
   "name": "python",
   "nbconvert_exporter": "python",
   "pygments_lexer": "ipython3",
   "version": "3.12.11"
  }
 },
 "nbformat": 4,
 "nbformat_minor": 5
}
