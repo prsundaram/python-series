{
 "cells": [
  {
   "cell_type": "markdown",
   "id": "41441299",
   "metadata": {},
   "source": [
    "# Operator Overloading in Python\n",
    "\n",
    "## 🔍 What is Operator Overloading?\n",
    "- Operator Overloading is the ability to redefine how operators (`+`, `-`, `*`, etc.) work for user-defined objects.\n",
    "- Achieved by implementing magic methods (also called dunder methods) in a class.\n",
    "- Example:\n",
    "  - Numbers: 10 + 20 → 30\n",
    "  - Strings: \"a\" + \"b\" → \"ab\"\n",
    "  - Custom class: obj1 + obj2 → defined by `__add__`."
   ]
  },
  {
   "cell_type": "markdown",
   "id": "a4834f35",
   "metadata": {},
   "source": [
    "## 🎯 Why is Operator Overloading Important?\n",
    "- Makes custom objects behave like built-in types.\n",
    "Improves readability and intuitiveness:\n",
    "Instead of calling account.deposit(500), you can simply do account + 500.\n",
    "Allows domain-specific logic:\n",
    "Vector(2,3) + Vector(1,4) → (3,7)\n",
    "Matrix * Vector → matrix multiplication.\n",
    "Helps write cleaner, more Pythonic code."
   ]
  }
 ],
 "metadata": {
  "kernelspec": {
   "display_name": "Python 3",
   "language": "python",
   "name": "python3"
  },
  "language_info": {
   "name": "python",
   "version": "3.12.11"
  }
 },
 "nbformat": 4,
 "nbformat_minor": 5
}
