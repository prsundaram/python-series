{
 "cells": [
  {
   "cell_type": "markdown",
   "id": "494be299",
   "metadata": {},
   "source": [
    "# Polymorphism\n",
    "\n",
    "Polymorphism is a core concept in Object-Oriented Programming (OOP) that allows objects of different classes to be treated as objects of common superclass. It provides a way to perform a single action in different forms. Polymorphism is typically achieved through method overriding and interfaces\n",
    "\n",
    "“Poly” = many, “Morph” = forms.\n",
    "Polymorphism means the same function/method/operator behaves differently depending on the object or data type."
   ]
  },
  {
   "cell_type": "markdown",
   "id": "8e5f77e7",
   "metadata": {},
   "source": [
    "### Method Overriding \n",
    "Method overriding allows a child class to provide a specific implementation of a method that is already defined in its parent class."
   ]
  },
  {
   "cell_type": "code",
   "execution_count": 19,
   "id": "422aa2fb",
   "metadata": {},
   "outputs": [
    {
     "name": "stdout",
     "output_type": "stream",
     "text": [
      "Dog sound is Bark\n",
      "Cat sound is Meow\n"
     ]
    }
   ],
   "source": [
    "## Base class\n",
    "class Animal:\n",
    "    def sound(self):\n",
    "        return \"Sound of the animal\"\n",
    "\n",
    "# Derived Class 1\n",
    "class Dog(Animal):\n",
    "    def sound(self):\n",
    "        return \"Bark\"\n",
    "\n",
    "# Derived Class 2 \n",
    "class Cat(Animal):\n",
    "    def sound(self):\n",
    "        return \"Meow\" \n",
    "\n",
    "# Same function name, different behaviour\n",
    "animals = [Dog(), Cat()]\n",
    "for animal in animals:\n",
    "    print(f\"{animal.__class__.__name__} sound is {animal.sound()}\")"
   ]
  },
  {
   "cell_type": "code",
   "execution_count": 20,
   "id": "b123eb52",
   "metadata": {},
   "outputs": [
    {
     "name": "stdout",
     "output_type": "stream",
     "text": [
      "The area of Rectangle is 20\n",
      "The area of Circle is 28.259999999999998\n"
     ]
    }
   ],
   "source": [
    "## Polymorphism with Functions and Methods\n",
    "\n",
    "# Base Class\n",
    "class Shape:\n",
    "    def area(self):\n",
    "        return \"Area of the given shape\"\n",
    "    \n",
    "# Derived Class 1\n",
    "class Rectangle(Shape):\n",
    "    def __init__(self, width, height):\n",
    "        super().__init__()\n",
    "        self.width = width\n",
    "        self.height = height\n",
    "    \n",
    "    def area(self):\n",
    "        return self.width * self.height\n",
    "    \n",
    "# Derived Class 2 \n",
    "class Circle(Shape):\n",
    "    def __init__(self, radius):\n",
    "        super().__init__()\n",
    "        self.radius = radius\n",
    "    \n",
    "    def area(self):\n",
    "        return 3.14 * self.radius * self.radius\n",
    "    \n",
    "# Function that demonstrates polymorphism \n",
    "def print_area(shape):\n",
    "    print(f\"The area of {shape.__class__.__name__} is {shape.area()}\")\n",
    "\n",
    "shapes = [Rectangle(4, 5), Circle(3)]\n",
    "\n",
    "for shape in shapes:\n",
    "    print_area(shape)"
   ]
  },
  {
   "cell_type": "code",
   "execution_count": 21,
   "id": "77321ccd",
   "metadata": {},
   "outputs": [
    {
     "name": "stdout",
     "output_type": "stream",
     "text": [
      "30\n",
      "The sum of 10 and 20 is 30\n"
     ]
    }
   ],
   "source": [
    "# Parent class\n",
    "class Calculator:\n",
    "    def add(self, a, b):\n",
    "        return a + b   # simple addition\n",
    "\n",
    "\n",
    "# Child class overrides add()\n",
    "class AdvancedCalculator(Calculator):\n",
    "    def add(self, a, b):\n",
    "        return f\"The sum of {a} and {b} is {a + b}\"\n",
    "\n",
    "\n",
    "# Polymorphism in action\n",
    "basic = Calculator()\n",
    "advanced = AdvancedCalculator()\n",
    "\n",
    "print(basic.add(10, 20))       # 30\n",
    "print(advanced.add(10, 20))    # \"The sum of 10 and 20 is 30\"\n"
   ]
  },
  {
   "cell_type": "markdown",
   "id": "fd633564",
   "metadata": {},
   "source": [
    "### Polymorphism with Abstact Base Classes (ABCs)\n",
    "\n",
    "Abstact Base Classes (ABCs) are used to define common methods for a group of related objects. They can enforce that derived classes implement particular methods, promoting consistency across different implementations."
   ]
  },
  {
   "cell_type": "code",
   "execution_count": 22,
   "id": "9984f90d",
   "metadata": {},
   "outputs": [
    {
     "name": "stdout",
     "output_type": "stream",
     "text": [
      "Car\n",
      "Car Engine Started\n",
      "MotorCycle\n",
      "MotorCycle Engine Started\n"
     ]
    }
   ],
   "source": [
    "from abc import ABC, abstractmethod\n",
    "\n",
    "## Define an abstact class\n",
    "class Vechicle(ABC):\n",
    "    #Define an abstract method\n",
    "    @abstractmethod\n",
    "    def start_engine(self):\n",
    "        pass\n",
    "\n",
    "\n",
    "# Derived Class 1\n",
    "class Car(Vechicle):\n",
    "    def start_engine(self):\n",
    "        return \"Car Engine Started\"\n",
    "    \n",
    "class MotorCycle(Vechicle):\n",
    "    def start_engine(self):\n",
    "        return \"MotorCycle Engine Started\"\n",
    "    \n",
    "\n",
    "vechicles = [Car(), MotorCycle()]\n",
    "\n",
    "for vechicle in vechicles:\n",
    "    print(f\"{vechicle.__class__.__name__}\")\n",
    "    print(vechicle.start_engine())\n",
    "    \n"
   ]
  },
  {
   "cell_type": "code",
   "execution_count": 25,
   "id": "2183dae1",
   "metadata": {},
   "outputs": [
    {
     "name": "stdout",
     "output_type": "stream",
     "text": [
      "Circle → Area: 78.5, Perimeter: 31.400000000000002\n",
      "Rectangle → Area: 24, Perimeter: 20\n"
     ]
    }
   ],
   "source": [
    "from abc import ABC, abstractmethod\n",
    "\n",
    "# ===============================\n",
    "# Step 1: Define an Interface (Abstract Base Class)\n",
    "# ===============================\n",
    "class Shape(ABC):   # Shape acts like an interface\n",
    "    @abstractmethod\n",
    "    def area(self):\n",
    "        \"\"\"All shapes must implement this method to calculate area\"\"\"\n",
    "        pass\n",
    "    \n",
    "    @abstractmethod\n",
    "    def perimeter(self):\n",
    "        \"\"\"All shapes must implement this method to calculate perimeter\"\"\"\n",
    "        pass\n",
    "\n",
    "\n",
    "# ===============================\n",
    "# Step 2: Implement the Interface in a Circle class\n",
    "# ===============================\n",
    "class Circle(Shape):\n",
    "    def __init__(self, radius):\n",
    "        self.radius = radius\n",
    "\n",
    "    # Circle-specific implementation of area()\n",
    "    def area(self):\n",
    "        \"\"\"All area objects must implement this\"\"\"\n",
    "        return 3.14 * self.radius * self.radius\n",
    "\n",
    "    # Circle-specific implementation of perimeter()\n",
    "    def perimeter(self):\n",
    "        \"\"\"All perimeter objects must implement this\"\"\"\n",
    "        return 2 * 3.14 * self.radius\n",
    "\n",
    "\n",
    "# ===============================\n",
    "# Step 3: Implement the Interface in a Rectangle class\n",
    "# ===============================\n",
    "class Rectangle(Shape):\n",
    "    def __init__(self, width, height):\n",
    "        self.width = width\n",
    "        self.height = height\n",
    "\n",
    "    # Rectangle-specific implementation of area()\n",
    "    def area(self):\n",
    "        return self.width * self.height\n",
    "\n",
    "    # Rectangle-specific implementation of perimeter()\n",
    "    def perimeter(self):\n",
    "        return 2 * (self.width + self.height)\n",
    "\n",
    "\n",
    "# ===============================\n",
    "# Step 4: Demonstrate Polymorphism\n",
    "# ===============================\n",
    "# Both Circle and Rectangle are \"Shapes\"\n",
    "# They implement the same interface, but each has its own logic\n",
    "shapes = [Circle(5), Rectangle(4, 6)]\n",
    "\n",
    "for s in shapes:\n",
    "    # Here we don’t care if it’s a Circle or Rectangle.\n",
    "    # We just call area() and perimeter() → polymorphism in action!\n",
    "    print(f\"{s.__class__.__name__} → Area: {s.area()}, Perimeter: {s.perimeter()}\")\n"
   ]
  },
  {
   "cell_type": "markdown",
   "id": "94d4fd2c",
   "metadata": {},
   "source": [
    "### How this shows polymorphism with interface? \n",
    "- Shape is like an interface — defines what methods must exist (area, perimeter).\n",
    "- Circle and Rectangle implement these methods in their own way.\n",
    "- When we loop through shapes, we don’t care which object it is → we just call s.area() and s.perimeter().\n",
    "```text\n",
    "👉 That’s polymorphism (same method call, different behaviour).\n",
    "```\n",
    "- In Python → abc.ABC + @abstractmethod = interface.\n",
    "- Child classes implement those methods.\n",
    "- Polymorphism happens when we call the same method name on different objects."
   ]
  },
  {
   "cell_type": "code",
   "execution_count": 24,
   "id": "3cebcaab",
   "metadata": {},
   "outputs": [
    {
     "name": "stdout",
     "output_type": "stream",
     "text": [
      "Drawing a circle with radius 5\n",
      "Resized circle to radius 10\n",
      "Drawing a square with side 4\n",
      "Resized square to side 8\n"
     ]
    }
   ],
   "source": [
    "## Example: Multiple Interfaces in Python\n",
    "from abc import ABC, abstractmethod\n",
    "\n",
    "# ===============================\n",
    "# Interface 1: Drawable\n",
    "# ===============================\n",
    "class Drawable(ABC):\n",
    "    @abstractmethod\n",
    "    def draw(self):\n",
    "        \"\"\"All drawable objects must implement this\"\"\"\n",
    "        pass\n",
    "\n",
    "# ===============================\n",
    "# Interface 2: Resizable\n",
    "# ===============================\n",
    "class Resizable(ABC):\n",
    "    @abstractmethod\n",
    "    def resize(self, factor):\n",
    "        \"\"\"All resizable objects must implement this\"\"\"\n",
    "        pass\n",
    "\n",
    "# ===============================\n",
    "# Class that implements BOTH interfaces\n",
    "# ===============================\n",
    "class Circle(Drawable, Resizable):\n",
    "    def __init__(self, radius):\n",
    "        self.radius = radius\n",
    "\n",
    "    # Implementing draw() from Drawable\n",
    "    def draw(self):\n",
    "        print(f\"Drawing a circle with radius {self.radius}\")\n",
    "\n",
    "    # Implementing resize() from Resizable\n",
    "    def resize(self, factor):\n",
    "        self.radius *= factor\n",
    "        print(f\"Resized circle to radius {self.radius}\")\n",
    "\n",
    "\n",
    "# ===============================\n",
    "# Another Class implementing both interfaces\n",
    "# ===============================\n",
    "class Square(Drawable, Resizable):\n",
    "    def __init__(self, side):\n",
    "        self.side = side\n",
    "\n",
    "    def draw(self):\n",
    "        print(f\"Drawing a square with side {self.side}\")\n",
    "\n",
    "    def resize(self, factor):\n",
    "        self.side *= factor\n",
    "        print(f\"Resized square to side {self.side}\")\n",
    "\n",
    "\n",
    "# ===============================\n",
    "# Polymorphism in Action\n",
    "# ===============================\n",
    "shapes = [Circle(5), Square(4)]\n",
    "\n",
    "for shape in shapes:\n",
    "    shape.draw()           # Each class has its own draw()\n",
    "    shape.resize(2)        # Each class has its own resize()\n"
   ]
  }
 ],
 "metadata": {
  "kernelspec": {
   "display_name": "Python 3",
   "language": "python",
   "name": "python3"
  },
  "language_info": {
   "codemirror_mode": {
    "name": "ipython",
    "version": 3
   },
   "file_extension": ".py",
   "mimetype": "text/x-python",
   "name": "python",
   "nbconvert_exporter": "python",
   "pygments_lexer": "ipython3",
   "version": "3.12.11"
  }
 },
 "nbformat": 4,
 "nbformat_minor": 5
}
