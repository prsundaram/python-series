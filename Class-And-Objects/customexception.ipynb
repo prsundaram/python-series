{
 "cells": [
  {
   "cell_type": "markdown",
   "id": "94bb4e42",
   "metadata": {},
   "source": [
    "# Custom Exception (Raise and Throw an Exception)\n",
    "\n",
    "## 🔍 What are Exceptions?\n",
    "- An exception is an event that interrupts the normal flow of a program.\n",
    "- Common built-in exceptions: ValueError, TypeError, ZeroDivisionError, etc.\n",
    "- Python provides many built-in exceptions, but sometimes we need our own exceptions to handle specific situations.\n",
    "\n",
    "## 🎯 Why Create Custom Exceptions?\n",
    "- To make error handling more descriptive and meaningful.\n",
    "- To enforce domain-specific rules.\n",
    "- To provide better debugging information.\n",
    "- Example: In a banking app, InsufficientFundsError makes more sense than a generic ValueError.\n",
    "\n",
    "## 🛠️ How to Create Custom Exceptions\n",
    "- Define a new class that inherits from Exception (or a subclass).\n",
    "- Use the raise keyword to throw the exception when needed.\n",
    "```python\n",
    "    class CustomError(Exception):\n",
    "        \"\"\"Custom exception for specific error handling.\"\"\"\n",
    "        pass\n",
    "```\n",
    "## ⚡ Raise vs Throw\n",
    "- In Python, we use raise to generate (throw) an exception.\n",
    "- In other languages like Java or C++, the keyword is throw.\n",
    "- Python = raise, Java/C++ = throw.\n"
   ]
  },
  {
   "cell_type": "markdown",
   "id": "08bf49d9",
   "metadata": {},
   "source": [
    "##  🛠️ Before vs After Custom Exception Handling\n",
    "\n",
    "### ❌ Before (Using Generic Exceptions)"
   ]
  },
  {
   "cell_type": "code",
   "execution_count": 1,
   "id": "0bfcd2b2",
   "metadata": {},
   "outputs": [],
   "source": [
    "class BankAccount:\n",
    "    def __init__(self, owner, balance=0):\n",
    "        self.owner = owner\n",
    "        self.balance = balance\n",
    "\n",
    "    def deposit(self, amount):\n",
    "        if amount < 0:\n",
    "            # Using generic ValueError\n",
    "            raise ValueError(\"Invalid deposit amount\")\n",
    "        self.balance += amount\n",
    "        return f\"Deposited {amount}, Balance = {self.balance}\"\n",
    "\n",
    "    def withdraw(self, amount):\n",
    "        if amount > self.balance:\n",
    "            # Using generic ValueError\n",
    "            raise ValueError(\"Not enough balance\")\n",
    "        self.balance -= amount\n",
    "        return f\"Withdrew {amount}, Balance = {self.balance}\"\n"
   ]
  },
  {
   "cell_type": "code",
   "execution_count": 5,
   "id": "3e6660f2",
   "metadata": {},
   "outputs": [
    {
     "name": "stdout",
     "output_type": "stream",
     "text": [
      "Error: Not enough balance\n"
     ]
    }
   ],
   "source": [
    "a1 = BankAccount(\"Prasanna\", 1000)\n",
    "\n",
    "try:\n",
    "    print(a1.withdraw(2000))\n",
    "except ValueError as e:\n",
    "    print(\"Error:\", e)"
   ]
  },
  {
   "cell_type": "code",
   "execution_count": 4,
   "id": "50a96535",
   "metadata": {},
   "outputs": [
    {
     "name": "stdout",
     "output_type": "stream",
     "text": [
      "Error: Invalid deposit amount\n"
     ]
    }
   ],
   "source": [
    "try:\n",
    "    print(a1.deposit(-1))\n",
    "except ValueError as e:\n",
    "    print(\"Error:\", e)"
   ]
  },
  {
   "cell_type": "markdown",
   "id": "97481575",
   "metadata": {},
   "source": [
    "👉 Problem: It only says ValueError, which is not meaningful in banking domain."
   ]
  },
  {
   "cell_type": "markdown",
   "id": "4b15b06c",
   "metadata": {},
   "source": [
    "### ✅ After (Using Custom Exceptions)"
   ]
  },
  {
   "cell_type": "code",
   "execution_count": 6,
   "id": "1d48c39f",
   "metadata": {},
   "outputs": [],
   "source": [
    "# Define custom exceptions\n",
    "class InsufficientFundsError(Exception):\n",
    "    \"\"\"Raised when withdrawal exceeds balance.\"\"\"\n",
    "    pass\n",
    "\n",
    "class NegativeDepositError(Exception):\n",
    "    \"\"\"Raised when deposit amount is negative.\"\"\"\n",
    "    pass\n",
    "\n",
    "class BankAccount:\n",
    "    def __init__(self, owner, balance=0):\n",
    "        self.owner = owner\n",
    "        self.balance = balance\n",
    "\n",
    "    def deposit(self, amount):\n",
    "        if amount < 0:\n",
    "            raise NegativeDepositError(\"Deposit amount cannot be negative\")\n",
    "        self.balance += amount\n",
    "        return f\"Deposited {amount}, Balance = {self.balance}\"\n",
    "\n",
    "    def withdraw(self, amount):\n",
    "        if amount > self.balance:\n",
    "            raise InsufficientFundsError(\"Insufficient balance for withdrawal\")\n",
    "        self.balance -= amount\n",
    "        return f\"Withdrew {amount}, Balance = {self.balance}\"\n"
   ]
  },
  {
   "cell_type": "code",
   "execution_count": 9,
   "id": "64fb2a01",
   "metadata": {},
   "outputs": [
    {
     "name": "stdout",
     "output_type": "stream",
     "text": [
      "Error: Insufficient balance for withdrawal\n"
     ]
    }
   ],
   "source": [
    "a1 = BankAccount(\"Prasanna\", 1000)\n",
    "\n",
    "try:\n",
    "    print(a1.withdraw(2000))\n",
    "except InsufficientFundsError as e:\n",
    "    print(\"Error:\", e)\n"
   ]
  },
  {
   "cell_type": "code",
   "execution_count": 10,
   "id": "23c4341c",
   "metadata": {},
   "outputs": [
    {
     "name": "stdout",
     "output_type": "stream",
     "text": [
      "Error: Deposit amount cannot be negative\n"
     ]
    }
   ],
   "source": [
    "a1 = BankAccount(\"Prasanna\", 1000)\n",
    "\n",
    "try:\n",
    "    print(a1.deposit(-10))\n",
    "except NegativeDepositError as e:\n",
    "    print(\"Error:\", e)\n"
   ]
  },
  {
   "cell_type": "markdown",
   "id": "fb6ba947",
   "metadata": {},
   "source": [
    "👉 Benefit: Now the error is domain-specific and much clearer."
   ]
  },
  {
   "cell_type": "markdown",
   "id": "9f830f43",
   "metadata": {},
   "source": [
    "## 📋 Key Takeaways\n",
    "- Custom exceptions make programs easier to debug and maintain.\n",
    "- Always inherit from Exception when creating custom exceptions.\n",
    "- Use raise in Python (equivalent of throw in Java/C++).\n",
    "- Before vs After shows the benefit:\n",
    "- Generic ValueError → unclear.\n",
    "- InsufficientFundsError → meaningful and contextual."
   ]
  },
  {
   "cell_type": "markdown",
   "id": "ba0fe753",
   "metadata": {},
   "source": [
    "## 🔍 Why Only `pass` is Used in Custom Exception Classes?\n",
    "\n",
    "When you define a custom exception:\n",
    "```python\n",
    "    class InsufficientFundsError(Exception):\n",
    "        \"\"\"Raised when withdrawal exceeds balance.\"\"\"\n",
    "        pass\n",
    "```\n",
    "👉 Here, pass means:\n",
    "- Do nothing extra beyond what the parent (Exception) already provides.\n",
    "- The class is still valid, because it inherits all behavior from Exception.\n",
    "- We use it just to give the exception a meaningful name."
   ]
  },
  {
   "cell_type": "markdown",
   "id": "457272ee",
   "metadata": {},
   "source": [
    "## ⚡ But Can We Add More?\n",
    "Yes ✅ — you can extend the exception with your own logic, like custom attributes or messages."
   ]
  },
  {
   "cell_type": "code",
   "execution_count": 13,
   "id": "59347eca",
   "metadata": {},
   "outputs": [],
   "source": [
    "# Custom exception for insufficient funds\n",
    "class InsufficientFundsError(Exception):\n",
    "    def __init__(self, balance, amount):\n",
    "        self.balance = balance\n",
    "        self.amount = amount\n",
    "        super().__init__(balance, amount)\n",
    "\n",
    "    def __str__(self):\n",
    "        # Human-readable error message\n",
    "        return f\"Attempted to withdraw {self.amount}, but only {self.balance} available\"\n",
    "\n",
    "\n",
    "# Custom exception for negative deposit\n",
    "class NegativeDepositError(Exception):\n",
    "    def __init__(self, amount):\n",
    "        self.amount = amount\n",
    "        super().__init__(amount)\n",
    "\n",
    "    def __str__(self):\n",
    "        return f\"Deposit amount cannot be negative: {self.amount}\""
   ]
  },
  {
   "cell_type": "code",
   "execution_count": 14,
   "id": "c8dcda6d",
   "metadata": {},
   "outputs": [],
   "source": [
    "class BankAccount:\n",
    "    def __init__(self, owner, balance=0):\n",
    "        self.owner = owner\n",
    "        self.balance = balance\n",
    "\n",
    "    def deposit(self, amount):\n",
    "        if amount < 0:\n",
    "            raise NegativeDepositError(amount)\n",
    "        self.balance += amount\n",
    "        return f\"Deposited {amount}, Balance = {self.balance}\"\n",
    "\n",
    "    def withdraw(self, amount):\n",
    "        if amount > self.balance:\n",
    "            raise InsufficientFundsError(self.balance, amount)\n",
    "        self.balance -= amount\n",
    "        return f\"Withdrew {amount}, Balance = {self.balance}\""
   ]
  },
  {
   "cell_type": "code",
   "execution_count": 15,
   "id": "563540d1",
   "metadata": {},
   "outputs": [
    {
     "name": "stdout",
     "output_type": "stream",
     "text": [
      "Deposited 500, Balance = 1500\n",
      "Error: Deposit amount cannot be negative: -200\n",
      "Error: Attempted to withdraw 2000, but only 1500 available\n",
      "Balance at error: 1500\n",
      "Attempted withdrawal: 2000\n"
     ]
    }
   ],
   "source": [
    "a1 = BankAccount(\"Prasanna\", 1000)\n",
    "\n",
    "# ✅ Valid deposit\n",
    "print(a1.deposit(500))\n",
    "\n",
    "# ❌ Negative deposit\n",
    "try:\n",
    "    print(a1.deposit(-200))\n",
    "except NegativeDepositError as e:\n",
    "    print(\"Error:\", e)\n",
    "\n",
    "# ❌ Withdraw more than balance\n",
    "try:\n",
    "    print(a1.withdraw(2000))\n",
    "except InsufficientFundsError as e:\n",
    "    print(\"Error:\", e)\n",
    "    print(\"Balance at error:\", e.balance)\n",
    "    print(\"Attempted withdrawal:\", e.amount)\n"
   ]
  },
  {
   "cell_type": "markdown",
   "id": "0e1e2eeb",
   "metadata": {},
   "source": [
    "## 📋 Key Point\n",
    "- Use pass if you just want a named exception with no extra logic.\n",
    "- Extend with `__init__` (and maybe `__str__`) if you want to add custom data or a special message.\n",
    "- With `__init__` and `__str__`, custom exceptions become informative and user-friendly.\n",
    "- You can store extra attributes (like balance, amount) inside the exception object.\n",
    "- `__str__` ensures the error prints a clear human-readable message.\n",
    "- This approach makes debugging and logging much easier."
   ]
  }
 ],
 "metadata": {
  "kernelspec": {
   "display_name": "Python 3",
   "language": "python",
   "name": "python3"
  },
  "language_info": {
   "codemirror_mode": {
    "name": "ipython",
    "version": 3
   },
   "file_extension": ".py",
   "mimetype": "text/x-python",
   "name": "python",
   "nbconvert_exporter": "python",
   "pygments_lexer": "ipython3",
   "version": "3.12.11"
  }
 },
 "nbformat": 4,
 "nbformat_minor": 5
}
