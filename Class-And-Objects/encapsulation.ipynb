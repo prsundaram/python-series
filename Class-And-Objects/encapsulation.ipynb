{
 "cells": [
  {
   "cell_type": "markdown",
   "id": "ee7d100f",
   "metadata": {},
   "source": [
    "# Encapsulation And Abstraction\n",
    "\n",
    "Encapsulation and Abstraction are two fundamental principles of Object-Oriented Programming (OOP) that help in desigining robust, maintainable, and reusable code. Encapsulation involves building data and methods that operate on the data within a single unit, while abstraction involves hiding complex impementation details and exposing only the necessary features"
   ]
  },
  {
   "cell_type": "markdown",
   "id": "f04fa02b",
   "metadata": {},
   "source": [
    "## Encapsulation \n",
    "Encapsulation is the concept of wrapping data (variables) and methods (functions) together as single unit. It restricts direct access to some of the object's components, which is means of preventing accidental interference and misuse of the data."
   ]
  },
  {
   "cell_type": "code",
   "execution_count": 1,
   "id": "e4bd8150",
   "metadata": {},
   "outputs": [
    {
     "name": "stdout",
     "output_type": "stream",
     "text": [
      "Account Holder: Prasanna\n",
      "Account Number (protected): 1234567890\n",
      "Balance (via getter): 5000\n",
      "Deposited 2000. New Balance: 7000\n",
      "Withdrew 1500. Remaining Balance: 5500\n",
      "Invalid withdrawal amount or insufficient balance.\n",
      "Account Holder: Prasanna\n",
      "Account Number (protected): 1234567890\n",
      "Balance (private): 5500\n",
      "Direct access to private balance (not recommended): 5500\n"
     ]
    }
   ],
   "source": [
    "# ------------------------------\n",
    "# Encapsulation in Python\n",
    "# ------------------------------\n",
    "\n",
    "class BankAccount:\n",
    "    def __init__(self, account_number, account_holder, balance):\n",
    "        # Public attribute\n",
    "        self.account_holder = account_holder\n",
    "        \n",
    "        # Protected attribute (can be accessed by subclasses, but not outside ideally)\n",
    "        self._account_number = account_number\n",
    "        \n",
    "        # Private attribute (hidden using name mangling)\n",
    "        self.__balance = balance  \n",
    "\n",
    "    # Public method to check balance\n",
    "    def get_balance(self):\n",
    "        return self.__balance\n",
    "\n",
    "    # Public method to deposit money\n",
    "    def deposit(self, amount):\n",
    "        if amount > 0:\n",
    "            self.__balance += amount\n",
    "            print(f\"Deposited {amount}. New Balance: {self.__balance}\")\n",
    "        else:\n",
    "            print(\"Deposit amount must be greater than 0.\")\n",
    "\n",
    "    # Public method to withdraw money with validation\n",
    "    def withdraw(self, amount):\n",
    "        if 0 < amount <= self.__balance:\n",
    "            self.__balance -= amount\n",
    "            print(f\"Withdrew {amount}. Remaining Balance: {self.__balance}\")\n",
    "        else:\n",
    "            print(\"Invalid withdrawal amount or insufficient balance.\")\n",
    "\n",
    "    # Public method to display account info\n",
    "    def display_account_info(self):\n",
    "        print(f\"Account Holder: {self.account_holder}\")\n",
    "        print(f\"Account Number (protected): {self._account_number}\")\n",
    "        print(f\"Balance (private): {self.__balance}\")\n",
    "\n",
    "\n",
    "# ------------------------------\n",
    "# Usage\n",
    "# ------------------------------\n",
    "account = BankAccount(\"1234567890\", \"Prasanna\", 5000)\n",
    "\n",
    "# Accessing public attribute\n",
    "print(\"Account Holder:\", account.account_holder)\n",
    "\n",
    "# Accessing protected attribute (possible, but not recommended)\n",
    "print(\"Account Number (protected):\", account._account_number)\n",
    "\n",
    "# Accessing private attribute directly (will fail)\n",
    "# print(account.__balance)  # ❌ AttributeError\n",
    "\n",
    "# Accessing private attribute safely via method\n",
    "print(\"Balance (via getter):\", account.get_balance())\n",
    "\n",
    "# Deposit money\n",
    "account.deposit(2000)\n",
    "\n",
    "# Withdraw money\n",
    "account.withdraw(1500)\n",
    "\n",
    "# Withdraw invalid amount\n",
    "account.withdraw(10000)\n",
    "\n",
    "# Display all account info\n",
    "account.display_account_info()\n",
    "\n",
    "# ------------------------------\n",
    "# (For learning only) Access private via name mangling\n",
    "# ------------------------------\n",
    "print(\"Direct access to private balance (not recommended):\", account._BankAccount__balance)\n"
   ]
  }
 ],
 "metadata": {
  "kernelspec": {
   "display_name": "Python 3",
   "language": "python",
   "name": "python3"
  },
  "language_info": {
   "codemirror_mode": {
    "name": "ipython",
    "version": 3
   },
   "file_extension": ".py",
   "mimetype": "text/x-python",
   "name": "python",
   "nbconvert_exporter": "python",
   "pygments_lexer": "ipython3",
   "version": "3.12.11"
  }
 },
 "nbformat": 4,
 "nbformat_minor": 5
}
