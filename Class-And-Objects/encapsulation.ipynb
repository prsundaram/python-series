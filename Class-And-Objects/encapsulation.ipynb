{
 "cells": [
  {
   "cell_type": "markdown",
   "id": "ee7d100f",
   "metadata": {},
   "source": [
    "# Encapsulation And Abstraction\n",
    "\n",
    "Encapsulation and Abstraction are two fundamental principles of Object-Oriented Programming (OOP) that help in desigining robust, maintainable, and reusable code. Encapsulation involves building data and methods that operate on the data within a single unit, while abstraction involves hiding complex impementation details and exposing only the necessary features"
   ]
  },
  {
   "cell_type": "markdown",
   "id": "f04fa02b",
   "metadata": {},
   "source": [
    "## Encapsulation \n",
    "Encapsulation is the concept of wrapping data (variables) and methods (functions) together as single unit. It restricts direct access to some of the object's components, which is means of preventing accidental interference and misuse of the data."
   ]
  },
  {
   "cell_type": "code",
   "execution_count": 1,
   "id": "e4bd8150",
   "metadata": {},
   "outputs": [
    {
     "name": "stdout",
     "output_type": "stream",
     "text": [
      "Account Holder: Prasanna\n",
      "Account Number (protected): 1234567890\n",
      "Balance (via getter): 5000\n",
      "Deposited 2000. New Balance: 7000\n",
      "Withdrew 1500. Remaining Balance: 5500\n",
      "Invalid withdrawal amount or insufficient balance.\n",
      "Account Holder: Prasanna\n",
      "Account Number (protected): 1234567890\n",
      "Balance (private): 5500\n",
      "Direct access to private balance (not recommended): 5500\n"
     ]
    }
   ],
   "source": [
    "# ------------------------------\n",
    "# Encapsulation in Python\n",
    "# ------------------------------\n",
    "\n",
    "class BankAccount:\n",
    "    def __init__(self, account_number, account_holder, balance):\n",
    "        # Public attribute\n",
    "        self.account_holder = account_holder\n",
    "        \n",
    "        # Protected attribute (can be accessed by subclasses, but not outside ideally)\n",
    "        self._account_number = account_number\n",
    "        \n",
    "        # Private attribute (hidden using name mangling)\n",
    "        self.__balance = balance  \n",
    "\n",
    "    # Public method to check balance\n",
    "    def get_balance(self):\n",
    "        return self.__balance\n",
    "\n",
    "    # Public method to deposit money\n",
    "    def deposit(self, amount):\n",
    "        if amount > 0:\n",
    "            self.__balance += amount\n",
    "            print(f\"Deposited {amount}. New Balance: {self.__balance}\")\n",
    "        else:\n",
    "            print(\"Deposit amount must be greater than 0.\")\n",
    "\n",
    "    # Public method to withdraw money with validation\n",
    "    def withdraw(self, amount):\n",
    "        if 0 < amount <= self.__balance:\n",
    "            self.__balance -= amount\n",
    "            print(f\"Withdrew {amount}. Remaining Balance: {self.__balance}\")\n",
    "        else:\n",
    "            print(\"Invalid withdrawal amount or insufficient balance.\")\n",
    "\n",
    "    # Public method to display account info\n",
    "    def display_account_info(self):\n",
    "        print(f\"Account Holder: {self.account_holder}\")\n",
    "        print(f\"Account Number (protected): {self._account_number}\")\n",
    "        print(f\"Balance (private): {self.__balance}\")\n",
    "\n",
    "\n",
    "# ------------------------------\n",
    "# Usage\n",
    "# ------------------------------\n",
    "account = BankAccount(\"1234567890\", \"Prasanna\", 5000)\n",
    "\n",
    "# Accessing public attribute\n",
    "print(\"Account Holder:\", account.account_holder)\n",
    "\n",
    "# Accessing protected attribute (possible, but not recommended)\n",
    "print(\"Account Number (protected):\", account._account_number)\n",
    "\n",
    "# Accessing private attribute directly (will fail)\n",
    "# print(account.__balance)  # ❌ AttributeError\n",
    "\n",
    "# Accessing private attribute safely via method\n",
    "print(\"Balance (via getter):\", account.get_balance())\n",
    "\n",
    "# Deposit money\n",
    "account.deposit(2000)\n",
    "\n",
    "# Withdraw money\n",
    "account.withdraw(1500)\n",
    "\n",
    "# Withdraw invalid amount\n",
    "account.withdraw(10000)\n",
    "\n",
    "# Display all account info\n",
    "account.display_account_info()\n",
    "\n",
    "# ------------------------------\n",
    "# (For learning only) Access private via name mangling\n",
    "# ------------------------------\n",
    "print(\"Direct access to private balance (not recommended):\", account._BankAccount__balance)\n"
   ]
  },
  {
   "cell_type": "code",
   "execution_count": null,
   "id": "08c41382",
   "metadata": {},
   "outputs": [
    {
     "name": "stdout",
     "output_type": "stream",
     "text": [
      "Person is Prasanna Sundaram and age is 35\n"
     ]
    }
   ],
   "source": [
    "class Person:\n",
    "    def __init__(self, name, age):\n",
    "        self.name = name ## Public Variables (Public Access Modifiers)\n",
    "        self.age = age ## Public Varaibles (Public Access Modifiers)\n",
    "\n",
    "person = Person(\"Prasanna Sundaram\", 35)\n",
    "\n",
    "print(f\"{person.__class__.__name__} is {person.name} and age is {person.age}\")\n"
   ]
  },
  {
   "cell_type": "code",
   "execution_count": 3,
   "id": "af3fb2c8",
   "metadata": {},
   "outputs": [
    {
     "data": {
      "text/plain": [
       "['__class__',\n",
       " '__delattr__',\n",
       " '__dict__',\n",
       " '__dir__',\n",
       " '__doc__',\n",
       " '__eq__',\n",
       " '__format__',\n",
       " '__ge__',\n",
       " '__getattribute__',\n",
       " '__getstate__',\n",
       " '__gt__',\n",
       " '__hash__',\n",
       " '__init__',\n",
       " '__init_subclass__',\n",
       " '__le__',\n",
       " '__lt__',\n",
       " '__module__',\n",
       " '__ne__',\n",
       " '__new__',\n",
       " '__reduce__',\n",
       " '__reduce_ex__',\n",
       " '__repr__',\n",
       " '__setattr__',\n",
       " '__sizeof__',\n",
       " '__str__',\n",
       " '__subclasshook__',\n",
       " '__weakref__',\n",
       " 'age',\n",
       " 'name']"
      ]
     },
     "execution_count": 3,
     "metadata": {},
     "output_type": "execute_result"
    }
   ],
   "source": [
    "dir(person)"
   ]
  },
  {
   "cell_type": "markdown",
   "id": "be24f2ef",
   "metadata": {},
   "source": [
    "✅ Why `name` and `age` appear in dir(person)\n",
    "- dir() shows all attributes available to an object:\n",
    "- Built-in special methods (e.g., __init__, __str__)\n",
    "- User-defined attributes (e.g., name, age)\n",
    "- Since name and age are encapsulated properties (instance variables), Python attaches them to the object.\n",
    "- That’s why they are listed alongside the magic methods when you run dir(person).\n",
    "- `name` and `age` are public instance variables.\n",
    "- That’s why they are directly visible when you do dir(person)."
   ]
  },
  {
   "cell_type": "code",
   "execution_count": null,
   "id": "6cd51168",
   "metadata": {},
   "outputs": [],
   "source": [
    "class Person:\n",
    "    def __init__(self, name, age, gender):\n",
    "        self.__name = name ## Private Variables (Private Access Modifiers) when using __ the variables becomes private\n",
    "        self.__age = age ## Private Varaibles (Private Access Modifiers) when using __ the variables becomes private\n",
    "        self.gender = gender ## Pubic Varaible\n"
   ]
  },
  {
   "cell_type": "code",
   "execution_count": 28,
   "id": "722ba6e0",
   "metadata": {},
   "outputs": [
    {
     "data": {
      "text/plain": [
       "['_Person__age',\n",
       " '_Person__name',\n",
       " '__class__',\n",
       " '__delattr__',\n",
       " '__dict__',\n",
       " '__dir__',\n",
       " '__doc__',\n",
       " '__eq__',\n",
       " '__format__',\n",
       " '__ge__',\n",
       " '__getattribute__',\n",
       " '__getstate__',\n",
       " '__gt__',\n",
       " '__hash__',\n",
       " '__init__',\n",
       " '__init_subclass__',\n",
       " '__le__',\n",
       " '__lt__',\n",
       " '__module__',\n",
       " '__ne__',\n",
       " '__new__',\n",
       " '__reduce__',\n",
       " '__reduce_ex__',\n",
       " '__repr__',\n",
       " '__setattr__',\n",
       " '__sizeof__',\n",
       " '__str__',\n",
       " '__subclasshook__',\n",
       " '__weakref__',\n",
       " 'gender']"
      ]
     },
     "execution_count": 28,
     "metadata": {},
     "output_type": "execute_result"
    }
   ],
   "source": [
    "person = Person(\"Prasanna Sundaram\", 35, \"M\")\n",
    "dir(person)"
   ]
  },
  {
   "cell_type": "markdown",
   "id": "f76f071e",
   "metadata": {},
   "source": [
    "If you see above, here we are not seeing `name` and `age` in the list instead you will see like `Person__age` and `Person__name`, the reason is that, the properties of the object `Person` is defined in the scope of Private."
   ]
  },
  {
   "cell_type": "markdown",
   "id": "3c6ea2d5",
   "metadata": {},
   "source": [
    "### What is a Private Variable?\n",
    "In Python, a private variable is created by prefixing its name with a double underscore (__).\n",
    "`self.__name`\n",
    "Python applies name mangling:\n",
    " - Internally, __name becomes _ClassName__name.\n",
    " - This prevents accidental access/modification from outside the class.\n",
    " - Private variables are meant for strict encapsulation: data should only be accessed through methods inside the class."
   ]
  },
  {
   "cell_type": "code",
   "execution_count": 31,
   "id": "1983b0eb",
   "metadata": {},
   "outputs": [
    {
     "ename": "AttributeError",
     "evalue": "'Person' object has no attribute '__name'",
     "output_type": "error",
     "traceback": [
      "\u001b[31m---------------------------------------------------------------------------\u001b[39m",
      "\u001b[31mAttributeError\u001b[39m                            Traceback (most recent call last)",
      "\u001b[36mCell\u001b[39m\u001b[36m \u001b[39m\u001b[32mIn[31]\u001b[39m\u001b[32m, line 14\u001b[39m\n\u001b[32m      1\u001b[39m \u001b[38;5;28;01mdef\u001b[39;00m\u001b[38;5;250m \u001b[39m\u001b[34mget_name\u001b[39m(person):\n\u001b[32m      2\u001b[39m     \u001b[38;5;66;03m# ❌ Trying to access person.__name directly\u001b[39;00m\n\u001b[32m      3\u001b[39m     \u001b[38;5;66;03m# In the Person class, if you defined `self.__name`,\u001b[39;00m\n\u001b[32m   (...)\u001b[39m\u001b[32m      9\u001b[39m     \u001b[38;5;66;03m# does not exist with that name at runtime.\u001b[39;00m\n\u001b[32m     10\u001b[39m     \u001b[38;5;66;03m# The actual internal name is `person._Person__name`.\u001b[39;00m\n\u001b[32m     11\u001b[39m     \u001b[38;5;28;01mreturn\u001b[39;00m person.__name\n\u001b[32m---> \u001b[39m\u001b[32m14\u001b[39m \u001b[38;5;28mprint\u001b[39m(\u001b[43mget_name\u001b[49m\u001b[43m(\u001b[49m\u001b[43mperson\u001b[49m\u001b[43m)\u001b[49m)   \u001b[38;5;66;03m# ❌ Raises AttributeError\u001b[39;00m\n",
      "\u001b[36mCell\u001b[39m\u001b[36m \u001b[39m\u001b[32mIn[31]\u001b[39m\u001b[32m, line 11\u001b[39m, in \u001b[36mget_name\u001b[39m\u001b[34m(person)\u001b[39m\n\u001b[32m      1\u001b[39m \u001b[38;5;28;01mdef\u001b[39;00m\u001b[38;5;250m \u001b[39m\u001b[34mget_name\u001b[39m(person):\n\u001b[32m      2\u001b[39m     \u001b[38;5;66;03m# ❌ Trying to access person.__name directly\u001b[39;00m\n\u001b[32m      3\u001b[39m     \u001b[38;5;66;03m# In the Person class, if you defined `self.__name`,\u001b[39;00m\n\u001b[32m   (...)\u001b[39m\u001b[32m      9\u001b[39m     \u001b[38;5;66;03m# does not exist with that name at runtime.\u001b[39;00m\n\u001b[32m     10\u001b[39m     \u001b[38;5;66;03m# The actual internal name is `person._Person__name`.\u001b[39;00m\n\u001b[32m---> \u001b[39m\u001b[32m11\u001b[39m     \u001b[38;5;28;01mreturn\u001b[39;00m \u001b[43mperson\u001b[49m\u001b[43m.\u001b[49m\u001b[43m__name\u001b[49m\n",
      "\u001b[31mAttributeError\u001b[39m: 'Person' object has no attribute '__name'"
     ]
    }
   ],
   "source": [
    "def get_name(person):\n",
    "    # ❌ Trying to access person.__name directly\n",
    "    # In the Person class, if you defined `self.__name`,\n",
    "    # Python applies *name mangling*: it renames it internally to `_Person__name`.\n",
    "    # This is how Python provides \"private\" variables — they cannot be accessed\n",
    "    # directly outside the class using __name.\n",
    "    #\n",
    "    # So, `person.__name` raises AttributeError, because that attribute\n",
    "    # does not exist with that name at runtime.\n",
    "    # The actual internal name is `person._Person__name`.\n",
    "    return person.__name\n",
    "\n",
    "\n",
    "print(get_name(person))   # ❌ Raises AttributeError"
   ]
  },
  {
   "cell_type": "code",
   "execution_count": null,
   "id": "c87dec7a",
   "metadata": {},
   "outputs": [
    {
     "name": "stdout",
     "output_type": "stream",
     "text": [
      "Name of the Person is Prasanna and age is 30\n"
     ]
    }
   ],
   "source": [
    "class Person:\n",
    "    def __init__(self, name, age):\n",
    "        self.__name = name   # private attribute (name mangled to _Person__name)\n",
    "        self.__age = age     # private attribute\n",
    "\n",
    "    def get_name(self):      # ✅ public getter method\n",
    "        # This method can access __name because it is inside the class.\n",
    "        # Even though __name is private to outside code,\n",
    "        # methods defined within the class have full access to it.\n",
    "        return self.__name\n",
    "    \n",
    "    def get_age(self):      # ✅ public getter method\n",
    "        # This method can access __age because it is inside the class.\n",
    "        # Even though __age is private to outside code,\n",
    "        # methods defined within the class have full access to it.\n",
    "        return self.__age\n",
    "\n",
    "\n",
    "person = Person(\"Prasanna\", 30)\n",
    "\n",
    "# ✅ Correct way: call the getter instead of accessing person.__name directly\n",
    "print(f\"Name of the {person.__class__.__name__} is {person.get_name()} and age is {person.get_age()}\")    # Output: Name of the Person is Prasanna and age is 30\n"
   ]
  },
  {
   "cell_type": "markdown",
   "id": "d0e791ad",
   "metadata": {},
   "source": [
    "### 📌 Key Takeaways\n",
    "- `__var` = private (name mangled).\n",
    "- Cannot be accessed directly outside the class.\n",
    "- Should be exposed via methods (getters/setters) or @property.\n",
    "- Ensures strict encapsulation → data is hidden and controlled."
   ]
  },
  {
   "cell_type": "markdown",
   "id": "9108ae17",
   "metadata": {},
   "source": [
    "### What does \"Protected\" mean?\n",
    "- In Python, a protected variable is defined with a single underscore prefix:\n",
    "`self._variable`\n",
    "- It is a convention (not enforced by Python).\n",
    "- It tells other developers:\n",
    "```text\n",
    "👉 This variable is meant for internal use within the class and its subclasses.\n",
    "Don’t use it directly outside.\n",
    "```"
   ]
  },
  {
   "cell_type": "code",
   "execution_count": 46,
   "id": "80c3c198",
   "metadata": {},
   "outputs": [
    {
     "name": "stdout",
     "output_type": "stream",
     "text": [
      "Prasanna\n"
     ]
    }
   ],
   "source": [
    "class Person:\n",
    "    def __init__(self, name, age):\n",
    "        # 👇 Single underscore means \"protected\" by convention\n",
    "        # This tells other developers: \"Don't access this directly outside the class or subclasses\"\n",
    "        self._name = name\n",
    "        self._age = age\n",
    "\n",
    "\n",
    "# Create object\n",
    "person = Person(\"Prasanna\", 30)\n",
    "\n",
    "# ❌ Accessing protected variable directly\n",
    "# This works in Python (no error), but it breaks the rule of encapsulation.\n",
    "print(person._name)   # Output: Prasanna\n"
   ]
  },
  {
   "cell_type": "code",
   "execution_count": 47,
   "id": "32cf7adc",
   "metadata": {},
   "outputs": [
    {
     "name": "stdout",
     "output_type": "stream",
     "text": [
      "Prasanna\n"
     ]
    }
   ],
   "source": [
    "class Person:\n",
    "    def __init__(self, name, age):\n",
    "        # 👇 Single underscore means \"protected\" by convention\n",
    "        # This tells other developers: \"Don't access this directly outside the class or subclasses\"\n",
    "        self._name = name\n",
    "        self._age = age\n",
    "\n",
    "    def get_name(self):\n",
    "        # ✅ Correct way: provide a method to access the protected variable\n",
    "        # Encapsulation principle — controlled access\n",
    "        return self._name\n",
    "\n",
    "\n",
    "# Create object\n",
    "person = Person(\"Prasanna\", 30)\n",
    "\n",
    "# ✅ Correct practice:\n",
    "# Use the getter method provided by the class\n",
    "print(person.get_name())   # Output: Prasanna\n"
   ]
  },
  {
   "cell_type": "code",
   "execution_count": 48,
   "id": "65a83c8e",
   "metadata": {},
   "outputs": [
    {
     "name": "stdout",
     "output_type": "stream",
     "text": [
      "Prasanna\n",
      "Student name is Arun\n"
     ]
    }
   ],
   "source": [
    "class Person:\n",
    "    def __init__(self, name, age):\n",
    "        self._name = name     # protected variable\n",
    "        self._age = age\n",
    "\n",
    "    def get_name(self):\n",
    "        # ✅ Proper way: controlled access via method\n",
    "        return self._name\n",
    "\n",
    "\n",
    "# Create object\n",
    "person = Person(\"Prasanna\", 30)\n",
    "\n",
    "# ✅ Access using getter method\n",
    "print(person.get_name())   # Output: Prasanna\n",
    "\n",
    "\n",
    "# ✅ Protected variables can also be used safely in subclasses\n",
    "class Student(Person):\n",
    "    def show_name(self):\n",
    "        return f\"Student name is {self._name}\"   # valid inside subclass\n",
    "\n",
    "\n",
    "s = Student(\"Arun\", 22)\n",
    "print(s.show_name())  # Output: Student name is Arun\n"
   ]
  },
  {
   "cell_type": "markdown",
   "id": "46222ee2",
   "metadata": {},
   "source": [
    "### 📌 Key Takeaways\n",
    "- ### `_variable` is protected:\n",
    "    - Accessible outside the class.\n",
    "    - Should be treated as internal-use only.\n",
    "- ### Best practices:\n",
    "    - Use getters/setters to access/modify.\n",
    "    - Use protected variables freely in subclasses.\n",
    "    - Encapsulation is about discipline, not strict enforcement in Python."
   ]
  },
  {
   "cell_type": "code",
   "execution_count": 51,
   "id": "2f216cb7",
   "metadata": {},
   "outputs": [],
   "source": [
    "## Encapsulation with Getter and Setter Methods\n",
    "## Encapsulation Example:\n",
    "## Just like a washing machine – when we use it, we don’t directly control the\n",
    "## motor, the drum, or the water pump (those are hidden/internal parts).\n",
    "## Instead, we interact through buttons and knobs (public methods like getters/setters).\n",
    "##\n",
    "## Similarly here, __name and __age are private (hidden details),\n",
    "## and we provide get_name() and get_age() as controlled access points\n",
    "## – the \"buttons\" to safely access the data without exposing internals.\n",
    "\n",
    "class Person:\n",
    "    def __init__(self, name, age):\n",
    "        # __name and __age are private variables (encapsulation)\n",
    "        # They cannot be accessed directly from outside the class.\n",
    "        self.__name = name\n",
    "        self.__age = age\n",
    "    \n",
    "    ## -------------------------------\n",
    "    ## Getter Methods\n",
    "    ## -------------------------------\n",
    "    def get_name(self):\n",
    "        # ✅ Provides controlled access to __name\n",
    "        # Acts like a \"button\" on a washing machine:\n",
    "        # user doesn’t see how it works inside, just gets the output.\n",
    "        return self.__name\n",
    "    \n",
    "    def get_age(self):\n",
    "        # ✅ Provides controlled access to __age\n",
    "        return self.__age\n",
    "\n",
    "    ## -------------------------------\n",
    "    ## Setter Methods\n",
    "    ## -------------------------------\n",
    "    def set_name(self, name):\n",
    "        # ✅ Allows controlled modification of __name\n",
    "        # Without a setter, external code cannot change the private variable safely.\n",
    "        self.__name = name\n",
    "    \n",
    "    def set_age(self, age):\n",
    "        # ✅ Allows controlled modification of __age\n",
    "        # Here we add validation logic → negative ages are not allowed.\n",
    "        # This ensures data integrity while still keeping __age private.\n",
    "        if age > 0:\n",
    "            self.__age = age\n",
    "        else:\n",
    "            raise ValueError(\"Age cannot be negative\")\n"
   ]
  },
  {
   "cell_type": "code",
   "execution_count": null,
   "id": "a9def4f0",
   "metadata": {},
   "outputs": [
    {
     "name": "stdout",
     "output_type": "stream",
     "text": [
      "Name: Prasanna\n",
      "Age: 30\n",
      "Name: Arun\n",
      "Age: 25\n",
      "Updated Name: Prasanna Sundaram\n",
      "Updated Age: 35\n",
      "Error: Age cannot be negative\n"
     ]
    }
   ],
   "source": [
    "# Create objects\n",
    "p1 = Person(\"Prasanna\", 30)\n",
    "p2 = Person(\"Arun\", 25)\n",
    "\n",
    "# ----------------------------\n",
    "# Using getters (read values)\n",
    "# ----------------------------\n",
    "print(\"Name:\", p1.get_name())   # Output: Prasanna\n",
    "print(\"Age:\", p1.get_age())     # Output: 30\n",
    "\n",
    "print(\"Name:\", p2.get_name())   # Output: Arun\n",
    "print(\"Age:\", p2.get_age())     # Output: 25\n",
    "\n",
    "# ----------------------------\n",
    "# Using setters (update values)\n",
    "# ----------------------------\n",
    "p1.set_name(\"Prasanna Sundaram\")\n",
    "p1.set_age(35)\n",
    "\n",
    "print(\"Updated Name:\", p1.get_name())   # Output: Prasanna Sundaram\n",
    "print(\"Updated Age:\", p1.get_age())     # Output: 35\n",
    "\n",
    "# ----------------------------\n",
    "# Setter validation example\n",
    "# ----------------------------\n",
    "try:\n",
    "    p2.set_age(-5)   # ❌ Invalid age\n",
    "except ValueError as e:\n",
    "    print(\"Error:\", e)   # Output: Error: Age cannot be negative\n"
   ]
  },
  {
   "cell_type": "markdown",
   "id": "bb7d782f",
   "metadata": {},
   "source": [
    "### 📌 Key Concepts\n",
    "- Public Variables\n",
    "    - Freely accessible from anywhere.\n",
    "    - No restrictions.\n",
    "- Protected Variables (_var)\n",
    "    - A convention that signals: “for internal use only.”\n",
    "    - Accessible outside, but discouraged.\n",
    "    - Designed for use inside the class and its subclasses.\n",
    "- Private Variables (__var)\n",
    "    - Enforced through name mangling.\n",
    "    - Not accessible directly outside the class.\n",
    "    - Must be accessed via methods (getters/setters).\n",
    "### 🧺 Real-World Analogy\n",
    "- Think of a washing machine:\n",
    "    - Motor, drum, wiring → hidden internals (private/protected variables).\n",
    "    - Buttons & knobs → controlled access (getters and setters).\n",
    "    - The user doesn’t deal with the internals directly, but still controls the machine safely.\n",
    "### 🔑 Key Takeaways\n",
    "- Encapsulation improves safety, integrity, and maintainability of code.\n",
    "- Use public for open access.\n",
    "- Use protected (_var) for internal + subclass use.\n",
    "- Use private (__var) for strict data hiding.\n",
    "- Getters and setters provide controlled access to private variables.\n"
   ]
  }
 ],
 "metadata": {
  "kernelspec": {
   "display_name": "Python 3",
   "language": "python",
   "name": "python3"
  },
  "language_info": {
   "codemirror_mode": {
    "name": "ipython",
    "version": 3
   },
   "file_extension": ".py",
   "mimetype": "text/x-python",
   "name": "python",
   "nbconvert_exporter": "python",
   "pygments_lexer": "ipython3",
   "version": "3.12.11"
  }
 },
 "nbformat": 4,
 "nbformat_minor": 5
}
