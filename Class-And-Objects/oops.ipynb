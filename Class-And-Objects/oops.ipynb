{
 "cells": [
  {
   "cell_type": "markdown",
   "id": "ba558f10",
   "metadata": {},
   "source": [
    "## Class and Objects\n",
    "\n",
    "Object-Oriented Programming (OOP) is a programing paradigm that uses \"Objects\" to design application and computer programs. OOP allows for modeling real-world scenerios using classes and objects. This note covers the basics of creating classes and objects, including instance variable and methods\n",
    "\n",
    "Class is a blue print for creating Objects, Attributes, Methods"
   ]
  },
  {
   "cell_type": "code",
   "execution_count": null,
   "id": "9ae5ddf1",
   "metadata": {},
   "outputs": [],
   "source": [
    "# Defines a new class called Car.\n",
    "# A class is a blueprint for creating objects (instances).\n",
    "# Right now, it doesn’t have any attributes (like color, brand) or methods (like drive, brake).\n",
    "class Car:\n",
    "    # pass is a placeholder\n",
    "    # It tells Python “do nothing here”.\n",
    "    # You use it when you want to create an empty class or function, but still keep valid syntax.\n",
    "    pass "
   ]
  },
  {
   "cell_type": "code",
   "execution_count": null,
   "id": "67a94353",
   "metadata": {},
   "outputs": [
    {
     "name": "stdout",
     "output_type": "stream",
     "text": [
      "Type of the object is : <class '__main__.Car'>\n",
      "Object iss the instance of : <__main__.Car object at 0x1080a28d0>\n",
      "True\n"
     ]
    }
   ],
   "source": [
    "# You can still create objects from it\n",
    "\n",
    "my_car = Car()\n",
    "print(f\"Type of the object is : {type(my_car)}\")\n",
    "print(f\"Object is the instance of : {my_car}\")\n",
    "print(isinstance(my_car, Car))"
   ]
  },
  {
   "cell_type": "code",
   "execution_count": null,
   "id": "2cd5527b",
   "metadata": {},
   "outputs": [
    {
     "data": {
      "text/plain": [
       "['__class__',\n",
       " '__delattr__',\n",
       " '__dict__',\n",
       " '__dir__',\n",
       " '__doc__',\n",
       " '__eq__',\n",
       " '__format__',\n",
       " '__ge__',\n",
       " '__getattribute__',\n",
       " '__getstate__',\n",
       " '__gt__',\n",
       " '__hash__',\n",
       " '__init__',\n",
       " '__init_subclass__',\n",
       " '__le__',\n",
       " '__lt__',\n",
       " '__module__',\n",
       " '__ne__',\n",
       " '__new__',\n",
       " '__reduce__',\n",
       " '__reduce_ex__',\n",
       " '__repr__',\n",
       " '__setattr__',\n",
       " '__sizeof__',\n",
       " '__str__',\n",
       " '__subclasshook__',\n",
       " '__weakref__']"
      ]
     },
     "execution_count": 9,
     "metadata": {},
     "output_type": "execute_result"
    }
   ],
   "source": [
    "# The below code gives various inbuilt method that we can use on a class object\n",
    "dir(my_car)"
   ]
  },
  {
   "cell_type": "code",
   "execution_count": null,
   "id": "f5fd5f6e",
   "metadata": {},
   "outputs": [
    {
     "name": "stdout",
     "output_type": "stream",
     "text": [
      "<__main__.Dog object at 0x1080a9310>\n",
      "Name of the Dog Pug\n",
      "Age of the Dog: 3\n"
     ]
    }
   ],
   "source": [
    "## Instance Variable\n",
    "class Dog:\n",
    "    \n",
    "    ## Creating constructor \n",
    "    ## self -> will be responsible for accessing the instance variable\n",
    "    def __init__(self, name, age):\n",
    "        self.name = name\n",
    "        self.age = age\n",
    "\n",
    "# Creating objects\n",
    "dog1 = Dog(\"Pug\", 3)\n",
    "print(dog1)\n",
    "print(f\"Name of the Dog: {dog1.name}\")\n",
    "print(f\"Age of the Dog: {dog1.age}\")"
   ]
  },
  {
   "cell_type": "code",
   "execution_count": 13,
   "id": "bf10e823",
   "metadata": {},
   "outputs": [
    {
     "name": "stdout",
     "output_type": "stream",
     "text": [
      "Name of the Dog is Pug and its age is 3\n"
     ]
    }
   ],
   "source": [
    "## Instance Variable and Methods\n",
    "class Dog:\n",
    "    \n",
    "    ## Creating constructor \n",
    "    ## self -> will be responsible for accessing the instance variable\n",
    "    def __init__(self, name, age):\n",
    "        self.name = name\n",
    "        self.age = age\n",
    "\n",
    "    def get_name(self):\n",
    "        return self.name\n",
    "    \n",
    "    def get_age(self):\n",
    "        return self.age\n",
    "\n",
    "# Creating objects\n",
    "dog1 = Dog(\"Pug\", 3)\n",
    "\n",
    "print(f\"Name of the Dog is {dog1.get_name()} and its age is {dog1.get_age()}\")"
   ]
  },
  {
   "cell_type": "markdown",
   "id": "9ad0ee06",
   "metadata": {},
   "source": [
    "Lets consider an example: __*Modeling a Bank Account*__"
   ]
  },
  {
   "cell_type": "code",
   "execution_count": 8,
   "id": "b887bea1",
   "metadata": {},
   "outputs": [
    {
     "name": "stdout",
     "output_type": "stream",
     "text": [
      "The current balance is your account is  10000\n",
      "₹50000 has been deposited successfully, and the current balance is ₹60000\n",
      "Transaction Successful, your account is debited with ₹1500\n",
      "Your current balance is ₹58500\n"
     ]
    }
   ],
   "source": [
    "## Modeling a Bank Account\n",
    "\n",
    "# Define a class for Bank Account\n",
    "class BankAccount:\n",
    "    def __init__(self, owner, balance=0):\n",
    "        self.owner = owner\n",
    "        self.balance = balance\n",
    "\n",
    "    def deposit(self, deposit_amount):\n",
    "        self.balance += deposit_amount\n",
    "        print(f\"₹{deposit_amount} has been deposited successfully, and the current balance is ₹{self.balance}\")\n",
    "\n",
    "    def view_account_balance(self):\n",
    "        print(f\"The current balance is your account is  {self.balance}\")\n",
    "\n",
    "    def get_account_balance(self):\n",
    "        return self.balance\n",
    "\n",
    "    def withdraw(self, withdraw_amount):\n",
    "        if (withdraw_amount > self.balance):\n",
    "            print(f\"Insufficient Balance, you current account balance is ₹{self.balance}\")\n",
    "        else:\n",
    "            self.balance -= withdraw_amount\n",
    "            print(f\"Transaction Successful, your account is debited with ₹{withdraw_amount}\")\n",
    "            print(f\"Your current balance is ₹{self.balance}\")\n",
    "\n",
    "\n",
    "## Creation of Balance\n",
    "\n",
    "account = BankAccount(\"Prasanna Sundaram\", 10000)\n",
    "account.view_account_balance()\n",
    "\n",
    "\n",
    "## Call Instance Mathod\n",
    "account.deposit(50000)\n",
    "account.withdraw(1500)\n",
    "    "
   ]
  }
 ],
 "metadata": {
  "kernelspec": {
   "display_name": "Python 3",
   "language": "python",
   "name": "python3"
  },
  "language_info": {
   "codemirror_mode": {
    "name": "ipython",
    "version": 3
   },
   "file_extension": ".py",
   "mimetype": "text/x-python",
   "name": "python",
   "nbconvert_exporter": "python",
   "pygments_lexer": "ipython3",
   "version": "3.12.11"
  }
 },
 "nbformat": 4,
 "nbformat_minor": 5
}
