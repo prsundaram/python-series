{
 "cells": [
  {
   "cell_type": "markdown",
   "id": "19c77038",
   "metadata": {},
   "source": [
    "# Abstraction \n",
    "\n",
    "Abstraction is the concept of hiding the complex implementation details and showing only the necessary features of an object. This helps in reducing programming complexity and effort"
   ]
  },
  {
   "cell_type": "markdown",
   "id": "91cfca32",
   "metadata": {},
   "source": [
    "## 🧺 Example 1: Washing Machine Abstraction"
   ]
  },
  {
   "cell_type": "code",
   "execution_count": 5,
   "id": "bcab5333",
   "metadata": {},
   "outputs": [
    {
     "name": "stdout",
     "output_type": "stream",
     "text": [
      "Door locked.\n",
      "Filling water…\n",
      "Eco wash: slow agitation, low temp.\n",
      "Eco rinse: minimal water.\n",
      "Eco spin: low RPM to save energy.\n",
      "Draining water…\n",
      "Door unlocked.\n",
      "—\n",
      "Door locked.\n",
      "Filling water…\n",
      "Turbo wash: strong agitation, higher temp.\n",
      "Turbo rinse: extra water for speed.\n",
      "Turbo spin: high RPM for quick dry.\n",
      "Draining water…\n",
      "Door unlocked.\n"
     ]
    }
   ],
   "source": [
    "from abc import ABC, abstractmethod\n",
    "\n",
    "# Abstract class → defines the \"interface\" for all washing machines\n",
    "class WashingMachine(ABC):\n",
    "    # Public API method → user only calls start()\n",
    "    def start(self):\n",
    "        # Internals (hidden from the user)\n",
    "        self._lock_door()\n",
    "        self._fill_water()\n",
    "        # Abstract methods → subclasses must implement their own way\n",
    "        self._wash()\n",
    "        self._rinse()\n",
    "        self._spin()\n",
    "        # More internal details\n",
    "        self._drain()\n",
    "        self._unlock_door()\n",
    "\n",
    "    # Abstract steps (force subclasses to implement)\n",
    "    @abstractmethod\n",
    "    def _wash(self): ...\n",
    "    @abstractmethod\n",
    "    def _rinse(self): ...\n",
    "    @abstractmethod\n",
    "    def _spin(self): ...\n",
    "\n",
    "    # Concrete methods (common for all machines, hidden logic)\n",
    "    def _lock_door(self): print(\"Door locked.\")\n",
    "    def _unlock_door(self): print(\"Door unlocked.\")\n",
    "    def _fill_water(self): print(\"Filling water…\")\n",
    "    def _drain(self): print(\"Draining water…\")\n",
    "\n",
    "\n",
    "# Concrete class → implements abstract methods in its own way\n",
    "class EcoWasher(WashingMachine):\n",
    "    def _wash(self):  print(\"Eco wash: slow agitation, low temp.\")\n",
    "    def _rinse(self): print(\"Eco rinse: minimal water.\")\n",
    "    def _spin(self):  print(\"Eco spin: low RPM to save energy.\")\n",
    "\n",
    "# Another concrete class → different implementation\n",
    "class TurboWasher(WashingMachine):\n",
    "    def _wash(self):  print(\"Turbo wash: strong agitation, higher temp.\")\n",
    "    def _rinse(self): print(\"Turbo rinse: extra water for speed.\")\n",
    "    def _spin(self):  print(\"Turbo spin: high RPM for quick dry.\")\n",
    "\n",
    "\n",
    "# ✅ User only calls start() → doesn’t worry about internals\n",
    "EcoWasher().start()\n",
    "print(\"—\")\n",
    "TurboWasher().start()\n"
   ]
  },
  {
   "cell_type": "markdown",
   "id": "07f8d98d",
   "metadata": {},
   "source": [
    "## 💳 Example 2: Payment Gateway Abstraction"
   ]
  },
  {
   "cell_type": "code",
   "execution_count": 6,
   "id": "6de7a4f0",
   "metadata": {},
   "outputs": [
    {
     "name": "stdout",
     "output_type": "stream",
     "text": [
      "[Stripe] Charging 299 INR…\n",
      "Transaction: txn_stripe_123\n",
      "[Stripe] Refunding 50 for txn_stripe_123.\n",
      "—\n",
      "[Razorpay] Charging 499 INR…\n",
      "Transaction: txn_razorpay_987\n",
      "[Razorpay] Refunding 50 for txn_razorpay_987.\n"
     ]
    }
   ],
   "source": [
    "from abc import ABC, abstractmethod\n",
    "\n",
    "# Abstract class → contract for all gateways\n",
    "class PaymentGateway(ABC):\n",
    "    @abstractmethod\n",
    "    def charge(self, amount, currency, meta=None): ...\n",
    "    @abstractmethod\n",
    "    def refund(self, transaction_id, amount=None): ...\n",
    "\n",
    "    # Shared helper (hidden implementation detail)\n",
    "    def _normalize_currency(self, currency):\n",
    "        return currency.upper()\n",
    "\n",
    "# Stripe implementation\n",
    "class StripeGateway(PaymentGateway):\n",
    "    def charge(self, amount, currency, meta=None):\n",
    "        currency = self._normalize_currency(currency)\n",
    "        print(f\"[Stripe] Charging {amount} {currency}…\")\n",
    "        return \"txn_stripe_123\"\n",
    "\n",
    "    def refund(self, transaction_id, amount=None):\n",
    "        print(f\"[Stripe] Refunding {amount or 'FULL'} for {transaction_id}.\")\n",
    "\n",
    "# Razorpay implementation\n",
    "class RazorpayGateway(PaymentGateway):\n",
    "    def charge(self, amount, currency, meta=None):\n",
    "        currency = self._normalize_currency(currency)\n",
    "        print(f\"[Razorpay] Charging {amount} {currency}…\")\n",
    "        return \"txn_razorpay_987\"\n",
    "\n",
    "    def refund(self, transaction_id, amount=None):\n",
    "        print(f\"[Razorpay] Refunding {amount or 'FULL'} for {transaction_id}.\")\n",
    "\n",
    "# ✅ Business logic depends only on the abstract type, not on specific gateway\n",
    "def checkout(gateway: PaymentGateway, amount):\n",
    "    txn = gateway.charge(amount, \"inr\", meta={\"order_id\": 42})\n",
    "    print(\"Transaction:\", txn)\n",
    "    gateway.refund(txn, amount=50)\n",
    "\n",
    "checkout(StripeGateway(), 299)\n",
    "print(\"—\")\n",
    "checkout(RazorpayGateway(), 499)\n"
   ]
  },
  {
   "cell_type": "markdown",
   "id": "7a2323d5",
   "metadata": {},
   "source": [
    "## 🔍 What is Abstraction?\n",
    "- Abstraction is the process of hiding the implementation details and showing only the essential features.\n",
    "- It allows developers to focus on what an object does, not how it does it.\n",
    "- Achieved in Python using Abstract Classes and Abstract Methods from the abc module.\n",
    "# 🎯 Key Characteristics of Abstraction\n",
    "- An Abstract Class is like a blueprint:\n",
    "- It can define abstract methods (declared but not implemented).\n",
    "- It may also contain concrete methods (normal methods with implementation).\n",
    "- A subclass must implement all abstract methods, otherwise it cannot be instantiated.\n",
    "- This enforces a contract for all subclasses.\n",
    "# 🧺 Real-World Analogies & Examples\n",
    "1. Washing Machine\n",
    "    - User presses Start button → doesn’t know how the drum spins, water fills, or motor runs.\n",
    "    - Different washing machines (Eco, Turbo) may implement washing, rinsing, spinning differently.\n",
    "    - Abstraction point: User only sees start(), not the internal steps.\n",
    "2. Payment Gateway\n",
    "    - Business calls a method like charge() or refund().\n",
    "    - Whether it’s Stripe, Razorpay, or PayPal, each implements its own internal logic.\n",
    "    - Abstraction point: The interface (charge, refund) is the same, the implementation differs.\n",
    "## 🔑 Benefits of Abstraction\n",
    "- Hides unnecessary complexity from the user.\n",
    "- Provides a clear and consistent interface.\n",
    "- Makes code modular and maintainable.\n",
    "- Enables polymorphism → same method names, different implementations.\n",
    "- Improves reusability → logic can be swapped easily (e.g., switch from LocalStore to S3Store).\n",
    "# 📋 Abstraction vs Encapsulation\n",
    "- Encapsulation → about data hiding (restrict direct access using public/protected/private).\n",
    "- Abstraction → about hiding implementation details and exposing only the interface.\n",
    "- Encapsulation is at the implementation level, abstraction is at the design level.\n",
    "## 🔑 Key Takeaways: Abstraction in Python\n",
    "- Abstraction = Hide implementation, show only essential features.\n",
    "- Achieved in Python using Abstract Classes (ABC) and Abstract Methods (@abstractmethod).\n",
    "- Abstract classes act as a blueprint → subclasses must implement the required methods.\n",
    "- Focuses on what an object does, not how it does it.\n",
    "- Promotes polymorphism → different classes implement the same interface in their own way.\n",
    "- Real-world examples:\n",
    "    - Washing Machine → user presses start(), internals are hidden.\n",
    "    - Payment Gateway → charge()/refund() same interface, different providers.\n",
    "- Improves code modularity, maintainability, and reusability."
   ]
  }
 ],
 "metadata": {
  "kernelspec": {
   "display_name": "Python 3",
   "language": "python",
   "name": "python3"
  },
  "language_info": {
   "codemirror_mode": {
    "name": "ipython",
    "version": 3
   },
   "file_extension": ".py",
   "mimetype": "text/x-python",
   "name": "python",
   "nbconvert_exporter": "python",
   "pygments_lexer": "ipython3",
   "version": "3.12.11"
  }
 },
 "nbformat": 4,
 "nbformat_minor": 5
}
