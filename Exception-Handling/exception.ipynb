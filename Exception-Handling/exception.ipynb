{
 "cells": [
  {
   "cell_type": "markdown",
   "id": "ca7344d7",
   "metadata": {},
   "source": [
    "## Understanding Exceptions\n",
    "Exception handling in Python allows you to handle errors gracefully and take corrective actions without stopping the execution of the program. In the note will cover the basics of exceptions, including how to use try, except, else and finally blocks.\n",
    "\n",
    "### What are exceptions ?\n",
    "- Exceptions are events that disrupt the normal flow of program. They occur when an error is encountered during the program execution. Common Exception Include:\n",
    "\n",
    "    - ZeroDivisionError: Dividing by zero.\n",
    "    - FileNotFoundError: File not found\n",
    "    - ValueError: Invalid Value\n",
    "    - TypeError: Invalid Type"
   ]
  },
  {
   "cell_type": "code",
   "execution_count": null,
   "id": "71ca76ce",
   "metadata": {},
   "outputs": [
    {
     "ename": "NameError",
     "evalue": "name 'b' is not defined",
     "output_type": "error",
     "traceback": [
      "\u001b[31m---------------------------------------------------------------------------\u001b[39m",
      "\u001b[31mNameError\u001b[39m                                 Traceback (most recent call last)",
      "\u001b[36mCell\u001b[39m\u001b[36m \u001b[39m\u001b[32mIn[1]\u001b[39m\u001b[32m, line 2\u001b[39m\n\u001b[32m      1\u001b[39m \u001b[38;5;66;03m# For example, if you run below code snippet, it wil result in ValueErro\u001b[39;00m\n\u001b[32m----> \u001b[39m\u001b[32m2\u001b[39m a=\u001b[43mb\u001b[49m\n",
      "\u001b[31mNameError\u001b[39m: name 'b' is not defined"
     ]
    }
   ],
   "source": [
    "# For example, if you run below code snippet, it wil result in NameErro\n",
    "a = b"
   ]
  },
  {
   "cell_type": "code",
   "execution_count": 2,
   "id": "ed40e29a",
   "metadata": {},
   "outputs": [
    {
     "name": "stdout",
     "output_type": "stream",
     "text": [
      "name 'b' is not defined\n"
     ]
    }
   ],
   "source": [
    "# Above the program, disrupt the normal flow of program, let see how we can handle it gracefully\n",
    "try: \n",
    "    a = b\n",
    "except NameError as ex:\n",
    "    print(ex)"
   ]
  },
  {
   "cell_type": "code",
   "execution_count": null,
   "id": "86f9a53c",
   "metadata": {},
   "outputs": [
    {
     "ename": "ZeroDivisionError",
     "evalue": "division by zero",
     "output_type": "error",
     "traceback": [
      "\u001b[31m---------------------------------------------------------------------------\u001b[39m",
      "\u001b[31mZeroDivisionError\u001b[39m                         Traceback (most recent call last)",
      "\u001b[36mCell\u001b[39m\u001b[36m \u001b[39m\u001b[32mIn[3]\u001b[39m\u001b[32m, line 3\u001b[39m\n\u001b[32m      1\u001b[39m a = \u001b[32m10\u001b[39m\n\u001b[32m      2\u001b[39m b = \u001b[32m0\u001b[39m \n\u001b[32m----> \u001b[39m\u001b[32m3\u001b[39m c = \u001b[43ma\u001b[49m\u001b[43m \u001b[49m\u001b[43m/\u001b[49m\u001b[43m \u001b[49m\u001b[43mb\u001b[49m\n",
      "\u001b[31mZeroDivisionError\u001b[39m: division by zero"
     ]
    }
   ],
   "source": [
    "# The below code will result in ZeroDivisionError as the denominator is 0\n",
    "a = 10\n",
    "b = 0 \n",
    "c = a / b"
   ]
  },
  {
   "cell_type": "code",
   "execution_count": null,
   "id": "b1c58c62",
   "metadata": {},
   "outputs": [
    {
     "name": "stdout",
     "output_type": "stream",
     "text": [
      "division by zero\n"
     ]
    }
   ],
   "source": [
    "# How we handle them? \n",
    "try:\n",
    "    a = 10\n",
    "    b = 0\n",
    "    c = a / b\n",
    "except ZeroDivisionError as ex:\n",
    "    print(ex)"
   ]
  },
  {
   "cell_type": "code",
   "execution_count": 5,
   "id": "5574c205",
   "metadata": {},
   "outputs": [
    {
     "ename": "NameError",
     "evalue": "name 'some_value' is not defined",
     "output_type": "error",
     "traceback": [
      "\u001b[31m---------------------------------------------------------------------------\u001b[39m",
      "\u001b[31mNameError\u001b[39m                                 Traceback (most recent call last)",
      "\u001b[36mCell\u001b[39m\u001b[36m \u001b[39m\u001b[32mIn[5]\u001b[39m\u001b[32m, line 4\u001b[39m\n\u001b[32m      2\u001b[39m \u001b[38;5;28;01mtry\u001b[39;00m:\n\u001b[32m      3\u001b[39m     a = \u001b[32m10\u001b[39m / \u001b[32m2\u001b[39m\n\u001b[32m----> \u001b[39m\u001b[32m4\u001b[39m     a = \u001b[43msome_value\u001b[49m\n\u001b[32m      5\u001b[39m \u001b[38;5;28;01mexcept\u001b[39;00m \u001b[38;5;167;01mZeroDivisionError\u001b[39;00m \u001b[38;5;28;01mas\u001b[39;00m ex:\n\u001b[32m      6\u001b[39m     \u001b[38;5;28mprint\u001b[39m(ex)\n",
      "\u001b[31mNameError\u001b[39m: name 'some_value' is not defined"
     ]
    }
   ],
   "source": [
    "# How do we handle multiple exceptions ?\n",
    "try:\n",
    "    a = 10 / 2\n",
    "    a = some_value\n",
    "except ZeroDivisionError as ex:\n",
    "    print(ex)"
   ]
  },
  {
   "cell_type": "markdown",
   "id": "66ec9abc",
   "metadata": {},
   "source": [
    "In the above scenerio, Although I have handled the exception, the flow of the program disrupted. Why ?\n",
    "Here I have handled `ZeroDivisionError`, however I have not handled rest of the exception. Here is how we handle them"
   ]
  },
  {
   "cell_type": "code",
   "execution_count": null,
   "id": "0dd3c1c7",
   "metadata": {},
   "outputs": [
    {
     "name": "stdout",
     "output_type": "stream",
     "text": [
      "name 'some_value' is not defined\n"
     ]
    }
   ],
   "source": [
    "# How do we handle multiple exceptions ?\n",
    "try:\n",
    "    a = 10 / 2\n",
    "    a = some_value\n",
    "except ZeroDivisionError as ex:\n",
    "    print(ex)\n",
    "except Exception as ex1: # Exception is base class of all the exception\n",
    "    print(ex1)"
   ]
  },
  {
   "cell_type": "code",
   "execution_count": 10,
   "id": "2451c9eb",
   "metadata": {},
   "outputs": [
    {
     "name": "stdout",
     "output_type": "stream",
     "text": [
      "Caught an error: invalid literal for int() with base 10: 'abc'\n"
     ]
    }
   ],
   "source": [
    "# Handling Multiple Exceptions Together\n",
    "try:\n",
    "    num = int(\"abc\")   # ValueError\n",
    "    result = 10 / 0    # ZeroDivisionError\n",
    "except (ValueError, ZeroDivisionError) as e: # Use a tuple of exceptions when multiple errors should be handled the same way.\n",
    "    print(\"Caught an error:\", e)\n"
   ]
  },
  {
   "cell_type": "markdown",
   "id": "f54ba9f0",
   "metadata": {},
   "source": [
    "### Python’s full error handling structure supports `try`, `except`, `else`, and `finally`.  \n",
    "Each has a clear role:\n",
    "\n",
    "- **try** → Code that may raise an exception  \n",
    "- **except** → Handles specific or general exceptions  \n",
    "- **else** → Runs only if no exception occurred in try  \n",
    "- **finally** → Always runs (cleanup tasks)"
   ]
  },
  {
   "cell_type": "code",
   "execution_count": 11,
   "id": "191cf8a7",
   "metadata": {},
   "outputs": [
    {
     "name": "stdout",
     "output_type": "stream",
     "text": [
      "Calculation successful: 0.1\n",
      "This block always runs.\n"
     ]
    }
   ],
   "source": [
    "try:\n",
    "    num = int(\"100\")\n",
    "    result = 10 / num\n",
    "except (ValueError, ZeroDivisionError) as e:\n",
    "    print(\"Error occurred:\", e)\n",
    "else:\n",
    "    print(\"Calculation successful:\", result)\n",
    "finally:\n",
    "    print(\"This block always runs.\")\n"
   ]
  },
  {
   "cell_type": "markdown",
   "id": "3915427e",
   "metadata": {},
   "source": [
    "Key Points:\n",
    "```text\n",
    "✅ else makes code cleaner by separating success logic from error handling.\n",
    "✅ finally is for guaranteed cleanup (files, DB connections, resources).\n",
    "✅ Together, they make error handling clear, robust, and safe.\n",
    "```\n",
    "\n",
    "\n",
    "👉 In practice:  \n",
    "- Use **`else`** for the “happy path” when no error occurs.  \n",
    "- Use **`finally`** for cleanup that must run regardless of outcome.  \n",
    "\n",
    "**single combined diagram (flow)** that shows when `try`, `except`, `else`, and `finally` each run\n",
    "\n",
    "\n",
    "## Exception Handling Flow - try, except, else, finally\n",
    "\n",
    "### Flow of Execution\n",
    "1. **try** → Runs code that may raise an error.  \n",
    "2. **except** → Runs only if an error occurs.  \n",
    "3. **else** → Runs if no error occurs in try.  \n",
    "4. **finally** → Always runs (whether error occurs or not).  \n",
    "\n",
    "---\n",
    "\n",
    "#### Example - Math Operation\n",
    "```python\n",
    "try:\n",
    "    num = int(input(\"Enter a number: \"))\n",
    "    result = 10 / num\n",
    "except ValueError:\n",
    "    print(\"Error: Please enter a valid number.\")\n",
    "except ZeroDivisionError:\n",
    "    print(\"Error: Division by zero is not allowed.\")\n",
    "else:\n",
    "    print(\"Success! Result is:\", result)\n",
    "finally:\n",
    "    print(\"Program ended. Cleanup done.\")\n",
    "```\n",
    "\n",
    "Execution Scenarios:\n",
    "```text\n",
    "✅ Input = 5 → try succeeds → else runs → finally runs\n",
    "✅ Input = \"abc\" → ValueError → except runs → finally runs\n",
    "✅ Input = 0 → ZeroDivisionError → except runs → finally runs\n",
    "```\n",
    "\n",
    "```pgsql\n",
    " ┌───────────┐\n",
    " │   try     │\n",
    " └─────┬─────┘\n",
    "       │\n",
    " ┌─────▼─────┐\n",
    " │ Exception?│───Yes──▶┌──────────────┐\n",
    " └─────┬─────┘         │   except     │\n",
    "       │No             └──────────────┘\n",
    "       ▼\n",
    " ┌──────────────┐\n",
    " │     else     │\n",
    " └──────────────┘\n",
    "       ▼\n",
    " ┌──────────────┐\n",
    " │   finally    │ (always runs)\n",
    " └──────────────┘\n",
    "```\n",
    "\n",
    "👉 This makes it crystal clear **when** each block executes.  \n"
   ]
  }
 ],
 "metadata": {
  "kernelspec": {
   "display_name": "Python 3",
   "language": "python",
   "name": "python3"
  },
  "language_info": {
   "codemirror_mode": {
    "name": "ipython",
    "version": 3
   },
   "file_extension": ".py",
   "mimetype": "text/x-python",
   "name": "python",
   "nbconvert_exporter": "python",
   "pygments_lexer": "ipython3",
   "version": "3.12.11"
  }
 },
 "nbformat": 4,
 "nbformat_minor": 5
}
