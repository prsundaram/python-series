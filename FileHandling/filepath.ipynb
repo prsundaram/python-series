{
 "cells": [
  {
   "cell_type": "markdown",
   "id": "8b9a59c8",
   "metadata": {},
   "source": [
    "## File Operation - Working with File Paths\n",
    "\n",
    "### Working with file paths is essential for locating, accessing, and managing files in Python. \n",
    "The `os` and `pathlib` modules provide powerful utilities to handle file and directory paths \n",
    "in a cross-platform way. This notepad covers the basics of creating, joining, checking, and \n",
    "navigating file paths."
   ]
  },
  {
   "cell_type": "markdown",
   "id": "40354ca7",
   "metadata": {},
   "source": [
    "### Creating a new directory"
   ]
  },
  {
   "cell_type": "code",
   "execution_count": null,
   "id": "fcdaac45",
   "metadata": {},
   "outputs": [
    {
     "name": "stdout",
     "output_type": "stream",
     "text": [
      "New directory new_package has been created\n"
     ]
    }
   ],
   "source": [
    "# Create a new directory \n",
    "import os\n",
    "new_directory = \"new_package\"\n",
    "os.mkdir(new_directory)\n",
    "print(f\"New directory {new_directory} has been created\")"
   ]
  },
  {
   "cell_type": "markdown",
   "id": "edb131dc",
   "metadata": {},
   "source": [
    "### Listing all Files and Directories"
   ]
  },
  {
   "cell_type": "code",
   "execution_count": 3,
   "id": "0a4426a7",
   "metadata": {},
   "outputs": [
    {
     "name": "stdout",
     "output_type": "stream",
     "text": [
      "['fileoperation.ipynb', 'text_to_read.txt', 'numbers.bin', 'source.jpeg', 'copy.jpeg', 'filepath.ipynb', 'new_package', 'example.bin', 'example.txt', 'sample.bin']\n"
     ]
    }
   ],
   "source": [
    "items = os.listdir('.')\n",
    "print(items)"
   ]
  },
  {
   "cell_type": "markdown",
   "id": "6f4472ed",
   "metadata": {},
   "source": [
    "### Joining Paths\n",
    "\n",
    "Joining paths is considered one of the most important features in working with file paths because:\n",
    "1. Cross-Platform Compatibility\n",
    "    - Different operating systems use different path separators (/ on Linux/macOS, \\ on Windows).\n",
    "    - os.path.join() and pathlib.Path automatically handle this, so your code works everywhere.\n",
    "2. Avoids Manual String Errors\n",
    "    - Writing paths with string concatenation (\"folder/\" + \"file.txt\") can easily break if you miss or double the slash.\n",
    "    - Joining paths ensures separators are added correctly.\n",
    "3. Cleaner and More Readable Code\n",
    "    - Instead of messy string manipulation, path joining is explicit and easy to understand.\n",
    "4. Scalability for Nested Paths\n",
    "    - Useful when dynamically constructing paths for deep directories or user-provided file names."
   ]
  },
  {
   "cell_type": "code",
   "execution_count": 5,
   "id": "853d2a94",
   "metadata": {},
   "outputs": [
    {
     "name": "stdout",
     "output_type": "stream",
     "text": [
      "new_package/new_file.txt\n"
     ]
    }
   ],
   "source": [
    "file_path = os.path.join(\"new_package\", \"new_file.txt\")\n",
    "print(file_path)   # Works on all OS"
   ]
  },
  {
   "cell_type": "markdown",
   "id": "0630f09e",
   "metadata": {},
   "source": [
    "### Get current working directory"
   ]
  },
  {
   "cell_type": "code",
   "execution_count": 6,
   "id": "53be4e00",
   "metadata": {},
   "outputs": [
    {
     "name": "stdout",
     "output_type": "stream",
     "text": [
      "Current working directory is /Users/psundara/learn/python/python-series/FileHandling\n"
     ]
    }
   ],
   "source": [
    "cwd = os.getcwd()\n",
    "print(f\"Current working directory is {cwd}\")"
   ]
  },
  {
   "cell_type": "markdown",
   "id": "0d39f658",
   "metadata": {},
   "source": [
    "Perhaps I want to create a file along with my folder location then I can say"
   ]
  },
  {
   "cell_type": "code",
   "execution_count": 8,
   "id": "a7280c2c",
   "metadata": {},
   "outputs": [
    {
     "name": "stdout",
     "output_type": "stream",
     "text": [
      "File with along with my current working director is /Users/psundara/learn/python/python-series/FileHandling/new_package/new_file.txt\n"
     ]
    }
   ],
   "source": [
    "file_path = os.path.join(os.getcwd(), \"new_package\", \"new_file.txt\")\n",
    "print(f\"File with along with my current working director is {file_path}\")"
   ]
  },
  {
   "cell_type": "markdown",
   "id": "a53f6352",
   "metadata": {},
   "source": [
    "### Create the if does not exists"
   ]
  },
  {
   "cell_type": "code",
   "execution_count": null,
   "id": "73318e2a",
   "metadata": {},
   "outputs": [
    {
     "name": "stdout",
     "output_type": "stream",
     "text": [
      "File does not exits in the path new_package/new_file.txt hence creating\n"
     ]
    }
   ],
   "source": [
    "file_path = os.path.join(\"new_package\", \"new_file.txt\")\n",
    "\n",
    "if (os.path.exists(file_path)):\n",
    "    print(f\"File exits in the path {file_path}\")\n",
    "else:\n",
    "    print(f\"File does not exits in the path {file_path} hence creating\")\n",
    "    with open(file_path, 'w') as file:\n",
    "        file.write(\"This is file will be written only if the contenxt does not exits\\n\")\n"
   ]
  },
  {
   "cell_type": "markdown",
   "id": "c1885aa2",
   "metadata": {},
   "source": [
    "### Checking if the given path is a file or a directory"
   ]
  },
  {
   "cell_type": "code",
   "execution_count": 14,
   "id": "9e9d34d8",
   "metadata": {},
   "outputs": [
    {
     "name": "stdout",
     "output_type": "stream",
     "text": [
      "The given path new_package/new_file.txt is a file\n"
     ]
    }
   ],
   "source": [
    "if os.path.isfile(file_path):\n",
    "    print(f\"The given path {file_path} is a file\")\n",
    "elif os.path.isdir(file_path):\n",
    "    print(f\"The given path {file_path} is a directory\")\n",
    "else:\n",
    "    print(f\"The given path {file_path} is neither a file nor a directory\")"
   ]
  },
  {
   "cell_type": "markdown",
   "id": "46c0ffda",
   "metadata": {},
   "source": [
    "### Absolute path\n",
    "\n",
    "It is an alternative way of using `os.path.join()`"
   ]
  },
  {
   "cell_type": "code",
   "execution_count": 15,
   "id": "f5229815",
   "metadata": {},
   "outputs": [
    {
     "name": "stdout",
     "output_type": "stream",
     "text": [
      "Absolute Path /Users/psundara/learn/python/python-series/FileHandling/new_package/new_file.txt\n"
     ]
    }
   ],
   "source": [
    "absolute_path = os.path.abspath(file_path)\n",
    "print(f\"Absolute Path {absolute_path}\")"
   ]
  }
 ],
 "metadata": {
  "kernelspec": {
   "display_name": "Python 3",
   "language": "python",
   "name": "python3"
  },
  "language_info": {
   "codemirror_mode": {
    "name": "ipython",
    "version": 3
   },
   "file_extension": ".py",
   "mimetype": "text/x-python",
   "name": "python",
   "nbconvert_exporter": "python",
   "pygments_lexer": "ipython3",
   "version": "3.12.11"
  }
 },
 "nbformat": 4,
 "nbformat_minor": 5
}
