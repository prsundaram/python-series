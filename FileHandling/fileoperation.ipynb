{
 "cells": [
  {
   "cell_type": "markdown",
   "id": "bcc00cc3",
   "metadata": {},
   "source": [
    "## File Operation - Read and Write Files \n",
    "\n",
    "### File handling is a crucial part of any programming language. Python provides built-in functions and methods to read from and write to files, both text and binary. This notepad covers the basics of file handling, including reading and writing text files and binary files."
   ]
  },
  {
   "cell_type": "code",
   "execution_count": 3,
   "id": "eedfef20",
   "metadata": {},
   "outputs": [
    {
     "name": "stdout",
     "output_type": "stream",
     "text": [
      "Reading the content of the file: \n",
      "\n",
      " This is a sample text file which will be used to for illustration purpose\n",
      "--------------------------------------------------------------------------------\n",
      "\n",
      "Python is a powerful, high-level programming language valued for its simplicity, flexibility, and extensive ecosystem. \n",
      "Its clean syntax enables rapid development, while dynamic typing and vast libraries make it highly adaptable. \n",
      "Python excels in automation, data analysis, web applications, and especially artificial intelligence and machine learning,\n",
      "thanks to frameworks like TensorFlow, PyTorch, and Scikit-learn. It supports object-oriented, functional,\n",
      "and procedural paradigms, making it versatile for diverse use cases. With strong community support, seamless integration \n",
      "with other technologies, and cross-platform portability, Python empowers developers to build efficient, scalable, \n",
      "and innovative solutions across AI, data science, and enterprise applications.\n"
     ]
    }
   ],
   "source": [
    "### This example illustrates reading the whole fle\n",
    "\n",
    "with open(\"text_to_read.txt\", \"r\") as file:\n",
    "    file_contents = file.read()\n",
    "    print(f\"Reading the content of the file: \\n\\n {file_contents}\")"
   ]
  },
  {
   "cell_type": "markdown",
   "id": "7b380386",
   "metadata": {},
   "source": [
    "### Lets see various possible ways to read the file"
   ]
  },
  {
   "cell_type": "markdown",
   "id": "aab23803",
   "metadata": {},
   "source": [
    "#### 1. Using `for` loop directly on file object (most Pythonic ✅)"
   ]
  },
  {
   "cell_type": "code",
   "execution_count": 6,
   "id": "5ccc4a37",
   "metadata": {},
   "outputs": [
    {
     "name": "stdout",
     "output_type": "stream",
     "text": [
      "This is a sample text file which will be used to for illustration purpose\n",
      "--------------------------------------------------------------------------------\n",
      "\n",
      "Python is a powerful, high-level programming language valued for its simplicity, flexibility, and extensive ecosystem.\n",
      "Its clean syntax enables rapid development, while dynamic typing and vast libraries make it highly adaptable.\n",
      "Python excels in automation, data analysis, web applications, and especially artificial intelligence and machine learning,\n",
      "thanks to frameworks like TensorFlow, PyTorch, and Scikit-learn. It supports object-oriented, functional,\n",
      "and procedural paradigms, making it versatile for diverse use cases. With strong community support, seamless integration\n",
      "with other technologies, and cross-platform portability, Python empowers developers to build efficient, scalable,\n",
      "and innovative solutions across AI, data science, and enterprise applications.\n"
     ]
    }
   ],
   "source": [
    "with open(\"text_to_read.txt\", \"r\") as f:\n",
    "    for line in f: # reads the file line by line\n",
    "        print(line.strip()) # I am using strip(), because it return a copy of the string with leading and trailing whitespace removed."
   ]
  },
  {
   "cell_type": "markdown",
   "id": "81283626",
   "metadata": {},
   "source": [
    "##### Advatages\n",
    "- Efficient: doesn’t load the whole file into memory.\n",
    "- Best for large files.\n",
    "\n"
   ]
  },
  {
   "cell_type": "markdown",
   "id": "d06c0b5e",
   "metadata": {},
   "source": [
    "#### 2. Using `while` loop with `readline()`"
   ]
  },
  {
   "cell_type": "code",
   "execution_count": 9,
   "id": "06d0a56d",
   "metadata": {},
   "outputs": [
    {
     "name": "stdout",
     "output_type": "stream",
     "text": [
      "This is a sample text file which will be used to for illustration purpose\n",
      "--------------------------------------------------------------------------------\n",
      "\n",
      "Python is a powerful, high-level programming language valued for its simplicity, flexibility, and extensive ecosystem.\n",
      "Its clean syntax enables rapid development, while dynamic typing and vast libraries make it highly adaptable.\n",
      "Python excels in automation, data analysis, web applications, and especially artificial intelligence and machine learning,\n",
      "thanks to frameworks like TensorFlow, PyTorch, and Scikit-learn. It supports object-oriented, functional,\n",
      "and procedural paradigms, making it versatile for diverse use cases. With strong community support, seamless integration\n",
      "with other technologies, and cross-platform portability, Python empowers developers to build efficient, scalable,\n",
      "and innovative solutions across AI, data science, and enterprise applications.\n"
     ]
    }
   ],
   "source": [
    "with open('text_to_read.txt', 'r') as f:\n",
    "    line = f.readline()\n",
    "    while line:\n",
    "        print(line.strip())\n",
    "        line = f.readline()"
   ]
  },
  {
   "cell_type": "markdown",
   "id": "e19d53bc",
   "metadata": {},
   "source": [
    "##### Advantages\n",
    "- Gives you more control (e.g., skipping lines).\n",
    "- Still reads one line at a time."
   ]
  },
  {
   "cell_type": "markdown",
   "id": "66835f3c",
   "metadata": {},
   "source": [
    "#### 3. Using `readlines()` with `for` loop"
   ]
  },
  {
   "cell_type": "code",
   "execution_count": 10,
   "id": "c4c8d357",
   "metadata": {},
   "outputs": [
    {
     "name": "stdout",
     "output_type": "stream",
     "text": [
      "This is a sample text file which will be used to for illustration purpose\n",
      "--------------------------------------------------------------------------------\n",
      "\n",
      "Python is a powerful, high-level programming language valued for its simplicity, flexibility, and extensive ecosystem.\n",
      "Its clean syntax enables rapid development, while dynamic typing and vast libraries make it highly adaptable.\n",
      "Python excels in automation, data analysis, web applications, and especially artificial intelligence and machine learning,\n",
      "thanks to frameworks like TensorFlow, PyTorch, and Scikit-learn. It supports object-oriented, functional,\n",
      "and procedural paradigms, making it versatile for diverse use cases. With strong community support, seamless integration\n",
      "with other technologies, and cross-platform portability, Python empowers developers to build efficient, scalable,\n",
      "and innovative solutions across AI, data science, and enterprise applications.\n"
     ]
    }
   ],
   "source": [
    "with open('text_to_read.txt', 'r') as f:\n",
    "    for line in f.readlines():\n",
    "        print(line.strip())"
   ]
  },
  {
   "cell_type": "markdown",
   "id": "de7b4585",
   "metadata": {},
   "source": [
    "#### 4. Using `yield`"
   ]
  },
  {
   "cell_type": "code",
   "execution_count": 14,
   "id": "c967d832",
   "metadata": {},
   "outputs": [
    {
     "name": "stdout",
     "output_type": "stream",
     "text": [
      "Python do contain vairous native libraries that shall we used for Machine learning\n"
     ]
    }
   ],
   "source": [
    "def read_lines(filename):\n",
    "    with open(filename, 'r') as f:\n",
    "        for line in f:\n",
    "            yield line.strip()\n",
    "\n",
    "# Example usage:\n",
    "for line in read_lines('text_to_read.txt'):\n",
    "    print(line)"
   ]
  },
  {
   "cell_type": "markdown",
   "id": "e4a9b218",
   "metadata": {},
   "source": [
    "##### Advantages:\n",
    "- yield turns a function into a generator.\n",
    "- First call → returns the first line.\n",
    "- Next loop iteration → resumes, returns the next line.\n",
    "-- Continues until the file ends.\n",
    "\n",
    "##### Benefits:\n",
    "1. Memory Efficiency\n",
    "    - Doesn’t load the whole file into memory (important for large files).\n",
    "    - Reads and processes one line at a time.\n",
    "2. Lazy Evaluation\n",
    "    - Only generates values when needed.\n",
    "    - Saves time if you don’t need the entire dataset.\n",
    "3. Cleaner Code\n",
    "    - No need to manually manage indexes or read chunks.\n",
    "    - Loops like for line in read_file_lines(\"text_to_read.txt\") just work.\n",
    "4. Pipeline Flexibility\n",
    "    - Generators can be chained together for data processing pipelines (filter, transform, aggregate)."
   ]
  },
  {
   "cell_type": "markdown",
   "id": "0f8448d3",
   "metadata": {},
   "source": [
    "### Writing a content to a file\n",
    "I have a file already `text_to_read.txt`, so I will be using the same file to illustrate the write operation. "
   ]
  },
  {
   "cell_type": "code",
   "execution_count": null,
   "id": "8a86bf1b",
   "metadata": {},
   "outputs": [
    {
     "name": "stdout",
     "output_type": "stream",
     "text": [
      "Python do contain vairous native libraries that shall we used for Machine learning\n"
     ]
    }
   ],
   "source": [
    "with open('text_to_read.txt', 'w') as file:\n",
    "    file.write(\"Python do contain vairous native libraries that shall we used for Machine learning\\n\")\n",
    "\n",
    "## Lets us try reading the file, the existing file should have been over written\n",
    "for line in read_lines('text_to_read.txt'): # I have created this generator method already to read the file\n",
    "    print(line)\n"
   ]
  },
  {
   "cell_type": "markdown",
   "id": "a3d89551",
   "metadata": {},
   "source": [
    "Using `writelines()`\n",
    "\n",
    "- It writes a list (or iterable) of strings to a file.\n",
    "- It does not add newline characters automatically — you must include \\n if you want line breaks."
   ]
  },
  {
   "cell_type": "code",
   "execution_count": 16,
   "id": "80820af9",
   "metadata": {},
   "outputs": [
    {
     "name": "stdout",
     "output_type": "stream",
     "text": [
      "First line\n",
      "Second line\n",
      "Third line\n"
     ]
    }
   ],
   "source": [
    "lines = [\"First line\\n\", \"Second line\\n\", \"Third line\\n\"]\n",
    "\n",
    "with open(\"text_to_read.txt\", \"w\") as f:\n",
    "    f.writelines(lines)\n",
    "\n",
    "for line in read_lines('text_to_read.txt'):\n",
    "    print(line)\n"
   ]
  },
  {
   "cell_type": "markdown",
   "id": "7e6f4ffa",
   "metadata": {},
   "source": [
    "#### Appening to text to the existing file\n",
    "Inorder to append the text to existing file, we will have to use append mode `a`"
   ]
  },
  {
   "cell_type": "code",
   "execution_count": 17,
   "id": "df690e8a",
   "metadata": {},
   "outputs": [
    {
     "name": "stdout",
     "output_type": "stream",
     "text": [
      "First line\n",
      "Second line\n",
      "Third line\n",
      "Python do contain vairous native libraries that shall we used for Machine learning\n"
     ]
    }
   ],
   "source": [
    "# Using write()\n",
    "with open('text_to_read.txt', 'a') as f:\n",
    "    f.write(\"Python do contain vairous native libraries that shall we used for Machine learning\\n\")\n",
    "\n",
    "for line in read_lines('text_to_read.txt'):\n",
    "    print(line)"
   ]
  },
  {
   "cell_type": "code",
   "execution_count": 18,
   "id": "4d6f1a9e",
   "metadata": {},
   "outputs": [
    {
     "name": "stdout",
     "output_type": "stream",
     "text": [
      "First line\n",
      "Second line\n",
      "Third line\n",
      "Python do contain vairous native libraries that shall we used for Machine learning\n",
      "Fourth line\n",
      "Fifth line\n"
     ]
    }
   ],
   "source": [
    "# Using writelines()\n",
    "new_lines = [\"Fourth line\\n\", \"Fifth line\\n\"]\n",
    "\n",
    "with open('text_to_read.txt', 'a') as f:\n",
    "    f.writelines(new_lines)\n",
    "\n",
    "for line in read_lines('text_to_read.txt'):\n",
    "    print(line) "
   ]
  },
  {
   "cell_type": "markdown",
   "id": "e85fccbb",
   "metadata": {},
   "source": [
    "### Binary file I/O is super important (images, audio, models, executables, etc.).\n",
    "\n",
    "- `rb` → Read Binary\n",
    "    - Opens file for reading in binary mode.\n",
    "    - File must already exist.\n",
    "- `wb` → Write Binary\n",
    "    - Opens file for writing in binary mode.\n",
    "    - Overwrites the file if it exists, or creates a new one.\n",
    "- `ab` → Append Binary\n",
    "    - Opens file for appending in binary mode.\n",
    "    - Writes data at the end without erasing existing content.\n",
    "- `rb+` → Read & Write Binary\n",
    "    - Opens file for both reading and writing in binary mode.\n",
    "    - File must exist.\n",
    "- `wb+` → Write & Read Binary\n",
    "    - Opens file for reading and writing in binary mode.\n",
    "    - Overwrites file if it exists, otherwise creates new.\n",
    "- `ab+` → Append & Read Binary\n",
    "    - Opens file for reading and appending in binary mode.\n",
    "    - File pointer is at the end for writing, but you can read existing data."
   ]
  },
  {
   "cell_type": "code",
   "execution_count": 19,
   "id": "127812f8",
   "metadata": {},
   "outputs": [],
   "source": [
    "# 1. Writing raw bytes to a binary file\n",
    "data = bytes([65, 66, 67, 68])   # Equivalent to ASCII 'ABCD'\n",
    "\n",
    "with open(\"sample.bin\", \"wb\") as f:\n",
    "    f.write(data)   # Writes raw bytes to the file"
   ]
  },
  {
   "cell_type": "code",
   "execution_count": 21,
   "id": "865606f2",
   "metadata": {},
   "outputs": [
    {
     "name": "stdout",
     "output_type": "stream",
     "text": [
      "b'ABCD'\n",
      "[65, 66, 67, 68]\n"
     ]
    }
   ],
   "source": [
    "# 2. Reading the entire binary file\n",
    "with open(\"sample.bin\", \"rb\") as f:\n",
    "    content = f.read()           # Reads all bytes\n",
    "    print(content)               # b'ABCD'\n",
    "    print(list(content))         # [65, 66, 67, 68] (decimal values)"
   ]
  },
  {
   "cell_type": "code",
   "execution_count": 22,
   "id": "2816fd32",
   "metadata": {},
   "outputs": [
    {
     "name": "stdout",
     "output_type": "stream",
     "text": [
      "b'AB'\n",
      "b'CD'\n"
     ]
    }
   ],
   "source": [
    "# 3. Reading binary file in chunks (useful for large files)\n",
    "with open(\"sample.bin\", \"rb\") as f:\n",
    "    chunk = f.read(2)            # Read 2 bytes at a time\n",
    "    while chunk:                 # Loop until EOF\n",
    "        print(chunk)             # Print the chunk\n",
    "        chunk = f.read(2)"
   ]
  },
  {
   "cell_type": "code",
   "execution_count": 23,
   "id": "b5968feb",
   "metadata": {},
   "outputs": [],
   "source": [
    "# 4. Copying a binary file (common use case: images, PDFs, audio)\n",
    "with open(\"source.jpeg\", \"rb\") as src, open(\"copy.jpeg\", \"wb\") as dst:\n",
    "    # iter(callable, sentinel) keeps calling the function (callable)\n",
    "    # until it returns the sentinel value (here: b\"\")\n",
    "    #\n",
    "    # - lambda: src.read(4096) → small anonymous function that reads 4096 bytes at a time\n",
    "    # - b\"\" (empty bytes) → sentinel; when src.read() returns b\"\", it means EOF (end of file)\n",
    "    #\n",
    "    # So this loop keeps yielding 4KB chunks until the file ends.\n",
    "    for chunk in iter(lambda: src.read(4096), b\"\"):  \n",
    "        dst.write(chunk)  # Write each chunk to the destination file\n"
   ]
  },
  {
   "cell_type": "code",
   "execution_count": 24,
   "id": "3776cbeb",
   "metadata": {},
   "outputs": [
    {
     "name": "stdout",
     "output_type": "stream",
     "text": [
      "<class 'bytes'>\n",
      "3487371\n",
      "b'\\xff\\xd8\\xff\\xe0\\x00\\x10JFIF\\x00\\x01\\x01\\x01\\x01,\\x01,\\x00\\x00'\n"
     ]
    }
   ],
   "source": [
    "# Open the image in binary read mode\n",
    "with open(\"copy.jpeg\", \"rb\") as f:\n",
    "    img_bytes = f.read()   # read the entire image as bytes\n",
    "\n",
    "print(type(img_bytes))     # <class 'bytes'>\n",
    "print(len(img_bytes))      # total number of bytes in the image\n",
    "print(img_bytes[:20])      # first 20 bytes (JPEG header)\n"
   ]
  },
  {
   "cell_type": "code",
   "execution_count": 25,
   "id": "e1448f65",
   "metadata": {},
   "outputs": [
    {
     "name": "stdout",
     "output_type": "stream",
     "text": [
      "Initial position: 0\n",
      "After seek: 2\n",
      "Byte at position 2: b'C'\n"
     ]
    }
   ],
   "source": [
    "# 5. Using seek() and tell() for positioning in a binary file\n",
    "with open(\"sample.bin\", \"rb\") as f:\n",
    "    # tell() → returns the current file pointer position (in bytes)\n",
    "    # Initially, when we open a file, the pointer is at the start (position 0)\n",
    "    print(\"Initial position:\", f.tell())   # Output: 0 (start of file)\n",
    "\n",
    "    # seek(offset, whence) → moves the file pointer\n",
    "    # - offset = how many bytes to move\n",
    "    # - whence = reference point (default is 0 → beginning of file)\n",
    "    #   whence = 0 → beginning of file\n",
    "    #   whence = 1 → current position\n",
    "    #   whence = 2 → end of file\n",
    "    #\n",
    "    # Here: f.seek(2) → move pointer to the 3rd byte (0-based index)\n",
    "    f.seek(2)                              \n",
    "\n",
    "    # tell() again → shows the new position\n",
    "    print(\"After seek:\", f.tell())         # Output: 2\n",
    "\n",
    "    # f.read(1) → read 1 byte from current pointer position (byte index 2)\n",
    "    print(\"Byte at position 2:\", f.read(1))  \n"
   ]
  },
  {
   "cell_type": "code",
   "execution_count": null,
   "id": "fdd0575e",
   "metadata": {},
   "outputs": [],
   "source": [
    "# 6. Writing and reading structured binary data (using struct)\n",
    "\n",
    "import struct\n",
    "# ------------------------------------------------------\n",
    "# Writing: pack Python values into binary format\n",
    "# ------------------------------------------------------\n",
    "with open(\"numbers.bin\", \"wb\") as f:\n",
    "    # struct.pack(format, value) → converts Python values into raw bytes\n",
    "    #\n",
    "    # \"i\" → integer (4 bytes)\n",
    "    # \"f\" → float (4 bytes)\n",
    "    #\n",
    "    # Here, we write 123 as a 4-byte integer, then 3.14 as a 4-byte float.\n",
    "    f.write(struct.pack(\"i\", 123))    # Write integer 123 → 4 bytes\n",
    "    f.write(struct.pack(\"f\", 3.14))   # Write float 3.14 → 4 bytes"
   ]
  },
  {
   "cell_type": "code",
   "execution_count": 29,
   "id": "3d65a3f2",
   "metadata": {},
   "outputs": [
    {
     "name": "stdout",
     "output_type": "stream",
     "text": [
      "Read integer: 123\n",
      "Read float: 3.140000104904175\n"
     ]
    }
   ],
   "source": [
    "# ------------------------------------------------------\n",
    "# Reading: unpack binary data back into Python values\n",
    "# ------------------------------------------------------\n",
    "with open(\"numbers.bin\", \"rb\") as f:\n",
    "    # Read 4 bytes for the integer\n",
    "    int_bytes = f.read(4)             \n",
    "    # Read 4 bytes for the float\n",
    "    float_bytes = f.read(4)           \n",
    "\n",
    "    # struct.unpack(format, bytes) → converts raw bytes back into Python values\n",
    "    #\n",
    "    # struct.unpack() always returns a tuple → so we take [0] to get the value\n",
    "    num = struct.unpack(\"i\", int_bytes)[0]\n",
    "    flt = struct.unpack(\"f\", float_bytes)[0]\n",
    "\n",
    "    print(\"Read integer:\", num)   # 123\n",
    "    print(\"Read float:\", flt)     # 3.14"
   ]
  }
 ],
 "metadata": {
  "kernelspec": {
   "display_name": "Python 3",
   "language": "python",
   "name": "python3"
  },
  "language_info": {
   "codemirror_mode": {
    "name": "ipython",
    "version": 3
   },
   "file_extension": ".py",
   "mimetype": "text/x-python",
   "name": "python",
   "nbconvert_exporter": "python",
   "pygments_lexer": "ipython3",
   "version": "3.12.11"
  }
 },
 "nbformat": 4,
 "nbformat_minor": 5
}
