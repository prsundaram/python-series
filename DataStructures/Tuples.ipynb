{
 "cells": [
  {
   "cell_type": "markdown",
   "id": "433cc775",
   "metadata": {},
   "source": [
    "## Detailed Outline: Tuples in Python (with Code References)\n",
    "---\n",
    "\n",
    "### 1. What is a Tuple?\n",
    "- A tuple is an **ordered collection** of items.\n",
    "- Tuples are **immutable**—once created, their elements cannot be changed.\n",
    "- They can store elements of different types (e.g., `mixed_tuple = (1, \"Hello\", 3.14, True)`).\n",
    "\n",
    "### 2. Creating Tuples\n",
    "- Tuples are created using parentheses `()`, e.g., `numbers = (1, 2, 3, 4, 5)`.\n",
    "- An empty tuple: `empty_tuple = ()` (see code: `empty_tuple`)\n",
    "- Using the `tuple()` constructor: `tpl = tuple()` (see code: `tpl`)\n",
    "- Tuples can also be created from lists: `another_tuple = tuple([6, 7, 8])`\n",
    "\n",
    "### 3. Tuple vs List\n",
    "- Lists (`lst = list()`) are mutable; tuples (`tpl = tuple()`) are immutable.\n",
    "- Lists use `[]`, tuples use `()`.\n",
    "- Tuples are generally faster and use less memory.\n",
    "\n",
    "### 4. Accessing Tuple Elements\n",
    "- Access elements by index: `numbers[0]` gives `1`.\n",
    "- Negative indexing: `numbers[-1]` gives last element.\n",
    "- Slicing: `numbers[::-1]` reverses the tuple.\n",
    "\n",
    "### 5. Tuple Operations\n",
    "- **Concatenation:** `concatenated_tuple = tuple1 + tuple2` (see code: `concatenated_tuple`)\n",
    "- **Repetition:** `mixed_tuple * 3` repeats the tuple.\n",
    "- **Membership:** Use `in` and `not in` to check for existence.\n",
    "\n",
    "### 6. Immutability of Tuples\n",
    "- Tuples cannot be changed after creation.\n",
    "- Attempting to modify:  \n",
    "    ```python\n",
    "    tuple_example[0] = 10  # Raises TypeError\n",
    "    ```\n",
    "    (see code: `tuple_example`)\n",
    "\n",
    "### 7. Tuple Methods\n",
    "- Only two built-in methods:\n",
    "        - `count(value)`: `count_of_1 = numbers.count(1)` (see code: `count_of_1`)\n",
    "        - `index(value)`: `index_of_3 = numbers.index(3)` (see code: `index_of_3`)\n",
    "\n",
    "### 8. Packing and Unpacking Tuples\n",
    "- **Packing:** `packed_tuple = (1, 2, 3, 4, 5)`\n",
    "- **Unpacking:**  \n",
    "    ```python\n",
    "    a, b, c = packed_tuple\n",
    "    ```\n",
    "    (see code: `a`, `b`, `c`)\n",
    "- Unpacking with `*`:  \n",
    "    ```python\n",
    "    first, *middle, last = packed_tuple\n",
    "    ```\n",
    "    (see code: `first`, `middle`, `last`)\n",
    "\n",
    "### 9. Nested Tuples\n",
    "- Tuples can contain other tuples:  \n",
    "    `nested_tuple = (1, (2, 3, 4), (5, 6))` (see code: `nested_tuple`)\n",
    "- Access nested elements:  \n",
    "    `nested_tuple[1][0:2]`\n",
    "\n",
    "### 10. Iterating Through Tuples\n",
    "- Use loops to iterate:  \n",
    "    ```python\n",
    "    for item in nested_tuple:\n",
    "            if isinstance(item, tuple):\n",
    "                    for sub_item in item:\n",
    "                            print(sub_item)\n",
    "            else:\n",
    "                    print(item)\n",
    "    ```\n",
    "    (see code: `item`, `sub_item`)\n",
    "\n",
    "### 11. Tuple Conversion\n",
    "- Convert tuple to list: `list_from_tuple = list((1, 2, 3, 4, 5))` (see code: `list_from_tuple`)\n",
    "- Convert list to tuple: `tpl = tuple(lst)`\n",
    "\n",
    "### 12. Use Cases of Tuples\n",
    "- Fixed collections of items.\n",
    "- Returning multiple values from functions.\n",
    "- Can be used as dictionary keys (if all elements are immutable).\n",
    "\n",
    "### 13. Limitations of Tuples\n",
    "- Cannot add, remove, or change elements after creation.\n",
    "- Fewer built-in methods compared to lists.\n",
    "\n",
    "### 14. Summary\n",
    "- Tuples are immutable, ordered collections.\n",
    "- Useful for fixed data, faster operations, and as dictionary keys.\n",
    "- Refer to code examples above for practical usage."
   ]
  },
  {
   "cell_type": "code",
   "execution_count": 26,
   "id": "fa35d542",
   "metadata": {},
   "outputs": [
    {
     "name": "stdout",
     "output_type": "stream",
     "text": [
      "()\n",
      "<class 'tuple'>\n"
     ]
    }
   ],
   "source": [
    "# Creating a tuple \n",
    "\n",
    "empty_tuple = ()\n",
    "print(empty_tuple)\n",
    "print(type(empty_tuple))  # Output: <class 'tuple'>"
   ]
  },
  {
   "cell_type": "code",
   "execution_count": 27,
   "id": "78602987",
   "metadata": {},
   "outputs": [
    {
     "name": "stdout",
     "output_type": "stream",
     "text": [
      "[]\n",
      "<class 'list'>\n",
      "()\n",
      "<class 'tuple'>\n"
     ]
    }
   ],
   "source": [
    "lst = list()\n",
    "print(lst)\n",
    "print(type(lst))  # Output: <class 'list'>     \n",
    "tpl = tuple()\n",
    "print(tpl)\n",
    "print(type(tpl))  # Output: <class 'tuple'>"
   ]
  },
  {
   "cell_type": "code",
   "execution_count": 28,
   "id": "8b0bc45d",
   "metadata": {},
   "outputs": [
    {
     "name": "stdout",
     "output_type": "stream",
     "text": [
      "(1, 2, 3, 4, 5)\n",
      "(6, 7, 8)\n"
     ]
    }
   ],
   "source": [
    "# Adding elements to the tuple\n",
    "numbers = (1, 2, 3, 4, 5)\n",
    "print(numbers)  # Output: (1, 2, 3, 4, 5)\n",
    "another_tuple = tuple([6, 7, 8])\n",
    "print(another_tuple)  # Output: (6, 7, 8)"
   ]
  },
  {
   "cell_type": "code",
   "execution_count": 29,
   "id": "674f96e6",
   "metadata": {},
   "outputs": [
    {
     "name": "stdout",
     "output_type": "stream",
     "text": [
      "[1, 2, 3, 4, 5]\n"
     ]
    }
   ],
   "source": [
    "# Tupe to list conversion\n",
    "list_from_tuple = list((1, 2, 3, 4, 5))\n",
    "print(list_from_tuple)  # Output: [1, 2, 3,"
   ]
  },
  {
   "cell_type": "code",
   "execution_count": 30,
   "id": "42ec90c8",
   "metadata": {},
   "outputs": [
    {
     "name": "stdout",
     "output_type": "stream",
     "text": [
      "(1, 'Hello', 3.14, True)\n",
      "<class 'tuple'>\n"
     ]
    }
   ],
   "source": [
    "mixed_tuple = (1, \"Hello\", 3.14, True)\n",
    "print(mixed_tuple)  # Output: (1, 'Hello', 3.14, True)]\n",
    "print(type(mixed_tuple))  # Output: <class 'list'>"
   ]
  },
  {
   "cell_type": "code",
   "execution_count": 31,
   "id": "f928b12e",
   "metadata": {},
   "outputs": [
    {
     "name": "stdout",
     "output_type": "stream",
     "text": [
      "1\n",
      "2\n",
      "3\n",
      "5\n",
      "4\n",
      "(5, 4, 3, 2, 1)\n",
      "(1, 3, 5)\n"
     ]
    }
   ],
   "source": [
    "# Accessing elements in a tuple\n",
    "# Slcing a tuple is similar to slicing a list\n",
    "print(numbers[0])  # Output: 1\n",
    "print(numbers[1])  # Output: 2\n",
    "print(numbers[2])  # Output: 3\n",
    "print(numbers[-1]) # Output: 5 Accesing the last element\n",
    "print(numbers[-2]) # Output: 4 Accessing the second last element\n",
    "print(numbers[::-1])  # Output: (5, 4, 3, 2, 1) Reversing the tuple\n",
    "print(numbers[::2])  # Output: (1, 3, 5) Accessing every second element"
   ]
  },
  {
   "cell_type": "code",
   "execution_count": 32,
   "id": "05ee9001",
   "metadata": {},
   "outputs": [
    {
     "name": "stdout",
     "output_type": "stream",
     "text": [
      "(1, 2, 3, 4, 5, 6)\n"
     ]
    }
   ],
   "source": [
    "# Tuples operations\n",
    "\n",
    "# Concatenation\n",
    "tuple1 = (1, 2, 3)\n",
    "tuple2 = (4, 5, 6)\n",
    "concatenated_tuple = tuple1 + tuple2\n",
    "print(concatenated_tuple)  # Output: (1, 2, 3, 4, 5, 6)"
   ]
  },
  {
   "cell_type": "code",
   "execution_count": 34,
   "id": "80033b45",
   "metadata": {},
   "outputs": [
    {
     "name": "stdout",
     "output_type": "stream",
     "text": [
      "(1, 'Hello', 3.14, True, 1, 'Hello', 3.14, True, 1, 'Hello', 3.14, True)\n"
     ]
    }
   ],
   "source": [
    "mixed_tuple * 3  # Output: (1, 'Hello', 3.14, True, 1, 'Hello', 3.14, True, 1, 'Hello', 3.14, True)\n",
    "# Repetition - entire tuple is repeated 3 times\n",
    "print(mixed_tuple * 3)  # Output: (1, 'Hello', 3.14, True, 1, 'Hello', 3.14, True, 1, 'Hello', 3.14, True)"
   ]
  },
  {
   "cell_type": "code",
   "execution_count": 37,
   "id": "07c90fa2",
   "metadata": {},
   "outputs": [
    {
     "name": "stdout",
     "output_type": "stream",
     "text": [
      "Error: 'tuple' object does not support item assignment\n"
     ]
    }
   ],
   "source": [
    "# Immutable nature of tuples\n",
    "# Tuples are immutable, meaning you cannot change their elements after creation.\n",
    "tuple_example = (1, 2, 3)\n",
    "try:\n",
    "    tuple_example[0] = 10  # This will raise a TypeError\n",
    "except TypeError as e:\n",
    "    print(f\"Error: {e}\")"
   ]
  },
  {
   "cell_type": "code",
   "execution_count": 39,
   "id": "1357507a",
   "metadata": {},
   "outputs": [
    {
     "name": "stdout",
     "output_type": "stream",
     "text": [
      "(1, 2, 3, 4, 5)\n",
      "Count of 1 in numbers: 1\n",
      "Index of 3 in numbers: 2\n"
     ]
    }
   ],
   "source": [
    "# Tuples methods\n",
    "# Tuples have only two methods: count() and index()\n",
    "# count() returns the number of occurrences of a value in the tuple\n",
    "print(numbers)  # Output: (1, 2, 3, 4, 5)   \n",
    "count_of_1 = numbers.count(1)\n",
    "print(f\"Count of 1 in numbers: {count_of_1}\")  # Output: Count of 1 in numbers: 1\n",
    "# index() returns the index of the first occurrence of a value in the tuple\n",
    "index_of_3 = numbers.index(3)\n",
    "print(f\"Index of 3 in numbers: {index_of_3}\")  # Output: Index of 3 in numbers: 2"
   ]
  },
  {
   "cell_type": "code",
   "execution_count": 41,
   "id": "186f5ffe",
   "metadata": {},
   "outputs": [
    {
     "name": "stdout",
     "output_type": "stream",
     "text": [
      "Packed tuple is: (1, 2, 3)\n",
      "Unpacked tuple is: (1, 2, 3)\n"
     ]
    }
   ],
   "source": [
    "# Packing and Unpacking Tuples\n",
    "# Packing a tuple\n",
    "packed_tuple = (1, 2, 3)\n",
    "print(f\"Packed tuple is: {packed_tuple}\")  # Output: (1, 2, 3)    \n",
    "# Unpacking a tuple\n",
    "a, b, c = packed_tuple\n",
    "print(f\"Unpacked tuple is: {a, b, c}\")  # Output: 1 2 3"
   ]
  },
  {
   "cell_type": "code",
   "execution_count": 50,
   "id": "dd1369a8",
   "metadata": {},
   "outputs": [
    {
     "name": "stdout",
     "output_type": "stream",
     "text": [
      "a: 1, b: [2, 3, 4, 5]\n",
      "rest: [1, 2, 3, 4], c: 5\n",
      "first: 1, middle: [2, 3, 4], last: 5\n"
     ]
    }
   ],
   "source": [
    "# Unpacking with *\n",
    "# Unpacking with * allows you to capture multiple elements into a list\n",
    "# This is useful when you want to extract a variable number of elements from a tuple.\n",
    "# Note: The unpacking with * syntax can only be used once in a single unpacking operation.  \n",
    "# Only one unpack operation allowed in list\n",
    "packed_tuple = (1, 2, 3, 4, 5)\n",
    "first, *last = packed_tuple\n",
    "print(f\"a: {a}, b: {b}\")  # Output: a: 1, b: [2, 3, 4, 5]\n",
    "*rest, c = packed_tuple\n",
    "print(f\"rest: {rest}, c: {c}\")  #\n",
    "first, *middle, last = packed_tuple\n",
    "print(f\"first: {first}, middle: {middle}, last: {last}\")"
   ]
  },
  {
   "cell_type": "code",
   "execution_count": 61,
   "id": "918dc148",
   "metadata": {},
   "outputs": [
    {
     "name": "stdout",
     "output_type": "stream",
     "text": [
      "(1, 2, 3, 4, 5)\n",
      "First: 1, Second: 2, Third: 3, Fourth: 4, Fifth: 5\n"
     ]
    }
   ],
   "source": [
    "# Unpacking with different variable names\n",
    "print(packed_tuple)  # Output: (1, 2, 3, 4, 5)\n",
    "first, second, third, fourth, fifth = packed_tuple\n",
    "print(f\"First: {first}, Second: {second}, Third: {third}, Fourth: {fourth}, Fifth: {fifth}\")    \n"
   ]
  },
  {
   "cell_type": "code",
   "execution_count": 66,
   "id": "8515c8d9",
   "metadata": {},
   "outputs": [
    {
     "name": "stdout",
     "output_type": "stream",
     "text": [
      "(1, (2, 3, 4), (5, 6))\n",
      "Scond element of nested tuple: (2, 3, 4)\n",
      "Slicing nested tuple: (2, 3)\n"
     ]
    }
   ],
   "source": [
    "# Nested tuples\n",
    "nested_tuple = (1, (2, 3, 4), (5, 6))\n",
    "print(nested_tuple)  # Output: (1, (2, 3), (4, 5))\n",
    "print(f\"Scond element of nested tuple: {nested_tuple[1]}\")  # Output: (2, 3)\n",
    "print(f\"Slicing nested tuple: {nested_tuple[1][0:2]}\")  # Output: 2"
   ]
  },
  {
   "cell_type": "code",
   "execution_count": 77,
   "id": "957a3cc3",
   "metadata": {},
   "outputs": [
    {
     "name": "stdout",
     "output_type": "stream",
     "text": [
      "1 2 3 4 5 6 \n"
     ]
    }
   ],
   "source": [
    "# Iterating throught nested tuples\n",
    "for item in nested_tuple:\n",
    "    if isinstance(item, tuple): # It is necessary to check if the item is a tuple\n",
    "        for sub_item in item:\n",
    "            print(sub_item, end=' ')\n",
    "    else:\n",
    "        print(item, end=' ')\n",
    "print()  # Output: 1 2 3 4 5 6"
   ]
  }
 ],
 "metadata": {
  "kernelspec": {
   "display_name": "Python 3",
   "language": "python",
   "name": "python3"
  },
  "language_info": {
   "codemirror_mode": {
    "name": "ipython",
    "version": 3
   },
   "file_extension": ".py",
   "mimetype": "text/x-python",
   "name": "python",
   "nbconvert_exporter": "python",
   "pygments_lexer": "ipython3",
   "version": "3.12.11"
  }
 },
 "nbformat": 4,
 "nbformat_minor": 5
}
