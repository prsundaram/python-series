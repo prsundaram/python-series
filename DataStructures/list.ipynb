{
 "cells": [
  {
   "cell_type": "markdown",
   "id": "c9944b80",
   "metadata": {},
   "source": [
    "# Outline for Lists in Python with Detailed Examples\n",
    "\n",
    "# 1. Creating Lists\n",
    "example_list = [1, 2, 3, 'apple', True]\n",
    "print(\"1. Creating Lists:\", example_list)\n",
    "\n",
    "# 2. Accessing Elements\n",
    "print(\"2. Accessing Elements:\", example_list[0], example_list[-1])\n",
    "\n",
    "# 3. Modifying Elements\n",
    "example_list[2] = 'banana'\n",
    "print(\"3. Modifying Elements:\", example_list)\n",
    "\n",
    "# 4. List Methods\n",
    "example_list.append('cherry')\n",
    "print(\"4. Append:\", example_list)\n",
    "example_list.insert(1, 'orange')\n",
    "print(\"4. Insert:\", example_list)\n",
    "example_list.remove('apple')\n",
    "print(\"4. Remove:\", example_list)\n",
    "popped = example_list.pop()\n",
    "print(\"4. Pop:\", popped, example_list)\n",
    "\n",
    "# 5. Slicing Lists\n",
    "print(\"5. Slicing:\", example_list[1:3])\n",
    "\n",
    "# 6. List Comprehensions\n",
    "squares = [x**2 for x in range(5)]\n",
    "print(\"6. List Comprehensions:\", squares)\n",
    "\n",
    "# 7. Nested Lists\n",
    "nested = [[1, 2], [3, 4]]\n",
    "print(\"7. Nested Lists:\", nested)\n",
    "print(\"Accessing Nested:\", nested[0][1])\n",
    "\n",
    "# 8. Sorting and Reversing\n",
    "numbers = [3, 1, 4, 2]\n",
    "numbers.sort()\n",
    "print(\"8. Sorting:\", numbers)\n",
    "numbers.reverse()\n",
    "print(\"8. Reversing:\", numbers)\n",
    "\n",
    "# 9. Other Useful Methods\n",
    "count_1 = numbers.count(1)\n",
    "print(\"9. Count:\", count_1)\n",
    "length = len(numbers)\n",
    "print(\"9. Length:\", length)"
   ]
  },
  {
   "cell_type": "code",
   "execution_count": null,
   "id": "74b667b9",
   "metadata": {},
   "outputs": [
    {
     "name": "stdout",
     "output_type": "stream",
     "text": [
      "<class 'list'>\n"
     ]
    }
   ],
   "source": [
    "lst = []\n",
    "\n",
    "print(type(lst))"
   ]
  },
  {
   "cell_type": "code",
   "execution_count": 46,
   "id": "c5612a84",
   "metadata": {},
   "outputs": [
    {
     "name": "stdout",
     "output_type": "stream",
     "text": [
      "['Alice', 'Bob', 'Charlie', 1, 2, 3]\n"
     ]
    }
   ],
   "source": [
    "names = ['Alice', 'Bob', 'Charlie', 1, 2, 3]\n",
    "print(names)"
   ]
  },
  {
   "cell_type": "code",
   "execution_count": 47,
   "id": "87fe7c2a",
   "metadata": {},
   "outputs": [
    {
     "name": "stdout",
     "output_type": "stream",
     "text": [
      "['Alice', 42, 3.14, True, None]\n"
     ]
    }
   ],
   "source": [
    "mixed_list = ['Alice', 42, 3.14, True, None]\n",
    "print(mixed_list)"
   ]
  },
  {
   "cell_type": "code",
   "execution_count": 48,
   "id": "5bff070a",
   "metadata": {},
   "outputs": [],
   "source": [
    "### Accessing list elements\n",
    "fruits = ['apple', 'banana', 'cherry', 'date', 'elderberry', 'fig', 'grape']"
   ]
  },
  {
   "cell_type": "code",
   "execution_count": 49,
   "id": "8488e842",
   "metadata": {},
   "outputs": [
    {
     "name": "stdout",
     "output_type": "stream",
     "text": [
      "['apple', 'banana', 'cherry', 'date', 'elderberry', 'fig', 'grape']\n",
      "apple\n",
      "banana\n",
      "grape\n",
      "fig\n"
     ]
    }
   ],
   "source": [
    "print(fruits)\n",
    "print(fruits[0])  # First element\n",
    "print(fruits[1])  # Second element\n",
    "print(fruits[-1])  # Last element\n",
    "print(fruits[-2])  # Second to last element"
   ]
  },
  {
   "cell_type": "code",
   "execution_count": 50,
   "id": "7633a2aa",
   "metadata": {},
   "outputs": [
    {
     "name": "stdout",
     "output_type": "stream",
     "text": [
      "['banana', 'cherry', 'date', 'elderberry', 'fig', 'grape']\n",
      "['banana', 'cherry', 'date']\n",
      "['apple', 'banana', 'cherry']\n",
      "['elderberry', 'fig', 'grape']\n",
      "['elderberry', 'fig']\n"
     ]
    }
   ],
   "source": [
    "# Accessing the elements after banana\n",
    "print(fruits[1:])  # From second element to the end\n",
    "print(fruits[1:4])  # From second to fourth element (exclusive)\n",
    "print(fruits[:3])  # From start to third element (exclusive)\n",
    "print(fruits[-3:])  # Last three elements\n",
    "print(fruits[-3:-1])  # Second to last element (exclusive)"
   ]
  },
  {
   "cell_type": "code",
   "execution_count": 51,
   "id": "d33a1860",
   "metadata": {},
   "outputs": [
    {
     "name": "stdout",
     "output_type": "stream",
     "text": [
      "['apple', 'kiwi', 'cherry', 'date', 'elderberry', 'fig', 'grape']\n"
     ]
    }
   ],
   "source": [
    "# Modifying list elements\n",
    "fruits[1] = 'kiwi'  # Change first element\n",
    "print(fruits)"
   ]
  },
  {
   "cell_type": "code",
   "execution_count": 52,
   "id": "547056ee",
   "metadata": {},
   "outputs": [
    {
     "name": "stdout",
     "output_type": "stream",
     "text": [
      "['apple', 'kiwi', 'cherry', 'date', 'elderberry', 'fig', 'grape', 'honeydew']\n"
     ]
    }
   ],
   "source": [
    "# List methods\n",
    "fruits.append('honeydew')  # Add an element to the end\n",
    "print(fruits)"
   ]
  },
  {
   "cell_type": "code",
   "execution_count": 53,
   "id": "502c92cd",
   "metadata": {},
   "outputs": [
    {
     "name": "stdout",
     "output_type": "stream",
     "text": [
      "['apple', 'kiwi', 'jackfruit', 'cherry', 'date', 'elderberry', 'fig', 'grape', 'honeydew']\n"
     ]
    }
   ],
   "source": [
    "# Append element at specific index\n",
    "fruits.insert(2, 'jackfruit')  # Insert at index 2\n",
    "print(fruits)"
   ]
  },
  {
   "cell_type": "code",
   "execution_count": 54,
   "id": "6bd96eda",
   "metadata": {},
   "outputs": [
    {
     "name": "stdout",
     "output_type": "stream",
     "text": [
      "['apple', 'jackfruit', 'cherry', 'date', 'elderberry', 'fig', 'grape', 'honeydew']\n"
     ]
    }
   ],
   "source": [
    "# Remove an element\n",
    "fruits.remove('kiwi')  # Remove first occurrence of 'kiwi'\n",
    "print(fruits)"
   ]
  },
  {
   "cell_type": "code",
   "execution_count": 55,
   "id": "25797b8c",
   "metadata": {},
   "outputs": [
    {
     "name": "stdout",
     "output_type": "stream",
     "text": [
      "honeydew\n",
      "['apple', 'jackfruit', 'cherry', 'date', 'elderberry', 'fig', 'grape']\n"
     ]
    }
   ],
   "source": [
    "# Remove and return the last element\n",
    "last_fruit = fruits.pop()  # Remove last element in our case 'honeydew'\n",
    "print(last_fruit)\n",
    "print(fruits)"
   ]
  },
  {
   "cell_type": "code",
   "execution_count": 56,
   "id": "70ffa850",
   "metadata": {},
   "outputs": [
    {
     "name": "stdout",
     "output_type": "stream",
     "text": [
      "2\n"
     ]
    }
   ],
   "source": [
    "# Get the index of an element\n",
    "index_of_cherry = fruits.index('cherry')  # Find index of 'cherry'\n",
    "print(index_of_cherry)"
   ]
  },
  {
   "cell_type": "code",
   "execution_count": 60,
   "id": "9ba4df3f",
   "metadata": {},
   "outputs": [
    {
     "name": "stdout",
     "output_type": "stream",
     "text": [
      "['apple', 'cherry', 'jackfurit', 'jackfurit', 'date', 'elderberry', 'fig', 'grape', 'jackfruit', 'jackfurit']\n",
      "3\n"
     ]
    }
   ],
   "source": [
    "fruits.insert(2, 'jackfurit')  # Insert at index 2\n",
    "print(fruits)\n",
    "print(fruits.count('jackfurit'))  # Count occurrences of 'jackfurit'"
   ]
  },
  {
   "cell_type": "code",
   "execution_count": 58,
   "id": "1793369b",
   "metadata": {},
   "outputs": [
    {
     "name": "stdout",
     "output_type": "stream",
     "text": [
      "['apple', 'cherry', 'date', 'elderberry', 'fig', 'grape', 'jackfruit', 'jackfurit']\n"
     ]
    }
   ],
   "source": [
    "# Sorting the list\n",
    "fruits.sort()  # Sort the list in place\n",
    "print(fruits)"
   ]
  },
  {
   "cell_type": "code",
   "execution_count": 61,
   "id": "2f0b9c36",
   "metadata": {},
   "outputs": [
    {
     "name": "stdout",
     "output_type": "stream",
     "text": [
      "[]\n"
     ]
    }
   ],
   "source": [
    "# Remove all elements from the list\n",
    "fruits.clear()  # Clear the list\n",
    "print(fruits)"
   ]
  },
  {
   "cell_type": "code",
   "execution_count": 65,
   "id": "7021d131",
   "metadata": {},
   "outputs": [
    {
     "name": "stdout",
     "output_type": "stream",
     "text": [
      "[3, 4, 5]\n",
      "[1, 2, 3]\n",
      "[6, 7, 8, 9, 10]\n",
      "[8, 9, 10]\n",
      "[1, 3, 5, 7, 9]\n",
      "[2, 4, 6, 8, 10]\n",
      "[1, 4, 7, 10]\n",
      "[10, 9, 8, 7, 6, 5, 4, 3, 2, 1]\n",
      "[6, 5, 4]\n",
      "[10, 8, 6, 4, 2]\n"
     ]
    }
   ],
   "source": [
    "# Slicing lists\n",
    "numbers = [1, 2, 3, 4, 5, 6, 7, 8, 9, 10]\n",
    "print(numbers[2:5]) # Elements from index 2 to 4    \n",
    "print(numbers[:3])  # First three elements\n",
    "print(numbers[5:])  # Elements from index 5 to the end\n",
    "print(numbers[-3:])  # Last three elements\n",
    "print(numbers[::2])  # Every second element (2 will be the step, hence 0, 2, 4, ...)\n",
    "print(numbers[1::2])  # Every second element starting from index 1 (1, 3, 5, ...)\n",
    "print(numbers[::3])  # Every third element (0, 3, 6, ...)\n",
    "print(numbers[::-1])  # Reverse the list   \n",
    "print(numbers[5:2:-1])  # Reverse slice from index 5 to 3 (exclusive)\n",
    "print(b)"
   ]
  },
  {
   "cell_type": "code",
   "execution_count": 85,
   "id": "6607c0c5",
   "metadata": {},
   "outputs": [
    {
     "name": "stdout",
     "output_type": "stream",
     "text": [
      "[0, 1, 4, 9, 16, 25, 36, 49, 64, 81]\n",
      "[0, 1, 4, 9, 16, 25, 36, 49, 64, 81]\n",
      "[0, 4, 16, 36, 64]\n",
      "['apple', 'banana', 'date', 'grape']\n",
      "['banana']\n"
     ]
    }
   ],
   "source": [
    "# List comprehensions\n",
    "lst = []\n",
    "for i in range(10):\n",
    "    lst.append(i ** 2)  # Square of each number from 0 to 9\n",
    "print(lst)\n",
    "\n",
    "squared_numbers = [i ** 2 for i in range(10)]  # List comprehension for squares\n",
    "print(squared_numbers)\n",
    "squared_numbers_only_even = [i ** 2 for i in range(10) if i % 2 == 0] # Squares of even numbers\n",
    "print(squared_numbers_only_even)\n",
    "fruits = ['apple', 'banana', 'cherry', 'date', 'elderberry', 'fig', 'grape']\n",
    "fruits_with_a = [fruit for fruit in fruits if 'a' in fruit]\n",
    "print(fruits_with_a)  # Fruits containing the letter 'a'\n",
    "fruits_with_a = [fruit for fruit in fruits if 'a' in fruit and len(fruit) > 5]\n",
    "print(fruits_with_a)  # Fruits containing 'a' and longer than 5 characters"
   ]
  },
  {
   "cell_type": "markdown",
   "id": "4fc384e6",
   "metadata": {},
   "source": [
    "###### List Comprehensions\n",
    "\n",
    "Basic Systax [expression for item in iterable]\n",
    "With condition [expression for item in iterable if condition]\n",
    "Nested List comprehensions [epxression for item1 in iterable1 for item2 in iterable2]"
   ]
  },
  {
   "cell_type": "code",
   "execution_count": 86,
   "id": "c7dbf56b",
   "metadata": {},
   "outputs": [
    {
     "name": "stdout",
     "output_type": "stream",
     "text": [
      "[0, 1, 4, 9, 16, 25, 36, 49, 64, 81]\n",
      "[2, 3, 4, 5, 6, 7, 8, 9, 10, 11]\n"
     ]
    }
   ],
   "source": [
    "# Basic Syntax: [expression for item in iterable]\n",
    "squared_numbers = [x**2 for x in range(10)]\n",
    "print(squared_numbers)\n",
    "sum_numbers = [x + 2 for x in range(10)] # Adding 2 to each number in range(10)\n",
    "print(sum_numbers) "
   ]
  },
  {
   "cell_type": "code",
   "execution_count": 90,
   "id": "573f65af",
   "metadata": {},
   "outputs": [
    {
     "name": "stdout",
     "output_type": "stream",
     "text": [
      "['Alice']\n",
      "['ALICE', 'CHARLIE', 'DAVID']\n"
     ]
    }
   ],
   "source": [
    "#With condition: [expression for item in iterable if condition]\n",
    "developer_names = ['Alice', 'Bob', 'Charlie', 'David']  \n",
    "# Filter names that start with 'A'  \n",
    "filtered_names = [name for name in developer_names if name.startswith('A')]\n",
    "print(filtered_names)  # Names starting with 'A'\n",
    "# Convert names to uppercase if they are longer than 3 characters  \n",
    "uppercase_names = [name.upper() for name in developer_names if len(name) > 3]\n",
    "print(uppercase_names)  # Names longer than 3 characters in uppercase"
   ]
  },
  {
   "cell_type": "code",
   "execution_count": null,
   "id": "4f57d353",
   "metadata": {},
   "outputs": [
    {
     "name": "stdout",
     "output_type": "stream",
     "text": [
      "[1, 2, 3, 4, 5, 6, 7, 8, 9]\n"
     ]
    }
   ],
   "source": [
    "# Nested List comprehensions\n",
    "matrix = [[1, 2, 3], [4, 5, 6], [7, 8, 9]]\n",
    " # This nested list comprehension iterates over each row in the matrix, then over each number in the row, \n",
    " # collecting all numbers into a single flat list.\n",
    "flattened = [num for row in matrix for num in row] \n",
    "print(flattened)  # Flattened list of numbers"
   ]
  },
  {
   "cell_type": "code",
   "execution_count": null,
   "id": "06d6cb33",
   "metadata": {},
   "outputs": [
    {
     "name": "stdout",
     "output_type": "stream",
     "text": [
      "[[1, 4], [1, 5], [1, 6], [2, 4], [2, 5], [2, 6], [3, 4], [3, 5], [3, 6]]\n"
     ]
    }
   ],
   "source": [
    "# Nested List comprehensions\n",
    "lst1 = [1, 2, 3]\n",
    "lst2 = [4, 5, 6]\n",
    "# Create a nested list comprehension combining elements from lst1 and lst2\n",
    "# This nested list comprehension iterates over each element x in lst1,\n",
    "# and for each x, it iterates over each element y in lst2,\n",
    "# creating a pair [x, y] for every combination.\n",
    "# The result is a flattened list of all possible pairs between lst1 and lst2.\n",
    "nested_comprehension = [[x, y] for x in lst1 for y in lst2]\n",
    "print(nested_comprehension)  # Nested list comprehension combining elements from lst1 and lst"
   ]
  },
  {
   "cell_type": "code",
   "execution_count": 93,
   "id": "270bed76",
   "metadata": {},
   "outputs": [
    {
     "name": "stdout",
     "output_type": "stream",
     "text": [
      "['HELLO', 'WORLD', 'PYTHON', 'LIST', 'COMPREHENSION']\n",
      "[5, 5, 6, 4, 13]\n",
      "['h', 'w', 'p', 'l', 'c']\n"
     ]
    }
   ],
   "source": [
    "# List comprehensions with function calls\n",
    "words = ['hello', 'world', 'python', 'list', 'comprehension']\n",
    "# Convert each word to uppercase\n",
    "uppercase_words = [word.upper() for word in words]\n",
    "print(uppercase_words)  # Uppercase words\n",
    "# Convert each word to its length\n",
    "word_lengths = [len(word) for word in words]\n",
    "print(word_lengths)  # Lengths of each word\n",
    "# Convert each word to its first letter\n",
    "first_letters = [word[0] for word in words]\n",
    "print(first_letters)  # First letters of each word"
   ]
  },
  {
   "cell_type": "code",
   "execution_count": 96,
   "id": "d31fb5f0",
   "metadata": {},
   "outputs": [
    {
     "name": "stdout",
     "output_type": "stream",
     "text": [
      "['odd', 'even', 'odd', 'even', 'odd', 'even', 'odd', 'even', 'odd', 'even']\n"
     ]
    }
   ],
   "source": [
    "# List comprehensions with if and else statements\n",
    "numbers = [1, 2, 3, 4, 5, 6, 7, 8, 9, 10]\n",
    "# Create a new list with 'even' or 'odd' based on the number\n",
    "even_odd = ['even' if num % 2 ==0 else 'odd' for num in numbers]\n",
    "print(even_odd)  # List of 'even' or 'odd' for each number"
   ]
  }
 ],
 "metadata": {
  "kernelspec": {
   "display_name": "Python 3",
   "language": "python",
   "name": "python3"
  },
  "language_info": {
   "codemirror_mode": {
    "name": "ipython",
    "version": 3
   },
   "file_extension": ".py",
   "mimetype": "text/x-python",
   "name": "python",
   "nbconvert_exporter": "python",
   "pygments_lexer": "ipython3",
   "version": "3.12.11"
  }
 },
 "nbformat": 4,
 "nbformat_minor": 5
}
