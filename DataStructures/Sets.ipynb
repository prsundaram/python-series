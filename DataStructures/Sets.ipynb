{
 "cells": [
  {
   "cell_type": "markdown",
   "id": "05eacef1",
   "metadata": {},
   "source": [
    "# Outline for Sets in Python in Python with Detailed Examples\n",
    "---\n",
    "\n",
    "## 1. Introduction to Sets\n",
    "- **Definition**: A set is an unordered collection of unique, immutable elements.\n",
    "- **Purpose**: Used to store multiple items in a single variable, ensuring no duplicates.\n",
    "\n",
    "## 2. Creating Sets\n",
    "- **Syntax**: Use curly braces `{}` or the `set()` constructor.\n",
    "- **Examples**:\n",
    "    - `my_set = {1, 2, 3}`\n",
    "    - `empty_set = set()`\n",
    "\n",
    "## 3. Set Characteristics\n",
    "- **Unordered**: No guaranteed order of elements.\n",
    "- **Unique Elements**: Duplicate values are automatically removed.\n",
    "- **Mutable**: Sets can be changed after creation (elements can be added or removed).\n",
    "\n",
    "## 4. Common Set Operations\n",
    "- **Adding Elements**: `add()`, `update()`\n",
    "- **Removing Elements**: `remove()`, `discard()`, `pop()`, `clear()`\n",
    "- **Membership Test**: `in` keyword\n",
    "\n",
    "## 5. Mathematical Set Operations\n",
    "- **Union**: `set1 | set2` or `set1.union(set2)`\n",
    "- **Intersection**: `set1 & set2` or `set1.intersection(set2)`\n",
    "- **Difference**: `set1 - set2` or `set1.difference(set2)`\n",
    "- **Symmetric Difference**: `set1 ^ set2` or `set1.symmetric_difference(set2)`\n",
    "\n",
    "## 6. Set Methods\n",
    "- **`len(set)`**: Returns the number of elements.\n",
    "- **`copy()`**: Returns a shallow copy.\n",
    "- **`isdisjoint()`**: Checks if two sets have no elements in common.\n",
    "- **`issubset()`**: Checks if a set is a subset of another.\n",
    "- **`issuperset()`**: Checks if a set is a superset of another.\n",
    "\n",
    "## 7. Applications of Sets\n",
    "- **Removing Duplicates**: Convert lists to sets to eliminate duplicates.\n",
    "- **Membership Testing**: Fast lookup for existence of elements.\n",
    "- **Mathematical Operations**: Useful for union, intersection, and difference operations.\n",
    "\n",
    "## 8. Limitations of Sets\n",
    "- **Unordered**: Cannot access elements by index.\n",
    "- **Immutable Elements Only**: Only hashable (immutable) objects can be added.\n",
    "\n",
    "## 9. Frozenset\n",
    "- **Definition**: An immutable version of a set.\n",
    "- **Usage**: Useful when a set needs to be hashable (e.g., as a dictionary key).\n",
    "\n",
    "---\n",
    "\n",
    "This outline covers the key concepts, operations, and applications of sets in Python, providing a comprehensive overview for documentation or study purposes."
   ]
  },
  {
   "cell_type": "code",
   "execution_count": 13,
   "id": "0db4a15e",
   "metadata": {},
   "outputs": [
    {
     "name": "stdout",
     "output_type": "stream",
     "text": [
      "data type: <class 'set'>   value: {1, 2, 3, 4, 5}\n"
     ]
    }
   ],
   "source": [
    "## Creating a set\n",
    "my_set = {1, 2, 3, 4, 5}\n",
    "print(f\"data type: {type(my_set)}   value: {my_set}\")"
   ]
  },
  {
   "cell_type": "code",
   "execution_count": null,
   "id": "304dd976",
   "metadata": {},
   "outputs": [
    {
     "name": "stdout",
     "output_type": "stream",
     "text": [
      "data type: <class 'set'>   value: {1, 2, 3, 4, 5}\n"
     ]
    }
   ],
   "source": [
    "## Creating a set\n",
    "# Sets are unordered collections of unique elements.\n",
    "my_set_with_duplicates = {1, 2, 3, 4, 5, 2, 3}\n",
    "print(f\"data type: {type(my_set)}   value: {my_set}\")"
   ]
  },
  {
   "cell_type": "code",
   "execution_count": 15,
   "id": "aff190b2",
   "metadata": {},
   "outputs": [
    {
     "name": "stdout",
     "output_type": "stream",
     "text": [
      "After adding 6: {1, 2, 3, 4, 5, 6}\n",
      "After removing 6: {1, 2, 3, 4, 5}\n"
     ]
    }
   ],
   "source": [
    "## Basic Operations on Sets\n",
    "## Adding and removing elements\n",
    "my_set.add(6)  # Adding an element\n",
    "print(f\"After adding 6: {my_set}\")\n",
    "my_set.add(6)  # Adding a duplicate element (no effect)\n",
    "my_set.remove(6)  # Removing an element\n",
    "print(f\"After removing 6: {my_set}\")\n",
    "my_set.discard(10)  # Discarding a non-existent element (no error), Remove an element if it exists"
   ]
  },
  {
   "cell_type": "code",
   "execution_count": 16,
   "id": "417abdec",
   "metadata": {},
   "outputs": [
    {
     "name": "stdout",
     "output_type": "stream",
     "text": [
      "Removed element: 1\n",
      "Set after pop: {2, 3, 4, 5}\n"
     ]
    }
   ],
   "source": [
    "removed = my_set.pop()  # Removing and returning an arbitrary element, set follows FIFO order for pop operation\n",
    "# If the set is empty, this will raise a KeyError.\n",
    "# To avoid this, you can check if the set is not empty before popping.\n",
    "# Note: The element removed is arbitrary since sets are unordered.\n",
    "print(f\"Removed element: {removed}\")\n",
    "print(f\"Set after pop: {my_set}\")"
   ]
  },
  {
   "cell_type": "code",
   "execution_count": 17,
   "id": "c7eb6d2f",
   "metadata": {},
   "outputs": [
    {
     "name": "stdout",
     "output_type": "stream",
     "text": [
      "Set after clearing: set()\n"
     ]
    }
   ],
   "source": [
    "## Clearing all elements from a set\n",
    "my_set.clear()  # Removes all elements from the set\n",
    "print(f\"Set after clearing: {my_set}\")"
   ]
  },
  {
   "cell_type": "code",
   "execution_count": 21,
   "id": "d6313a68",
   "metadata": {},
   "outputs": [
    {
     "name": "stdout",
     "output_type": "stream",
     "text": [
      "Is 3 in the set? Yes\n",
      "Is 6 in the set? No\n"
     ]
    }
   ],
   "source": [
    "## Set membership test\n",
    "# Check if an element is in the set\n",
    "my_set_var = {1, 2, 3, 4, 5}\n",
    "set_membership = 3 in my_set_var  # Returns True if 3 is in the set, otherwise False\n",
    "print(f\"Is 3 in the set? {'Yes' if set_membership else 'No'}\")\n",
    "set_membership_again = 6 in my_set_var  # Returns True if 6 is in the set, otherwise False\n",
    "print(f\"Is 6 in the set? {'Yes' if set_membership_again else 'No'}\")"
   ]
  },
  {
   "cell_type": "code",
   "execution_count": 29,
   "id": "dde73563",
   "metadata": {},
   "outputs": [
    {
     "name": "stdout",
     "output_type": "stream",
     "text": [
      "Union: {1, 2, 3, 4, 5}\n",
      "Intersection: {3}\n",
      "Difference: {1, 2}\n",
      "Symmetric Difference: {1, 2, 4, 5}\n",
      "Union (method): {1, 2, 3, 4, 5}\n",
      "Intersection (method): {3}\n",
      "Difference (method): {1, 2}\n",
      "Symmetric Difference (method): {1, 2, 4, 5}\n",
      "Set A after union update: {1, 2, 3, 4, 5}\n",
      "Set A after intersection update: {3, 4, 5}\n",
      "Set A after difference update: {3, 4}\n",
      "Set A after symmetric difference update: {5}\n"
     ]
    }
   ],
   "source": [
    "## Mathematical Set Operations\n",
    "# Union, Intersection, Difference, and Symmetric Difference\n",
    "set_a = {1, 2, 3}\n",
    "set_b = {3, 4, 5}\n",
    "set_c = {5, 6, 7}\n",
    "# Perform set operations way 1\n",
    "union_set = set_a | set_b  # Union\n",
    "intersection_set = set_a & set_b  # Intersection\n",
    "difference_set = set_a - set_b  # Difference\n",
    "symmetric_difference_set = set_a ^ set_b  # Symmetric Difference\n",
    "print(f\"Union: {union_set}\")\n",
    "print(f\"Intersection: {intersection_set}\")\n",
    "print(f\"Difference: {difference_set}\")\n",
    "print(f\"Symmetric Difference: {symmetric_difference_set}\")\n",
    "# Perform set operations way 2\n",
    "union_set_2 = set_a.union(set_b)  # Union\n",
    "intersection_set_2 = set_a.intersection(set_b)  # Intersection\n",
    "difference_set_2 = set_a.difference(set_b)  # Difference\n",
    "symmetric_difference_set_2 = set_a.symmetric_difference(set_b)  # Symmetric Difference\n",
    "print(f\"Union (method): {union_set_2}\")         \n",
    "print(f\"Intersection (method): {intersection_set_2}\")\n",
    "print(f\"Difference (method): {difference_set_2}\")\n",
    "print(f\"Symmetric Difference (method): {symmetric_difference_set_2}\")\n",
    "# Intersection update, Union update, Difference update, Symmetric difference update\n",
    "set_a.update(set_b)  # Union update\n",
    "print(f\"Set A after union update: {set_a}\")\n",
    "set_a.intersection_update(set_b)  # Intersection update\n",
    "print(f\"Set A after intersection update: {set_a}\")\n",
    "set_a.difference_update(set_c)  # Difference update\n",
    "print(f\"Set A after difference update: {set_a}\")\n",
    "set_a.symmetric_difference_update(set_b)  # Symmetric difference update\n",
    "print(f\"Set A after symmetric difference update: {set_a}\")"
   ]
  },
  {
   "cell_type": "code",
   "execution_count": 32,
   "id": "a4f5dfb2",
   "metadata": {},
   "outputs": [
    {
     "name": "stdout",
     "output_type": "stream",
     "text": [
      "Is set1 a subset of set2? No\n",
      "Is set1 a superset of set2? Yes\n"
     ]
    }
   ],
   "source": [
    "## Set methods\n",
    "set1 = {1, 2, 3, 4, 5}\n",
    "set2 = {3, 4, 5}\n",
    "\n",
    "## is subset\n",
    "# Check if set1 is a subset of set2\n",
    "# A set is a subset of another if all elements of the first set are in the second\n",
    "is_subset = set1.issubset(set2)  # Returns True if set1 is a subset of set2\n",
    "print(f\"Is set1 a subset of set2? {'Yes' if is_subset else 'No'}\")\n",
    "\n",
    "## is superset\n",
    "# Check if set1 is a superset of set2 \n",
    "# A set is a superset of another if it contains all elements of the second set\n",
    "is_superset = set1.issuperset(set2)  # Returns True if set1 is a superset of set2\n",
    "print(f\"Is set1 a superset of set2? {'Yes' if is_superset else 'No'}\")"
   ]
  },
  {
   "cell_type": "code",
   "execution_count": 33,
   "id": "79af0ac7",
   "metadata": {},
   "outputs": [
    {
     "name": "stdout",
     "output_type": "stream",
     "text": [
      "Unique elements from list: {1, 2, 3, 4, 5}\n"
     ]
    }
   ],
   "source": [
    "lt = [1, 2, 2, 3, 4, 4, 5]\n",
    "# Convert list to set to remove duplicates\n",
    "unique_set = set(lt)  # Converts list to set, removing duplicates\n",
    "print(f\"Unique elements from list: {unique_set}\")"
   ]
  },
  {
   "cell_type": "code",
   "execution_count": 34,
   "id": "046f595a",
   "metadata": {},
   "outputs": [
    {
     "name": "stdout",
     "output_type": "stream",
     "text": [
      "Number of unique elements in the set: 5\n"
     ]
    }
   ],
   "source": [
    "## counting elements in a set\n",
    "# Count the number of elements in a set\n",
    "count_elements = len(unique_set)  # Returns the number of unique elements in the set\n",
    "print(f\"Number of unique elements in the set: {count_elements}\")"
   ]
  },
  {
   "cell_type": "code",
   "execution_count": 38,
   "id": "382492fb",
   "metadata": {},
   "outputs": [
    {
     "name": "stdout",
     "output_type": "stream",
     "text": [
      "Unique words in the text: {'discussing', 'sets', 'in', 'In', 'about', 'Python.', 'we', 'toturial', 'this', 'are'}\n",
      "Number of unique words: 10\n"
     ]
    }
   ],
   "source": [
    "# Counting unique words in a text\n",
    "text = \"In this toturial we are discussing about sets in Python.\"\n",
    "words = text.split()  # Split the text into words\n",
    "unique_words = set(words)  # Convert list of words to a set to remove duplicates\n",
    "print(f\"Unique words in the text: {unique_words}\")\n",
    "print(f\"Number of unique words: {len(unique_words)}\")\n"
   ]
  },
  {
   "cell_type": "code",
   "execution_count": 36,
   "id": "d5fff22f",
   "metadata": {},
   "outputs": [
    {
     "name": "stdout",
     "output_type": "stream",
     "text": [
      "Original set: {1, 2, 3}\n",
      "Copied set: {1, 2, 3}\n",
      "Are set_x and set_y disjoint? Yes\n",
      "Is set_x a subset of {1, 2, 3, 4}? Yes\n",
      "Is {1, 2, 3, 4} a superset of set_x? Yes\n",
      "Set after update: {1, 2, 3, 4}\n",
      "Set after intersection_update: {2, 3}\n",
      "Set after difference_update: {1, 4}\n",
      "Set after symmetric_difference_update: {1, 4}\n"
     ]
    }
   ],
   "source": [
    "# Demonstrating various set methods with examples\n",
    "\n",
    "# 1. copy(): Returns a shallow copy of the set\n",
    "original_set = {1, 2, 3}\n",
    "copied_set = original_set.copy()\n",
    "print(f\"Original set: {original_set}\")\n",
    "print(f\"Copied set: {copied_set}\")\n",
    "\n",
    "# 2. isdisjoint(): Returns True if two sets have no elements in common\n",
    "set_x = {1, 2, 3}\n",
    "set_y = {4, 5, 6}\n",
    "disjoint_result = set_x.isdisjoint(set_y)\n",
    "print(f\"Are set_x and set_y disjoint? {'Yes' if disjoint_result else 'No'}\")\n",
    "\n",
    "# 3. issubset(): Checks if a set is a subset of another\n",
    "subset_result = set_x.issubset({1, 2, 3, 4})\n",
    "print(f\"Is set_x a subset of {{1, 2, 3, 4}}? {'Yes' if subset_result else 'No'}\")\n",
    "\n",
    "# 4. issuperset(): Checks if a set is a superset of another\n",
    "superset_result = {1, 2, 3, 4}.issuperset(set_x)\n",
    "print(f\"Is {{1, 2, 3, 4}} a superset of set_x? {'Yes' if superset_result else 'No'}\")\n",
    "\n",
    "# 5. update(): Adds elements from another set (union)\n",
    "set_update = {1, 2}\n",
    "set_update.update({2, 3, 4})\n",
    "print(f\"Set after update: {set_update}\")\n",
    "\n",
    "# 6. intersection_update(): Keeps only elements found in both sets\n",
    "set_intersection_update = {1, 2, 3, 4}\n",
    "set_intersection_update.intersection_update({2, 3})\n",
    "print(f\"Set after intersection_update: {set_intersection_update}\")\n",
    "\n",
    "# 7. difference_update(): Removes elements found in another set\n",
    "set_difference_update = {1, 2, 3, 4}\n",
    "set_difference_update.difference_update({2, 3})\n",
    "print(f\"Set after difference_update: {set_difference_update}\")\n",
    "\n",
    "# 8. symmetric_difference_update(): Keeps elements not found in both sets\n",
    "set_sym_diff_update = {1, 2, 3}\n",
    "set_sym_diff_update.symmetric_difference_update({2, 3, 4})\n",
    "print(f\"Set after symmetric_difference_update: {set_sym_diff_update}\")"
   ]
  },
  {
   "cell_type": "code",
   "execution_count": 37,
   "id": "af44fa6e",
   "metadata": {},
   "outputs": [
    {
     "name": "stdout",
     "output_type": "stream",
     "text": [
      "Immutable set (frozenset): frozenset({1, 2, 3, 4})\n",
      "Set comprehension (squares): {1, 4, 9, 16, 25}\n",
      "Minimum element in unique_set: 1\n",
      "Maximum element in unique_set: 5\n",
      "Element 0: 1\n",
      "Element 1: 2\n",
      "Element 2: 3\n",
      "Element 3: 4\n",
      "Element 4: 5\n",
      "Sorted unique_set: [1, 2, 3, 4, 5]\n",
      "unique_set as list: [1, 2, 3, 4, 5]\n",
      "unique_set as tuple: (1, 2, 3, 4, 5)\n",
      "All elements > 0 in unique_set? True\n",
      "Any element == 3 in unique_set? True\n"
     ]
    }
   ],
   "source": [
    "# Additional set operations and methods not covered above\n",
    "\n",
    "# 1. frozenset(): Creates an immutable set\n",
    "immutable_set = frozenset({1, 2, 3, 4})\n",
    "print(f\"Immutable set (frozenset): {immutable_set}\")\n",
    "\n",
    "# 2. set comprehension: Create sets using a comprehension\n",
    "squared_set = {x**2 for x in range(1, 6)}\n",
    "print(f\"Set comprehension (squares): {squared_set}\")\n",
    "\n",
    "# 3. min() and max(): Find the minimum and maximum element in a set\n",
    "min_element = min(unique_set)\n",
    "max_element = max(unique_set)\n",
    "print(f\"Minimum element in unique_set: {min_element}\")\n",
    "print(f\"Maximum element in unique_set: {max_element}\")\n",
    "\n",
    "# 4. enumerate(): Enumerate elements in a set (order is arbitrary)\n",
    "for idx, val in enumerate(unique_set):\n",
    "    print(f\"Element {idx}: {val}\")\n",
    "\n",
    "# 5. sorted(): Return a sorted list from a set\n",
    "sorted_unique = sorted(unique_set)\n",
    "print(f\"Sorted unique_set: {sorted_unique}\")\n",
    "\n",
    "# 6. Conversion to list/tuple\n",
    "unique_list = list(unique_set)\n",
    "unique_tuple = tuple(unique_set)\n",
    "print(f\"unique_set as list: {unique_list}\")\n",
    "print(f\"unique_set as tuple: {unique_tuple}\")\n",
    "\n",
    "# 7. del: Delete a set variable\n",
    "# del unique_set  # Uncomment to delete the variable\n",
    "\n",
    "# 8. all() and any(): Test if all/any elements are true\n",
    "print(f\"All elements > 0 in unique_set? {all(x > 0 for x in unique_set)}\")\n",
    "print(f\"Any element == 3 in unique_set? {any(x == 3 for x in unique_set)}\")"
   ]
  }
 ],
 "metadata": {
  "kernelspec": {
   "display_name": "Python 3",
   "language": "python",
   "name": "python3"
  },
  "language_info": {
   "codemirror_mode": {
    "name": "ipython",
    "version": 3
   },
   "file_extension": ".py",
   "mimetype": "text/x-python",
   "name": "python",
   "nbconvert_exporter": "python",
   "pygments_lexer": "ipython3",
   "version": "3.12.11"
  }
 },
 "nbformat": 4,
 "nbformat_minor": 5
}
