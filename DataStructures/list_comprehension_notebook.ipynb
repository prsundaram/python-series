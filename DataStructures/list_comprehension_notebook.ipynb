{
 "cells": [
  {
   "cell_type": "markdown",
   "id": "e151d101",
   "metadata": {},
   "source": [
    "# List Comprehension in Python — Complete Guide\n",
    "\n",
    "A complete, professional-quality Jupyter Notebook covering everything about list comprehensions: syntax, examples, advanced patterns, performance, pitfalls, and real-world use cases.\n",
    "\n",
    "**Contents:**\n",
    "1. Introduction\n",
    "2. Basic Syntax\n",
    "3. Traditional Loops vs List Comprehension\n",
    "4. Conditional List Comprehension\n",
    "5. `if...else` in comprehensions\n",
    "6. Nested List Comprehension\n",
    "7. Generator Expressions & Memory\n",
    "8. Dict / Set Comprehensions\n",
    "9. Working with Strings\n",
    "10. Flattening Lists\n",
    "11. Performance Comparison (timeit)\n",
    "12. Common Mistakes & Best Practices\n",
    "13. Real-World Examples\n",
    "14. Summary\n",
    "\n",
    "_Each code cell includes clear comments and illustrative outputs._"
   ]
  },
  {
   "cell_type": "markdown",
   "id": "d7b59932",
   "metadata": {},
   "source": [
    "## Table of Contents\n",
    "\n",
    "- [Introduction](#Introduction)\n",
    "- [Basic Syntax](#Basic-Syntax)\n",
    "- [Traditional Loops vs List Comprehension](#Traditional-Loops-vs-List-Comprehension)\n",
    "- [Conditional List Comprehension](#Conditional-List-Comprehension)\n",
    "- [if...else in Comprehensions](#ifelse-in-Comprehensions)\n",
    "- [Nested Comprehension](#Nested-Comprehension)\n",
    "- [Generator Expressions & Memory](#Generator-Expressions-&-Memory)\n",
    "- [Dict and Set Comprehensions](#Dict-and-Set-Comprehensions)\n",
    "- [Strings and Comprehensions](#Strings-and-Comprehensions)\n",
    "- [Flattening Lists](#Flattening-Lists)\n",
    "- [Performance Comparison](#Performance-Comparison)\n",
    "- [Common Mistakes & Best Practices](#Common-Mistakes-&-Best-Practices)\n",
    "- [Real-World Examples](#Real-World-Examples)\n",
    "- [Summary](#Summary)\n"
   ]
  },
  {
   "cell_type": "markdown",
   "id": "5c93d617",
   "metadata": {},
   "source": [
    "## Introduction\n",
    "\n",
    "List comprehensions provide a concise way to create lists. They are syntactic sugar for `for` loops that build lists and are often more readable and faster.\n",
    "\n",
    "General form:\n",
    "\n",
    "`[expression for item in iterable if condition]`\n",
    "\n",
    "We'll explore all variants and edge-cases, with comments and outputs."
   ]
  },
  {
   "cell_type": "markdown",
   "id": "fb6106df",
   "metadata": {},
   "source": [
    "## Basic Syntax\n",
    "\n",
    "Create a list of squares from 0..9 using list comprehension."
   ]
  },
  {
   "cell_type": "code",
   "execution_count": null,
   "id": "43954da7",
   "metadata": {},
   "outputs": [],
   "source": [
    "# Basic example: squares\n",
    "squares = [x**2 for x in range(10)]  # compute x**2 for each x in 0..9\n",
    "print('squares:', squares)"
   ]
  },
  {
   "cell_type": "markdown",
   "id": "0224a189",
   "metadata": {},
   "source": [
    "## Traditional Loops vs List Comprehension\n",
    "\n",
    "Compare equivalent code written using a loop and using a comprehension — note brevity and clarity."
   ]
  },
  {
   "cell_type": "code",
   "execution_count": null,
   "id": "c94eee94",
   "metadata": {},
   "outputs": [],
   "source": [
    "# Traditional for-loop\n",
    "squares_loop = []\n",
    "for x in range(10):\n",
    "    squares_loop.append(x**2)\n",
    "\n",
    "# List comprehension (equivalent)\n",
    "squares_lc = [x**2 for x in range(10)]\n",
    "\n",
    "print('loop result == lc result?', squares_loop == squares_lc)\n",
    "print('loop:', squares_loop)\n",
    "print('lc  :', squares_lc)"
   ]
  },
  {
   "cell_type": "markdown",
   "id": "f9a5cd2d",
   "metadata": {},
   "source": [
    "## Conditional List Comprehension\n",
    "\n",
    "Add a condition to include only even squares."
   ]
  },
  {
   "cell_type": "code",
   "execution_count": null,
   "id": "b39abd1a",
   "metadata": {},
   "outputs": [],
   "source": [
    "# Include only even numbers\n",
    "even_squares = [x**2 for x in range(10) if x % 2 == 0]\n",
    "print('even_squares:', even_squares)"
   ]
  },
  {
   "cell_type": "markdown",
   "id": "33f277af",
   "metadata": {},
   "source": [
    "## `if ... else` in the expression\n",
    "\n",
    "To choose between two expressions you must put `if ... else` **before** the `for` part (inside the expression), not as a filter."
   ]
  },
  {
   "cell_type": "code",
   "execution_count": null,
   "id": "598c6a62",
   "metadata": {},
   "outputs": [],
   "source": [
    "# Correct: expression with if-else\n",
    "labels = ['even' if x % 2 == 0 else 'odd' for x in range(7)]\n",
    "print('labels:', labels)\n",
    "\n",
    "# Example: map numbers to themselves or -1 using ternary inside comprehension\n",
    "mapped = [x if x > 3 else -1 for x in range(6)]\n",
    "print('mapped:', mapped)"
   ]
  },
  {
   "cell_type": "markdown",
   "id": "7326ee63",
   "metadata": {},
   "source": [
    "## Nested List Comprehension\n",
    "\n",
    "Create Cartesian product, or a matrix, using nested loops inside a comprehension."
   ]
  },
  {
   "cell_type": "code",
   "execution_count": null,
   "id": "6932b829",
   "metadata": {},
   "outputs": [],
   "source": [
    "# Cartesian product (pairs)\n",
    "pairs = [(i, j) for i in range(3) for j in range(4)]\n",
    "print('pairs:', pairs)\n",
    "\n",
    "# 2D matrix using nested comprehension\n",
    "matrix = [[i * j for j in range(5)] for i in range(4)]\n",
    "print('matrix:')\n",
    "for row in matrix:\n",
    "    print(row)"
   ]
  },
  {
   "cell_type": "markdown",
   "id": "600e34d7",
   "metadata": {},
   "source": [
    "## Flattening Lists\n",
    "\n",
    "Flatten a 2D list to 1D using a comprehension."
   ]
  },
  {
   "cell_type": "code",
   "execution_count": null,
   "id": "2d55e8a4",
   "metadata": {},
   "outputs": [],
   "source": [
    "# Flatten a matrix\n",
    "matrix = [[1,2,3], [4,5], [6]]\n",
    "flattened = [x for row in matrix for x in row]\n",
    "print('matrix:', matrix)\n",
    "print('flattened:', flattened)"
   ]
  },
  {
   "cell_type": "markdown",
   "id": "50a78fdb",
   "metadata": {},
   "source": [
    "## Generator Expressions & Memory\n",
    "\n",
    "Generator expressions look like comprehensions but use parentheses — they produce items lazily and are memory efficient for large sequences."
   ]
  },
  {
   "cell_type": "code",
   "execution_count": null,
   "id": "ae0c5c50",
   "metadata": {},
   "outputs": [],
   "source": [
    "# Generator expression example\n",
    "gen = (x**2 for x in range(10))  # no list created\n",
    "print('type(gen):', type(gen))\n",
    "print('first 3 from generator:', [next(gen) for _ in range(3)])\n",
    "\n",
    "# Convert to list when needed\n",
    "rest = list(gen)\n",
    "print('rest:', rest)"
   ]
  },
  {
   "cell_type": "markdown",
   "id": "9b11b89b",
   "metadata": {},
   "source": [
    "## Dict and Set Comprehensions\n",
    "\n",
    "You can create dictionaries and sets using a similar syntax.\n",
    "\n",
    "Note: set comprehensions automatically remove duplicates."
   ]
  },
  {
   "cell_type": "code",
   "execution_count": null,
   "id": "97f65fcd",
   "metadata": {},
   "outputs": [],
   "source": [
    "# Dict comprehension: map number -> square\n",
    "square_map = {x: x**2 for x in range(6)}\n",
    "print('square_map:', square_map)\n",
    "\n",
    "# Set comprehension: unique remainders\n",
    "remainders = {x % 3 for x in range(10)}\n",
    "print('remainders (set):', remainders)"
   ]
  },
  {
   "cell_type": "markdown",
   "id": "5026331c",
   "metadata": {},
   "source": [
    "## Working with Strings\n",
    "\n",
    "List comprehensions are handy when transforming strings, splitting, or filtering characters."
   ]
  },
  {
   "cell_type": "code",
   "execution_count": null,
   "id": "53eea8e8",
   "metadata": {},
   "outputs": [],
   "source": [
    "# Example: characters uppercase except vowels removed\n",
    "word = 'ListComprehension'\n",
    "chars = [ch.upper() for ch in word if ch.lower() not in 'aeiou']\n",
    "print('chars:', chars)\n",
    "\n",
    "# Split words and get lengths\n",
    "sentence = 'This is a test sentence for list comprehensions.'\n",
    "lengths = [len(w) for w in sentence.split()]\n",
    "print('word lengths:', lengths)"
   ]
  },
  {
   "cell_type": "markdown",
   "id": "ddd07507",
   "metadata": {},
   "source": [
    "## Tuples & Generator Expressions\n",
    "\n",
    "When you want an immutable sequence, convert a generator to a tuple."
   ]
  },
  {
   "cell_type": "code",
   "execution_count": null,
   "id": "533571e5",
   "metadata": {},
   "outputs": [],
   "source": [
    "# Convert generator result to tuple (immutable)\n",
    "t = tuple(x for x in range(5) if x % 2 == 0)\n",
    "print('tuple from generator:', t)"
   ]
  },
  {
   "cell_type": "markdown",
   "id": "d52737a0",
   "metadata": {},
   "source": [
    "## Using Functions inside Comprehensions\n",
    "\n",
    "Comprehensions can call functions — but avoid heavy side-effects inside them for readability."
   ]
  },
  {
   "cell_type": "code",
   "execution_count": null,
   "id": "eab25776",
   "metadata": {},
   "outputs": [],
   "source": [
    "def is_prime(n):\n",
    "    # Return True if n is prime (simple implementation for demonstration)\n",
    "    if n < 2:\n",
    "        return False\n",
    "    if n % 2 == 0:\n",
    "        return n == 2\n",
    "    p = 3\n",
    "    while p * p <= n:\n",
    "        if n % p == 0:\n",
    "            return False\n",
    "        p += 2\n",
    "    return True\n",
    "\n",
    "primes_under_30 = [x for x in range(30) if is_prime(x)]\n",
    "print('primes_under_30:', primes_under_30)"
   ]
  },
  {
   "cell_type": "markdown",
   "id": "1edb1bea",
   "metadata": {},
   "source": [
    "## Performance Comparison\n",
    "\n",
    "Use `timeit` to compare list comprehension vs manual loop vs map+lambda for a medium-sized workload."
   ]
  },
  {
   "cell_type": "code",
   "execution_count": null,
   "id": "7e652cc7",
   "metadata": {},
   "outputs": [],
   "source": [
    "import timeit\n",
    "\n",
    "setup = 'from math import sqrt\\nnums = list(range(2000))'\n",
    "\n",
    "lc_stmt = '[sqrt(x) for x in nums]'\n",
    "loop_stmt = '\\n'.join([\n",
    "    'res = []',\n",
    "    'for x in nums:',\n",
    "    '    res.append(sqrt(x))'\n",
    "])\n",
    "map_stmt = 'list(map(sqrt, nums))'\n",
    "\n",
    "lc_time = timeit.timeit(lc_stmt, setup=setup, number=200)\n",
    "loop_time = timeit.timeit(loop_stmt, setup=setup, number=200)\n",
    "map_time = timeit.timeit(map_stmt, setup=setup, number=200)\n",
    "\n",
    "print('list comprehension time :', lc_time)\n",
    "print('for-loop time          :', loop_time)\n",
    "print('map + list time        :', map_time)\n",
    "\n",
    "print('\\nObservations: comprehensions tend to be faster than an explicit Python loop; map can be comparable.')"
   ]
  },
  {
   "cell_type": "markdown",
   "id": "b934a7d2",
   "metadata": {},
   "source": [
    "## Memory: generator vs list\n",
    "\n",
    "Demonstrate memory difference for large sequences (showing `sys.getsizeof` of container objects)."
   ]
  },
  {
   "cell_type": "code",
   "execution_count": null,
   "id": "5890724a",
   "metadata": {},
   "outputs": [],
   "source": [
    "import sys\n",
    "large = range(10_000_000)\n",
    "list_created = [x for x in large]\n",
    "# Only show sizes of containers (not deep contents)\n",
    "print('size of range object      :', sys.getsizeof(large))\n",
    "print('size of list container    :', sys.getsizeof(list_created))\n",
    "# generator object\n",
    "gen = (x for x in large)\n",
    "print('size of generator object  :', sys.getsizeof(gen))\n",
    "\n",
    "# Clean up large list to free memory in the notebook environment\n",
    "del list_created"
   ]
  },
  {
   "cell_type": "markdown",
   "id": "0354f6c2",
   "metadata": {},
   "source": [
    "## Common Mistakes & Best Practices\n",
    "\n",
    "- Avoid overly complex comprehensions: prefer readability.\n",
    "- Don't put side-effects (IO, heavy logging) inside comprehensions — use loops instead.\n",
    "- Use generator expressions for large data to save memory.\n",
    "- For nested comprehensions, consider named loops (regular loops) if readability suffers.\n",
    "- Avoid shadowing variables from outer scopes if it causes confusion.\n"
   ]
  },
  {
   "cell_type": "code",
   "execution_count": null,
   "id": "00783bfb",
   "metadata": {},
   "outputs": [],
   "source": [
    "# Example: Overly complex comprehension -> rewrite for clarity\n",
    "# Complex (less readable):\n",
    "complex_list = [(i, j, k) for i in range(3) for j in range(3) if j != i for k in range(3) if k > j]\n",
    "print('complex_list sample:', complex_list[:10])\n",
    "\n",
    "# Clearer via loop:\n",
    "clear_list = []\n",
    "for i in range(3):\n",
    "    for j in range(3):\n",
    "        if j == i:\n",
    "            continue\n",
    "        for k in range(3):\n",
    "            if k <= j:\n",
    "                continue\n",
    "            clear_list.append((i, j, k))\n",
    "print('clear_list sample   :', clear_list[:10])\n",
    "print('equal results?      :', complex_list == clear_list)"
   ]
  },
  {
   "cell_type": "markdown",
   "id": "5108c876",
   "metadata": {},
   "source": [
    "## Real-World Examples\n",
    "\n",
    "1. Processing CSV-like rows\n",
    "2. Filtering and normalizing data\n",
    "3. Feature extraction examples\n"
   ]
  },
  {
   "cell_type": "code",
   "execution_count": null,
   "id": "b0035231",
   "metadata": {},
   "outputs": [],
   "source": [
    "# 1) CSV-like rows -> extract integers from rows\n",
    "rows = [\n",
    "    ['id', 'name', 'age'],\n",
    "    ['1', 'Alice', '30'],\n",
    "    ['2', 'Bob', '25'],\n",
    "    ['3', 'Carol', '27']\n",
    "]\n",
    "# Skip header and parse ages\n",
    "ages = [int(row[2]) for row in rows[1:]]\n",
    "print('ages:', ages)\n",
    "\n",
    "# 2) Normalize values (min-max) quickly\n",
    "values = [10, 15, 12, 20]\n",
    "min_v, max_v = min(values), max(values)\n",
    "normalized = [(v - min_v) / (max_v - min_v) for v in values]\n",
    "print('normalized:', normalized)\n",
    "\n",
    "# 3) Feature extraction: list of (word, length) for words longer than 3\n",
    "sentence = 'this is an example sentence with several words'\n",
    "features = [(w, len(w)) for w in sentence.split() if len(w) > 3]\n",
    "print('features:', features)"
   ]
  },
  {
   "cell_type": "markdown",
   "id": "17e47ad0",
   "metadata": {},
   "source": [
    "## Exercises (try these yourself)\n",
    "\n",
    "1. Create a list of Fibonacci numbers (first 10) using comprehension-like techniques.\n",
    "2. Given a list of dicts `people = [{'name':..., 'age':...}, ...]` create `['name (age)']` only for age>18.\n",
    "3. Flatten a 3-level nested list.\n",
    "\n",
    "Try to solve and then compare with the solutions below (or keep as exercises)."
   ]
  },
  {
   "cell_type": "code",
   "execution_count": null,
   "id": "ed73ead8",
   "metadata": {},
   "outputs": [],
   "source": [
    "# Exercise solutions (one possible approach)\n",
    "# 1) Fibonacci (simple iterative approach then comprehension to format)\n",
    "fib = [0, 1]\n",
    "for _ in range(8):\n",
    "    fib.append(fib[-1] + fib[-2])\n",
    "print('fib (first 10):', fib)\n",
    "\n",
    "# 2) people -> formatted list\n",
    "people = [{'name':'Alice','age':22}, {'name':'Bob','age':17}, {'name':'Carol','age':30}]\n",
    "adults = [f\"{p['name']} ({p['age']})\" for p in people if p['age'] > 18]\n",
    "print('adults:', adults)\n",
    "\n",
    "# 3) Flatten 3-level nested list\n",
    "nested = [[[1,2],[3]], [[4,5]], [[6]]]\n",
    "flat3 = [x for l1 in nested for l2 in l1 for x in l2]\n",
    "print('flat3:', flat3)"
   ]
  },
  {
   "cell_type": "markdown",
   "id": "5dc68b53",
   "metadata": {},
   "source": [
    "## Summary\n",
    "\n",
    "- List comprehensions are concise and usually faster than manual loops for list construction.\n",
    "- Use generator expressions for memory efficiency.\n",
    "- Prefer clarity — avoid nesting deeply inside comprehensions when it hurts readability.\n",
    "\n",
    "This notebook is comprehensive — copy it into a `.ipynb` file and run cells interactively. Happy coding! 🚀"
   ]
  }
 ],
 "metadata": {},
 "nbformat": 4,
 "nbformat_minor": 5
}
