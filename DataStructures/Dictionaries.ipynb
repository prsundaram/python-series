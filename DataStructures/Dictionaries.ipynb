{
 "cells": [
  {
   "cell_type": "markdown",
   "id": "8e568e88",
   "metadata": {},
   "source": [
    "# Dictionaries in Python with Detailed Examples\n",
    "---\n",
    "\n",
    "## 1. **What is a Dictionary?**\n",
    "- A dictionary is a collection of key-value pairs in Python.\n",
    "- Keys must be unique and immutable; values can be of any type.\n",
    "- Example:\n",
    "  ```python\n",
    "  my_dict = {'name': 'Alice', 'age': 25}\n",
    "  ```\n",
    "\n",
    "## 2. **Creating Dictionaries**\n",
    "- Using curly braces `{}`:\n",
    "  ```python\n",
    "  person = {'name': 'Bob', 'age': 30}\n",
    "  ```\n",
    "- Using the `dict()` constructor:\n",
    "  ```python\n",
    "  person = dict(name='Charlie', age=35)\n",
    "  ```\n",
    "\n",
    "## 3. **Accessing Values**\n",
    "- Access by key:\n",
    "  ```python\n",
    "  print(person['name'])  # Output: Bob\n",
    "  ```\n",
    "- Using `get()` method:\n",
    "  ```python\n",
    "  print(person.get('age'))  # Output: 30\n",
    "  ```\n",
    "\n",
    "## 4. **Adding and Updating Entries**\n",
    "- Add new key-value pair:\n",
    "  ```python\n",
    "  person['gender'] = 'M'\n",
    "  ```\n",
    "- Update existing value:\n",
    "  ```python\n",
    "  person['age'] = 31\n",
    "  ```\n",
    "\n",
    "## 5. **Removing Entries**\n",
    "- Using `del` statement:\n",
    "  ```python\n",
    "  del person['gender']\n",
    "  ```\n",
    "- Using `pop()` method:\n",
    "  ```python\n",
    "  age = person.pop('age')\n",
    "  ```\n",
    "\n",
    "## 6. **Dictionary Methods**\n",
    "- `keys()`, `values()`, `items()`:\n",
    "  ```python\n",
    "  print(person.keys())\n",
    "  print(person.values())\n",
    "  print(person.items())\n",
    "  ```\n",
    "- `update()` to merge dictionaries:\n",
    "  ```python\n",
    "  person.update({'country': 'USA'})\n",
    "  ```\n",
    "\n",
    "## 7. **Iterating Through Dictionaries**\n",
    "- Iterate over keys:\n",
    "  ```python\n",
    "  for key in person:\n",
    "    print(key, person[key])\n",
    "  ```\n",
    "- Iterate over items:\n",
    "  ```python\n",
    "  for key, value in person.items():\n",
    "    print(key, value)\n",
    "  ```\n",
    "\n",
    "## 8. **Nested Dictionaries**\n",
    "- Dictionaries can contain other dictionaries:\n",
    "  ```python\n",
    "  students = {\n",
    "    'Alice': {'age': 25, 'grade': 'A'},\n",
    "    'Bob': {'age': 30, 'grade': 'B'}\n",
    "  }\n",
    "  print(students['Alice']['grade'])  # Output: A\n",
    "  ```\n",
    "\n",
    "## 9. **Common Use Cases**\n",
    "- Storing structured data (e.g., user profiles)\n",
    "- Counting occurrences (using keys as counters)\n",
    "- Fast lookups by key\n",
    "\n",
    "## 10. **Summary**\n",
    "- Dictionaries are versatile and efficient for managing key-value data.\n",
    "- They support various methods for manipulation and access.\n",
    "- Widely used in Python for data organization and retrieval."
   ]
  },
  {
   "cell_type": "code",
   "execution_count": 42,
   "id": "311f2628",
   "metadata": {},
   "outputs": [
    {
     "name": "stdout",
     "output_type": "stream",
     "text": [
      "Empty dictionary: {}\n",
      "Type of empty_dict: <class 'dict'>\n"
     ]
    }
   ],
   "source": [
    "## Creating a dictionaries\n",
    "empty_dict = {}  # Creates an empty dictionary\n",
    "print(f\"Empty dictionary: {empty_dict}\")    \n",
    "print(f\"Type of empty_dict: {type(empty_dict)}\")  # Should print <class 'dict'>"
   ]
  },
  {
   "cell_type": "code",
   "execution_count": 43,
   "id": "fd9f3af2",
   "metadata": {},
   "outputs": [
    {
     "name": "stdout",
     "output_type": "stream",
     "text": [
      "Another empty dictionary: {}\n",
      "Type of another_empty_dict: <class 'dict'>\n"
     ]
    }
   ],
   "source": [
    "# Another way to create a dictionary\n",
    "another_empty_dict = dict()  # Also creates an empty dictionary\n",
    "print(f\"Another empty dictionary: {another_empty_dict}\")   \n",
    "print(f\"Type of another_empty_dict: {type(another_empty_dict)}\")  # Should print <class 'dict'>"
   ]
  },
  {
   "cell_type": "code",
   "execution_count": 44,
   "id": "7b7aab89",
   "metadata": {},
   "outputs": [
    {
     "name": "stdout",
     "output_type": "stream",
     "text": [
      "Student dictionary: {'name': 'Prasanna Sundaram', 'age': 35, 'city': 'Chennai', 'grade': 'A', 'skills': ['Python', 'Data Science', 'Machine Learning']}\n"
     ]
    }
   ],
   "source": [
    "student = {\n",
    "    \"name\": \"Prasanna Sundaram\",\n",
    "    \"age\": 35,\n",
    "    \"city\": \"Chennai\",\n",
    "    \"grade\": \"A\",\n",
    "    \"skills\": [\"Python\", \"Data Science\", \"Machine Learning\"]\n",
    "}\n",
    "print(f\"Student dictionary: {student}\")"
   ]
  },
  {
   "cell_type": "code",
   "execution_count": 45,
   "id": "eb0cf570",
   "metadata": {},
   "outputs": [
    {
     "name": "stdout",
     "output_type": "stream",
     "text": [
      "Student dictionary with duplicate key: {'name': 'Prasanna Sundaram', 'age': 36, 'city': 'Chennai', 'grade': 'A', 'skills': ['Python', 'Data Science', 'Machine Learning']}\n"
     ]
    }
   ],
   "source": [
    "# In case of a duplicate key, the last value will overwrite the previous one\n",
    "student_with_duplicate_key = {\n",
    "    \"name\": \"Prasanna Sundaram\",\n",
    "    \"age\": 35,\n",
    "    \"city\": \"Chennai\",\n",
    "    \"grade\": \"A\",\n",
    "    \"skills\": [\"Python\", \"Data Science\", \"Machine Learning\"],\n",
    "    \"age\": 36  # This will overwrite the previous age value\n",
    "}\n",
    "print(f\"Student dictionary with duplicate key: {student_with_duplicate_key}\")   "
   ]
  },
  {
   "cell_type": "code",
   "execution_count": 46,
   "id": "3adc13be",
   "metadata": {},
   "outputs": [
    {
     "name": "stdout",
     "output_type": "stream",
     "text": [
      "\n",
      "Accessing elements in a dictionary:\n",
      "Name: Prasanna Sundaram\n",
      "Age: 35\n",
      "City: Chennai\n",
      "Grade: A\n",
      "Skills: ['Python', 'Data Science', 'Machine Learning']\n",
      "\n",
      "Accessing elements using get() method:\n",
      "Name: Prasanna Sundaram\n",
      "Age: 35\n",
      "City: Chennai\n",
      "Grade: A\n",
      "Skills: ['Python', 'Data Science', 'Machine Learning']\n",
      "\n",
      "Accessing a non-existent key using get() method:\n",
      "Non-existent key: None\n",
      "\n",
      "Accessing a non-existent key with a default value:\n",
      "Non-existent key: Key not found\n"
     ]
    }
   ],
   "source": [
    "## Accessing dictonary elements\n",
    "# This is one way to access elements in a dictionary\n",
    "print(\"\\nAccessing elements in a dictionary:\")\n",
    "print(f\"Name: {student['name']}\")\n",
    "print(f\"Age: {student['age']}\") \n",
    "print(f\"City: {student['city']}\")\n",
    "print(f\"Grade: {student['grade']}\")\n",
    "print(f\"Skills: {student['skills']}\")\n",
    "# Another way to access elements in a dictionary using the get() method\n",
    "print(\"\\nAccessing elements using get() method:\")\n",
    "print(f\"Name: {student.get('name')}\")\n",
    "print(f\"Age: {student.get('age')}\")\n",
    "print(f\"City: {student.get('city')}\")\n",
    "print(f\"Grade: {student.get('grade')}\")\n",
    "print(f\"Skills: {student.get('skills')}\")  \n",
    "# Accessing a non-existent key using get() method\n",
    "print(\"\\nAccessing a non-existent key using get() method:\")\n",
    "# This will return None if the key doesn't exist\n",
    "print(f\"Non-existent key: {student.get('last_name')}\")  # Returns None\n",
    "# You can also provide a default value if the key doesn't exist\n",
    "print(\"\\nAccessing a non-existent key with a default value:\")\n",
    "# This will return 'Key not found' if the key doesn't exist\n",
    "print(f\"Non-existent key: {student.get('last_name', 'Key not found')}\")  # Returns 'Key not found' if the key doesn't exist)}\")"
   ]
  },
  {
   "cell_type": "code",
   "execution_count": 47,
   "id": "3226ad35",
   "metadata": {},
   "outputs": [
    {
     "name": "stdout",
     "output_type": "stream",
     "text": [
      "\n",
      "Modifying dictionary elements:\n",
      "Original student dictionary: {'name': 'Prasanna Sundaram', 'age': 35, 'city': 'Chennai', 'grade': 'A', 'skills': ['Python', 'Data Science', 'Machine Learning']}\n",
      "Updated student dictionary: {'name': 'Prasanna Sundaram', 'age': 36, 'city': 'Chennai', 'grade': 'A', 'skills': ['Python', 'Data Science', 'Machine Learning']}\n",
      "Student dictionary after adding country: {'name': 'Prasanna Sundaram', 'age': 36, 'city': 'Chennai', 'grade': 'A', 'skills': ['Python', 'Data Science', 'Machine Learning'], 'country': 'India'}\n",
      "\n",
      "Removing a key-value pair:\n",
      "Student dictionary after removing grade: {'name': 'Prasanna Sundaram', 'age': 36, 'city': 'Chennai', 'skills': ['Python', 'Data Science', 'Machine Learning'], 'country': 'India'}\n",
      "\n",
      "Removing a key-value pair using pop:\n",
      "Removed skills: ['Python', 'Data Science', 'Machine Learning']\n",
      "Student dictionary after removing skills: {'name': 'Prasanna Sundaram', 'age': 36, 'city': 'Chennai', 'country': 'India'}\n"
     ]
    }
   ],
   "source": [
    "## Mofiying dictionary elements\n",
    "# Dictionaries are mutable, meaning you can change their contents\n",
    "print(\"\\nModifying dictionary elements:\")\n",
    "print(f\"Original student dictionary: {student}\")\n",
    "student.update({\"age\": 36})  # Update the age\n",
    "print(f\"Updated student dictionary: {student}\")\n",
    "student[\"country\"] = \"India\"  # Add a new key-value pair\n",
    "print(f\"Student dictionary after adding country: {student}\")\n",
    "# Removing a key-value pair using del\n",
    "print(\"\\nRemoving a key-value pair:\")\n",
    "del student[\"grade\"]  # Remove the grade key\n",
    "print(f\"Student dictionary after removing grade: {student}\")\n",
    "# Removing a key-value pair using pop\n",
    "print(\"\\nRemoving a key-value pair using pop:\") \n",
    "removed_skill = student.pop(\"skills\", \"Key not found\")  # Remove skills key\n",
    "print(f\"Removed skills: {removed_skill}\")\n",
    "print(f\"Student dictionary after removing skills: {student}\")"
   ]
  },
  {
   "cell_type": "code",
   "execution_count": 48,
   "id": "8b7646d7",
   "metadata": {},
   "outputs": [],
   "source": [
    "student = {\n",
    "    \"name\": \"Prasanna Sundaram\",\n",
    "    \"age\": 35,\n",
    "    \"city\": \"Chennai\",\n",
    "    \"grade\": \"A\",\n",
    "    \"skills\": [\"Python\", \"Data Science\", \"Machine Learning\"]\n",
    "}"
   ]
  },
  {
   "cell_type": "code",
   "execution_count": 49,
   "id": "bd416aad",
   "metadata": {},
   "outputs": [
    {
     "name": "stdout",
     "output_type": "stream",
     "text": [
      "\n",
      "Dictionary keys:\n",
      "Keys: dict_keys(['name', 'age', 'city', 'grade', 'skills'])\n",
      "\n",
      "Dictionary values:\n",
      "Values: dict_values(['Prasanna Sundaram', 35, 'Chennai', 'A', ['Python', 'Data Science', 'Machine Learning']])\n",
      "\n",
      "Dictionary items:\n",
      "Items: dict_items([('name', 'Prasanna Sundaram'), ('age', 35), ('city', 'Chennai'), ('grade', 'A'), ('skills', ['Python', 'Data Science', 'Machine Learning'])])\n",
      "\n",
      "Copying a dictionary:\n",
      "Copied student dictionary: {'name': 'Prasanna Sundaram', 'age': 35, 'city': 'Chennai', 'grade': 'A', 'skills': ['Python', 'Data Science', 'Machine Learning']}\n",
      "\n",
      "Clearing a dictionary:\n",
      "Student dictionary after clearing: {}\n",
      "\n",
      "Using get() method:\n",
      "Name: Key not found\n",
      "\n",
      "Using pop() method:\n",
      "Removed age: 35\n",
      "Student dictionary after pop: {'name': 'Prasanna Sundaram', 'city': 'Chennai', 'grade': 'A', 'skills': ['Python', 'Data Science', 'Machine Learning']}\n",
      "\n",
      "Using popitem() method:\n",
      "Last item removed: ('skills', ['Python', 'Data Science', 'Machine Learning'])\n",
      "Student dictionary after popitem: {'name': 'Prasanna Sundaram', 'city': 'Chennai', 'grade': 'A'}\n",
      "\n",
      "Using update() method:\n",
      "Student dictionary after update: {'name': 'Prasanna Sundaram', 'city': 'Chennai', 'grade': 'A+', 'country': 'India'}\n",
      "\n",
      "Using setdefault() method:\n",
      "Student dictionary after setdefault: {'name': 'Prasanna Sundaram', 'city': 'Chennai', 'grade': 'A+', 'country': 'India', 'hobby': 'Reading'}\n",
      "\n",
      "Using fromkeys() method:\n",
      "New dictionary created using fromkeys: {'name': 'Unknown', 'age': 'Unknown', 'city': 'Unknown'}\n"
     ]
    }
   ],
   "source": [
    "## Dictionary methods\n",
    "# 1. keys() - Returns a view object that displays a list of all the keys\n",
    "print(\"\\nDictionary keys:\")\n",
    "print(f\"Keys: {student.keys()}\")  # Returns a view object of keys\n",
    "# 2. values() - Returns a view object that displays a list of all the values\n",
    "print(\"\\nDictionary values:\")\n",
    "print(f\"Values: {student.values()}\")  # Returns a view object of values\n",
    "# 3. items() - Returns a view object that displays a list of dictionary's key-value tuple pairs\n",
    "print(\"\\nDictionary items:\")\n",
    "print(f\"Items: {student.items()}\") # Returns a view object of key-value pairs\n",
    "# 4. copy() - Returns a shallow copy of the dictionary\n",
    "print(\"\\nCopying a dictionary:\")\n",
    "copied_student = student.copy()  # Creates a shallow copy of the dictionary\n",
    "print(f\"Copied student dictionary: {copied_student}\")\n",
    "# 5. clear() - Removes all items from the dictionary\n",
    "print(\"\\nClearing a dictionary:\")\n",
    "student.clear()  # Clears the dictionary\n",
    "print(f\"Student dictionary after clearing: {student}\")  # Should be empty\n",
    "# 6. get() - Returns the value for a specified key if key is in dictionary, else None\n",
    "print(\"\\nUsing get() method:\")\n",
    "print(f\"Name: {student.get('name', 'Key not found')}\")  # Returns 'Key not found' if the key doesn't exist\n",
    "# 7. pop() - Removes the specified key and returns the corresponding value\n",
    "print(\"\\nUsing pop() method:\")\n",
    "student = {\n",
    "    \"name\": \"Prasanna Sundaram\",\n",
    "    \"age\": 35,\n",
    "    \"city\": \"Chennai\",\n",
    "    \"grade\": \"A\",\n",
    "    \"skills\": [\"Python\", \"Data Science\", \"Machine Learning\"]\n",
    "}\n",
    "removed_age = student.pop(\"age\", \"Key not found\")  # Removes age key and returns its value\n",
    "print(f\"Removed age: {removed_age}\")\n",
    "print(f\"Student dictionary after pop: {student}\")  # Should not contain age key\n",
    "# 8. popitem() - Removes and returns the last inserted key-value pair\n",
    "print(\"\\nUsing popitem() method:\")\n",
    "last_item = student.popitem()  # Removes and returns the last inserted key-value pair\n",
    "print(f\"Last item removed: {last_item}\")\n",
    "print(f\"Student dictionary after popitem: {student}\")  # Should not contain the last inserted key-value pair\n",
    "# 9. update() - Updates the dictionary with the specified key-value pairs\n",
    "print(\"\\nUsing update() method:\")\n",
    "student.update({\"country\": \"India\", \"grade\": \"A+\"})  # Updates the dictionary with new key-value pairs\n",
    "print(f\"Student dictionary after update: {student}\")        \n",
    "# 10. setdefault() - Returns the value of a key if it is in the dictionary, else inserts the key with a specified value\n",
    "print(\"\\nUsing setdefault() method:\")\n",
    "student.setdefault(\"hobby\", \"Reading\")  # Adds hobby key with value 'Reading'\n",
    "print(f\"Student dictionary after setdefault: {student}\")  # Should contain hobby key with value 'Reading'\n",
    "# 11. fromkeys() - Creates a new dictionary with specified keys and a specified value\n",
    "print(\"\\nUsing fromkeys() method:\")\n",
    "keys = [\"name\", \"age\", \"city\"]\n",
    "default_value = \"Unknown\"\n",
    "new_dict = dict.fromkeys(keys, default_value)  # Creates a new dictionary with specified keys and a default value\n",
    "print(f\"New dictionary created using fromkeys: {new_dict}\") "
   ]
  },
  {
   "cell_type": "code",
   "execution_count": 50,
   "id": "2f0bd716",
   "metadata": {},
   "outputs": [
    {
     "name": "stdout",
     "output_type": "stream",
     "text": [
      "\n",
      "Iterating through a dictionary:\n",
      "name: Prasanna Sundaram\n",
      "city: Chennai\n",
      "grade: A+\n",
      "country: India\n",
      "hobby: Reading\n"
     ]
    }
   ],
   "source": [
    "# Iterating through a dictionary\n",
    "print(\"\\nIterating through a dictionary:\")\n",
    "for key, value in student.items():\n",
    "    print(f\"{key}: {value}\")  # Prints each key-value pair in the dictionary"
   ]
  },
  {
   "cell_type": "code",
   "execution_count": 51,
   "id": "da943dd8",
   "metadata": {},
   "outputs": [
    {
     "name": "stdout",
     "output_type": "stream",
     "text": [
      "\n",
      "Iterating through keys:\n",
      "Key: name\n",
      "Key: city\n",
      "Key: grade\n",
      "Key: country\n",
      "Key: hobby\n",
      "\n",
      "Iterating through values:\n",
      "Value: Prasanna Sundaram\n",
      "Value: Chennai\n",
      "Value: A+\n",
      "Value: India\n",
      "Value: Reading\n",
      "\n",
      "Iterating through items:\n",
      "Item: ('name', 'Prasanna Sundaram')\n",
      "Key: name, Value: Prasanna Sundaram\n",
      "Item: ('city', 'Chennai')\n",
      "Key: city, Value: Chennai\n",
      "Item: ('grade', 'A+')\n",
      "Key: grade, Value: A+\n",
      "Item: ('country', 'India')\n",
      "Key: country, Value: India\n",
      "Item: ('hobby', 'Reading')\n",
      "Key: hobby, Value: Reading\n",
      "\n",
      " Interating through dictionary:\n",
      "Key: name, Value: Prasanna Sundaram\n",
      "Key: city, Value: Chennai\n",
      "Key: grade, Value: A+\n",
      "Key: country, Value: India\n",
      "Key: hobby, Value: Reading\n",
      "\n",
      "Iterating through keys:\n",
      "Key: name, Value: Prasanna Sundaram\n",
      "Key: city, Value: Chennai\n",
      "Key: grade, Value: A+\n",
      "Key: country, Value: India\n",
      "Key: hobby, Value: Reading\n"
     ]
    }
   ],
   "source": [
    "# different ways to iterate through a dictionary\n",
    "print(\"\\nIterating through keys:\")\n",
    "for key in student.keys():\n",
    "    print(f\"Key: {key}\")  # Prints each key in the dictionary\n",
    "print(\"\\nIterating through values:\")\n",
    "for value in student.values():\n",
    "    print(f\"Value: {value}\")  # Prints each value in the dictionary\n",
    "print(\"\\nIterating through items:\")     \n",
    "for item in student.items():\n",
    "    print(f\"Item: {item}\")  # Prints each key-value pair as a tuple \n",
    "    print(f\"Key: {item[0]}, Value: {item[1]}\")  # Prints each key and its corresponding value\n",
    "print(\"\\n Interating through dictionary:\")\n",
    "for key in student:\n",
    "    print(f\"Key: {key}, Value: {student[key]}\")  # Prints each key and its corresponding value\n",
    "print(\"\\nIterating through keys:\")\n",
    "for key in student.keys():\n",
    "    print(f\"Key: {key}, Value: {student[key]}\")  # Prints each key and its corresponding value"
   ]
  },
  {
   "cell_type": "code",
   "execution_count": 52,
   "id": "9fc8c0ea",
   "metadata": {},
   "outputs": [
    {
     "name": "stdout",
     "output_type": "stream",
     "text": [
      "\n",
      "Checking if a key exists in the dictionary:\n",
      "name exists in the dictionary with value: Prasanna Sundaram\n",
      "\n",
      "Checking if a key does not exist in the dictionary:\n",
      "last_name does not exist in the dictionary.\n",
      "\n",
      "Checking if a value exists in the dictionary:\n",
      "Chennai exists in the dictionary.\n",
      "\n",
      "Checking if a value does not exist in the dictionary:\n",
      "Mumbai does not exist in the dictionary.\n",
      "\n",
      "Checking the length of the dictionary:\n",
      "Length of the student dictionary: 5\n",
      "\n",
      "Checking if the dictionary is empty:\n",
      "The student dictionary is not empty.\n"
     ]
    }
   ],
   "source": [
    "# Checking if a key exists in the dictionary\n",
    "print(\"\\nChecking if a key exists in the dictionary:\")\n",
    "key_to_check = \"name\"\n",
    "if key_to_check in student:\n",
    "    print(f\"{key_to_check} exists in the dictionary with value: {student[key_to_check]}\")\n",
    "else:\n",
    "    print(f\"{key_to_check} does not exist in the dictionary.\")\n",
    "# Checking if a key does not exist in the dictionary\n",
    "print(\"\\nChecking if a key does not exist in the dictionary:\")\n",
    "key_to_check = \"last_name\"\n",
    "if key_to_check not in student:\n",
    "    print(f\"{key_to_check} does not exist in the dictionary.\")\n",
    "# Checking if a value exists in the dictionary\n",
    "print(\"\\nChecking if a value exists in the dictionary:\")\n",
    "value_to_check = \"Chennai\"\n",
    "if value_to_check in student.values():\n",
    "    print(f\"{value_to_check} exists in the dictionary.\")\n",
    "else:\n",
    "    print(f\"{value_to_check} does not exist in the dictionary.\")\n",
    "# Checking if a value does not exist in the dictionary\n",
    "print(\"\\nChecking if a value does not exist in the dictionary:\")\n",
    "value_to_check = \"Mumbai\"\n",
    "if value_to_check not in student.values():\n",
    "    print(f\"{value_to_check} does not exist in the dictionary.\")\n",
    "else:\n",
    "    print(f\"{value_to_check} exists in the dictionary.\")\n",
    "# Checking the length of the dictionary\n",
    "print(\"\\nChecking the length of the dictionary:\")\n",
    "print(f\"Length of the student dictionary: {len(student)}\")  # Returns the number of key-value pairs in the dictionary\n",
    "# Checking if the dictionary is empty\n",
    "print(\"\\nChecking if the dictionary is empty:\")\n",
    "if not student:\n",
    "    print(\"The student dictionary is empty.\")\n",
    "else:\n",
    "    print(\"The student dictionary is not empty.\")\n"
   ]
  },
  {
   "cell_type": "code",
   "execution_count": 53,
   "id": "4dd96051",
   "metadata": {},
   "outputs": [
    {
     "name": "stdout",
     "output_type": "stream",
     "text": [
      "\n",
      "Nested dictionaries:\n",
      "Students dictionary: {'student1': {'name': 'Prasanna Sundaram', 'age': 35, 'city': 'Chennai', 'grade': 'A', 'skills': ['Python', 'Data Science', 'Machine Learning']}, 'student2': {'name': 'John Doe', 'age': 30, 'city': 'New York', 'grade': 'B', 'skills': ['Java', 'Spring', 'Hibernate']}, 'student3': {'name': 'Jane Smith', 'age': 28, 'city': 'London', 'grade': 'A+', 'skills': ['JavaScript', 'React', 'Node.js']}, 'student4': {'name': 'Alice Johnson', 'age': 32, 'city': 'Sydney', 'grade': 'B+', 'skills': ['C#', '.NET', 'Azure']}}\n"
     ]
    }
   ],
   "source": [
    "# Nested dictionaries\n",
    "print(\"\\nNested dictionaries:\")\n",
    "students = {\n",
    "    \"student1\": {\n",
    "        \"name\": \"Prasanna Sundaram\",\n",
    "        \"age\": 35,\n",
    "        \"city\": \"Chennai\",\n",
    "        \"grade\": \"A\",\n",
    "        \"skills\": [\"Python\", \"Data Science\", \"Machine Learning\"]\n",
    "    },\n",
    "    \"student2\": {\n",
    "        \"name\": \"John Doe\",\n",
    "        \"age\": 30,\n",
    "        \"city\": \"New York\",\n",
    "        \"grade\": \"B\",\n",
    "        \"skills\": [\"Java\", \"Spring\", \"Hibernate\"]\n",
    "    },\n",
    "    \"student3\": {\n",
    "        \"name\": \"Jane Smith\",\n",
    "        \"age\": 28,\n",
    "        \"city\": \"London\",\n",
    "        \"grade\": \"A+\",\n",
    "        \"skills\": [\"JavaScript\", \"React\", \"Node.js\"]\n",
    "    },\n",
    "    \"student4\": {\n",
    "        \"name\": \"Alice Johnson\",\n",
    "        \"age\": 32,\n",
    "        \"city\": \"Sydney\",\n",
    "        \"grade\": \"B+\",\n",
    "        \"skills\": [\"C#\", \".NET\", \"Azure\"]\n",
    "    }\n",
    "}\n",
    "print(f\"Students dictionary: {students}\")\n",
    "\n"
   ]
  },
  {
   "cell_type": "code",
   "execution_count": 54,
   "id": "6e5e4d0b",
   "metadata": {},
   "outputs": [
    {
     "name": "stdout",
     "output_type": "stream",
     "text": [
      "\n",
      "Accessing nested dictionary elements:\n",
      "Name of student1: Prasanna Sundaram\n",
      "Age of student2: 30\n",
      "City of student3: London\n",
      "Grade of student4: B+\n",
      "Skills of student1: ['Python', 'Data Science', 'Machine Learning']\n"
     ]
    }
   ],
   "source": [
    "# Accessing nested dictionary elements\n",
    "print(\"\\nAccessing nested dictionary elements:\")\n",
    "print(f\"Name of student1: {students['student1']['name']}\")\n",
    "print(f\"Age of student2: {students['student2']['age']}\")\n",
    "print(f\"City of student3: {students['student3']['city']}\")\n",
    "print(f\"Grade of student4: {students['student4']['grade']}\")\n",
    "print(f\"Skills of student1: {students['student1']['skills']}\")"
   ]
  },
  {
   "cell_type": "code",
   "execution_count": 56,
   "id": "0ce7b08a",
   "metadata": {},
   "outputs": [
    {
     "name": "stdout",
     "output_type": "stream",
     "text": [
      "\n",
      "Iterating through nested dictionaries:\n",
      "\n",
      " Key: student1: Value: {'name': 'Prasanna Sundaram', 'age': 35, 'city': 'Chennai', 'grade': 'A', 'skills': ['Python', 'Data Science', 'Machine Learning']}\n",
      "\n",
      " Key: student2: Value: {'name': 'John Doe', 'age': 30, 'city': 'New York', 'grade': 'B', 'skills': ['Java', 'Spring', 'Hibernate']}\n",
      "\n",
      " Key: student3: Value: {'name': 'Jane Smith', 'age': 28, 'city': 'London', 'grade': 'A+', 'skills': ['JavaScript', 'React', 'Node.js']}\n",
      "\n",
      " Key: student4: Value: {'name': 'Alice Johnson', 'age': 32, 'city': 'Sydney', 'grade': 'B+', 'skills': ['C#', '.NET', 'Azure']}\n"
     ]
    }
   ],
   "source": [
    "# Iterating through nested dictionaries\n",
    "print(\"\\nIterating through nested dictionaries:\")\n",
    "for student_key, student_info in students.items():\n",
    "    print(f\"\\n Key: {student_key}: Value: {student_info}\")"
   ]
  },
  {
   "cell_type": "code",
   "execution_count": 57,
   "id": "bffaff1e",
   "metadata": {},
   "outputs": [
    {
     "name": "stdout",
     "output_type": "stream",
     "text": [
      "\n",
      "Interacting with nested dictionaries:\n",
      "\n",
      "Student Key: student1\n",
      "name: Prasanna Sundaram\n",
      "age: 35\n",
      "city: Chennai\n",
      "grade: A\n",
      "skills: ['Python', 'Data Science', 'Machine Learning']\n",
      "\n",
      "\n",
      "\n",
      "Student Key: student2\n",
      "name: John Doe\n",
      "age: 30\n",
      "city: New York\n",
      "grade: B\n",
      "skills: ['Java', 'Spring', 'Hibernate']\n",
      "\n",
      "\n",
      "\n",
      "Student Key: student3\n",
      "name: Jane Smith\n",
      "age: 28\n",
      "city: London\n",
      "grade: A+\n",
      "skills: ['JavaScript', 'React', 'Node.js']\n",
      "\n",
      "\n",
      "\n",
      "Student Key: student4\n",
      "name: Alice Johnson\n",
      "age: 32\n",
      "city: Sydney\n",
      "grade: B+\n",
      "skills: ['C#', '.NET', 'Azure']\n",
      "\n",
      "\n"
     ]
    }
   ],
   "source": [
    "# Interacting with nested dictionaries another example  \n",
    "print(\"\\nInteracting with nested dictionaries:\")\n",
    "for student_key, student_info in students.items():\n",
    "    print(f\"\\nStudent Key: {student_key}\")\n",
    "    for key, value in student_info.items():\n",
    "        print(f\"{key}: {value}\")  # Prints each key-value pair in the nested dictionary\n",
    "    print(\"\\n\")  # Adds a newline for better readability"
   ]
  }
 ],
 "metadata": {
  "kernelspec": {
   "display_name": "Python 3",
   "language": "python",
   "name": "python3"
  },
  "language_info": {
   "codemirror_mode": {
    "name": "ipython",
    "version": 3
   },
   "file_extension": ".py",
   "mimetype": "text/x-python",
   "name": "python",
   "nbconvert_exporter": "python",
   "pygments_lexer": "ipython3",
   "version": "3.12.11"
  }
 },
 "nbformat": 4,
 "nbformat_minor": 5
}
