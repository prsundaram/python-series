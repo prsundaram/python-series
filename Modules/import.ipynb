{
 "cells": [
  {
   "cell_type": "markdown",
   "id": "d2a09fca",
   "metadata": {},
   "source": [
    "## Importing Modules in Python: Modules and Packages\n",
    "\n",
    "### In Python, modules and packages help organize and reuse the code. Here's a comprehensive guide on how to import them."
   ]
  },
  {
   "cell_type": "code",
   "execution_count": 7,
   "id": "622ff4e6",
   "metadata": {},
   "outputs": [
    {
     "name": "stdout",
     "output_type": "stream",
     "text": [
      "4.0\n",
      "5\n",
      "4\n",
      "120\n",
      "4\n",
      "1.0\n",
      "2.0\n",
      "7.38905609893065\n",
      "8.0\n",
      "3.141592653589793\n",
      "180.0\n",
      "3.141592653589793\n"
     ]
    }
   ],
   "source": [
    "# Importing the math module to access mathematical functions and constantsimport math\n",
    "# This script demonstrates the use of various functions from the math module in Python.\n",
    "# math has several functions, lets see one by one\n",
    "import math\n",
    "print(math.sqrt(16))  # square root\n",
    "print(math.ceil(4.2))  # rounds up\n",
    "print(math.floor(4.7))  # rounds down\n",
    "print(math.factorial(5))  # factorial of a number\n",
    "print(math.gcd(8, 12))  # greatest common divisor\n",
    "print(math.sin(math.pi / 2))  # sine of an angle in radians\n",
    "print(math.log(100, 10))  # logarithm base 10 of 100\n",
    "print(math.exp(2))  # e raised to the power of 2\n",
    "print(math.pow(2, 3))  # 2 raised to the power of 3\n",
    "print(math.radians(180))  # convert degrees to radians\n",
    "print(math.degrees(math.pi))  # convert radians to degrees\n",
    "print(math.pi)  # value of pi\n"
   ]
  },
  {
   "cell_type": "code",
   "execution_count": 6,
   "id": "01480306",
   "metadata": {},
   "outputs": [
    {
     "name": "stdout",
     "output_type": "stream",
     "text": [
      "5.0\n",
      "6.0\n",
      "3.141592653589793\n"
     ]
    }
   ],
   "source": [
    "# If I want to import only specific functions from the math module, I can do it like this:from math import sqrt, pi\n",
    "from math import sqrt, pi\n",
    "print(sqrt(25))  # square root  \n",
    "print(sqrt(36))  # square root\n",
    "print(pi)  # value of pi"
   ]
  },
  {
   "cell_type": "code",
   "execution_count": 9,
   "id": "41e635c7",
   "metadata": {},
   "outputs": [
    {
     "name": "stdout",
     "output_type": "stream",
     "text": [
      "[1 2 3 4 5]\n"
     ]
    }
   ],
   "source": [
    "# Numpy is a powerful library for numerical computations in Python. \n",
    "# It provides support for arrays, matrices, and a wide range of mathematical functions to operate on these data structures.\n",
    "import numpy as np # here np is an alias for numpy\n",
    "# Creating a numpy array\n",
    "array = np.array([1, 2, 3, 4, 5])\n",
    "print(array)"
   ]
  },
  {
   "cell_type": "code",
   "execution_count": 11,
   "id": "39fd038a",
   "metadata": {},
   "outputs": [
    {
     "name": "stdout",
     "output_type": "stream",
     "text": [
      "7.0\n",
      "720\n",
      "-1.0\n",
      "2.9999999999999996\n",
      "3.141592653589793\n"
     ]
    }
   ],
   "source": [
    "# lets say I want to import every function from math module, I can do it like this:\n",
    "from math import *\n",
    "print(sqrt(49))  # square root\n",
    "print(factorial(6))  # factorial of a number \n",
    "print(cos(pi))  # cosine of an angle in radians\n",
    "print(log(1000, 10))  # logarithm base 10 of 1000\n",
    "print(pi)  # value of pi"
   ]
  },
  {
   "cell_type": "code",
   "execution_count": null,
   "id": "0fb8bd1c",
   "metadata": {},
   "outputs": [
    {
     "name": "stdout",
     "output_type": "stream",
     "text": [
      "8\n",
      "2\n",
      "15\n",
      "1.6666666666666667\n"
     ]
    }
   ],
   "source": [
    "# In this example, we will create a custom package named 'custompackage' with a module 'calculator.py' \n",
    "# that contains a function to perform basic arithmetic operations.\n",
    "# First, ensure you have the following directory structure:\n",
    "# custompackage/\n",
    "# ├── __init__.py\n",
    "# └── calculator.py\n",
    "# custompackage/__init__.py (can be empty)\n",
    "# custompackage/calculator.py\n",
    "# def calc(a, b, operation='add'):\n",
    "from custompackage.calculator import calc\n",
    "\n",
    "print(calc(5, 3))  # Output: 8 (addition by default)\n",
    "print(calc(5, 3, 'subtract'))  # Output: 2\n",
    "print(calc(5, 3, 'multiply'))  # Output: 15\n",
    "print(calc(5, 3, 'divide'))  # Output: 1.6666666666666667"
   ]
  },
  {
   "cell_type": "code",
   "execution_count": 7,
   "id": "7cbf9bd9",
   "metadata": {},
   "outputs": [
    {
     "name": "stdout",
     "output_type": "stream",
     "text": [
      "Calling toUpper from subpackage: HELLO\n",
      "Calling toLower from subpackage: world\n"
     ]
    }
   ],
   "source": [
    "from custompackage.subpackage.caseconversion import toUpper, toLower\n",
    "print(f\"Calling toUpper from subpackage: {toUpper('hello')}\")  # Output: 'HELLO'\n",
    "print(f\"Calling toLower from subpackage: {toLower('WORLD')}\")  # Output: 'world'"
   ]
  }
 ],
 "metadata": {
  "kernelspec": {
   "display_name": "Python 3",
   "language": "python",
   "name": "python3"
  },
  "language_info": {
   "codemirror_mode": {
    "name": "ipython",
    "version": 3
   },
   "file_extension": ".py",
   "mimetype": "text/x-python",
   "name": "python",
   "nbconvert_exporter": "python",
   "pygments_lexer": "ipython3",
   "version": "3.12.11"
  }
 },
 "nbformat": 4,
 "nbformat_minor": 5
}
